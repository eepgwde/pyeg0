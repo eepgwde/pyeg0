{
 "cells": [
  {
   "cell_type": "markdown",
   "metadata": {},
   "source": [
    "## SMAVA\n",
    "\n",
    "Test exercise - Question 1"
   ]
  },
  {
   "cell_type": "code",
   "execution_count": 1,
   "metadata": {},
   "outputs": [
    {
     "data": {
      "text/html": [
       "'/misc/build/0/pyeg0/caret/classr1'"
      ],
      "text/latex": [
       "'/misc/build/0/pyeg0/caret/classr1'"
      ],
      "text/markdown": [
       "'/misc/build/0/pyeg0/caret/classr1'"
      ],
      "text/plain": [
       "[1] \"/misc/build/0/pyeg0/caret/classr1\""
      ]
     },
     "metadata": {},
     "output_type": "display_data"
    },
    {
     "name": "stderr",
     "output_type": "stream",
     "text": [
      "Loading required package: lattice\n",
      "\n",
      "Loading required package: ggplot2\n",
      "\n",
      "-- \u001b[1mAttaching packages\u001b[22m --------------------------------------- tidyverse 1.3.0 --\n",
      "\n",
      "\u001b[32mv\u001b[39m \u001b[34mtibble \u001b[39m 2.1.3     \u001b[32mv\u001b[39m \u001b[34mdplyr  \u001b[39m 0.8.5\n",
      "\u001b[32mv\u001b[39m \u001b[34mtidyr  \u001b[39m 1.0.2     \u001b[32mv\u001b[39m \u001b[34mstringr\u001b[39m 1.4.0\n",
      "\u001b[32mv\u001b[39m \u001b[34mreadr  \u001b[39m 1.3.1     \u001b[32mv\u001b[39m \u001b[34mforcats\u001b[39m 0.5.0\n",
      "\u001b[32mv\u001b[39m \u001b[34mpurrr  \u001b[39m 0.3.3     \n",
      "\n",
      "-- \u001b[1mConflicts\u001b[22m ------------------------------------------ tidyverse_conflicts() --\n",
      "\u001b[31mx\u001b[39m \u001b[34mdplyr\u001b[39m::\u001b[32mfilter()\u001b[39m masks \u001b[34mstats\u001b[39m::filter()\n",
      "\u001b[31mx\u001b[39m \u001b[34mdplyr\u001b[39m::\u001b[32mlag()\u001b[39m    masks \u001b[34mstats\u001b[39m::lag()\n",
      "\u001b[31mx\u001b[39m \u001b[34mpurrr\u001b[39m::\u001b[32mlift()\u001b[39m   masks \u001b[34mcaret\u001b[39m::lift()\n",
      "\n",
      "\n",
      "Attaching package: 'MASS'\n",
      "\n",
      "\n",
      "The following object is masked from 'package:dplyr':\n",
      "\n",
      "    select\n",
      "\n",
      "\n",
      "Type 'citation(\"pROC\")' for a citation.\n",
      "\n",
      "\n",
      "Attaching package: 'pROC'\n",
      "\n",
      "\n",
      "The following objects are masked from 'package:stats':\n",
      "\n",
      "    cov, smooth, var\n",
      "\n",
      "\n",
      "Loaded gbm 2.1.5\n",
      "\n",
      "Loading required package: foreach\n",
      "\n",
      "\n",
      "Attaching package: 'foreach'\n",
      "\n",
      "\n",
      "The following objects are masked from 'package:purrr':\n",
      "\n",
      "    accumulate, when\n",
      "\n",
      "\n",
      "Loading required package: iterators\n",
      "\n",
      "Loading required package: parallel\n",
      "\n"
     ]
    }
   ],
   "source": [
    "## weaves\n",
    "## smava\n",
    "\n",
    "getwd()\n",
    "\n",
    "## load in packages\n",
    "library(caret)\n",
    "library(ranger)\n",
    "library(tidyverse)\n",
    "library(e1071)\n",
    "library(MASS)\n",
    "library(rpart)\n",
    "library(rpart.plot)\n",
    "library(ipred)\n",
    "library(mlbench)\n",
    "library(pROC)\n",
    "library(gbm)\n",
    "library(dplyr)\n",
    "\n",
    "library(doMC)\n",
    "\n",
    "registerDoMC(cores = 4)\n",
    "\n",
    "options(useFancyQuotes = TRUE)"
   ]
  },
  {
   "cell_type": "code",
   "execution_count": 2,
   "metadata": {},
   "outputs": [
    {
     "data": {
      "text/html": [
       "<style>\n",
       ".dl-inline {width: auto; margin:0; padding: 0}\n",
       ".dl-inline>dt, .dl-inline>dd {float: none; width: auto; display: inline-block}\n",
       ".dl-inline>dt::after {content: \":\\0020\"; padding-right: .5ex}\n",
       ".dl-inline>dt:not(:first-of-type) {padding-left: .5ex}\n",
       "</style><dl class=dl-inline><dt>customerNumber</dt><dd>'integer'</dd><dt>bank</dt><dd>'factor'</dd><dt>x1</dt><dd>'numeric'</dd><dt>x2</dt><dd>'numeric'</dd><dt>x3</dt><dd>'numeric'</dd><dt>x4</dt><dd>'numeric'</dd><dt>x5</dt><dd>'numeric'</dd><dt>x6</dt><dd>'factor'</dd><dt>x7</dt><dd>'factor'</dd><dt>x8</dt><dd>'numeric'</dd><dt>x9</dt><dd>'numeric'</dd><dt>x10</dt><dd>'numeric'</dd><dt>accepted</dt><dd>'factor'</dd><dt>interestRate</dt><dd>'numeric'</dd></dl>\n"
      ],
      "text/latex": [
       "\\begin{description*}\n",
       "\\item[customerNumber] 'integer'\n",
       "\\item[bank] 'factor'\n",
       "\\item[x1] 'numeric'\n",
       "\\item[x2] 'numeric'\n",
       "\\item[x3] 'numeric'\n",
       "\\item[x4] 'numeric'\n",
       "\\item[x5] 'numeric'\n",
       "\\item[x6] 'factor'\n",
       "\\item[x7] 'factor'\n",
       "\\item[x8] 'numeric'\n",
       "\\item[x9] 'numeric'\n",
       "\\item[x10] 'numeric'\n",
       "\\item[accepted] 'factor'\n",
       "\\item[interestRate] 'numeric'\n",
       "\\end{description*}\n"
      ],
      "text/markdown": [
       "customerNumber\n",
       ":   'integer'bank\n",
       ":   'factor'x1\n",
       ":   'numeric'x2\n",
       ":   'numeric'x3\n",
       ":   'numeric'x4\n",
       ":   'numeric'x5\n",
       ":   'numeric'x6\n",
       ":   'factor'x7\n",
       ":   'factor'x8\n",
       ":   'numeric'x9\n",
       ":   'numeric'x10\n",
       ":   'numeric'accepted\n",
       ":   'factor'interestRate\n",
       ":   'numeric'\n",
       "\n"
      ],
      "text/plain": [
       "customerNumber           bank             x1             x2             x3 \n",
       "     \"integer\"       \"factor\"      \"numeric\"      \"numeric\"      \"numeric\" \n",
       "            x4             x5             x6             x7             x8 \n",
       "     \"numeric\"      \"numeric\"       \"factor\"       \"factor\"      \"numeric\" \n",
       "            x9            x10       accepted   interestRate \n",
       "     \"numeric\"      \"numeric\"       \"factor\"      \"numeric\" "
      ]
     },
     "metadata": {},
     "output_type": "display_data"
    },
    {
     "data": {
      "text/plain": [
       "$customerNumber\n",
       "   Min. 1st Qu.  Median    Mean 3rd Qu.    Max. \n",
       "      2    7551   15105   15054   22518   29997 \n",
       "\n",
       "$bank\n",
       "  B1  B10  B11  B12  B13  B14  B15  B16  B17  B18  B19   B2  B20  B21  B22  B23 \n",
       "4603 4495 4424 4509 4479 4492 4418 4547 4565 4402 4410 4541 4444 4496 4504 4522 \n",
       " B24  B25  B26  B27  B28  B29   B3  B30   B4   B5   B6   B7   B8   B9 \n",
       "4518 4513 4569 4473 4565 4444 4480 4463 4424 4508 4479 4542 4588 4552 \n",
       "\n",
       "$x1\n",
       "    Min.  1st Qu.   Median     Mean  3rd Qu.     Max. \n",
       " 0.02433  0.49992  1.00460  1.65895  1.95799 75.79947 \n",
       "\n",
       "$x2\n",
       "   Min. 1st Qu.  Median    Mean 3rd Qu.    Max.    NA's \n",
       "   0.01    0.97    2.71    8.17    7.36  910.95   40520 \n",
       "\n",
       "$x3\n",
       "   Min. 1st Qu.  Median    Mean 3rd Qu.    Max. \n",
       "  13.35  166.00  199.11  199.34  232.74  382.41 \n",
       "\n",
       "$x4\n",
       "    Min.  1st Qu.   Median     Mean  3rd Qu.     Max. \n",
       "-13.5489  -0.7509   1.9963   1.9581   4.6776  18.8855 \n",
       "\n",
       "$x5\n",
       "    Min.  1st Qu.   Median     Mean  3rd Qu.     Max. \n",
       "-13.6414  -0.7914   1.9706   1.9340   4.6317  18.2838 \n",
       "\n",
       "$x6\n",
       "  ACS   FBW \n",
       "80158 54811 \n",
       "\n",
       "$x7\n",
       "  WXATN   IQ4NP   GPX9G   XZ4HK   W4ZY2   IEWGU   QTDO0   DF1ZF   T07WM   YVNYM \n",
       "  18102    9020    6251    4507    3362    2810    2439    2280    2229    1934 \n",
       "  QO69I   CCES1   69TO8   157H7   OZRKU   P0DI0   K833A   K5CNR   YQQJ0   QBIQM \n",
       "   1625    1506    1301    1291    1283    1133    1038     983     935     931 \n",
       "  EXY8Q   O07XX   M77EX   LURGJ   CEKLP   KT4RM   J0CMT   WLMXU   T6YA5   R614O \n",
       "    863     832     823     819     737     707     687     648     641     626 \n",
       "  PBSEO   XVB9Q   QEEHF   52GSQ   4TLSR   6GB46   XJL7J   UKCJW   FYH99   H6JYB \n",
       "    600     526     524     516     513     512     499     493     484     470 \n",
       "  1J4QQ   VIUF5   7S442   C69J0   QXS4A   4SG4V   HG2BV   S3VJF   JNC2G   4V7XV \n",
       "    446     446     443     394     394     389     378     368     360     353 \n",
       "  H55HX   TB618   G16ZB   Y731T   FE5AK   C5A0Z   1YDTW   6H0C1   4HZTJ   S3JKM \n",
       "    332     322     320     320     316     308     305     302     298     284 \n",
       "  3RL51   KMXEA   VQBDB   FEPNE   3ZH37   5R8AI   XE5BB   P4BYI   CBEHD   HJBTA \n",
       "    283     282     281     276     268     267     265     263     262     261 \n",
       "  2K27J   2GCOI   6RA51   0E83H   E3SC1   E2T24   HOYHG   C59CK   O1XH9   NB6EV \n",
       "    260     259     257     256     256     246     241     237     234     232 \n",
       "  T3Y63   KNAZN   3BR3P   XCUQR   4K8P5   XANWZ   KGDAL   0IMFV   FK25Q   M00LK \n",
       "    229     226     225     225     220     218     217     216     214     214 \n",
       "  GW831   X05EO   C878K   ZHUEH   IJG3X   HYWJ2   W7O43   C0WYH   3W9VR (Other) \n",
       "    207     203     200     194     188     185     185     183     176   41300 \n",
       "\n",
       "$x8\n",
       "     Min.   1st Qu.    Median      Mean   3rd Qu.      Max. \n",
       "-19.43564  -0.03572   3.93248   3.89182   7.83569  27.56883 \n",
       "\n",
       "$x9\n",
       "   Min. 1st Qu.  Median    Mean 3rd Qu.    Max. \n",
       "-0.1018  0.1866  0.3284  0.3676  0.5043  1.0929 \n",
       "\n",
       "$x10\n",
       "   Min. 1st Qu.  Median    Mean 3rd Qu.    Max. \n",
       " 0.1472  0.3115  0.3687  0.3799  0.4353  0.9353 \n",
       "\n",
       "$accepted\n",
       "   NO   YES \n",
       "68364 66605 \n",
       "\n",
       "$interestRate\n",
       "   Min. 1st Qu.  Median    Mean 3rd Qu.    Max.    NA's \n",
       "   2.00    3.04    4.42    5.32    6.56   15.32   68364 \n"
      ]
     },
     "metadata": {},
     "output_type": "display_data"
    },
    {
     "data": {
      "text/html": [
       "40520"
      ],
      "text/latex": [
       "40520"
      ],
      "text/markdown": [
       "40520"
      ],
      "text/plain": [
       "[1] 40520"
      ]
     },
     "metadata": {},
     "output_type": "display_data"
    },
    {
     "data": {
      "text/html": [
       "68364"
      ],
      "text/latex": [
       "68364"
      ],
      "text/markdown": [
       "68364"
      ],
      "text/plain": [
       "[1] 68364"
      ]
     },
     "metadata": {},
     "output_type": "display_data"
    },
    {
     "data": {
      "text/html": [
       "<table>\n",
       "<caption>A tibble: 0 × 2</caption>\n",
       "<thead>\n",
       "\t<tr><th scope=col>accepted</th><th scope=col>interestRate</th></tr>\n",
       "\t<tr><th scope=col>&lt;fct&gt;</th><th scope=col>&lt;dbl&gt;</th></tr>\n",
       "</thead>\n",
       "<tbody>\n",
       "</tbody>\n",
       "</table>\n"
      ],
      "text/latex": [
       "A tibble: 0 × 2\n",
       "\\begin{tabular}{ll}\n",
       " accepted & interestRate\\\\\n",
       " <fct> & <dbl>\\\\\n",
       "\\hline\n",
       "\\end{tabular}\n"
      ],
      "text/markdown": [
       "\n",
       "A tibble: 0 × 2\n",
       "\n",
       "| accepted &lt;fct&gt; | interestRate &lt;dbl&gt; |\n",
       "|---|---|\n",
       "\n"
      ],
      "text/plain": [
       "     accepted interestRate"
      ]
     },
     "metadata": {},
     "output_type": "display_data"
    }
   ],
   "source": [
    "## Data sets\n",
    "\n",
    "load(\"bak/in/train.rdata\")\n",
    "load(\"bak/in/test.rdata\")\n",
    "\n",
    "train0 <- data.frame(train) # a local copy.\n",
    "\n",
    "# Carry some configuration data\n",
    "smava0 <- list()\n",
    "\n",
    "# See some summaries.\n",
    "sapply(train, class)\n",
    "sapply(train, summary)\n",
    "\n",
    "## Order to highlight NA pattern.\n",
    "\n",
    "## The outcome variable accepted is balanced. So need to upsample.\n",
    "\n",
    "## customerNumber has 15000 unique.\n",
    "\n",
    "## NA's on interestRate, and x2. x2 is specific to customer.\n",
    "\n",
    "## interestRate is for regression analysis later\n",
    "\n",
    "fnas <- function(x) sum(as.integer(is.na(train[[x]])))\n",
    "fnas(\"x2\")\n",
    "fnas(\"interestRate\")\n",
    "\n",
    "## interestRate is only given for accepted\n",
    "train[(train$accepted == \"NO\") & !is.na(train$interestRate), c(\"accepted\", \"interestRate\")]"
   ]
  },
  {
   "cell_type": "code",
   "execution_count": 8,
   "metadata": {},
   "outputs": [],
   "source": [
    "## No obvious rule\n",
    "## sapply(train[is.na(train$x2),], summary)\n",
    "## sapply(train[!is.na(train$x2),], summary)\n",
    "\n",
    "## x2 is blank for a type of customer.\n",
    "\n",
    "train1 <- train[order(train$customerNumber, train$bank),]\n",
    "outcomes <- (train1$accepted == \"YES\") * 1\n",
    "## store the outcomes as numerics.\n",
    "train1$outcomes <- outcomes\n",
    "\n",
    "smava0$outcomes <- outcomes\n",
    "\n",
    "idx <- as.vector(sapply(train1, class, USE.NAMES=FALSE) == \"factor\")\n",
    "smava0$cs <- colnames(train1)[idx]\n",
    "\n",
    "for(c in smava0$cs) {\n",
    "  train1[[c]] <- as.numeric(train1[[c]])\n",
    "}\n",
    "\n",
    "train2 <- train1 %>% dplyr::select(customerNumber, x2) %>% group_by(customerNumber) %>% summarise(n = n(), na0 = sum(is.na(x2))) "
   ]
  },
  {
   "cell_type": "code",
   "execution_count": 9,
   "metadata": {},
   "outputs": [
    {
     "data": {
      "text/html": [
       "<table>\n",
       "<caption>A tibble: 0 × 3</caption>\n",
       "<thead>\n",
       "\t<tr><th scope=col>customerNumber</th><th scope=col>n</th><th scope=col>na0</th></tr>\n",
       "\t<tr><th scope=col>&lt;int&gt;</th><th scope=col>&lt;int&gt;</th><th scope=col>&lt;int&gt;</th></tr>\n",
       "</thead>\n",
       "<tbody>\n",
       "</tbody>\n",
       "</table>\n"
      ],
      "text/latex": [
       "A tibble: 0 × 3\n",
       "\\begin{tabular}{lll}\n",
       " customerNumber & n & na0\\\\\n",
       " <int> & <int> & <int>\\\\\n",
       "\\hline\n",
       "\\end{tabular}\n"
      ],
      "text/markdown": [
       "\n",
       "A tibble: 0 × 3\n",
       "\n",
       "| customerNumber &lt;int&gt; | n &lt;int&gt; | na0 &lt;int&gt; |\n",
       "|---|---|---|\n",
       "\n"
      ],
      "text/plain": [
       "     customerNumber n na0"
      ]
     },
     "metadata": {},
     "output_type": "display_data"
    },
    {
     "data": {
      "text/html": [
       "4488"
      ],
      "text/latex": [
       "4488"
      ],
      "text/markdown": [
       "4488"
      ],
      "text/plain": [
       "[1] 4488"
      ]
     },
     "metadata": {},
     "output_type": "display_data"
    }
   ],
   "source": [
    "## And is all NA at all banks for a set of customers.\n",
    "\n",
    "### Sanity check\n",
    "\n",
    "## This is an empty set. For all those records where n is not equal to the number of nas in x2 for\n",
    "## that customer.\n",
    "train2[ (train2$n != train2$na0) && (train2$na0 > 0),]\n",
    "## TODO\n",
    "## I should check the bank hits too.\n",
    "## NOTE\n",
    "## It isn't easy to impute with this.\n",
    "\n",
    "## capture those customers who have x2 at NA.\n",
    "\n",
    "smava0$\"null-customer\" <- train2[train2$na0 > 0, \"customerNumber\"][[\"customerNumber\"]]\n",
    "length(smava0$\"null-customer\")"
   ]
  },
  {
   "cell_type": "code",
   "execution_count": 10,
   "metadata": {},
   "outputs": [],
   "source": [
    "## store some colnames sets.\n",
    "\n",
    "col0 <- colnames(train1)\n",
    "smava0$results <- train1[c(\"accepted\", \"interestRate\")]\n",
    "smava0$ctl <- train1[c(\"customerNumber\", \"bank\")]\n",
    "smava0$nullcols <- c(\"x2\")\n",
    "## outcomes comes in as a feature.\n",
    "smava0$ft0 <- setdiff(col0, union(colnames(smava0$results), colnames(smava0$ctl)))\n",
    "smava0$ft0 <- c(smava0$ft0, \"bank\")\n",
    "##\n",
    "\n",
    "save(train1, smava0, file=\"smava0.dat\")"
   ]
  },
  {
   "cell_type": "code",
   "execution_count": 11,
   "metadata": {},
   "outputs": [],
   "source": [
    "## Correlations dataset.\n",
    "## The same record may fail or succeed depending on the bank.\n",
    "## I haven't encoded the bank, because you would hope banks follow similar policies.\n",
    "## So we may have records that are identical but fall once and succeed at another bank.\n",
    "## This just for correlations.\n",
    "\n",
    "## Let's add a boolean for when x2 is null and assign the mean of x2 as the value.\n",
    "\n",
    "load(\"smava0.dat\", envir=.GlobalEnv)\n",
    "\n",
    "train1$x2na <- 0\n",
    "train1[ is.na(train1$x2), \"x2na\" ] <- 1\n",
    "smava0$x2impute <- as.vector(summary(train1$x2)['Mean'])\n",
    "train1[ is.na(train1$x2), \"x2\" ] <- smava0$x2impute"
   ]
  },
  {
   "cell_type": "code",
   "execution_count": 13,
   "metadata": {},
   "outputs": [],
   "source": [
    "## Pair-plot\n",
    "train1p <- train1[, c(smava0$ft0, \"x2na\") ]"
   ]
  },
  {
   "cell_type": "code",
   "execution_count": null,
   "metadata": {},
   "outputs": [],
   "source": [
    "nm0.fspec <- paste(\"smava0\", \"pp\", \"-%03d.jpeg\", sep =\"\")\n",
    "\n",
    "jpeg(width=1024, height=768, filename= nm0.fspec)\n",
    "plot(train1p)\n",
    "dev.off()"
   ]
  },
  {
   "cell_type": "code",
   "execution_count": 14,
   "metadata": {},
   "outputs": [
    {
     "data": {
      "text/html": [
       "<strong>png:</strong> 2"
      ],
      "text/latex": [
       "\\textbf{png:} 2"
      ],
      "text/markdown": [
       "**png:** 2"
      ],
      "text/plain": [
       "png \n",
       "  2 "
      ]
     },
     "metadata": {},
     "output_type": "display_data"
    },
    {
     "data": {
      "text/html": [
       "FALSE"
      ],
      "text/latex": [
       "FALSE"
      ],
      "text/markdown": [
       "FALSE"
      ],
      "text/plain": [
       "[1] FALSE"
      ]
     },
     "metadata": {},
     "output_type": "display_data"
    },
    {
     "data": {
      "text/html": [
       "TRUE"
      ],
      "text/latex": [
       "TRUE"
      ],
      "text/markdown": [
       "TRUE"
      ],
      "text/plain": [
       "[1] TRUE"
      ]
     },
     "metadata": {},
     "output_type": "display_data"
    }
   ],
   "source": [
    "## correlations\n",
    "\n",
    "smava0$cor <- cor(train1p)\n",
    "\n",
    "jpeg(filename=paste(\"smava0\", \"cc\", \"-%03d.jpeg\", sep=\"\"),\n",
    "     width=1024, height=768)\n",
    "\n",
    "corrplot::corrplot(smava0$cor, method=\"number\", order=\"hclust\")\n",
    "\n",
    "dev.off()\n",
    "\n",
    "ihcor <- findCorrelation(smava0$cor, cutoff = .75, verbose = FALSE)\n",
    "smava0$hcor <- colnames(train1p)[ihcor]\n",
    "\n",
    "## This is encouraging. x3 is -0.98 with x10 and x10 is -0.21 with outcomes.\n",
    "## Let's discard x3 because it duplicates x10\n",
    "\n",
    "## Near Zero Variables\n",
    "\n",
    "nzv0 <- nearZeroVar(train1p, saveMetrics = TRUE, allowParallel=TRUE, freqCut =95/5, uniqueCut=10)\n",
    "all(!nzv0$nzv)\n",
    "all(!nzv0$zeroVar)\n",
    "\n",
    "## So good distributions."
   ]
  },
  {
   "cell_type": "code",
   "execution_count": 15,
   "metadata": {},
   "outputs": [],
   "source": [
    "## Dataset 1\n",
    "\n",
    "## Remove x3, remove all blank x2, leave bank in.\n",
    "## Try a fast GBM using all cores.\n",
    "\n",
    "train1n <- data.frame(train1p)\n",
    "\n",
    "## because I've used outcomes as a numerical column. I now convert it back to labels.\n",
    "## It must be a valid R variable name, so convert the numbers to a factor, and relabel the\n",
    "## the levels.\n",
    "outcomes <- as.factor(train1n$outcomes)\n",
    "outcomes <- factor(outcomes, levels = c(\"0\", \"1\"), labels = c(\"No\", \"Yes\"))\n",
    "\n",
    "## Center and scale\n",
    "\n",
    "xcols <- union(smava0$hcor, \"outcomes\")\n",
    "cols <- setdiff(colnames(train1n), xcols)\n",
    "smava0$ft1 <- cols\n",
    "train1n <- train1n[,smava0$ft1]\n",
    "\n",
    "## Store this prepro\n",
    "smava0$pp <- preProcess(train1n, method = c(\"center\", \"scale\"))\n",
    "\n",
    "df0 <- predict(smava0$pp, train1n)\n",
    "\n",
    "## simple controls\n",
    "\n",
    "fitControl <- trainControl(\n",
    "    method = \"repeatedcv\",\n",
    "    number = 5,\n",
    "    ## repeated a few times\n",
    "    repeats = 3,\n",
    "    summaryFunction = twoClassSummary,\n",
    "  classProbs = TRUE)\n",
    "\n",
    "gbmGrid <- expand.grid(interaction.depth = c(1, 2, 3),\n",
    "                       n.trees = (1:20)*10,\n",
    "                       shrinkage = 0.1,\n",
    "                       n.minobsinnode = 20)"
   ]
  },
  {
   "cell_type": "code",
   "execution_count": 16,
   "metadata": {},
   "outputs": [
    {
     "data": {
      "text/plain": [
       "Confusion Matrix and Statistics\n",
       "\n",
       "          Reference\n",
       "Prediction    No   Yes\n",
       "       No  48485 26267\n",
       "       Yes 19879 40338\n",
       "                                          \n",
       "               Accuracy : 0.6581          \n",
       "                 95% CI : (0.6556, 0.6606)\n",
       "    No Information Rate : 0.5065          \n",
       "    P-Value [Acc > NIR] : < 2.2e-16       \n",
       "                                          \n",
       "                  Kappa : 0.3152          \n",
       "                                          \n",
       " Mcnemar's Test P-Value : < 2.2e-16       \n",
       "                                          \n",
       "            Sensitivity : 0.6056          \n",
       "            Specificity : 0.7092          \n",
       "         Pos Pred Value : 0.6699          \n",
       "         Neg Pred Value : 0.6486          \n",
       "             Prevalence : 0.4935          \n",
       "         Detection Rate : 0.2989          \n",
       "   Detection Prevalence : 0.4462          \n",
       "      Balanced Accuracy : 0.6574          \n",
       "                                          \n",
       "       'Positive' Class : Yes             \n",
       "                                          "
      ]
     },
     "metadata": {},
     "output_type": "display_data"
    },
    {
     "name": "stderr",
     "output_type": "stream",
     "text": [
      "Setting levels: control = No, case = Yes\n",
      "\n",
      "Setting direction: controls < cases\n",
      "\n"
     ]
    },
    {
     "data": {
      "text/html": [
       "<strong>png:</strong> 2"
      ],
      "text/latex": [
       "\\textbf{png:} 2"
      ],
      "text/markdown": [
       "**png:** 2"
      ],
      "text/plain": [
       "png \n",
       "  2 "
      ]
     },
     "metadata": {},
     "output_type": "display_data"
    }
   ],
   "source": [
    "fit0 <- train(df0, outcomes, method = \"gbm\", \n",
    "              trControl = fitControl,\n",
    "              tuneGrid = gbmGrid,\n",
    "              metric = \"ROC\",\n",
    "              verbose = FALSE)\n",
    "\n",
    "smava0$gbm <- fit0\n",
    "\n",
    "trainPred <- predict(fit0, df0)\n",
    "# postResample(testPred, testClass)\n",
    "\n",
    "conf0 <- confusionMatrix(trainPred, outcomes, positive = \"Yes\")\n",
    "conf0\n",
    "\n",
    "## Only 65% accurate on the whole set!\n",
    "\n",
    "nvars <- floor(length(colnames(df0)) * 2/3)\n",
    "\n",
    "jpeg(filename=paste(\"smava0\", \"mf\", \"-%03d.jpeg\", sep=\"\"), \n",
    "     width=1024, height=768)\n",
    "\n",
    "modelImp <- varImp(fit0, scale = FALSE)\n",
    "plot(modelImp, top = min(dim(modelImp$importance)[1], nvars) )\n",
    "\n",
    "## Get a density and a ROC\n",
    "## You need twoClassSummary for this\n",
    "\n",
    "x.p <- predict(fit0, df0, type = \"prob\")[2]\n",
    "\n",
    "test.df <- data.frame(true0=x.p[[ \"Yes\" ]], Obs=outcomes)\n",
    "test.roc <- roc(Obs ~ true0, test.df)\n",
    "\n",
    "densityplot(~test.df$true0, groups = test.df$Obs, auto.key = TRUE)\n",
    "\n",
    "plot.roc(test.roc)\n",
    "\n",
    "dev.off()"
   ]
  },
  {
   "cell_type": "code",
   "execution_count": 32,
   "metadata": {},
   "outputs": [],
   "source": [
    "## Write out our training data.\n",
    "\n",
    "save(df0, outcomes, smava0, file = \"smava00-fit.dat\")"
   ]
  },
  {
   "cell_type": "code",
   "execution_count": 29,
   "metadata": {},
   "outputs": [],
   "source": [
    "## Make a prediction using test.\n",
    "\n",
    "## Apply the same data pre-processing and predict.\n",
    "\n",
    "## Don't do the order.\n",
    "\n",
    "test0 <- data.frame(test) # just an backup to use in the interpreter.\n",
    "test1 <- data.frame(test)\n",
    "\n",
    "for(c in intersect(smava0$cs, colnames(test))) {\n",
    "  test1[[c]] <- as.numeric(test1[[c]])\n",
    "}"
   ]
  },
  {
   "cell_type": "code",
   "execution_count": 30,
   "metadata": {},
   "outputs": [],
   "source": [
    "test1$x2na <- 0\n",
    "test1[ is.na(test1$x2), \"x2na\" ] <- 1\n",
    "test1[ is.na(test1$x2), \"x2\" ] <- smava0$x2impute\n",
    "\n",
    "test1n <- test1[, smava0$ft1]\n",
    "\n",
    "## pre-process\n",
    "df0 <- predict(smava0$pp, test1n)\n",
    "\n",
    "testPred <- predict(smava0$gbm, df0)\n",
    "\n",
    "predictions <- data.frame(test)\n",
    "predictions$predictionAccepted <- testPred\n",
    "\n",
    "save(predictions, file=\"predictions.rdata\")"
   ]
  },
  {
   "cell_type": "code",
   "execution_count": 31,
   "metadata": {},
   "outputs": [
    {
     "data": {
      "text/html": [
       "<table>\n",
       "<caption>A data.frame: 6 × 13</caption>\n",
       "<thead>\n",
       "\t<tr><th></th><th scope=col>customerNumber</th><th scope=col>bank</th><th scope=col>x1</th><th scope=col>x2</th><th scope=col>x3</th><th scope=col>x4</th><th scope=col>x5</th><th scope=col>x6</th><th scope=col>x7</th><th scope=col>x8</th><th scope=col>x9</th><th scope=col>x10</th><th scope=col>predictionAccepted</th></tr>\n",
       "\t<tr><th></th><th scope=col>&lt;int&gt;</th><th scope=col>&lt;fct&gt;</th><th scope=col>&lt;dbl&gt;</th><th scope=col>&lt;dbl&gt;</th><th scope=col>&lt;dbl&gt;</th><th scope=col>&lt;dbl&gt;</th><th scope=col>&lt;dbl&gt;</th><th scope=col>&lt;fct&gt;</th><th scope=col>&lt;fct&gt;</th><th scope=col>&lt;dbl&gt;</th><th scope=col>&lt;dbl&gt;</th><th scope=col>&lt;dbl&gt;</th><th scope=col>&lt;fct&gt;</th></tr>\n",
       "</thead>\n",
       "<tbody>\n",
       "\t<tr><th scope=row>1</th><td>17652</td><td>B4 </td><td>2.6999043</td><td>        NA</td><td>289.8060</td><td> 3.5062855</td><td> 3.019291</td><td>ACS</td><td>P0DI0</td><td> 6.132490</td><td>0.2024692</td><td>0.2340533</td><td>No </td></tr>\n",
       "\t<tr><th scope=row>2</th><td> 5083</td><td>B2 </td><td>1.7768174</td><td>        NA</td><td>149.4808</td><td> 8.6785405</td><td> 1.561671</td><td>ACS</td><td>WXATN</td><td> 9.602027</td><td>0.6035512</td><td>0.4728191</td><td>No </td></tr>\n",
       "\t<tr><th scope=row>3</th><td>14485</td><td>B27</td><td>9.2014608</td><td>15.2018994</td><td>168.5305</td><td> 0.6861547</td><td>-2.659850</td><td>FBW</td><td>YVNYM</td><td>-1.843895</td><td>0.3604684</td><td>0.4297722</td><td>No </td></tr>\n",
       "\t<tr><th scope=row>4</th><td>24278</td><td>B12</td><td>0.2425088</td><td> 0.8906478</td><td>144.3519</td><td> 8.9942867</td><td> 3.757424</td><td>ACS</td><td>WXATN</td><td>13.329596</td><td>0.2102926</td><td>0.4851283</td><td>Yes</td></tr>\n",
       "\t<tr><th scope=row>5</th><td>18816</td><td>B29</td><td>1.8619350</td><td> 0.9441711</td><td>330.2783</td><td>11.1829245</td><td> 1.795021</td><td>FBW</td><td>KT4RM</td><td>12.944497</td><td>0.1193745</td><td>0.1910898</td><td>No </td></tr>\n",
       "\t<tr><th scope=row>6</th><td>25518</td><td>B25</td><td>8.9591239</td><td> 9.3258122</td><td>138.9361</td><td> 9.5992959</td><td> 4.778473</td><td>ACS</td><td>LURGJ</td><td>14.795508</td><td>0.9447004</td><td>0.4984742</td><td>Yes</td></tr>\n",
       "</tbody>\n",
       "</table>\n"
      ],
      "text/latex": [
       "A data.frame: 6 × 13\n",
       "\\begin{tabular}{r|lllllllllllll}\n",
       "  & customerNumber & bank & x1 & x2 & x3 & x4 & x5 & x6 & x7 & x8 & x9 & x10 & predictionAccepted\\\\\n",
       "  & <int> & <fct> & <dbl> & <dbl> & <dbl> & <dbl> & <dbl> & <fct> & <fct> & <dbl> & <dbl> & <dbl> & <fct>\\\\\n",
       "\\hline\n",
       "\t1 & 17652 & B4  & 2.6999043 &         NA & 289.8060 &  3.5062855 &  3.019291 & ACS & P0DI0 &  6.132490 & 0.2024692 & 0.2340533 & No \\\\\n",
       "\t2 &  5083 & B2  & 1.7768174 &         NA & 149.4808 &  8.6785405 &  1.561671 & ACS & WXATN &  9.602027 & 0.6035512 & 0.4728191 & No \\\\\n",
       "\t3 & 14485 & B27 & 9.2014608 & 15.2018994 & 168.5305 &  0.6861547 & -2.659850 & FBW & YVNYM & -1.843895 & 0.3604684 & 0.4297722 & No \\\\\n",
       "\t4 & 24278 & B12 & 0.2425088 &  0.8906478 & 144.3519 &  8.9942867 &  3.757424 & ACS & WXATN & 13.329596 & 0.2102926 & 0.4851283 & Yes\\\\\n",
       "\t5 & 18816 & B29 & 1.8619350 &  0.9441711 & 330.2783 & 11.1829245 &  1.795021 & FBW & KT4RM & 12.944497 & 0.1193745 & 0.1910898 & No \\\\\n",
       "\t6 & 25518 & B25 & 8.9591239 &  9.3258122 & 138.9361 &  9.5992959 &  4.778473 & ACS & LURGJ & 14.795508 & 0.9447004 & 0.4984742 & Yes\\\\\n",
       "\\end{tabular}\n"
      ],
      "text/markdown": [
       "\n",
       "A data.frame: 6 × 13\n",
       "\n",
       "| <!--/--> | customerNumber &lt;int&gt; | bank &lt;fct&gt; | x1 &lt;dbl&gt; | x2 &lt;dbl&gt; | x3 &lt;dbl&gt; | x4 &lt;dbl&gt; | x5 &lt;dbl&gt; | x6 &lt;fct&gt; | x7 &lt;fct&gt; | x8 &lt;dbl&gt; | x9 &lt;dbl&gt; | x10 &lt;dbl&gt; | predictionAccepted &lt;fct&gt; |\n",
       "|---|---|---|---|---|---|---|---|---|---|---|---|---|---|\n",
       "| 1 | 17652 | B4  | 2.6999043 |         NA | 289.8060 |  3.5062855 |  3.019291 | ACS | P0DI0 |  6.132490 | 0.2024692 | 0.2340533 | No  |\n",
       "| 2 |  5083 | B2  | 1.7768174 |         NA | 149.4808 |  8.6785405 |  1.561671 | ACS | WXATN |  9.602027 | 0.6035512 | 0.4728191 | No  |\n",
       "| 3 | 14485 | B27 | 9.2014608 | 15.2018994 | 168.5305 |  0.6861547 | -2.659850 | FBW | YVNYM | -1.843895 | 0.3604684 | 0.4297722 | No  |\n",
       "| 4 | 24278 | B12 | 0.2425088 |  0.8906478 | 144.3519 |  8.9942867 |  3.757424 | ACS | WXATN | 13.329596 | 0.2102926 | 0.4851283 | Yes |\n",
       "| 5 | 18816 | B29 | 1.8619350 |  0.9441711 | 330.2783 | 11.1829245 |  1.795021 | FBW | KT4RM | 12.944497 | 0.1193745 | 0.1910898 | No  |\n",
       "| 6 | 25518 | B25 | 8.9591239 |  9.3258122 | 138.9361 |  9.5992959 |  4.778473 | ACS | LURGJ | 14.795508 | 0.9447004 | 0.4984742 | Yes |\n",
       "\n"
      ],
      "text/plain": [
       "  customerNumber bank x1        x2         x3       x4         x5        x6 \n",
       "1 17652          B4   2.6999043         NA 289.8060  3.5062855  3.019291 ACS\n",
       "2  5083          B2   1.7768174         NA 149.4808  8.6785405  1.561671 ACS\n",
       "3 14485          B27  9.2014608 15.2018994 168.5305  0.6861547 -2.659850 FBW\n",
       "4 24278          B12  0.2425088  0.8906478 144.3519  8.9942867  3.757424 ACS\n",
       "5 18816          B29  1.8619350  0.9441711 330.2783 11.1829245  1.795021 FBW\n",
       "6 25518          B25  8.9591239  9.3258122 138.9361  9.5992959  4.778473 ACS\n",
       "  x7    x8        x9        x10       predictionAccepted\n",
       "1 P0DI0  6.132490 0.2024692 0.2340533 No                \n",
       "2 WXATN  9.602027 0.6035512 0.4728191 No                \n",
       "3 YVNYM -1.843895 0.3604684 0.4297722 No                \n",
       "4 WXATN 13.329596 0.2102926 0.4851283 Yes               \n",
       "5 KT4RM 12.944497 0.1193745 0.1910898 No                \n",
       "6 LURGJ 14.795508 0.9447004 0.4984742 Yes               "
      ]
     },
     "metadata": {},
     "output_type": "display_data"
    }
   ],
   "source": [
    "head(predictions)"
   ]
  },
  {
   "cell_type": "code",
   "execution_count": null,
   "metadata": {},
   "outputs": [],
   "source": []
  }
 ],
 "metadata": {
  "kernelspec": {
   "display_name": "R",
   "language": "R",
   "name": "ir"
  },
  "language_info": {
   "codemirror_mode": "r",
   "file_extension": ".r",
   "mimetype": "text/x-r-source",
   "name": "R",
   "pygments_lexer": "r",
   "version": "3.6.1"
  }
 },
 "nbformat": 4,
 "nbformat_minor": 4
}
