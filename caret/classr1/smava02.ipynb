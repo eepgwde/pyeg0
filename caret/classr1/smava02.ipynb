{
 "cells": [
  {
   "cell_type": "markdown",
   "metadata": {},
   "source": [
    "## SMAVA\n",
    "\n",
    "Test exercise - Question 2 - Data investigation\n",
    "\n",
    "Reduce the features used and try other models on whole of the dataset or sub-sets for each bank.\n",
    "\n",
    "### Overview\n",
    "\n",
    "#### Acceptance\n",
    "\n",
    "Firstly, we analyze and decide that an acceptance tester for each bank can be 64% accurate using a radial SVM. \n",
    "A logistic model is only 60%. (Cross-validated within the train set.)\n",
    "\n",
    "We note that this is with a reduced feature set: which is invariant across all banks - ie. the model enables each bank to decide with the same data on the customer. No conditioning on x6 or x7.\n",
    "\n",
    "#### Interest Rate\n",
    "\n",
    "There are two category fields, x6 and x7 which may help decide the interest rate offered by bank.\n",
    "x6 is two-valued, x7 is 2000!\n",
    "\n",
    "We should also revisit the correlations. x1 x10 and x4 are good for acceptance, but the discarded x values could correlate for interest rate.\n"
   ]
  },
  {
   "cell_type": "code",
   "execution_count": 2,
   "metadata": {},
   "outputs": [
    {
     "data": {
      "text/html": [
       "'/misc/build/0/pyeg0/caret/classr1'"
      ],
      "text/latex": [
       "'/misc/build/0/pyeg0/caret/classr1'"
      ],
      "text/markdown": [
       "'/misc/build/0/pyeg0/caret/classr1'"
      ],
      "text/plain": [
       "[1] \"/misc/build/0/pyeg0/caret/classr1\""
      ]
     },
     "metadata": {},
     "output_type": "display_data"
    },
    {
     "name": "stderr",
     "output_type": "stream",
     "text": [
      "-- \u001b[1mAttaching packages\u001b[22m --------------------------------------- tidyverse 1.3.0 --\n",
      "\n",
      "\u001b[32mv\u001b[39m \u001b[34mggplot2\u001b[39m 3.2.1     \u001b[32mv\u001b[39m \u001b[34mpurrr  \u001b[39m 0.3.3\n",
      "\u001b[32mv\u001b[39m \u001b[34mtibble \u001b[39m 2.1.3     \u001b[32mv\u001b[39m \u001b[34mdplyr  \u001b[39m 0.8.3\n",
      "\u001b[32mv\u001b[39m \u001b[34mtidyr  \u001b[39m 1.0.2     \u001b[32mv\u001b[39m \u001b[34mstringr\u001b[39m 1.4.0\n",
      "\u001b[32mv\u001b[39m \u001b[34mreadr  \u001b[39m 1.3.1     \u001b[32mv\u001b[39m \u001b[34mforcats\u001b[39m 0.5.0\n",
      "\n",
      "-- \u001b[1mConflicts\u001b[22m ------------------------------------------ tidyverse_conflicts() --\n",
      "\u001b[31mx\u001b[39m \u001b[34mdplyr\u001b[39m::\u001b[32mfilter()\u001b[39m masks \u001b[34mstats\u001b[39m::filter()\n",
      "\u001b[31mx\u001b[39m \u001b[34mdplyr\u001b[39m::\u001b[32mlag()\u001b[39m    masks \u001b[34mstats\u001b[39m::lag()\n",
      "\n",
      "Loading required package: rpart\n",
      "\n",
      "\n",
      "Attaching package: 'MASS'\n",
      "\n",
      "\n",
      "The following object is masked from 'package:dplyr':\n",
      "\n",
      "    select\n",
      "\n",
      "\n",
      "Loaded gbm 2.1.5\n",
      "\n",
      "\n",
      "Attaching package: 'kernlab'\n",
      "\n",
      "\n",
      "The following object is masked from 'package:purrr':\n",
      "\n",
      "    cross\n",
      "\n",
      "\n",
      "The following object is masked from 'package:ggplot2':\n",
      "\n",
      "    alpha\n",
      "\n",
      "\n",
      "Loading required package: Rcpp\n",
      "\n",
      "Loading required package: lattice\n",
      "\n",
      "\n",
      "Attaching package: 'caret'\n",
      "\n",
      "\n",
      "The following objects are masked from 'package:RSNNS':\n",
      "\n",
      "    confusionMatrix, train\n",
      "\n",
      "\n",
      "The following object is masked from 'package:purrr':\n",
      "\n",
      "    lift\n",
      "\n",
      "\n",
      "Loading required package: foreach\n",
      "\n",
      "\n",
      "Attaching package: 'foreach'\n",
      "\n",
      "\n",
      "The following objects are masked from 'package:purrr':\n",
      "\n",
      "    accumulate, when\n",
      "\n",
      "\n",
      "Loading required package: iterators\n",
      "\n",
      "Loading required package: parallel\n",
      "\n"
     ]
    }
   ],
   "source": [
    "## weaves\n",
    "## smava\n",
    "\n",
    "getwd()\n",
    "\n",
    "## load in packages\n",
    "library(tidyverse)\n",
    "library(rpart.plot)\n",
    "\n",
    "library(e1071)\n",
    "library(MASS)\n",
    "library(mlbench)\n",
    "library(gbm)\n",
    "library(kernlab)\n",
    "library(RSNNS)\n",
    "\n",
    "## last loaded, first found methods\n",
    "library(caret)\n",
    "\n",
    "## implementation\n",
    "library(doMC)\n",
    "\n",
    "registerDoMC(cores = detectCores(all.tests = FALSE, logical = TRUE))\n",
    "\n",
    "options(useFancyQuotes = TRUE)"
   ]
  },
  {
   "cell_type": "code",
   "execution_count": 3,
   "metadata": {},
   "outputs": [],
   "source": [
    "load(\"bak/in/train.rdata\")\n",
    "load(\"bak/in/test.rdata\")\n",
    "\n",
    "train0 <- data.frame(train) # a local copy."
   ]
  },
  {
   "cell_type": "code",
   "execution_count": null,
   "metadata": {},
   "outputs": [],
   "source": [
    "## Logistic regression for acceptance using Narrow Feature set with conditioning on bank over all banks \n",
    "method = 'polr' # fails in jupyter-lab, 59% standalone\n",
    "method = 'plr' # fails in jupyter-lab\n",
    "method = 'multinom' # fails in jupyter-lab\n",
    "\n",
    "method = 'glm' # 0.59\n",
    "\n",
    "fit1 <- train(\n",
    "  form = accepted ~ x1 + x10 + x4 + bank,\n",
    "  data = train,\n",
    "  trControl = trainControl(method = \"cv\", number = 5),\n",
    "  method = method,\n",
    "  family = \"binomial\"\n",
    ")\n",
    "fit1"
   ]
  },
  {
   "cell_type": "code",
   "execution_count": 4,
   "metadata": {},
   "outputs": [
    {
     "data": {
      "text/html": [
       "30"
      ],
      "text/latex": [
       "30"
      ],
      "text/markdown": [
       "30"
      ],
      "text/plain": [
       "[1] 30"
      ]
     },
     "metadata": {},
     "output_type": "display_data"
    },
    {
     "data": {
      "text/html": [
       "<style>\n",
       ".list-inline {list-style: none; margin:0; padding: 0}\n",
       ".list-inline>li {display: inline-block}\n",
       ".list-inline>li:not(:last-child)::after {content: \"\\00b7\"; padding: 0 .5ex}\n",
       "</style>\n",
       "<ol class=list-inline><li>B14</li><li>B4</li><li>B25</li><li>B3</li><li>B1</li><li>B8</li><li>B18</li><li>B21</li><li>B6</li><li>B15</li><li>B16</li><li>B2</li><li>B12</li><li>B27</li><li>B7</li><li>B30</li><li>B9</li><li>B22</li><li>B28</li><li>B17</li><li>B26</li><li>B23</li><li>B11</li><li>B20</li><li>B19</li><li>B13</li><li>B29</li><li>B24</li><li>B5</li><li>B10</li></ol>\n",
       "\n",
       "<details>\n",
       "\t<summary style=display:list-item;cursor:pointer>\n",
       "\t\t<strong>Levels</strong>:\n",
       "\t</summary>\n",
       "\t<style>\n",
       "\t.list-inline {list-style: none; margin:0; padding: 0}\n",
       "\t.list-inline>li {display: inline-block}\n",
       "\t.list-inline>li:not(:last-child)::after {content: \"\\00b7\"; padding: 0 .5ex}\n",
       "\t</style>\n",
       "\t<ol class=list-inline><li>'B1'</li><li>'B10'</li><li>'B11'</li><li>'B12'</li><li>'B13'</li><li>'B14'</li><li>'B15'</li><li>'B16'</li><li>'B17'</li><li>'B18'</li><li>'B19'</li><li>'B2'</li><li>'B20'</li><li>'B21'</li><li>'B22'</li><li>'B23'</li><li>'B24'</li><li>'B25'</li><li>'B26'</li><li>'B27'</li><li>'B28'</li><li>'B29'</li><li>'B3'</li><li>'B30'</li><li>'B4'</li><li>'B5'</li><li>'B6'</li><li>'B7'</li><li>'B8'</li><li>'B9'</li></ol>\n",
       "</details>"
      ],
      "text/latex": [
       "\\begin{enumerate*}\n",
       "\\item B14\n",
       "\\item B4\n",
       "\\item B25\n",
       "\\item B3\n",
       "\\item B1\n",
       "\\item B8\n",
       "\\item B18\n",
       "\\item B21\n",
       "\\item B6\n",
       "\\item B15\n",
       "\\item B16\n",
       "\\item B2\n",
       "\\item B12\n",
       "\\item B27\n",
       "\\item B7\n",
       "\\item B30\n",
       "\\item B9\n",
       "\\item B22\n",
       "\\item B28\n",
       "\\item B17\n",
       "\\item B26\n",
       "\\item B23\n",
       "\\item B11\n",
       "\\item B20\n",
       "\\item B19\n",
       "\\item B13\n",
       "\\item B29\n",
       "\\item B24\n",
       "\\item B5\n",
       "\\item B10\n",
       "\\end{enumerate*}\n",
       "\n",
       "\\emph{Levels}: \\begin{enumerate*}\n",
       "\\item 'B1'\n",
       "\\item 'B10'\n",
       "\\item 'B11'\n",
       "\\item 'B12'\n",
       "\\item 'B13'\n",
       "\\item 'B14'\n",
       "\\item 'B15'\n",
       "\\item 'B16'\n",
       "\\item 'B17'\n",
       "\\item 'B18'\n",
       "\\item 'B19'\n",
       "\\item 'B2'\n",
       "\\item 'B20'\n",
       "\\item 'B21'\n",
       "\\item 'B22'\n",
       "\\item 'B23'\n",
       "\\item 'B24'\n",
       "\\item 'B25'\n",
       "\\item 'B26'\n",
       "\\item 'B27'\n",
       "\\item 'B28'\n",
       "\\item 'B29'\n",
       "\\item 'B3'\n",
       "\\item 'B30'\n",
       "\\item 'B4'\n",
       "\\item 'B5'\n",
       "\\item 'B6'\n",
       "\\item 'B7'\n",
       "\\item 'B8'\n",
       "\\item 'B9'\n",
       "\\end{enumerate*}\n"
      ],
      "text/markdown": [
       "1. B14\n",
       "2. B4\n",
       "3. B25\n",
       "4. B3\n",
       "5. B1\n",
       "6. B8\n",
       "7. B18\n",
       "8. B21\n",
       "9. B6\n",
       "10. B15\n",
       "11. B16\n",
       "12. B2\n",
       "13. B12\n",
       "14. B27\n",
       "15. B7\n",
       "16. B30\n",
       "17. B9\n",
       "18. B22\n",
       "19. B28\n",
       "20. B17\n",
       "21. B26\n",
       "22. B23\n",
       "23. B11\n",
       "24. B20\n",
       "25. B19\n",
       "26. B13\n",
       "27. B29\n",
       "28. B24\n",
       "29. B5\n",
       "30. B10\n",
       "\n",
       "\n",
       "\n",
       "**Levels**: 1. 'B1'\n",
       "2. 'B10'\n",
       "3. 'B11'\n",
       "4. 'B12'\n",
       "5. 'B13'\n",
       "6. 'B14'\n",
       "7. 'B15'\n",
       "8. 'B16'\n",
       "9. 'B17'\n",
       "10. 'B18'\n",
       "11. 'B19'\n",
       "12. 'B2'\n",
       "13. 'B20'\n",
       "14. 'B21'\n",
       "15. 'B22'\n",
       "16. 'B23'\n",
       "17. 'B24'\n",
       "18. 'B25'\n",
       "19. 'B26'\n",
       "20. 'B27'\n",
       "21. 'B28'\n",
       "22. 'B29'\n",
       "23. 'B3'\n",
       "24. 'B30'\n",
       "25. 'B4'\n",
       "26. 'B5'\n",
       "27. 'B6'\n",
       "28. 'B7'\n",
       "29. 'B8'\n",
       "30. 'B9'\n",
       "\n",
       "\n"
      ],
      "text/plain": [
       " [1] B14 B4  B25 B3  B1  B8  B18 B21 B6  B15 B16 B2  B12 B27 B7  B30 B9  B22 B28\n",
       "[20] B17 B26 B23 B11 B20 B19 B13 B29 B24 B5  B10\n",
       "30 Levels: B1 B10 B11 B12 B13 B14 B15 B16 B17 B18 B19 B2 B20 B21 B22 ... B9"
      ]
     },
     "metadata": {},
     "output_type": "display_data"
    }
   ],
   "source": [
    "## Not very good. Let's try a predictor specific to a bank\n",
    "## List the banks.\n",
    "smava1 <- list()\n",
    "smava1$banks <- unique(train[[\"bank\"]])\n",
    "length(smava1$banks)\n",
    "smava1$banks"
   ]
  },
  {
   "cell_type": "code",
   "execution_count": 5,
   "metadata": {},
   "outputs": [
    {
     "data": {
      "text/html": [
       "B3\n",
       "<details>\n",
       "\t<summary style=display:list-item;cursor:pointer>\n",
       "\t\t<strong>Levels</strong>:\n",
       "\t</summary>\n",
       "\t<style>\n",
       "\t.list-inline {list-style: none; margin:0; padding: 0}\n",
       "\t.list-inline>li {display: inline-block}\n",
       "\t.list-inline>li:not(:last-child)::after {content: \"\\00b7\"; padding: 0 .5ex}\n",
       "\t</style>\n",
       "\t<ol class=list-inline><li>'B1'</li><li>'B10'</li><li>'B11'</li><li>'B12'</li><li>'B13'</li><li>'B14'</li><li>'B15'</li><li>'B16'</li><li>'B17'</li><li>'B18'</li><li>'B19'</li><li>'B2'</li><li>'B20'</li><li>'B21'</li><li>'B22'</li><li>'B23'</li><li>'B24'</li><li>'B25'</li><li>'B26'</li><li>'B27'</li><li>'B28'</li><li>'B29'</li><li>'B3'</li><li>'B30'</li><li>'B4'</li><li>'B5'</li><li>'B6'</li><li>'B7'</li><li>'B8'</li><li>'B9'</li></ol>\n",
       "</details>"
      ],
      "text/latex": [
       "B3\n",
       "\\emph{Levels}: \\begin{enumerate*}\n",
       "\\item 'B1'\n",
       "\\item 'B10'\n",
       "\\item 'B11'\n",
       "\\item 'B12'\n",
       "\\item 'B13'\n",
       "\\item 'B14'\n",
       "\\item 'B15'\n",
       "\\item 'B16'\n",
       "\\item 'B17'\n",
       "\\item 'B18'\n",
       "\\item 'B19'\n",
       "\\item 'B2'\n",
       "\\item 'B20'\n",
       "\\item 'B21'\n",
       "\\item 'B22'\n",
       "\\item 'B23'\n",
       "\\item 'B24'\n",
       "\\item 'B25'\n",
       "\\item 'B26'\n",
       "\\item 'B27'\n",
       "\\item 'B28'\n",
       "\\item 'B29'\n",
       "\\item 'B3'\n",
       "\\item 'B30'\n",
       "\\item 'B4'\n",
       "\\item 'B5'\n",
       "\\item 'B6'\n",
       "\\item 'B7'\n",
       "\\item 'B8'\n",
       "\\item 'B9'\n",
       "\\end{enumerate*}\n"
      ],
      "text/markdown": [
       "B3\n",
       "**Levels**: 1. 'B1'\n",
       "2. 'B10'\n",
       "3. 'B11'\n",
       "4. 'B12'\n",
       "5. 'B13'\n",
       "6. 'B14'\n",
       "7. 'B15'\n",
       "8. 'B16'\n",
       "9. 'B17'\n",
       "10. 'B18'\n",
       "11. 'B19'\n",
       "12. 'B2'\n",
       "13. 'B20'\n",
       "14. 'B21'\n",
       "15. 'B22'\n",
       "16. 'B23'\n",
       "17. 'B24'\n",
       "18. 'B25'\n",
       "19. 'B26'\n",
       "20. 'B27'\n",
       "21. 'B28'\n",
       "22. 'B29'\n",
       "23. 'B3'\n",
       "24. 'B30'\n",
       "25. 'B4'\n",
       "26. 'B5'\n",
       "27. 'B6'\n",
       "28. 'B7'\n",
       "29. 'B8'\n",
       "30. 'B9'\n",
       "\n",
       "\n"
      ],
      "text/plain": [
       "[1] B3\n",
       "30 Levels: B1 B10 B11 B12 B13 B14 B15 B16 B17 B18 B19 B2 B20 B21 B22 ... B9"
      ]
     },
     "metadata": {},
     "output_type": "display_data"
    },
    {
     "data": {
      "text/html": [
       "<style>\n",
       ".list-inline {list-style: none; margin:0; padding: 0}\n",
       ".list-inline>li {display: inline-block}\n",
       ".list-inline>li:not(:last-child)::after {content: \"\\00b7\"; padding: 0 .5ex}\n",
       "</style>\n",
       "<ol class=list-inline><li>'customerNumber'</li><li>'bank'</li><li>'x1'</li><li>'x2'</li><li>'x3'</li><li>'x4'</li><li>'x5'</li><li>'x6'</li><li>'x7'</li><li>'x8'</li><li>'x9'</li><li>'x10'</li><li>'accepted'</li><li>'interestRate'</li></ol>\n"
      ],
      "text/latex": [
       "\\begin{enumerate*}\n",
       "\\item 'customerNumber'\n",
       "\\item 'bank'\n",
       "\\item 'x1'\n",
       "\\item 'x2'\n",
       "\\item 'x3'\n",
       "\\item 'x4'\n",
       "\\item 'x5'\n",
       "\\item 'x6'\n",
       "\\item 'x7'\n",
       "\\item 'x8'\n",
       "\\item 'x9'\n",
       "\\item 'x10'\n",
       "\\item 'accepted'\n",
       "\\item 'interestRate'\n",
       "\\end{enumerate*}\n"
      ],
      "text/markdown": [
       "1. 'customerNumber'\n",
       "2. 'bank'\n",
       "3. 'x1'\n",
       "4. 'x2'\n",
       "5. 'x3'\n",
       "6. 'x4'\n",
       "7. 'x5'\n",
       "8. 'x6'\n",
       "9. 'x7'\n",
       "10. 'x8'\n",
       "11. 'x9'\n",
       "12. 'x10'\n",
       "13. 'accepted'\n",
       "14. 'interestRate'\n",
       "\n",
       "\n"
      ],
      "text/plain": [
       " [1] \"customerNumber\" \"bank\"           \"x1\"             \"x2\"            \n",
       " [5] \"x3\"             \"x4\"             \"x5\"             \"x6\"            \n",
       " [9] \"x7\"             \"x8\"             \"x9\"             \"x10\"           \n",
       "[13] \"accepted\"       \"interestRate\"  "
      ]
     },
     "metadata": {},
     "output_type": "display_data"
    }
   ],
   "source": [
    "## Random choose a bank to look at\n",
    "fidx <- function(N0, n=3) sample(1:N0, n, replace = FALSE)\n",
    "\n",
    "t <- smava1$banks\n",
    "tag <- t[fidx(length(t))]\n",
    "tag <- tag[1:1]\n",
    "tag\n",
    "colnames(train)"
   ]
  },
  {
   "cell_type": "code",
   "execution_count": 3,
   "metadata": {},
   "outputs": [],
   "source": [
    "load(\"bak/in/train.rdata\")\n",
    "load(\"bak/in/test.rdata\")\n",
    "\n",
    "train0 <- data.frame(train) # a local copy."
   ]
  },
  {
   "cell_type": "code",
   "execution_count": 6,
   "metadata": {},
   "outputs": [
    {
     "data": {
      "text/html": [
       "<style>\n",
       ".list-inline {list-style: none; margin:0; padding: 0}\n",
       ".list-inline>li {display: inline-block}\n",
       ".list-inline>li:not(:last-child)::after {content: \"\\00b7\"; padding: 0 .5ex}\n",
       "</style>\n",
       "<ol class=list-inline><li>'x1'</li><li>'x2'</li><li>'x4'</li><li>'x5'</li><li>'x6'</li><li>'x7'</li><li>'x8'</li><li>'x9'</li><li>'x10'</li><li>'accepted'</li></ol>\n"
      ],
      "text/latex": [
       "\\begin{enumerate*}\n",
       "\\item 'x1'\n",
       "\\item 'x2'\n",
       "\\item 'x4'\n",
       "\\item 'x5'\n",
       "\\item 'x6'\n",
       "\\item 'x7'\n",
       "\\item 'x8'\n",
       "\\item 'x9'\n",
       "\\item 'x10'\n",
       "\\item 'accepted'\n",
       "\\end{enumerate*}\n"
      ],
      "text/markdown": [
       "1. 'x1'\n",
       "2. 'x2'\n",
       "3. 'x4'\n",
       "4. 'x5'\n",
       "5. 'x6'\n",
       "6. 'x7'\n",
       "7. 'x8'\n",
       "8. 'x9'\n",
       "9. 'x10'\n",
       "10. 'accepted'\n",
       "\n",
       "\n"
      ],
      "text/plain": [
       " [1] \"x1\"       \"x2\"       \"x4\"       \"x5\"       \"x6\"       \"x7\"      \n",
       " [7] \"x8\"       \"x9\"       \"x10\"      \"accepted\""
      ]
     },
     "metadata": {},
     "output_type": "display_data"
    }
   ],
   "source": [
    "cols <- colnames(train)\n",
    "cols <- cols[grep('^x', cols)]\n",
    "cols <- setdiff(cols, \"x3\")\n",
    "xcols <- c(cols, \"accepted\")\n",
    "xcols"
   ]
  },
  {
   "cell_type": "code",
   "execution_count": 7,
   "metadata": {},
   "outputs": [
    {
     "data": {
      "text/html": [
       "B3\n",
       "<details>\n",
       "\t<summary style=display:list-item;cursor:pointer>\n",
       "\t\t<strong>Levels</strong>:\n",
       "\t</summary>\n",
       "\t<style>\n",
       "\t.list-inline {list-style: none; margin:0; padding: 0}\n",
       "\t.list-inline>li {display: inline-block}\n",
       "\t.list-inline>li:not(:last-child)::after {content: \"\\00b7\"; padding: 0 .5ex}\n",
       "\t</style>\n",
       "\t<ol class=list-inline><li>'B1'</li><li>'B10'</li><li>'B11'</li><li>'B12'</li><li>'B13'</li><li>'B14'</li><li>'B15'</li><li>'B16'</li><li>'B17'</li><li>'B18'</li><li>'B19'</li><li>'B2'</li><li>'B20'</li><li>'B21'</li><li>'B22'</li><li>'B23'</li><li>'B24'</li><li>'B25'</li><li>'B26'</li><li>'B27'</li><li>'B28'</li><li>'B29'</li><li>'B3'</li><li>'B30'</li><li>'B4'</li><li>'B5'</li><li>'B6'</li><li>'B7'</li><li>'B8'</li><li>'B9'</li></ol>\n",
       "</details>"
      ],
      "text/latex": [
       "B3\n",
       "\\emph{Levels}: \\begin{enumerate*}\n",
       "\\item 'B1'\n",
       "\\item 'B10'\n",
       "\\item 'B11'\n",
       "\\item 'B12'\n",
       "\\item 'B13'\n",
       "\\item 'B14'\n",
       "\\item 'B15'\n",
       "\\item 'B16'\n",
       "\\item 'B17'\n",
       "\\item 'B18'\n",
       "\\item 'B19'\n",
       "\\item 'B2'\n",
       "\\item 'B20'\n",
       "\\item 'B21'\n",
       "\\item 'B22'\n",
       "\\item 'B23'\n",
       "\\item 'B24'\n",
       "\\item 'B25'\n",
       "\\item 'B26'\n",
       "\\item 'B27'\n",
       "\\item 'B28'\n",
       "\\item 'B29'\n",
       "\\item 'B3'\n",
       "\\item 'B30'\n",
       "\\item 'B4'\n",
       "\\item 'B5'\n",
       "\\item 'B6'\n",
       "\\item 'B7'\n",
       "\\item 'B8'\n",
       "\\item 'B9'\n",
       "\\end{enumerate*}\n"
      ],
      "text/markdown": [
       "B3\n",
       "**Levels**: 1. 'B1'\n",
       "2. 'B10'\n",
       "3. 'B11'\n",
       "4. 'B12'\n",
       "5. 'B13'\n",
       "6. 'B14'\n",
       "7. 'B15'\n",
       "8. 'B16'\n",
       "9. 'B17'\n",
       "10. 'B18'\n",
       "11. 'B19'\n",
       "12. 'B2'\n",
       "13. 'B20'\n",
       "14. 'B21'\n",
       "15. 'B22'\n",
       "16. 'B23'\n",
       "17. 'B24'\n",
       "18. 'B25'\n",
       "19. 'B26'\n",
       "20. 'B27'\n",
       "21. 'B28'\n",
       "22. 'B29'\n",
       "23. 'B3'\n",
       "24. 'B30'\n",
       "25. 'B4'\n",
       "26. 'B5'\n",
       "27. 'B6'\n",
       "28. 'B7'\n",
       "29. 'B8'\n",
       "30. 'B9'\n",
       "\n",
       "\n"
      ],
      "text/plain": [
       "[1] B3\n",
       "30 Levels: B1 B10 B11 B12 B13 B14 B15 B16 B17 B18 B19 B2 B20 B21 B22 ... B9"
      ]
     },
     "metadata": {},
     "output_type": "display_data"
    },
    {
     "data": {
      "text/html": [
       "<style>\n",
       ".list-inline {list-style: none; margin:0; padding: 0}\n",
       ".list-inline>li {display: inline-block}\n",
       ".list-inline>li:not(:last-child)::after {content: \"\\00b7\"; padding: 0 .5ex}\n",
       "</style>\n",
       "<ol class=list-inline><li>4480</li><li>11</li></ol>\n"
      ],
      "text/latex": [
       "\\begin{enumerate*}\n",
       "\\item 4480\n",
       "\\item 11\n",
       "\\end{enumerate*}\n"
      ],
      "text/markdown": [
       "1. 4480\n",
       "2. 11\n",
       "\n",
       "\n"
      ],
      "text/plain": [
       "[1] 4480   11"
      ]
     },
     "metadata": {},
     "output_type": "display_data"
    },
    {
     "data": {
      "text/html": [
       "<table>\n",
       "<caption>A tibble: 6 × 11</caption>\n",
       "<thead>\n",
       "\t<tr><th scope=col>x1</th><th scope=col>x2</th><th scope=col>x4</th><th scope=col>x5</th><th scope=col>x6</th><th scope=col>x7</th><th scope=col>x8</th><th scope=col>x9</th><th scope=col>x10</th><th scope=col>accepted</th><th scope=col>x2na</th></tr>\n",
       "\t<tr><th scope=col>&lt;dbl&gt;</th><th scope=col>&lt;dbl&gt;</th><th scope=col>&lt;dbl&gt;</th><th scope=col>&lt;dbl&gt;</th><th scope=col>&lt;fct&gt;</th><th scope=col>&lt;fct&gt;</th><th scope=col>&lt;dbl&gt;</th><th scope=col>&lt;dbl&gt;</th><th scope=col>&lt;dbl&gt;</th><th scope=col>&lt;fct&gt;</th><th scope=col>&lt;dbl&gt;</th></tr>\n",
       "</thead>\n",
       "<tbody>\n",
       "\t<tr><td>1.7044089</td><td>5.4123865</td><td>-1.209511</td><td> 1.8524490</td><td>FBW</td><td>PBSEO</td><td> 0.7316942</td><td>0.2678961</td><td>0.3731034</td><td>NO </td><td>0</td></tr>\n",
       "\t<tr><td>6.2399036</td><td>3.9923303</td><td> 3.601843</td><td>-0.6324472</td><td>FBW</td><td>O07XX</td><td> 3.2772413</td><td>0.1890368</td><td>0.3876183</td><td>YES</td><td>0</td></tr>\n",
       "\t<tr><td>0.6404203</td><td>0.4344275</td><td>-1.211129</td><td>-1.3633386</td><td>ACS</td><td>QTDO0</td><td>-2.5410318</td><td>0.2141143</td><td>0.3487595</td><td>NO </td><td>0</td></tr>\n",
       "\t<tr><td>2.8531209</td><td>7.9625419</td><td> 4.341369</td><td> 4.7253100</td><td>FBW</td><td>QUTOJ</td><td> 9.0522801</td><td>0.2389058</td><td>0.4001331</td><td>YES</td><td>1</td></tr>\n",
       "\t<tr><td>0.7511392</td><td>7.9625419</td><td> 5.903780</td><td> 7.7164806</td><td>ACS</td><td>49CT6</td><td>13.8247432</td><td>0.3056381</td><td>0.3548651</td><td>YES</td><td>1</td></tr>\n",
       "\t<tr><td>0.3687868</td><td>7.9625419</td><td>-3.454459</td><td> 5.5783330</td><td>FBW</td><td>IEWGU</td><td> 1.9566097</td><td>0.8271761</td><td>0.2675379</td><td>NO </td><td>1</td></tr>\n",
       "</tbody>\n",
       "</table>\n"
      ],
      "text/latex": [
       "A tibble: 6 × 11\n",
       "\\begin{tabular}{lllllllllll}\n",
       " x1 & x2 & x4 & x5 & x6 & x7 & x8 & x9 & x10 & accepted & x2na\\\\\n",
       " <dbl> & <dbl> & <dbl> & <dbl> & <fct> & <fct> & <dbl> & <dbl> & <dbl> & <fct> & <dbl>\\\\\n",
       "\\hline\n",
       "\t 1.7044089 & 5.4123865 & -1.209511 &  1.8524490 & FBW & PBSEO &  0.7316942 & 0.2678961 & 0.3731034 & NO  & 0\\\\\n",
       "\t 6.2399036 & 3.9923303 &  3.601843 & -0.6324472 & FBW & O07XX &  3.2772413 & 0.1890368 & 0.3876183 & YES & 0\\\\\n",
       "\t 0.6404203 & 0.4344275 & -1.211129 & -1.3633386 & ACS & QTDO0 & -2.5410318 & 0.2141143 & 0.3487595 & NO  & 0\\\\\n",
       "\t 2.8531209 & 7.9625419 &  4.341369 &  4.7253100 & FBW & QUTOJ &  9.0522801 & 0.2389058 & 0.4001331 & YES & 1\\\\\n",
       "\t 0.7511392 & 7.9625419 &  5.903780 &  7.7164806 & ACS & 49CT6 & 13.8247432 & 0.3056381 & 0.3548651 & YES & 1\\\\\n",
       "\t 0.3687868 & 7.9625419 & -3.454459 &  5.5783330 & FBW & IEWGU &  1.9566097 & 0.8271761 & 0.2675379 & NO  & 1\\\\\n",
       "\\end{tabular}\n"
      ],
      "text/markdown": [
       "\n",
       "A tibble: 6 × 11\n",
       "\n",
       "| x1 &lt;dbl&gt; | x2 &lt;dbl&gt; | x4 &lt;dbl&gt; | x5 &lt;dbl&gt; | x6 &lt;fct&gt; | x7 &lt;fct&gt; | x8 &lt;dbl&gt; | x9 &lt;dbl&gt; | x10 &lt;dbl&gt; | accepted &lt;fct&gt; | x2na &lt;dbl&gt; |\n",
       "|---|---|---|---|---|---|---|---|---|---|---|\n",
       "| 1.7044089 | 5.4123865 | -1.209511 |  1.8524490 | FBW | PBSEO |  0.7316942 | 0.2678961 | 0.3731034 | NO  | 0 |\n",
       "| 6.2399036 | 3.9923303 |  3.601843 | -0.6324472 | FBW | O07XX |  3.2772413 | 0.1890368 | 0.3876183 | YES | 0 |\n",
       "| 0.6404203 | 0.4344275 | -1.211129 | -1.3633386 | ACS | QTDO0 | -2.5410318 | 0.2141143 | 0.3487595 | NO  | 0 |\n",
       "| 2.8531209 | 7.9625419 |  4.341369 |  4.7253100 | FBW | QUTOJ |  9.0522801 | 0.2389058 | 0.4001331 | YES | 1 |\n",
       "| 0.7511392 | 7.9625419 |  5.903780 |  7.7164806 | ACS | 49CT6 | 13.8247432 | 0.3056381 | 0.3548651 | YES | 1 |\n",
       "| 0.3687868 | 7.9625419 | -3.454459 |  5.5783330 | FBW | IEWGU |  1.9566097 | 0.8271761 | 0.2675379 | NO  | 1 |\n",
       "\n"
      ],
      "text/plain": [
       "  x1        x2        x4        x5         x6  x7    x8         x9       \n",
       "1 1.7044089 5.4123865 -1.209511  1.8524490 FBW PBSEO  0.7316942 0.2678961\n",
       "2 6.2399036 3.9923303  3.601843 -0.6324472 FBW O07XX  3.2772413 0.1890368\n",
       "3 0.6404203 0.4344275 -1.211129 -1.3633386 ACS QTDO0 -2.5410318 0.2141143\n",
       "4 2.8531209 7.9625419  4.341369  4.7253100 FBW QUTOJ  9.0522801 0.2389058\n",
       "5 0.7511392 7.9625419  5.903780  7.7164806 ACS 49CT6 13.8247432 0.3056381\n",
       "6 0.3687868 7.9625419 -3.454459  5.5783330 FBW IEWGU  1.9566097 0.8271761\n",
       "  x10       accepted x2na\n",
       "1 0.3731034 NO       0   \n",
       "2 0.3876183 YES      0   \n",
       "3 0.3487595 NO       0   \n",
       "4 0.4001331 YES      1   \n",
       "5 0.3548651 YES      1   \n",
       "6 0.2675379 NO       1   "
      ]
     },
     "metadata": {},
     "output_type": "display_data"
    }
   ],
   "source": [
    "## Specific to a bank\n",
    "## And impute x2\n",
    "tag\n",
    "outcomes <- train[ train$bank %in% tag, \"accepted\"]\n",
    "\n",
    "train1 <- train[ train$bank %in% tag, xcols]\n",
    "\n",
    "train1$x2na <- 0\n",
    "train1[is.na(train1$x2), \"x2na\"] <- 1\n",
    "\n",
    "v0 <- train1[train1$x2 & train1$x2na == 0, \"x2\"]\n",
    "v0 <- mean(v0[[\"x2\"]])\n",
    "\n",
    "train1[is.na(train1$x2), \"x2\"] <- v0\n",
    "\n",
    "dim(train1)\n",
    "head(train1)\n",
    "\n",
    "# test1[ is.na(test1$x2), \"x2\" ] <- smava0$x2impute"
   ]
  },
  {
   "cell_type": "code",
   "execution_count": null,
   "metadata": {},
   "outputs": [],
   "source": [
    "## Logistic fit for one bank is barely any better.\n",
    "## Don't add to the formula x7 - no-converge\n",
    "\n",
    "fit1x <- train(\n",
    "  form = accepted ~ x1 + x10 + x4,\n",
    "  data = train1,\n",
    "  trControl = trainControl(method = \"cv\", number = 5),\n",
    "  method = \"glm\",\n",
    "  family = \"binomial\"\n",
    ")\n",
    "fit1x"
   ]
  },
  {
   "cell_type": "markdown",
   "metadata": {},
   "source": [
    "### Note\n",
    "\n",
    "Tried a few formulae, no improvement with x2. \n",
    "No real improvement even if limited to just one bank.\n",
    "\n",
    "Try some SVM classifiers - these only converge on small data-sets. There are a number of \n",
    "\n",
    "A pair plot of features how a couple of X-Y central scattering, suggest that radials can be good method"
   ]
  },
  {
   "cell_type": "code",
   "execution_count": null,
   "metadata": {},
   "outputs": [],
   "source": [
    "## Formally constrain to the Narrow Feature set\n",
    "cols <- c(\"x1\", \"x10\", \"x4\", \"accepted\")\n",
    "df0 <- train1[,cols]"
   ]
  },
  {
   "cell_type": "code",
   "execution_count": null,
   "metadata": {},
   "outputs": [],
   "source": [
    "plot(df0)"
   ]
  },
  {
   "cell_type": "code",
   "execution_count": null,
   "metadata": {},
   "outputs": [],
   "source": [
    "## Heuristically try other models\n",
    "## 0.65 accurate by bank for acceptance with just these three x.\n",
    "\n",
    "method <- 'svmLinear2'\n",
    "method <- 'svmPoly'\n",
    "\n",
    "## all these give 64%\n",
    "method <- 'svmRadial'\n",
    "method <- 'svmRadialSigma'\n",
    "method <- 'svmRadialCost'"
   ]
  },
  {
   "cell_type": "code",
   "execution_count": null,
   "metadata": {},
   "outputs": [],
   "source": [
    "## By bank - acceptance using Narrow Feature set\n",
    "\n",
    "fit1x <- train(\n",
    "  form = accepted ~ .,\n",
    "  data = df0,\n",
    "  trControl = trainControl(method = \"cv\", number = 5),\n",
    "  method = method    \n",
    ")\n",
    "fit1x"
   ]
  },
  {
   "cell_type": "code",
   "execution_count": null,
   "metadata": {},
   "outputs": [],
   "source": [
    "trainPred <- predict(fit1x, df0)\n",
    "# postResample(testPred, testClass)\n",
    "\n",
    "conf0 <- confusionMatrix(trainPred, df0[[\"accepted\"]], positive = \"YES\")\n",
    "conf0"
   ]
  },
  {
   "cell_type": "markdown",
   "metadata": {},
   "source": [
    "### Recap and Plan: customer to acceptances at each bank\n",
    "\n",
    "Model with predictor trained by bank using 'svmRadialCost' gets 64% on the training set - cross-validated.\n",
    "using just the fields: \"x1\", \"x10\", \"x4\" - the Narrow Feature Set\n",
    "\n",
    "So for each customer, we want to know what banks might accept them. \n",
    "\n",
    "A customer gets a different set of values from each bank, but not on the features of the Narrow Feature set.\n",
    "So the customer record can be duplicated for each bank. A prediction made with that bank's predictor for all customers.\n",
    "\n",
    "That would produce the banks.rdata results without any methodological issues, but that is unordered."
   ]
  },
  {
   "cell_type": "markdown",
   "metadata": {},
   "source": [
    "### Plan: bank ordering by interest rate\n",
    "\n",
    "We then have to order the bank choice by interest rate given. We should train a second regression predictor, for all accepted customers at a bank and the interest they receive. And we have to consider if x6 and x7 are correlated to interest rate."
   ]
  },
  {
   "cell_type": "code",
   "execution_count": null,
   "metadata": {},
   "outputs": [],
   "source": [
    "## Visual - check the feature relationships - customer is constant across bank. Interest rate varies.\n",
    "cols <- unique(c(cols, \"x1\", \"x4\", \"x10\"))\n",
    "df2 <- train[order(train$customerNumber, train$bank), c(\"customerNumber\", \"accepted\", \"bank\", c(cols, \"x6\", \"x7\"), \"x2\", \"interestRate\")]\n",
    "head(df2, n=50)"
   ]
  },
  {
   "cell_type": "code",
   "execution_count": null,
   "metadata": {},
   "outputs": [],
   "source": [
    "## Logistic regression using Narrow Feature set with conditioning on bank over all banks.\n",
    "\n",
    "fit1 <- train(\n",
    "  form = accepted ~ x1 + x10 + x4,\n",
    "  data = train,\n",
    "  trControl = trainControl(method = \"cv\", number = 5),\n",
    "  method = \"glm\",\n",
    "  family = \"binomial\"\n",
    ")\n",
    "fit1"
   ]
  },
  {
   "cell_type": "code",
   "execution_count": null,
   "metadata": {},
   "outputs": [],
   "source": [
    "## An interest rate predictor would be like this. \n",
    "df3 <- df2[df2$accepted == \"YES\", c(\"bank\", \"interestRate\", \"customerNumber\", \"x7\", \"x6\", cols)]\n",
    "df3[order(-df3$interestRate, df3$bank),]"
   ]
  },
  {
   "cell_type": "markdown",
   "metadata": {},
   "source": [
    "## Built for each bank it would take the x values, returning interestRate for all \n",
    "\n",
    "The customer numbers at all banks, so a weighted regression on x values to interestRate \n",
    "with a two-ply tree on x6 and x7.\n",
    "Banks are 30 in number so same number of predictors. Try a global regression predictor using x6, x7 and xvalues"
   ]
  },
  {
   "cell_type": "code",
   "execution_count": 8,
   "metadata": {},
   "outputs": [
    {
     "data": {
      "text/html": [
       "7.65543248108504"
      ],
      "text/latex": [
       "7.65543248108504"
      ],
      "text/markdown": [
       "7.65543248108504"
      ],
      "text/plain": [
       "[1] 7.655432"
      ]
     },
     "metadata": {},
     "output_type": "display_data"
    }
   ],
   "source": [
    "# Look at interest rates for one bank.\n",
    "df4 <- train[train$bank == tag & train$accepted == \"YES\", setdiff(colnames(train), c(\"customerNumber\", \"bank\", \"accepted\", \"x3\", \"x6\", \"x7\"))]\n",
    "\n",
    "x2bar <- mean(df4$x2, trim=0, na.rm=TRUE)\n",
    "x2bar\n",
    "df4[is.na(df4$x2), \"x2\"] <- x2bar"
   ]
  },
  {
   "cell_type": "code",
   "execution_count": null,
   "metadata": {},
   "outputs": [],
   "source": [
    "plot(df4)"
   ]
  },
  {
   "cell_type": "code",
   "execution_count": null,
   "metadata": {},
   "outputs": [],
   "source": [
    "## All over looks of business\n",
    "summary(df4)"
   ]
  },
  {
   "cell_type": "code",
   "execution_count": null,
   "metadata": {},
   "outputs": [],
   "source": [
    "## Nothing new on corrrelations\n",
    "\n",
    "c0 <- cor(df4)\n",
    "corrplot::corrplot(c0, method=\"number\", order=\"hclust\")"
   ]
  },
  {
   "cell_type": "code",
   "execution_count": null,
   "metadata": {},
   "outputs": [],
   "source": [
    "## Look for a regression and check Rsquared\n",
    "\n",
    "regressControl  <- trainControl(method=\"repeatedcv\",\n",
    "                    number = 4,\n",
    "                    repeats = 5\n",
    "                    ) \n",
    "\n",
    "## R^2 of only 0.3 is not good enough, with x6 is not better.\n",
    "regress <- train(interestRate ~ .,\n",
    "           data = df4,\n",
    "           method  = \"lm\",\n",
    "           trControl = regressControl)\n",
    "regress"
   ]
  },
  {
   "cell_type": "code",
   "execution_count": null,
   "metadata": {},
   "outputs": [],
   "source": [
    "## Let's overfit with a multi-layer perceptron and see if I can use x6 and x7.\n",
    "## Regression model two inaccurate. A simple multi-layer perceptron - a look up table almost.\n",
    "\n",
    "fControl  <- trainControl(method=\"repeatedcv\",\n",
    "                    number = 4,\n",
    "                    repeats = 5\n",
    "                    )\n",
    "method = 'mlp'\n",
    "method = 'mlpWeightDecay'\n",
    "\n",
    "mi <- getModelInfo(model = method, regex = FALSE)[[1]]\n",
    "p0 <- data.frame(mi$parameters)\n",
    "p0"
   ]
  },
  {
   "cell_type": "code",
   "execution_count": null,
   "metadata": {},
   "outputs": [],
   "source": [
    "data.frame(interaction.depth = c(1, 5, 9))"
   ]
  },
  {
   "cell_type": "code",
   "execution_count": 10,
   "metadata": {},
   "outputs": [
    {
     "data": {
      "text/html": [
       "7.65543248108504"
      ],
      "text/latex": [
       "7.65543248108504"
      ],
      "text/markdown": [
       "7.65543248108504"
      ],
      "text/plain": [
       "[1] 7.655432"
      ]
     },
     "metadata": {},
     "output_type": "display_data"
    },
    {
     "data": {
      "text/html": [
       "<table>\n",
       "<caption>A tibble: 6 × 10</caption>\n",
       "<thead>\n",
       "\t<tr><th scope=col>x1</th><th scope=col>x2</th><th scope=col>x4</th><th scope=col>x5</th><th scope=col>x6</th><th scope=col>x7</th><th scope=col>x8</th><th scope=col>x9</th><th scope=col>x10</th><th scope=col>interestRate</th></tr>\n",
       "\t<tr><th scope=col>&lt;dbl&gt;</th><th scope=col>&lt;dbl&gt;</th><th scope=col>&lt;dbl&gt;</th><th scope=col>&lt;dbl&gt;</th><th scope=col>&lt;fct&gt;</th><th scope=col>&lt;fct&gt;</th><th scope=col>&lt;dbl&gt;</th><th scope=col>&lt;dbl&gt;</th><th scope=col>&lt;dbl&gt;</th><th scope=col>&lt;dbl&gt;</th></tr>\n",
       "</thead>\n",
       "<tbody>\n",
       "\t<tr><td>6.2399036</td><td> 3.992330</td><td> 3.601843</td><td>-0.6324472</td><td>FBW</td><td>O07XX</td><td> 3.277241</td><td>0.1890368</td><td>0.3876183</td><td>12.215344</td></tr>\n",
       "\t<tr><td>2.8531209</td><td> 7.655432</td><td> 4.341369</td><td> 4.7253100</td><td>FBW</td><td>QUTOJ</td><td> 9.052280</td><td>0.2389058</td><td>0.4001331</td><td> 3.348640</td></tr>\n",
       "\t<tr><td>0.7511392</td><td> 7.655432</td><td> 5.903780</td><td> 7.7164806</td><td>ACS</td><td>49CT6</td><td>13.824743</td><td>0.3056381</td><td>0.3548651</td><td> 2.666739</td></tr>\n",
       "\t<tr><td>2.7489449</td><td> 4.250198</td><td> 3.325267</td><td> 1.9186531</td><td>FBW</td><td>GPX9G</td><td> 5.926024</td><td>0.8271125</td><td>0.5347677</td><td> 3.336138</td></tr>\n",
       "\t<tr><td>6.9003717</td><td> 4.110479</td><td>-5.173110</td><td> 0.8183836</td><td>FBW</td><td>WXATN</td><td>-4.403885</td><td>0.3888524</td><td>0.4672193</td><td>14.509473</td></tr>\n",
       "\t<tr><td>0.4255057</td><td>14.477147</td><td> 1.607090</td><td>-3.3508678</td><td>ACS</td><td>4AME2</td><td>-1.415343</td><td>0.5023046</td><td>0.3325895</td><td> 2.348572</td></tr>\n",
       "</tbody>\n",
       "</table>\n"
      ],
      "text/latex": [
       "A tibble: 6 × 10\n",
       "\\begin{tabular}{llllllllll}\n",
       " x1 & x2 & x4 & x5 & x6 & x7 & x8 & x9 & x10 & interestRate\\\\\n",
       " <dbl> & <dbl> & <dbl> & <dbl> & <fct> & <fct> & <dbl> & <dbl> & <dbl> & <dbl>\\\\\n",
       "\\hline\n",
       "\t 6.2399036 &  3.992330 &  3.601843 & -0.6324472 & FBW & O07XX &  3.277241 & 0.1890368 & 0.3876183 & 12.215344\\\\\n",
       "\t 2.8531209 &  7.655432 &  4.341369 &  4.7253100 & FBW & QUTOJ &  9.052280 & 0.2389058 & 0.4001331 &  3.348640\\\\\n",
       "\t 0.7511392 &  7.655432 &  5.903780 &  7.7164806 & ACS & 49CT6 & 13.824743 & 0.3056381 & 0.3548651 &  2.666739\\\\\n",
       "\t 2.7489449 &  4.250198 &  3.325267 &  1.9186531 & FBW & GPX9G &  5.926024 & 0.8271125 & 0.5347677 &  3.336138\\\\\n",
       "\t 6.9003717 &  4.110479 & -5.173110 &  0.8183836 & FBW & WXATN & -4.403885 & 0.3888524 & 0.4672193 & 14.509473\\\\\n",
       "\t 0.4255057 & 14.477147 &  1.607090 & -3.3508678 & ACS & 4AME2 & -1.415343 & 0.5023046 & 0.3325895 &  2.348572\\\\\n",
       "\\end{tabular}\n"
      ],
      "text/markdown": [
       "\n",
       "A tibble: 6 × 10\n",
       "\n",
       "| x1 &lt;dbl&gt; | x2 &lt;dbl&gt; | x4 &lt;dbl&gt; | x5 &lt;dbl&gt; | x6 &lt;fct&gt; | x7 &lt;fct&gt; | x8 &lt;dbl&gt; | x9 &lt;dbl&gt; | x10 &lt;dbl&gt; | interestRate &lt;dbl&gt; |\n",
       "|---|---|---|---|---|---|---|---|---|---|\n",
       "| 6.2399036 |  3.992330 |  3.601843 | -0.6324472 | FBW | O07XX |  3.277241 | 0.1890368 | 0.3876183 | 12.215344 |\n",
       "| 2.8531209 |  7.655432 |  4.341369 |  4.7253100 | FBW | QUTOJ |  9.052280 | 0.2389058 | 0.4001331 |  3.348640 |\n",
       "| 0.7511392 |  7.655432 |  5.903780 |  7.7164806 | ACS | 49CT6 | 13.824743 | 0.3056381 | 0.3548651 |  2.666739 |\n",
       "| 2.7489449 |  4.250198 |  3.325267 |  1.9186531 | FBW | GPX9G |  5.926024 | 0.8271125 | 0.5347677 |  3.336138 |\n",
       "| 6.9003717 |  4.110479 | -5.173110 |  0.8183836 | FBW | WXATN | -4.403885 | 0.3888524 | 0.4672193 | 14.509473 |\n",
       "| 0.4255057 | 14.477147 |  1.607090 | -3.3508678 | ACS | 4AME2 | -1.415343 | 0.5023046 | 0.3325895 |  2.348572 |\n",
       "\n"
      ],
      "text/plain": [
       "  x1        x2        x4        x5         x6  x7    x8        x9       \n",
       "1 6.2399036  3.992330  3.601843 -0.6324472 FBW O07XX  3.277241 0.1890368\n",
       "2 2.8531209  7.655432  4.341369  4.7253100 FBW QUTOJ  9.052280 0.2389058\n",
       "3 0.7511392  7.655432  5.903780  7.7164806 ACS 49CT6 13.824743 0.3056381\n",
       "4 2.7489449  4.250198  3.325267  1.9186531 FBW GPX9G  5.926024 0.8271125\n",
       "5 6.9003717  4.110479 -5.173110  0.8183836 FBW WXATN -4.403885 0.3888524\n",
       "6 0.4255057 14.477147  1.607090 -3.3508678 ACS 4AME2 -1.415343 0.5023046\n",
       "  x10       interestRate\n",
       "1 0.3876183 12.215344   \n",
       "2 0.4001331  3.348640   \n",
       "3 0.3548651  2.666739   \n",
       "4 0.5347677  3.336138   \n",
       "5 0.4672193 14.509473   \n",
       "6 0.3325895  2.348572   "
      ]
     },
     "metadata": {},
     "output_type": "display_data"
    }
   ],
   "source": [
    "## \"x6\", \"x7\"\n",
    "df4 <- train[train$bank == tag & train$accepted == \"YES\", setdiff(colnames(train), c(\"customerNumber\", \"bank\", \"accepted\", \"x3\"))]\n",
    "\n",
    "x2bar <- mean(df4$x2, trim=0, na.rm=TRUE)\n",
    "x2bar\n",
    "df4[is.na(df4$x2), \"x2\"] <- x2bar\n",
    "head(df4)"
   ]
  },
  {
   "cell_type": "code",
   "execution_count": null,
   "metadata": {},
   "outputs": [],
   "source": [
    "## Try a simple neural network - with 11 hidden layers, you can get R^2 to 0.11 - awful.\n",
    "\n",
    "fit0 <- train(interestRate ~ x1 + x10 + x7 + x6,\n",
    "           data = df4,\n",
    "           method  = method,\n",
    "           trControl = fControl, tuneGrid = data.frame(size=c(7)))\n",
    "fit0"
   ]
  },
  {
   "cell_type": "code",
   "execution_count": 14,
   "metadata": {},
   "outputs": [
    {
     "data": {
      "text/html": [
       "<table>\n",
       "<caption>A tibble: 6 × 10</caption>\n",
       "<thead>\n",
       "\t<tr><th scope=col>x1</th><th scope=col>x2</th><th scope=col>x4</th><th scope=col>x5</th><th scope=col>x6</th><th scope=col>x7</th><th scope=col>x8</th><th scope=col>x9</th><th scope=col>x10</th><th scope=col>interestRate</th></tr>\n",
       "\t<tr><th scope=col>&lt;dbl&gt;</th><th scope=col>&lt;dbl&gt;</th><th scope=col>&lt;dbl&gt;</th><th scope=col>&lt;dbl&gt;</th><th scope=col>&lt;fct&gt;</th><th scope=col>&lt;fct&gt;</th><th scope=col>&lt;dbl&gt;</th><th scope=col>&lt;dbl&gt;</th><th scope=col>&lt;dbl&gt;</th><th scope=col>&lt;dbl&gt;</th></tr>\n",
       "</thead>\n",
       "<tbody>\n",
       "\t<tr><td>6.2399036</td><td> 3.992330</td><td> 3.601843</td><td>-0.6324472</td><td>FBW</td><td>O07XX</td><td> 3.277241</td><td>0.1890368</td><td>0.3876183</td><td>12.215344</td></tr>\n",
       "\t<tr><td>2.8531209</td><td> 7.655432</td><td> 4.341369</td><td> 4.7253100</td><td>FBW</td><td>QUTOJ</td><td> 9.052280</td><td>0.2389058</td><td>0.4001331</td><td> 3.348640</td></tr>\n",
       "\t<tr><td>0.7511392</td><td> 7.655432</td><td> 5.903780</td><td> 7.7164806</td><td>ACS</td><td>49CT6</td><td>13.824743</td><td>0.3056381</td><td>0.3548651</td><td> 2.666739</td></tr>\n",
       "\t<tr><td>2.7489449</td><td> 4.250198</td><td> 3.325267</td><td> 1.9186531</td><td>FBW</td><td>GPX9G</td><td> 5.926024</td><td>0.8271125</td><td>0.5347677</td><td> 3.336138</td></tr>\n",
       "\t<tr><td>6.9003717</td><td> 4.110479</td><td>-5.173110</td><td> 0.8183836</td><td>FBW</td><td>WXATN</td><td>-4.403885</td><td>0.3888524</td><td>0.4672193</td><td>14.509473</td></tr>\n",
       "\t<tr><td>0.4255057</td><td>14.477147</td><td> 1.607090</td><td>-3.3508678</td><td>ACS</td><td>4AME2</td><td>-1.415343</td><td>0.5023046</td><td>0.3325895</td><td> 2.348572</td></tr>\n",
       "</tbody>\n",
       "</table>\n"
      ],
      "text/latex": [
       "A tibble: 6 × 10\n",
       "\\begin{tabular}{llllllllll}\n",
       " x1 & x2 & x4 & x5 & x6 & x7 & x8 & x9 & x10 & interestRate\\\\\n",
       " <dbl> & <dbl> & <dbl> & <dbl> & <fct> & <fct> & <dbl> & <dbl> & <dbl> & <dbl>\\\\\n",
       "\\hline\n",
       "\t 6.2399036 &  3.992330 &  3.601843 & -0.6324472 & FBW & O07XX &  3.277241 & 0.1890368 & 0.3876183 & 12.215344\\\\\n",
       "\t 2.8531209 &  7.655432 &  4.341369 &  4.7253100 & FBW & QUTOJ &  9.052280 & 0.2389058 & 0.4001331 &  3.348640\\\\\n",
       "\t 0.7511392 &  7.655432 &  5.903780 &  7.7164806 & ACS & 49CT6 & 13.824743 & 0.3056381 & 0.3548651 &  2.666739\\\\\n",
       "\t 2.7489449 &  4.250198 &  3.325267 &  1.9186531 & FBW & GPX9G &  5.926024 & 0.8271125 & 0.5347677 &  3.336138\\\\\n",
       "\t 6.9003717 &  4.110479 & -5.173110 &  0.8183836 & FBW & WXATN & -4.403885 & 0.3888524 & 0.4672193 & 14.509473\\\\\n",
       "\t 0.4255057 & 14.477147 &  1.607090 & -3.3508678 & ACS & 4AME2 & -1.415343 & 0.5023046 & 0.3325895 &  2.348572\\\\\n",
       "\\end{tabular}\n"
      ],
      "text/markdown": [
       "\n",
       "A tibble: 6 × 10\n",
       "\n",
       "| x1 &lt;dbl&gt; | x2 &lt;dbl&gt; | x4 &lt;dbl&gt; | x5 &lt;dbl&gt; | x6 &lt;fct&gt; | x7 &lt;fct&gt; | x8 &lt;dbl&gt; | x9 &lt;dbl&gt; | x10 &lt;dbl&gt; | interestRate &lt;dbl&gt; |\n",
       "|---|---|---|---|---|---|---|---|---|---|\n",
       "| 6.2399036 |  3.992330 |  3.601843 | -0.6324472 | FBW | O07XX |  3.277241 | 0.1890368 | 0.3876183 | 12.215344 |\n",
       "| 2.8531209 |  7.655432 |  4.341369 |  4.7253100 | FBW | QUTOJ |  9.052280 | 0.2389058 | 0.4001331 |  3.348640 |\n",
       "| 0.7511392 |  7.655432 |  5.903780 |  7.7164806 | ACS | 49CT6 | 13.824743 | 0.3056381 | 0.3548651 |  2.666739 |\n",
       "| 2.7489449 |  4.250198 |  3.325267 |  1.9186531 | FBW | GPX9G |  5.926024 | 0.8271125 | 0.5347677 |  3.336138 |\n",
       "| 6.9003717 |  4.110479 | -5.173110 |  0.8183836 | FBW | WXATN | -4.403885 | 0.3888524 | 0.4672193 | 14.509473 |\n",
       "| 0.4255057 | 14.477147 |  1.607090 | -3.3508678 | ACS | 4AME2 | -1.415343 | 0.5023046 | 0.3325895 |  2.348572 |\n",
       "\n"
      ],
      "text/plain": [
       "  x1        x2        x4        x5         x6  x7    x8        x9       \n",
       "1 6.2399036  3.992330  3.601843 -0.6324472 FBW O07XX  3.277241 0.1890368\n",
       "2 2.8531209  7.655432  4.341369  4.7253100 FBW QUTOJ  9.052280 0.2389058\n",
       "3 0.7511392  7.655432  5.903780  7.7164806 ACS 49CT6 13.824743 0.3056381\n",
       "4 2.7489449  4.250198  3.325267  1.9186531 FBW GPX9G  5.926024 0.8271125\n",
       "5 6.9003717  4.110479 -5.173110  0.8183836 FBW WXATN -4.403885 0.3888524\n",
       "6 0.4255057 14.477147  1.607090 -3.3508678 ACS 4AME2 -1.415343 0.5023046\n",
       "  x10       interestRate\n",
       "1 0.3876183 12.215344   \n",
       "2 0.4001331  3.348640   \n",
       "3 0.3548651  2.666739   \n",
       "4 0.5347677  3.336138   \n",
       "5 0.4672193 14.509473   \n",
       "6 0.3325895  2.348572   "
      ]
     },
     "metadata": {},
     "output_type": "display_data"
    }
   ],
   "source": [
    "head(df4)"
   ]
  },
  {
   "cell_type": "markdown",
   "metadata": {},
   "source": [
    "## Try an SVM regression model\n",
    "\n",
    "This is developed in smava03.ipynb.\n",
    "\n",
    "The final configuration is 60% accurate, by bank using svmRadial"
   ]
  },
  {
   "cell_type": "code",
   "execution_count": null,
   "metadata": {},
   "outputs": [],
   "source": [
    "# just use train1 no preProcess, just these features.\n",
    "\n",
    "fit0 <- train(interestRate ~ x1 + x10 + x4,\n",
    "           data = train1,\n",
    "           method = 'svmRadial',\n",
    "              preProcess = c(\"zv\"),\n",
    "#           tuneGrid = fGrid, \n",
    "           trControl = fControl)\n",
    "fit0"
   ]
  },
  {
   "cell_type": "markdown",
   "metadata": {},
   "source": [
    "## Note\n",
    "\n",
    "There's a lot of variation at the bank for the interest rate. It may be that one of the factor fields is a product.\n",
    "The codes in x6 and x7 might be multi-modal with respective to the x6 (or x7).\n",
    "\n",
    "So I should check the pair-plot with interestRate."
   ]
  },
  {
   "cell_type": "code",
   "execution_count": null,
   "metadata": {},
   "outputs": [],
   "source": [
    "## check x6 and x7 - chi-sq by eye\n",
    "## No clear classification on interestRate\n",
    "\n",
    "## Note\n",
    "## One day, I'll learn dylpr\n",
    "tag <- \"x6\"\n",
    "tag1 <- \"ACS\"\n",
    "\n",
    "tag <- \"x7\"\n",
    "tags <- unique(train[[tag]])\n",
    "length(tags)\n",
    "tag1<- tags[2]\n",
    "\n",
    "cols <- c(\"x10\", \"bank\", \"x5\", tag, \"interestRate\")\n",
    "df3 <- train[!is.na(train$interestRate), cols]\n",
    "df3 <- df3[ order(df3$bank, df3[[tag]]), cols]\n",
    "# lapply(df3[ df3$bank == \"B1\",], summary)\n",
    "\n",
    "lapply(df3[ df3[[tag]] == tag1 & df3$bank == \"B1\",], summary)\n",
    "lapply(df3[ df3[[tag]] != tag1 & df3$bank == \"B1\",], summary)"
   ]
  },
  {
   "cell_type": "markdown",
   "metadata": {},
   "source": [
    "## x7 product codes\n",
    "\n",
    "Is the x7 a product field that is common to all banks?\n",
    "\n",
    "It looks like bank B9 has never offered a particular x7"
   ]
  },
  {
   "cell_type": "code",
   "execution_count": null,
   "metadata": {},
   "outputs": [],
   "source": [
    "x7s <- c(\"69TO8\", \"157H7\")\n",
    "x7s0 <- unique(train[[\"x7\"]])\n",
    "length(x7s0)\n",
    "df0 <- data.frame(with(train, table(x7, x6)))\n",
    "df0[order(-df0$Freq),]\n",
    "df0 <- data.frame(with(train, table(x7, bank)))\n",
    "df0[order(-df0$Freq),]"
   ]
  },
  {
   "cell_type": "code",
   "execution_count": null,
   "metadata": {},
   "outputs": [],
   "source": [
    "summary(train$x6)\n",
    "summary(train$x7)\n",
    "with(train, table(x6, x7))"
   ]
  },
  {
   "cell_type": "code",
   "execution_count": null,
   "metadata": {},
   "outputs": [],
   "source": [
    "## No obvious splits?\n",
    "cp0 <- 0.005\n",
    "method0 <- \"class\" # anova\n",
    "method0 <- \"anova\" # anova\n",
    "x7s\n",
    "tag <- \"WXATN\"\n",
    "tag <- x7s[1]\n",
    "df0 <- train[train$x7 == tag, ]\n",
    "tag\n",
    "tree <- rpart(interestRate ~ bank + x7 + x6, data=df0, cp=cp0, method = method0)\n",
    "                         # cp=.02 because want small tree for demo\n",
    "\n",
    "rpart.plot(tree)\n",
    "\n",
    "## x6 FBW and ACS"
   ]
  },
  {
   "cell_type": "code",
   "execution_count": null,
   "metadata": {},
   "outputs": [],
   "source": [
    "with(warpbreaks, table(wool, tension))"
   ]
  },
  {
   "cell_type": "code",
   "execution_count": null,
   "metadata": {},
   "outputs": [],
   "source": [
    "with(train, table(bank, x7))"
   ]
  },
  {
   "cell_type": "code",
   "execution_count": null,
   "metadata": {},
   "outputs": [],
   "source": [
    "## Interesting products\n",
    "## Trying to see if any relationship between x7 and interestRate. Very sparse data, two codes have more than 20 per bank.\n",
    "## Possibly a standard product?\n",
    "x7s <- c(\"69TO8\", \"157H7\")"
   ]
  },
  {
   "cell_type": "code",
   "execution_count": null,
   "metadata": {},
   "outputs": [],
   "source": [
    "df0 <- train[!is.na(train$interestRate) & train$x7 %in% x7s, c(\"bank\", \"interestRate\", \"x7\")]\n",
    "\n",
    "f <- function(x) list(summary(x))\n",
    "\n",
    "by_cyl <- df0 %>% group_by(bank) %>%  summarise(\n",
    "  disp = f(interestRate),\n",
    ")\n",
    "by_cyl\n",
    "\n",
    "by_cyl <- df0 %>% group_by(x7) %>%  summarise(\n",
    "  disp = f(interestRate),\n",
    ")\n",
    "by_cyl\n"
   ]
  },
  {
   "cell_type": "code",
   "execution_count": null,
   "metadata": {},
   "outputs": [],
   "source": [
    "summary(1:10)"
   ]
  },
  {
   "cell_type": "code",
   "execution_count": null,
   "metadata": {},
   "outputs": [],
   "source": []
  }
 ],
 "metadata": {
  "kernelspec": {
   "display_name": "R",
   "language": "R",
   "name": "ir"
  },
  "language_info": {
   "codemirror_mode": "r",
   "file_extension": ".r",
   "mimetype": "text/x-r-source",
   "name": "R",
   "pygments_lexer": "r",
   "version": "3.5.2"
  }
 },
 "nbformat": 4,
 "nbformat_minor": 4
}
