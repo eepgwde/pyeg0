{
 "cells": [
  {
   "cell_type": "markdown",
   "metadata": {},
   "source": [
    "## SMAVA\n",
    "\n",
    "Test exercise - Question 2\n",
    "\n",
    "Try a logistic regressor on just a subset."
   ]
  },
  {
   "cell_type": "code",
   "execution_count": 1,
   "metadata": {},
   "outputs": [
    {
     "data": {
      "text/html": [
       "'/misc/build/0/pyeg0/caret/classr1'"
      ],
      "text/latex": [
       "'/misc/build/0/pyeg0/caret/classr1'"
      ],
      "text/markdown": [
       "'/misc/build/0/pyeg0/caret/classr1'"
      ],
      "text/plain": [
       "[1] \"/misc/build/0/pyeg0/caret/classr1\""
      ]
     },
     "metadata": {},
     "output_type": "display_data"
    },
    {
     "name": "stderr",
     "output_type": "stream",
     "text": [
      "Loading required package: lattice\n",
      "\n",
      "Loading required package: ggplot2\n",
      "\n",
      "-- \u001b[1mAttaching packages\u001b[22m --------------------------------------- tidyverse 1.3.0 --\n",
      "\n",
      "\u001b[32mv\u001b[39m \u001b[34mtibble \u001b[39m 2.1.3     \u001b[32mv\u001b[39m \u001b[34mdplyr  \u001b[39m 0.8.5\n",
      "\u001b[32mv\u001b[39m \u001b[34mtidyr  \u001b[39m 1.0.2     \u001b[32mv\u001b[39m \u001b[34mstringr\u001b[39m 1.4.0\n",
      "\u001b[32mv\u001b[39m \u001b[34mreadr  \u001b[39m 1.3.1     \u001b[32mv\u001b[39m \u001b[34mforcats\u001b[39m 0.5.0\n",
      "\u001b[32mv\u001b[39m \u001b[34mpurrr  \u001b[39m 0.3.3     \n",
      "\n",
      "-- \u001b[1mConflicts\u001b[22m ------------------------------------------ tidyverse_conflicts() --\n",
      "\u001b[31mx\u001b[39m \u001b[34mdplyr\u001b[39m::\u001b[32mfilter()\u001b[39m masks \u001b[34mstats\u001b[39m::filter()\n",
      "\u001b[31mx\u001b[39m \u001b[34mdplyr\u001b[39m::\u001b[32mlag()\u001b[39m    masks \u001b[34mstats\u001b[39m::lag()\n",
      "\u001b[31mx\u001b[39m \u001b[34mpurrr\u001b[39m::\u001b[32mlift()\u001b[39m   masks \u001b[34mcaret\u001b[39m::lift()\n",
      "\n",
      "\n",
      "Attaching package: 'MASS'\n",
      "\n",
      "\n",
      "The following object is masked from 'package:dplyr':\n",
      "\n",
      "    select\n",
      "\n",
      "\n",
      "Type 'citation(\"pROC\")' for a citation.\n",
      "\n",
      "\n",
      "Attaching package: 'pROC'\n",
      "\n",
      "\n",
      "The following objects are masked from 'package:stats':\n",
      "\n",
      "    cov, smooth, var\n",
      "\n",
      "\n",
      "Loaded gbm 2.1.5\n",
      "\n",
      "Loading required package: foreach\n",
      "\n",
      "\n",
      "Attaching package: 'foreach'\n",
      "\n",
      "\n",
      "The following objects are masked from 'package:purrr':\n",
      "\n",
      "    accumulate, when\n",
      "\n",
      "\n",
      "Loading required package: iterators\n",
      "\n",
      "Loading required package: parallel\n",
      "\n"
     ]
    }
   ],
   "source": [
    "## weaves\n",
    "## smava\n",
    "\n",
    "getwd()\n",
    "\n",
    "## load in packages\n",
    "library(caret)\n",
    "library(ranger)\n",
    "library(tidyverse)\n",
    "library(e1071)\n",
    "library(MASS)\n",
    "library(rpart)\n",
    "library(rpart.plot)\n",
    "library(ipred)\n",
    "library(mlbench)\n",
    "library(pROC)\n",
    "library(gbm)\n",
    "library(dplyr)\n",
    "\n",
    "library(doMC)\n",
    "\n",
    "registerDoMC(cores = 4)\n",
    "\n",
    "options(useFancyQuotes = TRUE)"
   ]
  },
  {
   "cell_type": "code",
   "execution_count": 2,
   "metadata": {},
   "outputs": [],
   "source": [
    "load(\"bak/in/train.rdata\")\n",
    "load(\"bak/in/test.rdata\")\n",
    "\n",
    "train0 <- data.frame(train) # a local copy."
   ]
  },
  {
   "cell_type": "code",
   "execution_count": 3,
   "metadata": {},
   "outputs": [],
   "source": [
    "fit1 <- train(\n",
    "  form = accepted ~ x1 + x10 + x4 + bank,\n",
    "  data = train,\n",
    "  trControl = trainControl(method = \"cv\", number = 5),\n",
    "  method = \"glm\",\n",
    "  family = \"binomial\"\n",
    ")"
   ]
  },
  {
   "cell_type": "code",
   "execution_count": 4,
   "metadata": {},
   "outputs": [
    {
     "data": {
      "text/plain": [
       "Generalized Linear Model \n",
       "\n",
       "134969 samples\n",
       "     4 predictor\n",
       "     2 classes: 'NO', 'YES' \n",
       "\n",
       "No pre-processing\n",
       "Resampling: Cross-Validated (5 fold) \n",
       "Summary of sample sizes: 107975, 107975, 107975, 107975, 107976 \n",
       "Resampling results:\n",
       "\n",
       "  Accuracy   Kappa    \n",
       "  0.5995451  0.1977802\n"
      ]
     },
     "metadata": {},
     "output_type": "display_data"
    }
   ],
   "source": [
    "fit1"
   ]
  },
  {
   "cell_type": "code",
   "execution_count": 6,
   "metadata": {},
   "outputs": [
    {
     "data": {
      "text/html": [
       "<style>\n",
       ".list-inline {list-style: none; margin:0; padding: 0}\n",
       ".list-inline>li {display: inline-block}\n",
       ".list-inline>li:not(:last-child)::after {content: \"\\00b7\"; padding: 0 .5ex}\n",
       "</style>\n",
       "<ol class=list-inline><li>B14</li><li>B4</li><li>B25</li><li>B3</li><li>B1</li><li>B8</li><li>B18</li><li>B21</li><li>B6</li><li>B15</li><li>B16</li><li>B2</li><li>B12</li><li>B27</li><li>B7</li><li>B30</li><li>B9</li><li>B22</li><li>B28</li><li>B17</li><li>B26</li><li>B23</li><li>B11</li><li>B20</li><li>B19</li><li>B13</li><li>B29</li><li>B24</li><li>B5</li><li>B10</li></ol>\n",
       "\n",
       "<details>\n",
       "\t<summary style=display:list-item;cursor:pointer>\n",
       "\t\t<strong>Levels</strong>:\n",
       "\t</summary>\n",
       "\t<style>\n",
       "\t.list-inline {list-style: none; margin:0; padding: 0}\n",
       "\t.list-inline>li {display: inline-block}\n",
       "\t.list-inline>li:not(:last-child)::after {content: \"\\00b7\"; padding: 0 .5ex}\n",
       "\t</style>\n",
       "\t<ol class=list-inline><li>'B1'</li><li>'B10'</li><li>'B11'</li><li>'B12'</li><li>'B13'</li><li>'B14'</li><li>'B15'</li><li>'B16'</li><li>'B17'</li><li>'B18'</li><li>'B19'</li><li>'B2'</li><li>'B20'</li><li>'B21'</li><li>'B22'</li><li>'B23'</li><li>'B24'</li><li>'B25'</li><li>'B26'</li><li>'B27'</li><li>'B28'</li><li>'B29'</li><li>'B3'</li><li>'B30'</li><li>'B4'</li><li>'B5'</li><li>'B6'</li><li>'B7'</li><li>'B8'</li><li>'B9'</li></ol>\n",
       "</details>"
      ],
      "text/latex": [
       "\\begin{enumerate*}\n",
       "\\item B14\n",
       "\\item B4\n",
       "\\item B25\n",
       "\\item B3\n",
       "\\item B1\n",
       "\\item B8\n",
       "\\item B18\n",
       "\\item B21\n",
       "\\item B6\n",
       "\\item B15\n",
       "\\item B16\n",
       "\\item B2\n",
       "\\item B12\n",
       "\\item B27\n",
       "\\item B7\n",
       "\\item B30\n",
       "\\item B9\n",
       "\\item B22\n",
       "\\item B28\n",
       "\\item B17\n",
       "\\item B26\n",
       "\\item B23\n",
       "\\item B11\n",
       "\\item B20\n",
       "\\item B19\n",
       "\\item B13\n",
       "\\item B29\n",
       "\\item B24\n",
       "\\item B5\n",
       "\\item B10\n",
       "\\end{enumerate*}\n",
       "\n",
       "\\emph{Levels}: \\begin{enumerate*}\n",
       "\\item 'B1'\n",
       "\\item 'B10'\n",
       "\\item 'B11'\n",
       "\\item 'B12'\n",
       "\\item 'B13'\n",
       "\\item 'B14'\n",
       "\\item 'B15'\n",
       "\\item 'B16'\n",
       "\\item 'B17'\n",
       "\\item 'B18'\n",
       "\\item 'B19'\n",
       "\\item 'B2'\n",
       "\\item 'B20'\n",
       "\\item 'B21'\n",
       "\\item 'B22'\n",
       "\\item 'B23'\n",
       "\\item 'B24'\n",
       "\\item 'B25'\n",
       "\\item 'B26'\n",
       "\\item 'B27'\n",
       "\\item 'B28'\n",
       "\\item 'B29'\n",
       "\\item 'B3'\n",
       "\\item 'B30'\n",
       "\\item 'B4'\n",
       "\\item 'B5'\n",
       "\\item 'B6'\n",
       "\\item 'B7'\n",
       "\\item 'B8'\n",
       "\\item 'B9'\n",
       "\\end{enumerate*}\n"
      ],
      "text/markdown": [
       "1. B14\n",
       "2. B4\n",
       "3. B25\n",
       "4. B3\n",
       "5. B1\n",
       "6. B8\n",
       "7. B18\n",
       "8. B21\n",
       "9. B6\n",
       "10. B15\n",
       "11. B16\n",
       "12. B2\n",
       "13. B12\n",
       "14. B27\n",
       "15. B7\n",
       "16. B30\n",
       "17. B9\n",
       "18. B22\n",
       "19. B28\n",
       "20. B17\n",
       "21. B26\n",
       "22. B23\n",
       "23. B11\n",
       "24. B20\n",
       "25. B19\n",
       "26. B13\n",
       "27. B29\n",
       "28. B24\n",
       "29. B5\n",
       "30. B10\n",
       "\n",
       "\n",
       "\n",
       "**Levels**: 1. 'B1'\n",
       "2. 'B10'\n",
       "3. 'B11'\n",
       "4. 'B12'\n",
       "5. 'B13'\n",
       "6. 'B14'\n",
       "7. 'B15'\n",
       "8. 'B16'\n",
       "9. 'B17'\n",
       "10. 'B18'\n",
       "11. 'B19'\n",
       "12. 'B2'\n",
       "13. 'B20'\n",
       "14. 'B21'\n",
       "15. 'B22'\n",
       "16. 'B23'\n",
       "17. 'B24'\n",
       "18. 'B25'\n",
       "19. 'B26'\n",
       "20. 'B27'\n",
       "21. 'B28'\n",
       "22. 'B29'\n",
       "23. 'B3'\n",
       "24. 'B30'\n",
       "25. 'B4'\n",
       "26. 'B5'\n",
       "27. 'B6'\n",
       "28. 'B7'\n",
       "29. 'B8'\n",
       "30. 'B9'\n",
       "\n",
       "\n"
      ],
      "text/plain": [
       " [1] B14 B4  B25 B3  B1  B8  B18 B21 B6  B15 B16 B2  B12 B27 B7  B30 B9  B22 B28\n",
       "[20] B17 B26 B23 B11 B20 B19 B13 B29 B24 B5  B10\n",
       "30 Levels: B1 B10 B11 B12 B13 B14 B15 B16 B17 B18 B19 B2 B20 B21 B22 ... B9"
      ]
     },
     "metadata": {},
     "output_type": "display_data"
    }
   ],
   "source": [
    "## Not very good. Let's try by bank.\n",
    "smava1 <- list()\n",
    "smava1$banks <- unique(train[[\"bank\"]])\n",
    "smava1$banks"
   ]
  },
  {
   "cell_type": "code",
   "execution_count": 8,
   "metadata": {},
   "outputs": [
    {
     "data": {
      "text/html": [
       "B14\n",
       "<details>\n",
       "\t<summary style=display:list-item;cursor:pointer>\n",
       "\t\t<strong>Levels</strong>:\n",
       "\t</summary>\n",
       "\t<style>\n",
       "\t.list-inline {list-style: none; margin:0; padding: 0}\n",
       "\t.list-inline>li {display: inline-block}\n",
       "\t.list-inline>li:not(:last-child)::after {content: \"\\00b7\"; padding: 0 .5ex}\n",
       "\t</style>\n",
       "\t<ol class=list-inline><li>'B1'</li><li>'B10'</li><li>'B11'</li><li>'B12'</li><li>'B13'</li><li>'B14'</li><li>'B15'</li><li>'B16'</li><li>'B17'</li><li>'B18'</li><li>'B19'</li><li>'B2'</li><li>'B20'</li><li>'B21'</li><li>'B22'</li><li>'B23'</li><li>'B24'</li><li>'B25'</li><li>'B26'</li><li>'B27'</li><li>'B28'</li><li>'B29'</li><li>'B3'</li><li>'B30'</li><li>'B4'</li><li>'B5'</li><li>'B6'</li><li>'B7'</li><li>'B8'</li><li>'B9'</li></ol>\n",
       "</details>"
      ],
      "text/latex": [
       "B14\n",
       "\\emph{Levels}: \\begin{enumerate*}\n",
       "\\item 'B1'\n",
       "\\item 'B10'\n",
       "\\item 'B11'\n",
       "\\item 'B12'\n",
       "\\item 'B13'\n",
       "\\item 'B14'\n",
       "\\item 'B15'\n",
       "\\item 'B16'\n",
       "\\item 'B17'\n",
       "\\item 'B18'\n",
       "\\item 'B19'\n",
       "\\item 'B2'\n",
       "\\item 'B20'\n",
       "\\item 'B21'\n",
       "\\item 'B22'\n",
       "\\item 'B23'\n",
       "\\item 'B24'\n",
       "\\item 'B25'\n",
       "\\item 'B26'\n",
       "\\item 'B27'\n",
       "\\item 'B28'\n",
       "\\item 'B29'\n",
       "\\item 'B3'\n",
       "\\item 'B30'\n",
       "\\item 'B4'\n",
       "\\item 'B5'\n",
       "\\item 'B6'\n",
       "\\item 'B7'\n",
       "\\item 'B8'\n",
       "\\item 'B9'\n",
       "\\end{enumerate*}\n"
      ],
      "text/markdown": [
       "B14\n",
       "**Levels**: 1. 'B1'\n",
       "2. 'B10'\n",
       "3. 'B11'\n",
       "4. 'B12'\n",
       "5. 'B13'\n",
       "6. 'B14'\n",
       "7. 'B15'\n",
       "8. 'B16'\n",
       "9. 'B17'\n",
       "10. 'B18'\n",
       "11. 'B19'\n",
       "12. 'B2'\n",
       "13. 'B20'\n",
       "14. 'B21'\n",
       "15. 'B22'\n",
       "16. 'B23'\n",
       "17. 'B24'\n",
       "18. 'B25'\n",
       "19. 'B26'\n",
       "20. 'B27'\n",
       "21. 'B28'\n",
       "22. 'B29'\n",
       "23. 'B3'\n",
       "24. 'B30'\n",
       "25. 'B4'\n",
       "26. 'B5'\n",
       "27. 'B6'\n",
       "28. 'B7'\n",
       "29. 'B8'\n",
       "30. 'B9'\n",
       "\n",
       "\n"
      ],
      "text/plain": [
       "[1] B14\n",
       "30 Levels: B1 B10 B11 B12 B13 B14 B15 B16 B17 B18 B19 B2 B20 B21 B22 ... B9"
      ]
     },
     "metadata": {},
     "output_type": "display_data"
    },
    {
     "data": {
      "text/html": [
       "<style>\n",
       ".list-inline {list-style: none; margin:0; padding: 0}\n",
       ".list-inline>li {display: inline-block}\n",
       ".list-inline>li:not(:last-child)::after {content: \"\\00b7\"; padding: 0 .5ex}\n",
       "</style>\n",
       "<ol class=list-inline><li>'customerNumber'</li><li>'bank'</li><li>'x1'</li><li>'x2'</li><li>'x3'</li><li>'x4'</li><li>'x5'</li><li>'x6'</li><li>'x7'</li><li>'x8'</li><li>'x9'</li><li>'x10'</li><li>'accepted'</li><li>'interestRate'</li></ol>\n"
      ],
      "text/latex": [
       "\\begin{enumerate*}\n",
       "\\item 'customerNumber'\n",
       "\\item 'bank'\n",
       "\\item 'x1'\n",
       "\\item 'x2'\n",
       "\\item 'x3'\n",
       "\\item 'x4'\n",
       "\\item 'x5'\n",
       "\\item 'x6'\n",
       "\\item 'x7'\n",
       "\\item 'x8'\n",
       "\\item 'x9'\n",
       "\\item 'x10'\n",
       "\\item 'accepted'\n",
       "\\item 'interestRate'\n",
       "\\end{enumerate*}\n"
      ],
      "text/markdown": [
       "1. 'customerNumber'\n",
       "2. 'bank'\n",
       "3. 'x1'\n",
       "4. 'x2'\n",
       "5. 'x3'\n",
       "6. 'x4'\n",
       "7. 'x5'\n",
       "8. 'x6'\n",
       "9. 'x7'\n",
       "10. 'x8'\n",
       "11. 'x9'\n",
       "12. 'x10'\n",
       "13. 'accepted'\n",
       "14. 'interestRate'\n",
       "\n",
       "\n"
      ],
      "text/plain": [
       " [1] \"customerNumber\" \"bank\"           \"x1\"             \"x2\"            \n",
       " [5] \"x3\"             \"x4\"             \"x5\"             \"x6\"            \n",
       " [9] \"x7\"             \"x8\"             \"x9\"             \"x10\"           \n",
       "[13] \"accepted\"       \"interestRate\"  "
      ]
     },
     "metadata": {},
     "output_type": "display_data"
    }
   ],
   "source": [
    "tag <- smava1$banks[1]\n",
    "tag\n",
    "colnames(train)"
   ]
  },
  {
   "cell_type": "code",
   "execution_count": 9,
   "metadata": {},
   "outputs": [
    {
     "data": {
      "text/html": [
       "<style>\n",
       ".list-inline {list-style: none; margin:0; padding: 0}\n",
       ".list-inline>li {display: inline-block}\n",
       ".list-inline>li:not(:last-child)::after {content: \"\\00b7\"; padding: 0 .5ex}\n",
       "</style>\n",
       "<ol class=list-inline><li>'x1'</li><li>'x2'</li><li>'x4'</li><li>'x5'</li><li>'x6'</li><li>'x7'</li><li>'x8'</li><li>'x9'</li><li>'x10'</li><li>'accepted'</li></ol>\n"
      ],
      "text/latex": [
       "\\begin{enumerate*}\n",
       "\\item 'x1'\n",
       "\\item 'x2'\n",
       "\\item 'x4'\n",
       "\\item 'x5'\n",
       "\\item 'x6'\n",
       "\\item 'x7'\n",
       "\\item 'x8'\n",
       "\\item 'x9'\n",
       "\\item 'x10'\n",
       "\\item 'accepted'\n",
       "\\end{enumerate*}\n"
      ],
      "text/markdown": [
       "1. 'x1'\n",
       "2. 'x2'\n",
       "3. 'x4'\n",
       "4. 'x5'\n",
       "5. 'x6'\n",
       "6. 'x7'\n",
       "7. 'x8'\n",
       "8. 'x9'\n",
       "9. 'x10'\n",
       "10. 'accepted'\n",
       "\n",
       "\n"
      ],
      "text/plain": [
       " [1] \"x1\"       \"x2\"       \"x4\"       \"x5\"       \"x6\"       \"x7\"      \n",
       " [7] \"x8\"       \"x9\"       \"x10\"      \"accepted\""
      ]
     },
     "metadata": {},
     "output_type": "display_data"
    }
   ],
   "source": [
    "cols <- colnames(train)\n",
    "cols <- cols[grep('^x', cols)]\n",
    "cols <- setdiff(cols, \"x3\")\n",
    "cols <- c(cols, \"accepted\")\n",
    "cols"
   ]
  },
  {
   "cell_type": "code",
   "execution_count": 10,
   "metadata": {},
   "outputs": [
    {
     "data": {
      "text/html": [
       "<table>\n",
       "<caption>A tibble: 6 × 11</caption>\n",
       "<thead>\n",
       "\t<tr><th scope=col>x1</th><th scope=col>x2</th><th scope=col>x4</th><th scope=col>x5</th><th scope=col>x6</th><th scope=col>x7</th><th scope=col>x8</th><th scope=col>x9</th><th scope=col>x10</th><th scope=col>accepted</th><th scope=col>x2na</th></tr>\n",
       "\t<tr><th scope=col>&lt;dbl&gt;</th><th scope=col>&lt;dbl&gt;</th><th scope=col>&lt;dbl&gt;</th><th scope=col>&lt;dbl&gt;</th><th scope=col>&lt;fct&gt;</th><th scope=col>&lt;fct&gt;</th><th scope=col>&lt;dbl&gt;</th><th scope=col>&lt;dbl&gt;</th><th scope=col>&lt;dbl&gt;</th><th scope=col>&lt;fct&gt;</th><th scope=col>&lt;dbl&gt;</th></tr>\n",
       "</thead>\n",
       "<tbody>\n",
       "\t<tr><td>2.6820549</td><td>11.1005105</td><td> 4.026472</td><td>-1.487079</td><td>FBW</td><td>M98CB</td><td> 2.419460</td><td>0.4615068</td><td>0.2702748</td><td>NO </td><td>0</td></tr>\n",
       "\t<tr><td>0.9196841</td><td> 1.0918998</td><td> 9.150705</td><td>-1.307155</td><td>ACS</td><td>IQ4NP</td><td> 7.853798</td><td>0.9472202</td><td>0.6733410</td><td>NO </td><td>0</td></tr>\n",
       "\t<tr><td>0.1525603</td><td> 0.8607999</td><td>-5.818878</td><td> 4.331156</td><td>ACS</td><td>GPX9G</td><td>-1.783852</td><td>0.3560776</td><td>0.4760840</td><td>YES</td><td>0</td></tr>\n",
       "\t<tr><td>4.9194948</td><td> 8.2227958</td><td> 0.668966</td><td> 5.256914</td><td>FBW</td><td>IQ4NP</td><td> 4.854271</td><td>0.1086605</td><td>0.4035353</td><td>NO </td><td>1</td></tr>\n",
       "\t<tr><td>0.3707626</td><td> 0.1313585</td><td> 3.866158</td><td>-1.419184</td><td>ACS</td><td>IQ4NP</td><td> 3.200393</td><td>0.5127080</td><td>0.4306942</td><td>YES</td><td>0</td></tr>\n",
       "\t<tr><td>0.2420967</td><td> 1.3637400</td><td> 1.624817</td><td> 4.140840</td><td>ACS</td><td>PKA0F</td><td> 6.125612</td><td>0.2527484</td><td>0.5465620</td><td>YES</td><td>0</td></tr>\n",
       "</tbody>\n",
       "</table>\n"
      ],
      "text/latex": [
       "A tibble: 6 × 11\n",
       "\\begin{tabular}{lllllllllll}\n",
       " x1 & x2 & x4 & x5 & x6 & x7 & x8 & x9 & x10 & accepted & x2na\\\\\n",
       " <dbl> & <dbl> & <dbl> & <dbl> & <fct> & <fct> & <dbl> & <dbl> & <dbl> & <fct> & <dbl>\\\\\n",
       "\\hline\n",
       "\t 2.6820549 & 11.1005105 &  4.026472 & -1.487079 & FBW & M98CB &  2.419460 & 0.4615068 & 0.2702748 & NO  & 0\\\\\n",
       "\t 0.9196841 &  1.0918998 &  9.150705 & -1.307155 & ACS & IQ4NP &  7.853798 & 0.9472202 & 0.6733410 & NO  & 0\\\\\n",
       "\t 0.1525603 &  0.8607999 & -5.818878 &  4.331156 & ACS & GPX9G & -1.783852 & 0.3560776 & 0.4760840 & YES & 0\\\\\n",
       "\t 4.9194948 &  8.2227958 &  0.668966 &  5.256914 & FBW & IQ4NP &  4.854271 & 0.1086605 & 0.4035353 & NO  & 1\\\\\n",
       "\t 0.3707626 &  0.1313585 &  3.866158 & -1.419184 & ACS & IQ4NP &  3.200393 & 0.5127080 & 0.4306942 & YES & 0\\\\\n",
       "\t 0.2420967 &  1.3637400 &  1.624817 &  4.140840 & ACS & PKA0F &  6.125612 & 0.2527484 & 0.5465620 & YES & 0\\\\\n",
       "\\end{tabular}\n"
      ],
      "text/markdown": [
       "\n",
       "A tibble: 6 × 11\n",
       "\n",
       "| x1 &lt;dbl&gt; | x2 &lt;dbl&gt; | x4 &lt;dbl&gt; | x5 &lt;dbl&gt; | x6 &lt;fct&gt; | x7 &lt;fct&gt; | x8 &lt;dbl&gt; | x9 &lt;dbl&gt; | x10 &lt;dbl&gt; | accepted &lt;fct&gt; | x2na &lt;dbl&gt; |\n",
       "|---|---|---|---|---|---|---|---|---|---|---|\n",
       "| 2.6820549 | 11.1005105 |  4.026472 | -1.487079 | FBW | M98CB |  2.419460 | 0.4615068 | 0.2702748 | NO  | 0 |\n",
       "| 0.9196841 |  1.0918998 |  9.150705 | -1.307155 | ACS | IQ4NP |  7.853798 | 0.9472202 | 0.6733410 | NO  | 0 |\n",
       "| 0.1525603 |  0.8607999 | -5.818878 |  4.331156 | ACS | GPX9G | -1.783852 | 0.3560776 | 0.4760840 | YES | 0 |\n",
       "| 4.9194948 |  8.2227958 |  0.668966 |  5.256914 | FBW | IQ4NP |  4.854271 | 0.1086605 | 0.4035353 | NO  | 1 |\n",
       "| 0.3707626 |  0.1313585 |  3.866158 | -1.419184 | ACS | IQ4NP |  3.200393 | 0.5127080 | 0.4306942 | YES | 0 |\n",
       "| 0.2420967 |  1.3637400 |  1.624817 |  4.140840 | ACS | PKA0F |  6.125612 | 0.2527484 | 0.5465620 | YES | 0 |\n",
       "\n"
      ],
      "text/plain": [
       "  x1        x2         x4        x5        x6  x7    x8        x9       \n",
       "1 2.6820549 11.1005105  4.026472 -1.487079 FBW M98CB  2.419460 0.4615068\n",
       "2 0.9196841  1.0918998  9.150705 -1.307155 ACS IQ4NP  7.853798 0.9472202\n",
       "3 0.1525603  0.8607999 -5.818878  4.331156 ACS GPX9G -1.783852 0.3560776\n",
       "4 4.9194948  8.2227958  0.668966  5.256914 FBW IQ4NP  4.854271 0.1086605\n",
       "5 0.3707626  0.1313585  3.866158 -1.419184 ACS IQ4NP  3.200393 0.5127080\n",
       "6 0.2420967  1.3637400  1.624817  4.140840 ACS PKA0F  6.125612 0.2527484\n",
       "  x10       accepted x2na\n",
       "1 0.2702748 NO       0   \n",
       "2 0.6733410 NO       0   \n",
       "3 0.4760840 YES      0   \n",
       "4 0.4035353 NO       1   \n",
       "5 0.4306942 YES      0   \n",
       "6 0.5465620 YES      0   "
      ]
     },
     "metadata": {},
     "output_type": "display_data"
    }
   ],
   "source": [
    "train1 <- train[ train$bank == tag, cols]\n",
    "\n",
    "train1$x2na <- 0\n",
    "train1[is.na(train1$x2), \"x2na\"] <- 1\n",
    "\n",
    "v0 <- train1[train1$x2 & train1$x2na == 0, \"x2\"]\n",
    "v0 <- mean(v0[[\"x2\"]])\n",
    "\n",
    "train1[is.na(train1$x2), \"x2\"] <- v0\n",
    "\n",
    "head(train1)\n",
    "\n",
    "# test1[ is.na(test1$x2), \"x2\" ] <- smava0$x2impute"
   ]
  },
  {
   "cell_type": "code",
   "execution_count": null,
   "metadata": {},
   "outputs": [],
   "source": [
    "fit1x <- train(\n",
    "  form = accepted ~ .,\n",
    "  data = train1,\n",
    "  trControl = trainControl(method = \"cv\", number = 3),\n",
    "  method = \"glm\",\n",
    "  family = \"binomial\"\n",
    ")\n",
    "fit1x"
   ]
  },
  {
   "cell_type": "code",
   "execution_count": null,
   "metadata": {},
   "outputs": [],
   "source": []
  }
 ],
 "metadata": {
  "kernelspec": {
   "display_name": "R",
   "language": "R",
   "name": "ir"
  },
  "language_info": {
   "codemirror_mode": "r",
   "file_extension": ".r",
   "mimetype": "text/x-r-source",
   "name": "R",
   "pygments_lexer": "r",
   "version": "3.6.1"
  }
 },
 "nbformat": 4,
 "nbformat_minor": 4
}
