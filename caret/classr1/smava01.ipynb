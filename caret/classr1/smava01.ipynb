{
 "cells": [
  {
   "cell_type": "markdown",
   "metadata": {},
   "source": [
    "## SMAVA\n",
    "\n",
    "Test exercise - Question 1"
   ]
  },
  {
   "cell_type": "code",
   "execution_count": 1,
   "metadata": {},
   "outputs": [
    {
     "data": {
      "text/html": [
       "'/misc/build/0/pyeg0/caret/classr1'"
      ],
      "text/latex": [
       "'/misc/build/0/pyeg0/caret/classr1'"
      ],
      "text/markdown": [
       "'/misc/build/0/pyeg0/caret/classr1'"
      ],
      "text/plain": [
       "[1] \"/misc/build/0/pyeg0/caret/classr1\""
      ]
     },
     "metadata": {},
     "output_type": "display_data"
    },
    {
     "name": "stderr",
     "output_type": "stream",
     "text": [
      "Loading required package: lattice\n",
      "\n",
      "Loading required package: survival\n",
      "\n",
      "Loading required package: Formula\n",
      "\n",
      "Loading required package: ggplot2\n",
      "\n",
      "\n",
      "Attaching package: 'Hmisc'\n",
      "\n",
      "\n",
      "The following objects are masked from 'package:base':\n",
      "\n",
      "    format.pval, units\n",
      "\n",
      "\n",
      "-- \u001b[1mAttaching packages\u001b[22m --------------------------------------- tidyverse 1.3.0 --\n",
      "\n",
      "\u001b[32mv\u001b[39m \u001b[34mtibble \u001b[39m 2.1.3     \u001b[32mv\u001b[39m \u001b[34mdplyr  \u001b[39m 0.8.3\n",
      "\u001b[32mv\u001b[39m \u001b[34mtidyr  \u001b[39m 1.0.2     \u001b[32mv\u001b[39m \u001b[34mstringr\u001b[39m 1.4.0\n",
      "\u001b[32mv\u001b[39m \u001b[34mreadr  \u001b[39m 1.3.1     \u001b[32mv\u001b[39m \u001b[34mforcats\u001b[39m 0.5.0\n",
      "\u001b[32mv\u001b[39m \u001b[34mpurrr  \u001b[39m 0.3.3     \n",
      "\n",
      "-- \u001b[1mConflicts\u001b[22m ------------------------------------------ tidyverse_conflicts() --\n",
      "\u001b[31mx\u001b[39m \u001b[34mdplyr\u001b[39m::\u001b[32mfilter()\u001b[39m    masks \u001b[34mstats\u001b[39m::filter()\n",
      "\u001b[31mx\u001b[39m \u001b[34mdplyr\u001b[39m::\u001b[32mlag()\u001b[39m       masks \u001b[34mstats\u001b[39m::lag()\n",
      "\u001b[31mx\u001b[39m \u001b[34mdplyr\u001b[39m::\u001b[32mselect()\u001b[39m    masks \u001b[34mMASS\u001b[39m::select()\n",
      "\u001b[31mx\u001b[39m \u001b[34mdplyr\u001b[39m::\u001b[32msrc()\u001b[39m       masks \u001b[34mHmisc\u001b[39m::src()\n",
      "\u001b[31mx\u001b[39m \u001b[34mdplyr\u001b[39m::\u001b[32msummarize()\u001b[39m masks \u001b[34mHmisc\u001b[39m::summarize()\n",
      "\n",
      "\n",
      "Attaching package: 'e1071'\n",
      "\n",
      "\n",
      "The following object is masked from 'package:Hmisc':\n",
      "\n",
      "    impute\n",
      "\n",
      "\n",
      "\n",
      "Attaching package: 'rpart'\n",
      "\n",
      "\n",
      "The following object is masked from 'package:survival':\n",
      "\n",
      "    solder\n",
      "\n",
      "\n",
      "Type 'citation(\"pROC\")' for a citation.\n",
      "\n",
      "\n",
      "Attaching package: 'pROC'\n",
      "\n",
      "\n",
      "The following objects are masked from 'package:stats':\n",
      "\n",
      "    cov, smooth, var\n",
      "\n",
      "\n",
      "Loaded gbm 2.1.5\n",
      "\n",
      "\n",
      "Attaching package: 'caret'\n",
      "\n",
      "\n",
      "The following object is masked from 'package:purrr':\n",
      "\n",
      "    lift\n",
      "\n",
      "\n",
      "The following object is masked from 'package:survival':\n",
      "\n",
      "    cluster\n",
      "\n",
      "\n",
      "Loading required package: foreach\n",
      "\n",
      "\n",
      "Attaching package: 'foreach'\n",
      "\n",
      "\n",
      "The following objects are masked from 'package:purrr':\n",
      "\n",
      "    accumulate, when\n",
      "\n",
      "\n",
      "Loading required package: iterators\n",
      "\n",
      "Loading required package: parallel\n",
      "\n"
     ]
    }
   ],
   "source": [
    "## weaves\n",
    "## smava\n",
    "\n",
    "rm(list=ls())\n",
    "\n",
    "getwd()\n",
    "\n",
    "## load in packages\n",
    "library(Hmisc)\n",
    "\n",
    "library(ranger)\n",
    "library(MASS)\n",
    "library(tidyverse)\n",
    "library(e1071)\n",
    "\n",
    "library(rpart)\n",
    "library(rpart.plot)\n",
    "library(ipred)\n",
    "library(mlbench)\n",
    "library(pROC)\n",
    "library(gbm)\n",
    "library(dplyr)\n",
    "library(caret)\n",
    "\n",
    "library(doMC)\n",
    "\n",
    "registerDoMC(cores = detectCores(all.tests = FALSE, logical = TRUE))\n",
    "\n",
    "options(useFancyQuotes = TRUE)"
   ]
  },
  {
   "cell_type": "code",
   "execution_count": 2,
   "metadata": {},
   "outputs": [
    {
     "data": {
      "text/html": [
       "<style>\n",
       ".list-inline {list-style: none; margin:0; padding: 0}\n",
       ".list-inline>li {display: inline-block}\n",
       ".list-inline>li:not(:last-child)::after {content: \"\\00b7\"; padding: 0 .5ex}\n",
       "</style>\n",
       "<ol class=list-inline><li>'outcomes'</li><li>'smava0'</li><li>'test'</li><li>'train1'</li></ol>\n"
      ],
      "text/latex": [
       "\\begin{enumerate*}\n",
       "\\item 'outcomes'\n",
       "\\item 'smava0'\n",
       "\\item 'test'\n",
       "\\item 'train1'\n",
       "\\end{enumerate*}\n"
      ],
      "text/markdown": [
       "1. 'outcomes'\n",
       "2. 'smava0'\n",
       "3. 'test'\n",
       "4. 'train1'\n",
       "\n",
       "\n"
      ],
      "text/plain": [
       "[1] \"outcomes\" \"smava0\"   \"test\"     \"train1\"  "
      ]
     },
     "metadata": {},
     "output_type": "display_data"
    }
   ],
   "source": [
    "## Data sets\n",
    "load(\"smava00.dat\")\n",
    "load(\"bak/in/test.rdata\")\n",
    "ls()"
   ]
  },
  {
   "cell_type": "code",
   "execution_count": 3,
   "metadata": {},
   "outputs": [
    {
     "data": {
      "text/html": [
       "<style>\n",
       ".list-inline {list-style: none; margin:0; padding: 0}\n",
       ".list-inline>li {display: inline-block}\n",
       ".list-inline>li:not(:last-child)::after {content: \"\\00b7\"; padding: 0 .5ex}\n",
       "</style>\n",
       "<ol class=list-inline><li>'x1'</li><li>'x2'</li><li>'x4'</li><li>'x5'</li><li>'x6'</li><li>'x7'</li><li>'x8'</li><li>'x9'</li><li>'x10'</li><li>'x2na'</li><li>'accepted'</li><li>'bank'</li></ol>\n"
      ],
      "text/latex": [
       "\\begin{enumerate*}\n",
       "\\item 'x1'\n",
       "\\item 'x2'\n",
       "\\item 'x4'\n",
       "\\item 'x5'\n",
       "\\item 'x6'\n",
       "\\item 'x7'\n",
       "\\item 'x8'\n",
       "\\item 'x9'\n",
       "\\item 'x10'\n",
       "\\item 'x2na'\n",
       "\\item 'accepted'\n",
       "\\item 'bank'\n",
       "\\end{enumerate*}\n"
      ],
      "text/markdown": [
       "1. 'x1'\n",
       "2. 'x2'\n",
       "3. 'x4'\n",
       "4. 'x5'\n",
       "5. 'x6'\n",
       "6. 'x7'\n",
       "7. 'x8'\n",
       "8. 'x9'\n",
       "9. 'x10'\n",
       "10. 'x2na'\n",
       "11. 'accepted'\n",
       "12. 'bank'\n",
       "\n",
       "\n"
      ],
      "text/plain": [
       " [1] \"x1\"       \"x2\"       \"x4\"       \"x5\"       \"x6\"       \"x7\"      \n",
       " [7] \"x8\"       \"x9\"       \"x10\"      \"x2na\"     \"accepted\" \"bank\"    "
      ]
     },
     "metadata": {},
     "output_type": "display_data"
    }
   ],
   "source": [
    "xcols <- setdiff(smava0$ft0, c(smava0$hcor, \"outcomes\"))\n",
    "xcols"
   ]
  },
  {
   "cell_type": "code",
   "execution_count": 16,
   "metadata": {},
   "outputs": [
    {
     "data": {
      "text/html": [
       "<table>\n",
       "<caption>A tibble: 6 × 12</caption>\n",
       "<thead>\n",
       "\t<tr><th scope=col>x1</th><th scope=col>x2</th><th scope=col>x4</th><th scope=col>x5</th><th scope=col>x6</th><th scope=col>x7</th><th scope=col>x8</th><th scope=col>x9</th><th scope=col>x10</th><th scope=col>x2na</th><th scope=col>accepted</th><th scope=col>bank</th></tr>\n",
       "\t<tr><th scope=col>&lt;dbl&gt;</th><th scope=col>&lt;dbl&gt;</th><th scope=col>&lt;dbl&gt;</th><th scope=col>&lt;dbl&gt;</th><th scope=col>&lt;dbl&gt;</th><th scope=col>&lt;dbl&gt;</th><th scope=col>&lt;dbl&gt;</th><th scope=col>&lt;dbl&gt;</th><th scope=col>&lt;dbl&gt;</th><th scope=col>&lt;dbl&gt;</th><th scope=col>&lt;fct&gt;</th><th scope=col>&lt;dbl&gt;</th></tr>\n",
       "</thead>\n",
       "<tbody>\n",
       "\t<tr><td>0.9954692</td><td>3.688772</td><td>2.332774</td><td>3.033258</td><td>1</td><td>803</td><td>5.516418</td><td>0.5990008</td><td>0.406155</td><td>0</td><td>YES</td><td> 6</td></tr>\n",
       "\t<tr><td>0.9954692</td><td>3.688772</td><td>2.332774</td><td>3.033258</td><td>1</td><td>803</td><td>5.412266</td><td>0.5949548</td><td>0.406155</td><td>0</td><td>YES</td><td> 9</td></tr>\n",
       "\t<tr><td>0.9954692</td><td>3.688772</td><td>2.332774</td><td>3.033258</td><td>1</td><td>803</td><td>5.325315</td><td>0.6043728</td><td>0.406155</td><td>0</td><td>NO </td><td>15</td></tr>\n",
       "\t<tr><td>0.9954692</td><td>3.688772</td><td>2.332774</td><td>3.033258</td><td>1</td><td>803</td><td>5.212415</td><td>0.5872142</td><td>0.406155</td><td>0</td><td>NO </td><td>21</td></tr>\n",
       "\t<tr><td>0.9954692</td><td>3.688772</td><td>2.332774</td><td>3.033258</td><td>1</td><td>803</td><td>5.022601</td><td>0.6331760</td><td>0.406155</td><td>0</td><td>YES</td><td>22</td></tr>\n",
       "\t<tr><td>0.9954692</td><td>3.688772</td><td>2.332774</td><td>3.033258</td><td>1</td><td>803</td><td>5.172827</td><td>0.6448435</td><td>0.406155</td><td>0</td><td>YES</td><td>24</td></tr>\n",
       "</tbody>\n",
       "</table>\n"
      ],
      "text/latex": [
       "A tibble: 6 × 12\n",
       "\\begin{tabular}{llllllllllll}\n",
       " x1 & x2 & x4 & x5 & x6 & x7 & x8 & x9 & x10 & x2na & accepted & bank\\\\\n",
       " <dbl> & <dbl> & <dbl> & <dbl> & <dbl> & <dbl> & <dbl> & <dbl> & <dbl> & <dbl> & <fct> & <dbl>\\\\\n",
       "\\hline\n",
       "\t 0.9954692 & 3.688772 & 2.332774 & 3.033258 & 1 & 803 & 5.516418 & 0.5990008 & 0.406155 & 0 & YES &  6\\\\\n",
       "\t 0.9954692 & 3.688772 & 2.332774 & 3.033258 & 1 & 803 & 5.412266 & 0.5949548 & 0.406155 & 0 & YES &  9\\\\\n",
       "\t 0.9954692 & 3.688772 & 2.332774 & 3.033258 & 1 & 803 & 5.325315 & 0.6043728 & 0.406155 & 0 & NO  & 15\\\\\n",
       "\t 0.9954692 & 3.688772 & 2.332774 & 3.033258 & 1 & 803 & 5.212415 & 0.5872142 & 0.406155 & 0 & NO  & 21\\\\\n",
       "\t 0.9954692 & 3.688772 & 2.332774 & 3.033258 & 1 & 803 & 5.022601 & 0.6331760 & 0.406155 & 0 & YES & 22\\\\\n",
       "\t 0.9954692 & 3.688772 & 2.332774 & 3.033258 & 1 & 803 & 5.172827 & 0.6448435 & 0.406155 & 0 & YES & 24\\\\\n",
       "\\end{tabular}\n"
      ],
      "text/markdown": [
       "\n",
       "A tibble: 6 × 12\n",
       "\n",
       "| x1 &lt;dbl&gt; | x2 &lt;dbl&gt; | x4 &lt;dbl&gt; | x5 &lt;dbl&gt; | x6 &lt;dbl&gt; | x7 &lt;dbl&gt; | x8 &lt;dbl&gt; | x9 &lt;dbl&gt; | x10 &lt;dbl&gt; | x2na &lt;dbl&gt; | accepted &lt;fct&gt; | bank &lt;dbl&gt; |\n",
       "|---|---|---|---|---|---|---|---|---|---|---|---|\n",
       "| 0.9954692 | 3.688772 | 2.332774 | 3.033258 | 1 | 803 | 5.516418 | 0.5990008 | 0.406155 | 0 | YES |  6 |\n",
       "| 0.9954692 | 3.688772 | 2.332774 | 3.033258 | 1 | 803 | 5.412266 | 0.5949548 | 0.406155 | 0 | YES |  9 |\n",
       "| 0.9954692 | 3.688772 | 2.332774 | 3.033258 | 1 | 803 | 5.325315 | 0.6043728 | 0.406155 | 0 | NO  | 15 |\n",
       "| 0.9954692 | 3.688772 | 2.332774 | 3.033258 | 1 | 803 | 5.212415 | 0.5872142 | 0.406155 | 0 | NO  | 21 |\n",
       "| 0.9954692 | 3.688772 | 2.332774 | 3.033258 | 1 | 803 | 5.022601 | 0.6331760 | 0.406155 | 0 | YES | 22 |\n",
       "| 0.9954692 | 3.688772 | 2.332774 | 3.033258 | 1 | 803 | 5.172827 | 0.6448435 | 0.406155 | 0 | YES | 24 |\n",
       "\n"
      ],
      "text/plain": [
       "  x1        x2       x4       x5       x6 x7  x8       x9        x10      x2na\n",
       "1 0.9954692 3.688772 2.332774 3.033258 1  803 5.516418 0.5990008 0.406155 0   \n",
       "2 0.9954692 3.688772 2.332774 3.033258 1  803 5.412266 0.5949548 0.406155 0   \n",
       "3 0.9954692 3.688772 2.332774 3.033258 1  803 5.325315 0.6043728 0.406155 0   \n",
       "4 0.9954692 3.688772 2.332774 3.033258 1  803 5.212415 0.5872142 0.406155 0   \n",
       "5 0.9954692 3.688772 2.332774 3.033258 1  803 5.022601 0.6331760 0.406155 0   \n",
       "6 0.9954692 3.688772 2.332774 3.033258 1  803 5.172827 0.6448435 0.406155 0   \n",
       "  accepted bank\n",
       "1 YES       6  \n",
       "2 YES       9  \n",
       "3 NO       15  \n",
       "4 NO       21  \n",
       "5 YES      22  \n",
       "6 YES      24  "
      ]
     },
     "metadata": {},
     "output_type": "display_data"
    }
   ],
   "source": [
    "## Rename/Preprocess\n",
    "df0 <- train1[, xcols]\n",
    "\n",
    "# Null check.\\\n",
    "# sapply(df0, summary, USE.NAMES=TRUE)\n",
    "\n",
    "head(df0)"
   ]
  },
  {
   "cell_type": "code",
   "execution_count": 31,
   "metadata": {},
   "outputs": [],
   "source": [
    "## simple controls\n",
    "\n",
    "fitControl <- trainControl(\n",
    "    method = \"repeatedcv\",\n",
    "    number = 5, ## repeated a few times\n",
    "    repeats = 3,\n",
    "    summaryFunction = twoClassSummary,\n",
    "  classProbs = TRUE)\n",
    "\n",
    "gbmGrid <- expand.grid(interaction.depth = c(1, 5, 7), # 7 gives a marginal improvement.\n",
    "                       n.trees = (10:20)*10,\n",
    "                       shrinkage = 0.1,\n",
    "                       n.minobsinnode = 20)\n",
    "\n",
    "# methods: parRF and ranger crash\n",
    "method0 <- \"gbm\"; metric0 <- \"ROC\""
   ]
  },
  {
   "cell_type": "code",
   "execution_count": 32,
   "metadata": {},
   "outputs": [
    {
     "data": {
      "text/plain": [
       "Stochastic Gradient Boosting \n",
       "\n",
       "134969 samples\n",
       "    11 predictor\n",
       "     2 classes: 'NO', 'YES' \n",
       "\n",
       "No pre-processing\n",
       "Resampling: Cross-Validated (5 fold, repeated 3 times) \n",
       "Summary of sample sizes: 107975, 107975, 107975, 107976, 107975, 107975, ... \n",
       "Resampling results across tuning parameters:\n",
       "\n",
       "  interaction.depth  n.trees  ROC        Sens       Spec     \n",
       "  1                  100      0.6602236  0.6448472  0.5966069\n",
       "  1                  110      0.6622285  0.6499084  0.5943948\n",
       "  1                  120      0.6635030  0.6520977  0.5943648\n",
       "  1                  130      0.6648415  0.6542479  0.5936591\n",
       "  1                  140      0.6659374  0.6553498  0.5939244\n",
       "  1                  150      0.6670003  0.6546476  0.5962315\n",
       "  1                  160      0.6679539  0.6523658  0.6003753\n",
       "  1                  170      0.6687132  0.6553742  0.5986037\n",
       "  1                  180      0.6695693  0.6559057  0.6004004\n",
       "  1                  190      0.6702690  0.6579096  0.5995896\n",
       "  1                  200      0.6710448  0.6588604  0.6001201\n",
       "  5                  100      0.6988791  0.7124900  0.5905613\n",
       "  5                  110      0.6997794  0.7125826  0.5910968\n",
       "  5                  120      0.7005868  0.7125826  0.5922729\n",
       "  5                  130      0.7012688  0.7126850  0.5929235\n",
       "  5                  140      0.7018207  0.7124851  0.5936041\n",
       "  5                  150      0.7023224  0.7129044  0.5936741\n",
       "  5                  160      0.7027562  0.7128849  0.5941746\n",
       "  5                  170      0.7031691  0.7130702  0.5947401\n",
       "  5                  180      0.7035109  0.7129142  0.5952106\n",
       "  5                  190      0.7037932  0.7130653  0.5957361\n",
       "  5                  200      0.7040730  0.7134018  0.5959112\n",
       "  7                  100      0.7022057  0.7140844  0.5928284\n",
       "  7                  110      0.7030078  0.7140308  0.5938343\n",
       "  7                  120      0.7037637  0.7141771  0.5947551\n",
       "  7                  130      0.7042783  0.7138114  0.5955609\n",
       "  7                  140      0.7047188  0.7139674  0.5963366\n",
       "  7                  150      0.7050334  0.7139918  0.5968671\n",
       "  7                  160      0.7052950  0.7141137  0.5970973\n",
       "  7                  170      0.7055117  0.7143087  0.5973826\n",
       "  7                  180      0.7057390  0.7144111  0.5978680\n",
       "  7                  190      0.7058744  0.7142355  0.5979331\n",
       "  7                  200      0.7059982  0.7140405  0.5984786\n",
       "\n",
       "Tuning parameter 'shrinkage' was held constant at a value of 0.05\n",
       "\n",
       "Tuning parameter 'n.minobsinnode' was held constant at a value of 20\n",
       "ROC was used to select the optimal model using the largest value.\n",
       "The final values used for the model were n.trees = 200, interaction.depth =\n",
       " 7, shrinkage = 0.05 and n.minobsinnode = 20."
      ]
     },
     "metadata": {},
     "output_type": "display_data"
    }
   ],
   "source": [
    "fit0 <- train(accepted ~ ., data = df0, method = method0, \n",
    "              trControl = fitControl,\n",
    "              tuneGrid = gbmGrid,\n",
    "              metric = metric0,\n",
    "              verbose = FALSE)\n",
    "smava0$gbm <- fit0\n",
    "fit0"
   ]
  },
  {
   "cell_type": "code",
   "execution_count": 33,
   "metadata": {},
   "outputs": [
    {
     "data": {
      "text/plain": [
       "Confusion Matrix and Statistics\n",
       "\n",
       "          Reference\n",
       "Prediction    NO   YES\n",
       "       NO  49031 26567\n",
       "       YES 19333 40038\n",
       "                                          \n",
       "               Accuracy : 0.6599          \n",
       "                 95% CI : (0.6574, 0.6624)\n",
       "    No Information Rate : 0.5065          \n",
       "    P-Value [Acc > NIR] : < 2.2e-16       \n",
       "                                          \n",
       "                  Kappa : 0.3188          \n",
       " Mcnemar's Test P-Value : < 2.2e-16       \n",
       "                                          \n",
       "            Sensitivity : 0.6011          \n",
       "            Specificity : 0.7172          \n",
       "         Pos Pred Value : 0.6744          \n",
       "         Neg Pred Value : 0.6486          \n",
       "             Prevalence : 0.4935          \n",
       "         Detection Rate : 0.2966          \n",
       "   Detection Prevalence : 0.4399          \n",
       "      Balanced Accuracy : 0.6592          \n",
       "                                          \n",
       "       'Positive' Class : YES             \n",
       "                                          "
      ]
     },
     "metadata": {},
     "output_type": "display_data"
    },
    {
     "name": "stderr",
     "output_type": "stream",
     "text": [
      "Setting levels: control = 0, case = 1\n",
      "\n",
      "Setting direction: controls < cases\n",
      "\n"
     ]
    },
    {
     "data": {
      "text/html": [
       "<strong>png:</strong> 2"
      ],
      "text/latex": [
       "\\textbf{png:} 2"
      ],
      "text/markdown": [
       "**png:** 2"
      ],
      "text/plain": [
       "png \n",
       "  2 "
      ]
     },
     "metadata": {},
     "output_type": "display_data"
    }
   ],
   "source": [
    "trainPred <- predict(fit0, df0)\n",
    "# postResample(testPred, testClass)\n",
    "\n",
    "conf0 <- confusionMatrix(trainPred, df0$accepted, positive = \"YES\")\n",
    "conf0\n",
    "\n",
    "## Only 65% accurate on the whole set!\n",
    "\n",
    "nvars <- floor(length(colnames(df0)) * 2/3)\n",
    "\n",
    "jpeg(filename=paste(\"smava0\", \"mf\", \"-%03d.jpeg\", sep=\"\"), \n",
    "     width=1024, height=768)\n",
    "\n",
    "modelImp <- varImp(fit0, scale = FALSE)\n",
    "plot(modelImp, top = min(dim(modelImp$importance)[1], nvars) )\n",
    "\n",
    "## Get a density and a ROC\n",
    "## You need twoClassSummary for this\n",
    "\n",
    "x.p <- predict(fit0, df0, type = \"prob\")[2]\n",
    "\n",
    "test.df <- data.frame(true0=x.p[[ \"YES\" ]], Obs=outcomes)\n",
    "test.roc <- roc(Obs ~ true0, test.df)\n",
    "\n",
    "densityplot(~test.df$true0, groups = test.df$Obs, auto.key = TRUE)\n",
    "\n",
    "plot.roc(test.roc)\n",
    "\n",
    "dev.off()"
   ]
  },
  {
   "cell_type": "code",
   "execution_count": 8,
   "metadata": {},
   "outputs": [],
   "source": [
    "## Make a prediction using test.\n",
    "\n",
    "## Apply the same data pre-processing and predict.\n",
    "\n",
    "## Don't do the order.\n",
    "\n",
    "test0 <- data.frame(test) # just an backup to use in the interpreter.\n",
    "test1 <- data.frame(test)\n",
    "\n",
    "for(c in intersect(smava0$cs, colnames(test))) {\n",
    "  test1[[c]] <- as.numeric(test1[[c]])\n",
    "}"
   ]
  },
  {
   "cell_type": "code",
   "execution_count": 9,
   "metadata": {},
   "outputs": [],
   "source": [
    "test1$x2na <- 0\n",
    "test1[ is.na(test1$x2), \"x2na\" ] <- 1\n",
    "test1[ is.na(test1$x2), \"x2\" ] <- smava0$x2impute"
   ]
  },
  {
   "cell_type": "code",
   "execution_count": 10,
   "metadata": {},
   "outputs": [],
   "source": [
    "df0 <- test1[, intersect(cols, colnames(test1))]"
   ]
  },
  {
   "cell_type": "code",
   "execution_count": 11,
   "metadata": {},
   "outputs": [],
   "source": [
    "## pre-process\n",
    "if (!is.null(smava0$pp)) {\n",
    "    df0 <- predict(smava0$pp, df0)\n",
    "}\n",
    "\n",
    "testPred <- predict(smava0$gbm, df0)\n",
    "\n",
    "predictions <- data.frame(test)\n",
    "predictions$predictionAccepted <- testPred\n",
    "\n",
    "save(predictions, file=\"smava01.dat\")"
   ]
  },
  {
   "cell_type": "code",
   "execution_count": 12,
   "metadata": {},
   "outputs": [
    {
     "data": {
      "text/html": [
       "<table>\n",
       "<caption>A data.frame: 6 × 13</caption>\n",
       "<thead>\n",
       "\t<tr><th></th><th scope=col>customerNumber</th><th scope=col>bank</th><th scope=col>x1</th><th scope=col>x2</th><th scope=col>x3</th><th scope=col>x4</th><th scope=col>x5</th><th scope=col>x6</th><th scope=col>x7</th><th scope=col>x8</th><th scope=col>x9</th><th scope=col>x10</th><th scope=col>predictionAccepted</th></tr>\n",
       "\t<tr><th></th><th scope=col>&lt;int&gt;</th><th scope=col>&lt;fct&gt;</th><th scope=col>&lt;dbl&gt;</th><th scope=col>&lt;dbl&gt;</th><th scope=col>&lt;dbl&gt;</th><th scope=col>&lt;dbl&gt;</th><th scope=col>&lt;dbl&gt;</th><th scope=col>&lt;fct&gt;</th><th scope=col>&lt;fct&gt;</th><th scope=col>&lt;dbl&gt;</th><th scope=col>&lt;dbl&gt;</th><th scope=col>&lt;dbl&gt;</th><th scope=col>&lt;fct&gt;</th></tr>\n",
       "</thead>\n",
       "<tbody>\n",
       "\t<tr><th scope=row>1</th><td>17652</td><td>B4 </td><td>2.6999043</td><td>        NA</td><td>289.8060</td><td> 3.5062855</td><td> 3.019291</td><td>ACS</td><td>P0DI0</td><td> 6.132490</td><td>0.2024692</td><td>0.2340533</td><td>NO </td></tr>\n",
       "\t<tr><th scope=row>2</th><td> 5083</td><td>B2 </td><td>1.7768174</td><td>        NA</td><td>149.4808</td><td> 8.6785405</td><td> 1.561671</td><td>ACS</td><td>WXATN</td><td> 9.602027</td><td>0.6035512</td><td>0.4728191</td><td>NO </td></tr>\n",
       "\t<tr><th scope=row>3</th><td>14485</td><td>B27</td><td>9.2014608</td><td>15.2018994</td><td>168.5305</td><td> 0.6861547</td><td>-2.659850</td><td>FBW</td><td>YVNYM</td><td>-1.843895</td><td>0.3604684</td><td>0.4297722</td><td>NO </td></tr>\n",
       "\t<tr><th scope=row>4</th><td>24278</td><td>B12</td><td>0.2425088</td><td> 0.8906478</td><td>144.3519</td><td> 8.9942867</td><td> 3.757424</td><td>ACS</td><td>WXATN</td><td>13.329596</td><td>0.2102926</td><td>0.4851283</td><td>NO </td></tr>\n",
       "\t<tr><th scope=row>5</th><td>18816</td><td>B29</td><td>1.8619350</td><td> 0.9441711</td><td>330.2783</td><td>11.1829245</td><td> 1.795021</td><td>FBW</td><td>KT4RM</td><td>12.944497</td><td>0.1193745</td><td>0.1910898</td><td>YES</td></tr>\n",
       "\t<tr><th scope=row>6</th><td>25518</td><td>B25</td><td>8.9591239</td><td> 9.3258122</td><td>138.9361</td><td> 9.5992959</td><td> 4.778473</td><td>ACS</td><td>LURGJ</td><td>14.795508</td><td>0.9447004</td><td>0.4984742</td><td>YES</td></tr>\n",
       "</tbody>\n",
       "</table>\n"
      ],
      "text/latex": [
       "A data.frame: 6 × 13\n",
       "\\begin{tabular}{r|lllllllllllll}\n",
       "  & customerNumber & bank & x1 & x2 & x3 & x4 & x5 & x6 & x7 & x8 & x9 & x10 & predictionAccepted\\\\\n",
       "  & <int> & <fct> & <dbl> & <dbl> & <dbl> & <dbl> & <dbl> & <fct> & <fct> & <dbl> & <dbl> & <dbl> & <fct>\\\\\n",
       "\\hline\n",
       "\t1 & 17652 & B4  & 2.6999043 &         NA & 289.8060 &  3.5062855 &  3.019291 & ACS & P0DI0 &  6.132490 & 0.2024692 & 0.2340533 & NO \\\\\n",
       "\t2 &  5083 & B2  & 1.7768174 &         NA & 149.4808 &  8.6785405 &  1.561671 & ACS & WXATN &  9.602027 & 0.6035512 & 0.4728191 & NO \\\\\n",
       "\t3 & 14485 & B27 & 9.2014608 & 15.2018994 & 168.5305 &  0.6861547 & -2.659850 & FBW & YVNYM & -1.843895 & 0.3604684 & 0.4297722 & NO \\\\\n",
       "\t4 & 24278 & B12 & 0.2425088 &  0.8906478 & 144.3519 &  8.9942867 &  3.757424 & ACS & WXATN & 13.329596 & 0.2102926 & 0.4851283 & NO \\\\\n",
       "\t5 & 18816 & B29 & 1.8619350 &  0.9441711 & 330.2783 & 11.1829245 &  1.795021 & FBW & KT4RM & 12.944497 & 0.1193745 & 0.1910898 & YES\\\\\n",
       "\t6 & 25518 & B25 & 8.9591239 &  9.3258122 & 138.9361 &  9.5992959 &  4.778473 & ACS & LURGJ & 14.795508 & 0.9447004 & 0.4984742 & YES\\\\\n",
       "\\end{tabular}\n"
      ],
      "text/markdown": [
       "\n",
       "A data.frame: 6 × 13\n",
       "\n",
       "| <!--/--> | customerNumber &lt;int&gt; | bank &lt;fct&gt; | x1 &lt;dbl&gt; | x2 &lt;dbl&gt; | x3 &lt;dbl&gt; | x4 &lt;dbl&gt; | x5 &lt;dbl&gt; | x6 &lt;fct&gt; | x7 &lt;fct&gt; | x8 &lt;dbl&gt; | x9 &lt;dbl&gt; | x10 &lt;dbl&gt; | predictionAccepted &lt;fct&gt; |\n",
       "|---|---|---|---|---|---|---|---|---|---|---|---|---|---|\n",
       "| 1 | 17652 | B4  | 2.6999043 |         NA | 289.8060 |  3.5062855 |  3.019291 | ACS | P0DI0 |  6.132490 | 0.2024692 | 0.2340533 | NO  |\n",
       "| 2 |  5083 | B2  | 1.7768174 |         NA | 149.4808 |  8.6785405 |  1.561671 | ACS | WXATN |  9.602027 | 0.6035512 | 0.4728191 | NO  |\n",
       "| 3 | 14485 | B27 | 9.2014608 | 15.2018994 | 168.5305 |  0.6861547 | -2.659850 | FBW | YVNYM | -1.843895 | 0.3604684 | 0.4297722 | NO  |\n",
       "| 4 | 24278 | B12 | 0.2425088 |  0.8906478 | 144.3519 |  8.9942867 |  3.757424 | ACS | WXATN | 13.329596 | 0.2102926 | 0.4851283 | NO  |\n",
       "| 5 | 18816 | B29 | 1.8619350 |  0.9441711 | 330.2783 | 11.1829245 |  1.795021 | FBW | KT4RM | 12.944497 | 0.1193745 | 0.1910898 | YES |\n",
       "| 6 | 25518 | B25 | 8.9591239 |  9.3258122 | 138.9361 |  9.5992959 |  4.778473 | ACS | LURGJ | 14.795508 | 0.9447004 | 0.4984742 | YES |\n",
       "\n"
      ],
      "text/plain": [
       "  customerNumber bank x1        x2         x3       x4         x5        x6 \n",
       "1 17652          B4   2.6999043         NA 289.8060  3.5062855  3.019291 ACS\n",
       "2  5083          B2   1.7768174         NA 149.4808  8.6785405  1.561671 ACS\n",
       "3 14485          B27  9.2014608 15.2018994 168.5305  0.6861547 -2.659850 FBW\n",
       "4 24278          B12  0.2425088  0.8906478 144.3519  8.9942867  3.757424 ACS\n",
       "5 18816          B29  1.8619350  0.9441711 330.2783 11.1829245  1.795021 FBW\n",
       "6 25518          B25  8.9591239  9.3258122 138.9361  9.5992959  4.778473 ACS\n",
       "  x7    x8        x9        x10       predictionAccepted\n",
       "1 P0DI0  6.132490 0.2024692 0.2340533 NO                \n",
       "2 WXATN  9.602027 0.6035512 0.4728191 NO                \n",
       "3 YVNYM -1.843895 0.3604684 0.4297722 NO                \n",
       "4 WXATN 13.329596 0.2102926 0.4851283 NO                \n",
       "5 KT4RM 12.944497 0.1193745 0.1910898 YES               \n",
       "6 LURGJ 14.795508 0.9447004 0.4984742 YES               "
      ]
     },
     "metadata": {},
     "output_type": "display_data"
    }
   ],
   "source": [
    "head(predictions)"
   ]
  },
  {
   "cell_type": "code",
   "execution_count": null,
   "metadata": {},
   "outputs": [],
   "source": []
  }
 ],
 "metadata": {
  "kernelspec": {
   "display_name": "R",
   "language": "R",
   "name": "ir"
  },
  "language_info": {
   "codemirror_mode": "r",
   "file_extension": ".r",
   "mimetype": "text/x-r-source",
   "name": "R",
   "pygments_lexer": "r",
   "version": "3.5.2"
  }
 },
 "nbformat": 4,
 "nbformat_minor": 4
}
