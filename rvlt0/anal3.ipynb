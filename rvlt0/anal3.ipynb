{
 "cells": [
  {
   "cell_type": "markdown",
   "metadata": {},
   "source": [
    "# Revolut - Part II of Challenge - REENGAGEMENT_ACTIVE_FUNDS\n",
    "## weaves\n",
    "\n",
    "This uses the output of anal3.q to apply statistical tests on the effective of the REENGAGEMENT_ACTIVE_FUNDS campaign of notifications."
   ]
  },
  {
   "cell_type": "code",
   "execution_count": 1,
   "metadata": {},
   "outputs": [
    {
     "data": {
      "text/plain": [
       "'0.24.2'"
      ]
     },
     "execution_count": 1,
     "metadata": {},
     "output_type": "execute_result"
    }
   ],
   "source": [
    "import pandas as pd\n",
    "\n",
    "%load_ext autoreload\n",
    "%autoreload 2\n",
    "\n",
    "# If you turn this feature on, you can display each \n",
    "from IPython.core.interactiveshell import InteractiveShell\n",
    "InteractiveShell.ast_node_interactivity = \"all\"\n",
    "\n",
    "pd.__version__"
   ]
  },
  {
   "cell_type": "markdown",
   "metadata": {},
   "source": [
    "## Method\n",
    "\n",
    "anal3.q created a rolling average of days between those days where at least one transaction took place - a transaction day.\n",
    "\n",
    "An as-of join between the reengagement notification and the transaction was carried out. The number of transaction-days following the notification should increase; the average number of days between transaction-days should decrease. That is, of course, if the notification has re-engaged the user."
   ]
  },
  {
   "cell_type": "markdown",
   "metadata": {},
   "source": [
    "## Tabulated Results\n",
    "\n",
    "The results are given below. The field case0 explains the count n. The rdrate1 column is used to indicate whethe the percentage increase of daily transaction-day average has reduced, stayed the same, or increased - meaning, relatively more transaction-days, no-change, or more.\n",
    "\n",
    "(I've re-used the rdrate1 column for the context counts: rdrate1 is zero for these and the case0 name explains the metric.)\n",
    "\n",
    " - post or pre indicates whether the count is after a notification or before it. The before cases are the control (or expected) group.\n",
    " - all is over all time, near is within a response of .ntfy.near.days days after the notification.\n",
    " - the counts are all of distinct users. Except for post.ntfy which the number of notifications.\n",
    " - there are some summary counts for users: users0 is all the user accounts, and users0.reengaged is for those who did or did not receive a notification."
   ]
  },
  {
   "cell_type": "code",
   "execution_count": 2,
   "metadata": {},
   "outputs": [
    {
     "data": {
      "text/html": [
       "<div>\n",
       "<style scoped>\n",
       "    .dataframe tbody tr th:only-of-type {\n",
       "        vertical-align: middle;\n",
       "    }\n",
       "\n",
       "    .dataframe tbody tr th {\n",
       "        vertical-align: top;\n",
       "    }\n",
       "\n",
       "    .dataframe thead th {\n",
       "        text-align: right;\n",
       "    }\n",
       "</style>\n",
       "<table border=\"1\" class=\"dataframe\">\n",
       "  <thead>\n",
       "    <tr style=\"text-align: right;\">\n",
       "      <th></th>\n",
       "      <th>rdrate1</th>\n",
       "      <th>case0</th>\n",
       "      <th>n</th>\n",
       "    </tr>\n",
       "  </thead>\n",
       "  <tbody>\n",
       "    <tr>\n",
       "      <th>0</th>\n",
       "      <td>-1</td>\n",
       "      <td>post.all</td>\n",
       "      <td>10741</td>\n",
       "    </tr>\n",
       "    <tr>\n",
       "      <th>1</th>\n",
       "      <td>0</td>\n",
       "      <td>post.all</td>\n",
       "      <td>2288</td>\n",
       "    </tr>\n",
       "    <tr>\n",
       "      <th>2</th>\n",
       "      <td>1</td>\n",
       "      <td>post.all</td>\n",
       "      <td>3581</td>\n",
       "    </tr>\n",
       "    <tr>\n",
       "      <th>3</th>\n",
       "      <td>-1</td>\n",
       "      <td>post.near</td>\n",
       "      <td>5800</td>\n",
       "    </tr>\n",
       "    <tr>\n",
       "      <th>4</th>\n",
       "      <td>0</td>\n",
       "      <td>post.near</td>\n",
       "      <td>806</td>\n",
       "    </tr>\n",
       "    <tr>\n",
       "      <th>5</th>\n",
       "      <td>1</td>\n",
       "      <td>post.near</td>\n",
       "      <td>2634</td>\n",
       "    </tr>\n",
       "    <tr>\n",
       "      <th>6</th>\n",
       "      <td>0</td>\n",
       "      <td>post.ntfy.all</td>\n",
       "      <td>28139</td>\n",
       "    </tr>\n",
       "    <tr>\n",
       "      <th>7</th>\n",
       "      <td>0</td>\n",
       "      <td>post.ntfy.noresp.all</td>\n",
       "      <td>11529</td>\n",
       "    </tr>\n",
       "    <tr>\n",
       "      <th>8</th>\n",
       "      <td>0</td>\n",
       "      <td>post.ntfy.noresp.near</td>\n",
       "      <td>18899</td>\n",
       "    </tr>\n",
       "    <tr>\n",
       "      <th>9</th>\n",
       "      <td>-1</td>\n",
       "      <td>pre.all</td>\n",
       "      <td>1285</td>\n",
       "    </tr>\n",
       "    <tr>\n",
       "      <th>10</th>\n",
       "      <td>0</td>\n",
       "      <td>pre.all</td>\n",
       "      <td>681</td>\n",
       "    </tr>\n",
       "    <tr>\n",
       "      <th>11</th>\n",
       "      <td>1</td>\n",
       "      <td>pre.all</td>\n",
       "      <td>859</td>\n",
       "    </tr>\n",
       "    <tr>\n",
       "      <th>12</th>\n",
       "      <td>-1</td>\n",
       "      <td>pre.near</td>\n",
       "      <td>814</td>\n",
       "    </tr>\n",
       "    <tr>\n",
       "      <th>13</th>\n",
       "      <td>0</td>\n",
       "      <td>pre.near</td>\n",
       "      <td>130</td>\n",
       "    </tr>\n",
       "    <tr>\n",
       "      <th>14</th>\n",
       "      <td>1</td>\n",
       "      <td>pre.near</td>\n",
       "      <td>576</td>\n",
       "    </tr>\n",
       "    <tr>\n",
       "      <th>15</th>\n",
       "      <td>-1</td>\n",
       "      <td>pre.all.1</td>\n",
       "      <td>922</td>\n",
       "    </tr>\n",
       "    <tr>\n",
       "      <th>16</th>\n",
       "      <td>0</td>\n",
       "      <td>pre.all.1</td>\n",
       "      <td>578</td>\n",
       "    </tr>\n",
       "    <tr>\n",
       "      <th>17</th>\n",
       "      <td>1</td>\n",
       "      <td>pre.all.1</td>\n",
       "      <td>1758</td>\n",
       "    </tr>\n",
       "    <tr>\n",
       "      <th>18</th>\n",
       "      <td>-1</td>\n",
       "      <td>pre.near.1</td>\n",
       "      <td>418</td>\n",
       "    </tr>\n",
       "    <tr>\n",
       "      <th>19</th>\n",
       "      <td>0</td>\n",
       "      <td>pre.near.1</td>\n",
       "      <td>25</td>\n",
       "    </tr>\n",
       "    <tr>\n",
       "      <th>20</th>\n",
       "      <td>1</td>\n",
       "      <td>pre.near.1</td>\n",
       "      <td>551</td>\n",
       "    </tr>\n",
       "    <tr>\n",
       "      <th>21</th>\n",
       "      <td>0</td>\n",
       "      <td>users0.reengaged.notified</td>\n",
       "      <td>8313</td>\n",
       "    </tr>\n",
       "    <tr>\n",
       "      <th>22</th>\n",
       "      <td>1</td>\n",
       "      <td>users0.reengaged.notified</td>\n",
       "      <td>11117</td>\n",
       "    </tr>\n",
       "    <tr>\n",
       "      <th>23</th>\n",
       "      <td>0</td>\n",
       "      <td>users0</td>\n",
       "      <td>19430</td>\n",
       "    </tr>\n",
       "    <tr>\n",
       "      <th>24</th>\n",
       "      <td>0</td>\n",
       "      <td>.ntfy.near.days</td>\n",
       "      <td>7</td>\n",
       "    </tr>\n",
       "  </tbody>\n",
       "</table>\n",
       "</div>"
      ],
      "text/plain": [
       "    rdrate1                      case0      n\n",
       "0        -1                   post.all  10741\n",
       "1         0                   post.all   2288\n",
       "2         1                   post.all   3581\n",
       "3        -1                  post.near   5800\n",
       "4         0                  post.near    806\n",
       "5         1                  post.near   2634\n",
       "6         0              post.ntfy.all  28139\n",
       "7         0       post.ntfy.noresp.all  11529\n",
       "8         0      post.ntfy.noresp.near  18899\n",
       "9        -1                    pre.all   1285\n",
       "10        0                    pre.all    681\n",
       "11        1                    pre.all    859\n",
       "12       -1                   pre.near    814\n",
       "13        0                   pre.near    130\n",
       "14        1                   pre.near    576\n",
       "15       -1                  pre.all.1    922\n",
       "16        0                  pre.all.1    578\n",
       "17        1                  pre.all.1   1758\n",
       "18       -1                 pre.near.1    418\n",
       "19        0                 pre.near.1     25\n",
       "20        1                 pre.near.1    551\n",
       "21        0  users0.reengaged.notified   8313\n",
       "22        1  users0.reengaged.notified  11117\n",
       "23        0                     users0  19430\n",
       "24        0            .ntfy.near.days      7"
      ]
     },
     "execution_count": 2,
     "metadata": {},
     "output_type": "execute_result"
    }
   ],
   "source": [
    "# The results file is a collation of results.\n",
    "res0 = pd.read_csv(\"cache/out/xres0.csv\")\n",
    "res0"
   ]
  },
  {
   "cell_type": "markdown",
   "metadata": {},
   "source": [
    "### Tabulation explanation\n",
    "\n",
    "A narrative for this is:\n",
    "\n",
    "28139 notifications sent to 11117  users. 18899 notifications were not responded to all in the 7 day window.\n",
    "\n",
    "To compare: the number of users whose transaction-day rate decreased after receiving a notification in the 7 day window was 5800; whereas, of the same users in the period a month before, 814 transacted and reduced their transaction-day average.\n",
    "\n",
    "In the comparison, the post numbers are across all the notifications (a period of over nearly a year), whilst the pre numbers are for the month before up to the date of the first notification, and pre.\\*.1 numbers are for three months before + 10 days up to the first's date.\n",
    "\n",
    "What follows is a quick proportion analysis."
   ]
  },
  {
   "cell_type": "code",
   "execution_count": 3,
   "metadata": {},
   "outputs": [
    {
     "data": {
      "text/plain": [
       "806"
      ]
     },
     "execution_count": 3,
     "metadata": {},
     "output_type": "execute_result"
    },
    {
     "data": {
      "text/plain": [
       "2634"
      ]
     },
     "execution_count": 3,
     "metadata": {},
     "output_type": "execute_result"
    },
    {
     "data": {
      "text/plain": [
       "9240"
      ]
     },
     "execution_count": 3,
     "metadata": {},
     "output_type": "execute_result"
    },
    {
     "data": {
      "text/plain": [
       "0.6277056277056277"
      ]
     },
     "execution_count": 3,
     "metadata": {},
     "output_type": "execute_result"
    },
    {
     "data": {
      "text/plain": [
       "0.3722943722943723"
      ]
     },
     "execution_count": 3,
     "metadata": {},
     "output_type": "execute_result"
    }
   ],
   "source": [
    "res0.iloc[4]['n']\n",
    "res0.iloc[5]['n']\n",
    "nneg0 = _ + __\n",
    "neg0 = res0.iloc[3]['n']\n",
    "total0 = nneg0 + neg0\n",
    "total0\n",
    "neg0 / total0\n",
    "nneg0 / total0"
   ]
  },
  {
   "cell_type": "code",
   "execution_count": 4,
   "metadata": {},
   "outputs": [
    {
     "data": {
      "text/plain": [
       "814"
      ]
     },
     "execution_count": 4,
     "metadata": {},
     "output_type": "execute_result"
    },
    {
     "data": {
      "text/plain": [
       "130"
      ]
     },
     "execution_count": 4,
     "metadata": {},
     "output_type": "execute_result"
    },
    {
     "data": {
      "text/plain": [
       "1520"
      ]
     },
     "execution_count": 4,
     "metadata": {},
     "output_type": "execute_result"
    },
    {
     "data": {
      "text/plain": [
       "0.37894736842105264"
      ]
     },
     "execution_count": 4,
     "metadata": {},
     "output_type": "execute_result"
    },
    {
     "data": {
      "text/plain": [
       "0.6210526315789474"
      ]
     },
     "execution_count": 4,
     "metadata": {},
     "output_type": "execute_result"
    }
   ],
   "source": [
    "res0.iloc[12]['n']\n",
    "res0.iloc[13]['n']\n",
    "nneg0 = _ + __\n",
    "neg0 = res0.iloc[14]['n']\n",
    "total0 = nneg0 + neg0\n",
    "total0\n",
    "neg0 / total0\n",
    "nneg0 / total0"
   ]
  },
  {
   "cell_type": "markdown",
   "metadata": {},
   "source": [
    "# Conclusion\n",
    "\n",
    "So looking at the near window results. After notifications, of 9240 users, 67% responded in such a way that their average days between transactions was reduced; 3 months + 10 days before, 1520 of the 9240 who responded after, only 37% transacted in the 3 month period in such a way that they reduced their transaction-day rate.\n",
    "\n",
    "I think that is so conclusive that there is no need to put it to a statistical test, which would be a Chi-square of log-likelihood on a 3-way contingency table with the pre results as the expected and post as the observed.\n",
    "\n",
    "It does make me question whether the control group has been correctly constructed and I should make sure with another tabulation of the before data in a different way.\n",
    "\n",
    "I shan't be doing that just now."
   ]
  },
  {
   "cell_type": "markdown",
   "metadata": {},
   "source": [
    "# Recommendation\n",
    "\n",
    "From this preliminary investigation, it's clear without a statistical test that the Reengagement notification has had the desired effect: users have logged proportionally more transaction days.\n",
    "\n",
    "There are further investigations that could be conducted. The \"pre\" or before notifications control group (expected counts) could be tabulated differently as noted in the conclusion above.\n",
    "\n",
    "It would also be worthwhile carrying ut the analysis using a different measure from transaction-days. The number of transactions could be used and also the value or volume of transactions could be used.\n",
    "\n",
    "Also this analysis has only used on the counts of the transaction-days rate that have decreased. It could also address the average change in magnitude of the average transaction-days rate - a regression analysis.\n",
    "\n",
    "But this preliminary result should be convincing enough."
   ]
  },
  {
   "cell_type": "code",
   "execution_count": null,
   "metadata": {},
   "outputs": [],
   "source": []
  }
 ],
 "metadata": {
  "kernelspec": {
   "display_name": "Python 3",
   "language": "python",
   "name": "python3"
  },
  "language_info": {
   "codemirror_mode": {
    "name": "ipython",
    "version": 3
   },
   "file_extension": ".py",
   "mimetype": "text/x-python",
   "name": "python",
   "nbconvert_exporter": "python",
   "pygments_lexer": "ipython3",
   "version": "3.7.3"
  }
 },
 "nbformat": 4,
 "nbformat_minor": 4
}
