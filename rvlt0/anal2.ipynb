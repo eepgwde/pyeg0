{
 "cells": [
  {
   "cell_type": "markdown",
   "metadata": {},
   "source": [
    "weaves\n",
    "\n",
    "This is for Revolut. Part II of Challenge\n",
    "\n",
    "This uses the output of anal2.q to predict an unengaged user.\n",
    "Analysis uses a simplified users table."
   ]
  },
  {
   "cell_type": "code",
   "execution_count": 1,
   "metadata": {},
   "outputs": [
    {
     "data": {
      "text/plain": [
       "'0.24.2'"
      ]
     },
     "execution_count": 1,
     "metadata": {},
     "output_type": "execute_result"
    }
   ],
   "source": [
    "import numpy as np\n",
    "import pandas as pd\n",
    "\n",
    "from sklearn.model_selection import KFold\n",
    "from sklearn.neural_network import MLPClassifier\n",
    "from sklearn.linear_model import LogisticRegression\n",
    "\n",
    "from sklearn.model_selection import cross_val_score\n",
    "from sklearn.feature_selection import RFE\n",
    "\n",
    "from sklearn.preprocessing import StandardScaler\n",
    "\n",
    "from sklearn.preprocessing import LabelEncoder\n",
    "from sklearn.preprocessing import LabelBinarizer\n",
    "\n",
    "from sklearn import svm\n",
    "from sklearn import datasets\n",
    "\n",
    "%load_ext autoreload\n",
    "%autoreload 2\n",
    "\n",
    "pd.__version__"
   ]
  },
  {
   "cell_type": "code",
   "execution_count": 2,
   "metadata": {},
   "outputs": [
    {
     "name": "stdout",
     "output_type": "stream",
     "text": [
      "[False  True  True  True]\n",
      "[2 1 1 1]\n"
     ]
    },
    {
     "name": "stderr",
     "output_type": "stream",
     "text": [
      "/misc/share/0/anaconda3/envs/gensim/lib/python3.7/site-packages/sklearn/linear_model/logistic.py:432: FutureWarning: Default solver will be changed to 'lbfgs' in 0.22. Specify a solver to silence this warning.\n",
      "  FutureWarning)\n",
      "/misc/share/0/anaconda3/envs/gensim/lib/python3.7/site-packages/sklearn/linear_model/logistic.py:469: FutureWarning: Default multi_class will be changed to 'auto' in 0.22. Specify the multi_class option to silence this warning.\n",
      "  \"this warning.\", FutureWarning)\n",
      "/misc/share/0/anaconda3/envs/gensim/lib/python3.7/site-packages/sklearn/linear_model/logistic.py:432: FutureWarning: Default solver will be changed to 'lbfgs' in 0.22. Specify a solver to silence this warning.\n",
      "  FutureWarning)\n",
      "/misc/share/0/anaconda3/envs/gensim/lib/python3.7/site-packages/sklearn/linear_model/logistic.py:469: FutureWarning: Default multi_class will be changed to 'auto' in 0.22. Specify the multi_class option to silence this warning.\n",
      "  \"this warning.\", FutureWarning)\n"
     ]
    }
   ],
   "source": [
    "from sklearn import datasets\n",
    "\n",
    "from sklearn.linear_model import LogisticRegression\n",
    "from sklearn.feature_selection import RFE\n",
    "\n",
    "# load the iris datasets\n",
    "dataset = datasets.load_iris()\n",
    "# create a base classifier used to evaluate a subset of attributes\n",
    "model = LogisticRegression()\n",
    "# create the RFE model and select 3 attributes\n",
    "rfe = RFE(model, 3)\n",
    "rfe = rfe.fit(dataset.data, dataset.target)\n",
    "# summarize the selection of the attributes\n",
    "print(rfe.support_)\n",
    "print(rfe.ranking_)"
   ]
  },
  {
   "cell_type": "code",
   "execution_count": 3,
   "metadata": {},
   "outputs": [],
   "source": [
    "# Read the CSV. This has been written out by q/kdb+. Booleans were converted by q/kdb+\n",
    "# The userid is the index.\n",
    "df0 = pd.read_csv('cache/out/xusers1.csv', index_col=0)"
   ]
  },
  {
   "cell_type": "code",
   "execution_count": 4,
   "metadata": {},
   "outputs": [
    {
     "data": {
      "text/html": [
       "<div>\n",
       "<style scoped>\n",
       "    .dataframe tbody tr th:only-of-type {\n",
       "        vertical-align: middle;\n",
       "    }\n",
       "\n",
       "    .dataframe tbody tr th {\n",
       "        vertical-align: top;\n",
       "    }\n",
       "\n",
       "    .dataframe thead th {\n",
       "        text-align: right;\n",
       "    }\n",
       "</style>\n",
       "<table border=\"1\" class=\"dataframe\">\n",
       "  <thead>\n",
       "    <tr style=\"text-align: right;\">\n",
       "      <th></th>\n",
       "      <th>ctry</th>\n",
       "      <th>uscrypt0</th>\n",
       "      <th>plan</th>\n",
       "      <th>push1</th>\n",
       "      <th>email1</th>\n",
       "      <th>ncontacts</th>\n",
       "      <th>age0</th>\n",
       "      <th>lost0</th>\n",
       "      <th>nico0</th>\n",
       "      <th>nicu0</th>\n",
       "      <th>...</th>\n",
       "      <th>tdecl</th>\n",
       "      <th>tfail</th>\n",
       "      <th>tpend</th>\n",
       "      <th>trvrt</th>\n",
       "      <th>inb</th>\n",
       "      <th>brand</th>\n",
       "      <th>v</th>\n",
       "      <th>nactive</th>\n",
       "      <th>inactive</th>\n",
       "      <th>inactive1</th>\n",
       "    </tr>\n",
       "    <tr>\n",
       "      <th>userid</th>\n",
       "      <th></th>\n",
       "      <th></th>\n",
       "      <th></th>\n",
       "      <th></th>\n",
       "      <th></th>\n",
       "      <th></th>\n",
       "      <th></th>\n",
       "      <th></th>\n",
       "      <th></th>\n",
       "      <th></th>\n",
       "      <th></th>\n",
       "      <th></th>\n",
       "      <th></th>\n",
       "      <th></th>\n",
       "      <th></th>\n",
       "      <th></th>\n",
       "      <th></th>\n",
       "      <th></th>\n",
       "      <th></th>\n",
       "      <th></th>\n",
       "      <th></th>\n",
       "    </tr>\n",
       "  </thead>\n",
       "  <tbody>\n",
       "    <tr>\n",
       "      <th>0</th>\n",
       "      <td>PL</td>\n",
       "      <td>True</td>\n",
       "      <td>STANDARD</td>\n",
       "      <td>1</td>\n",
       "      <td>1</td>\n",
       "      <td>3</td>\n",
       "      <td>30</td>\n",
       "      <td>False</td>\n",
       "      <td>False</td>\n",
       "      <td>False</td>\n",
       "      <td>...</td>\n",
       "      <td>True</td>\n",
       "      <td>True</td>\n",
       "      <td>False</td>\n",
       "      <td>True</td>\n",
       "      <td>True</td>\n",
       "      <td>Apple</td>\n",
       "      <td>36.14</td>\n",
       "      <td>False</td>\n",
       "      <td>False</td>\n",
       "      <td>False</td>\n",
       "    </tr>\n",
       "    <tr>\n",
       "      <th>1</th>\n",
       "      <td>GB</td>\n",
       "      <td>False</td>\n",
       "      <td>STANDARD</td>\n",
       "      <td>-1</td>\n",
       "      <td>-1</td>\n",
       "      <td>21</td>\n",
       "      <td>44</td>\n",
       "      <td>False</td>\n",
       "      <td>True</td>\n",
       "      <td>True</td>\n",
       "      <td>...</td>\n",
       "      <td>True</td>\n",
       "      <td>False</td>\n",
       "      <td>False</td>\n",
       "      <td>True</td>\n",
       "      <td>True</td>\n",
       "      <td>Apple</td>\n",
       "      <td>50.05</td>\n",
       "      <td>False</td>\n",
       "      <td>False</td>\n",
       "      <td>False</td>\n",
       "    </tr>\n",
       "    <tr>\n",
       "      <th>2</th>\n",
       "      <td>PL</td>\n",
       "      <td>False</td>\n",
       "      <td>STANDARD</td>\n",
       "      <td>0</td>\n",
       "      <td>0</td>\n",
       "      <td>21</td>\n",
       "      <td>32</td>\n",
       "      <td>False</td>\n",
       "      <td>False</td>\n",
       "      <td>False</td>\n",
       "      <td>...</td>\n",
       "      <td>True</td>\n",
       "      <td>True</td>\n",
       "      <td>False</td>\n",
       "      <td>True</td>\n",
       "      <td>True</td>\n",
       "      <td>Android</td>\n",
       "      <td>12.66</td>\n",
       "      <td>False</td>\n",
       "      <td>False</td>\n",
       "      <td>False</td>\n",
       "    </tr>\n",
       "    <tr>\n",
       "      <th>3</th>\n",
       "      <td>FR</td>\n",
       "      <td>False</td>\n",
       "      <td>STANDARD</td>\n",
       "      <td>1</td>\n",
       "      <td>0</td>\n",
       "      <td>0</td>\n",
       "      <td>25</td>\n",
       "      <td>False</td>\n",
       "      <td>False</td>\n",
       "      <td>False</td>\n",
       "      <td>...</td>\n",
       "      <td>False</td>\n",
       "      <td>False</td>\n",
       "      <td>True</td>\n",
       "      <td>True</td>\n",
       "      <td>True</td>\n",
       "      <td>Apple</td>\n",
       "      <td>64.57</td>\n",
       "      <td>False</td>\n",
       "      <td>False</td>\n",
       "      <td>False</td>\n",
       "    </tr>\n",
       "    <tr>\n",
       "      <th>4</th>\n",
       "      <td>GB</td>\n",
       "      <td>False</td>\n",
       "      <td>STANDARD</td>\n",
       "      <td>-1</td>\n",
       "      <td>-1</td>\n",
       "      <td>2</td>\n",
       "      <td>34</td>\n",
       "      <td>False</td>\n",
       "      <td>False</td>\n",
       "      <td>False</td>\n",
       "      <td>...</td>\n",
       "      <td>False</td>\n",
       "      <td>False</td>\n",
       "      <td>False</td>\n",
       "      <td>True</td>\n",
       "      <td>True</td>\n",
       "      <td>Apple</td>\n",
       "      <td>203.99</td>\n",
       "      <td>False</td>\n",
       "      <td>False</td>\n",
       "      <td>False</td>\n",
       "    </tr>\n",
       "  </tbody>\n",
       "</table>\n",
       "<p>5 rows × 24 columns</p>\n",
       "</div>"
      ],
      "text/plain": [
       "       ctry  uscrypt0      plan  push1  email1  ncontacts  age0  lost0  nico0  \\\n",
       "userid                                                                          \n",
       "0        PL      True  STANDARD      1       1          3    30  False  False   \n",
       "1        GB     False  STANDARD     -1      -1         21    44  False   True   \n",
       "2        PL     False  STANDARD      0       0         21    32  False  False   \n",
       "3        FR     False  STANDARD      1       0          0    25  False  False   \n",
       "4        GB     False  STANDARD     -1      -1          2    34  False  False   \n",
       "\n",
       "        nicu0  ...  tdecl  tfail  tpend  trvrt   inb    brand       v  \\\n",
       "userid         ...                                                      \n",
       "0       False  ...   True   True  False   True  True    Apple   36.14   \n",
       "1        True  ...   True  False  False   True  True    Apple   50.05   \n",
       "2       False  ...   True   True  False   True  True  Android   12.66   \n",
       "3       False  ...  False  False   True   True  True    Apple   64.57   \n",
       "4       False  ...  False  False  False   True  True    Apple  203.99   \n",
       "\n",
       "        nactive  inactive inactive1  \n",
       "userid                               \n",
       "0         False     False     False  \n",
       "1         False     False     False  \n",
       "2         False     False     False  \n",
       "3         False     False     False  \n",
       "4         False     False     False  \n",
       "\n",
       "[5 rows x 24 columns]"
      ]
     },
     "execution_count": 4,
     "metadata": {},
     "output_type": "execute_result"
    }
   ],
   "source": [
    "df0.head()"
   ]
  },
  {
   "cell_type": "code",
   "execution_count": 5,
   "metadata": {},
   "outputs": [
    {
     "data": {
      "text/plain": [
       "{dtype('bool'): Index(['uscrypt0', 'lost0', 'nico0', 'nicu0', 'nifpco0', 'otau0', 'pf0',\n",
       "        'tcncl', 'tdecl', 'tfail', 'tpend', 'trvrt', 'inb', 'nactive',\n",
       "        'inactive', 'inactive1'],\n",
       "       dtype='object'),\n",
       " dtype('int64'): Index(['push1', 'email1', 'ncontacts', 'age0'], dtype='object'),\n",
       " dtype('float64'): Index(['v'], dtype='object'),\n",
       " dtype('O'): Index(['ctry', 'plan', 'brand'], dtype='object')}"
      ]
     },
     "execution_count": 5,
     "metadata": {},
     "output_type": "execute_result"
    }
   ],
   "source": [
    "# Most fields are string\n",
    "df0.columns.to_series().groupby(df0.dtypes).groups"
   ]
  },
  {
   "cell_type": "markdown",
   "metadata": {},
   "source": [
    "## Outcomes: 3 types of unengagedness\n",
    "\n",
    "There are three types of unengaged user, where a user is one that has no activity\n",
    "\n",
    "- at all. Labelled as nactive. No transactions from 2018.01.01. Do not use the average value of transactions as a feature it's always zero.\n",
    "- in the last year. Labelled as inactive. Last activity was over a year ago. The average value is 0 for 60% so not too useful\n",
    "- over a month ago. Labelled as inactive1. Average value is 0 for 30% of this population."
   ]
  },
  {
   "cell_type": "code",
   "execution_count": 6,
   "metadata": {},
   "outputs": [],
   "source": [
    "df0[df0.select_dtypes(['object']).columns] = df0.select_dtypes(['object']).apply(lambda x: x.astype('category'))"
   ]
  },
  {
   "cell_type": "code",
   "execution_count": 7,
   "metadata": {},
   "outputs": [
    {
     "name": "stdout",
     "output_type": "stream",
     "text": [
      "<class 'pandas.core.frame.DataFrame'>\n",
      "Int64Index: 19430 entries, 0 to 19429\n",
      "Data columns (total 24 columns):\n",
      "ctry         19430 non-null category\n",
      "uscrypt0     19430 non-null bool\n",
      "plan         19430 non-null category\n",
      "push1        19430 non-null int64\n",
      "email1       19430 non-null int64\n",
      "ncontacts    19430 non-null int64\n",
      "age0         19430 non-null int64\n",
      "lost0        19430 non-null bool\n",
      "nico0        19430 non-null bool\n",
      "nicu0        19430 non-null bool\n",
      "nifpco0      19430 non-null bool\n",
      "otau0        19430 non-null bool\n",
      "pf0          19430 non-null bool\n",
      "tcncl        19430 non-null bool\n",
      "tdecl        19430 non-null bool\n",
      "tfail        19430 non-null bool\n",
      "tpend        19430 non-null bool\n",
      "trvrt        19430 non-null bool\n",
      "inb          19430 non-null bool\n",
      "brand        19430 non-null category\n",
      "v            19430 non-null float64\n",
      "nactive      19430 non-null bool\n",
      "inactive     19430 non-null bool\n",
      "inactive1    19430 non-null bool\n",
      "dtypes: bool(16), category(3), float64(1), int64(4)\n",
      "memory usage: 1.2 MB\n"
     ]
    }
   ],
   "source": [
    "# The groups phrase doesn't work for category\n",
    "df0.info()"
   ]
  },
  {
   "cell_type": "code",
   "execution_count": 8,
   "metadata": {},
   "outputs": [
    {
     "data": {
      "text/plain": [
       "{'ctry': ('AT',\n",
       "  'AU',\n",
       "  'BE',\n",
       "  'BG',\n",
       "  'CH',\n",
       "  'CY',\n",
       "  'CZ',\n",
       "  'DE',\n",
       "  'DK',\n",
       "  'EE',\n",
       "  'ES',\n",
       "  'FI',\n",
       "  'FR',\n",
       "  'GB',\n",
       "  'GF',\n",
       "  'GG',\n",
       "  'GI',\n",
       "  'GP',\n",
       "  'GR',\n",
       "  'HR',\n",
       "  'HU',\n",
       "  'IE',\n",
       "  'IM',\n",
       "  'IS',\n",
       "  'IT',\n",
       "  'JE',\n",
       "  'LI',\n",
       "  'LT',\n",
       "  'LU',\n",
       "  'LV',\n",
       "  'MQ',\n",
       "  'MT',\n",
       "  'NL',\n",
       "  'NO',\n",
       "  'PL',\n",
       "  'PT',\n",
       "  'RE',\n",
       "  'RO',\n",
       "  'SE',\n",
       "  'SI',\n",
       "  'SK'),\n",
       " 'plan': ('METAL',\n",
       "  'METAL_FREE',\n",
       "  'PREMIUM',\n",
       "  'PREMIUM_FREE',\n",
       "  'PREMIUM_OFFER',\n",
       "  'STANDARD'),\n",
       " 'brand': ('Android', 'Apple', 'Unknown')}"
      ]
     },
     "execution_count": 8,
     "metadata": {},
     "output_type": "execute_result"
    }
   ],
   "source": [
    "# Store the categories\n",
    "cats0 = dict([ (x, tuple(df0[x].cat.categories)) for x in df0.select_dtypes(['category']).columns ])\n",
    "cats0"
   ]
  },
  {
   "cell_type": "markdown",
   "metadata": {},
   "source": [
    "### Reload the dataset for the model\n",
    "\n",
    "You need to run this after you have chosen and evaluated."
   ]
  },
  {
   "cell_type": "code",
   "execution_count": 18,
   "metadata": {},
   "outputs": [],
   "source": [
    "# Make a copy and quantify the categories by using the category codes.\n",
    "df2 = df0.copy(deep=True)\n",
    "df2[df2.select_dtypes(['category']).columns] = df2.select_dtypes(['category']).apply(lambda x: x.cat.codes)\n",
    "if 'y' in globals():\n",
    "    del globals()['y']"
   ]
  },
  {
   "cell_type": "markdown",
   "metadata": {},
   "source": [
    "### Case 1: Never active\n",
    "\n",
    "Evaluate one of these data cases - that is, re-evaluate the cell above and then Case 1 *or* Case 2 *or* Case 3.\n",
    "\n",
    "This case Remove value, and inbound transactions"
   ]
  },
  {
   "cell_type": "code",
   "execution_count": 10,
   "metadata": {},
   "outputs": [],
   "source": [
    "# And obtain the outcome as y. And the features as X, drop columns and rows that would confuse the model.\n",
    "\n",
    "y = df2.nactive\n",
    "df2.drop(columns=['nactive', 'inactive', 'inactive1', 'v', 'inb'], inplace=True)\n",
    "# Note: this uses the values property to get the underlying matrix.\n",
    "X = df2.values"
   ]
  },
  {
   "cell_type": "markdown",
   "metadata": {},
   "source": [
    "### Case 2: Inactive\n",
    "\n",
    "Remove value (for now), but keep inb.\n",
    "Remove nactive samples."
   ]
  },
  {
   "cell_type": "code",
   "execution_count": 11,
   "metadata": {},
   "outputs": [],
   "source": [
    "if not 'y' in globals():\n",
    "    df2 = df2[~df2['nactive']]\n",
    "    y = df2.inactive\n",
    "    df2.drop(columns=['inactive', 'nactive', 'inactive1', 'v'], inplace=True)\n",
    "    X = df2.values"
   ]
  },
  {
   "cell_type": "markdown",
   "metadata": {},
   "source": [
    "### Case 3: Inactive\n",
    "\n",
    "Keep value and inb"
   ]
  },
  {
   "cell_type": "code",
   "execution_count": 19,
   "metadata": {},
   "outputs": [],
   "source": [
    "# And obtain the outcome as y. And the features as X\n",
    "# Note: this uses the values property to get the underlying matrix.\n",
    "if not 'y' in globals():\n",
    "    df2 = df2[~df2['nactive']]\n",
    "    df2 = df2[~df2['inactive']]\n",
    "    y = df2.inactive1\n",
    "    df2.drop(columns=['inactive1', 'nactive', 'inactive1'], inplace=True)\n",
    "    X = df2.values"
   ]
  },
  {
   "cell_type": "markdown",
   "metadata": {},
   "source": [
    "## Model cases\n",
    "\n",
    "Again choose one to apply to the data you've chosen.\n",
    "\n",
    "These are a couple of models to evaluate.\n",
    "\n",
    "The first SVC is not practical for \"big\" data (width and count), but works well for smaller ones.\n",
    "\n",
    "The Multi-Layer Perceptron Classifier is a useful neural network and can get reasonable results quickly - it parallizes well. The hidden_layer_sizes need tuning to get a cross validation score over 0.5.\n",
    "\n",
    "The logistic regression is a very solid performer."
   ]
  },
  {
   "cell_type": "code",
   "execution_count": 13,
   "metadata": {},
   "outputs": [],
   "source": [
    "clf = svm.SVC(kernel='linear', C=1)"
   ]
  },
  {
   "cell_type": "code",
   "execution_count": 14,
   "metadata": {},
   "outputs": [],
   "source": [
    "clf =  MLPClassifier(solver='lbfgs', alpha=1e-5, hidden_layer_sizes=(X.shape[1], X.shape[1], 2), \n",
    "                     random_state=1, warm_start=True)"
   ]
  },
  {
   "cell_type": "code",
   "execution_count": 20,
   "metadata": {},
   "outputs": [],
   "source": [
    "clf = LogisticRegression(C=1e4, solver='lbfgs', multi_class='auto', max_iter=10000) # max_iter is 2 orders up!"
   ]
  },
  {
   "cell_type": "markdown",
   "metadata": {},
   "source": [
    "## From cross-validation results, choose the most accurate model\n",
    "\n",
    "To evaluate the model under a cross-validation scheme, run this cell."
   ]
  },
  {
   "cell_type": "code",
   "execution_count": 21,
   "metadata": {},
   "outputs": [
    {
     "data": {
      "text/plain": [
       "array([0.79788419, 0.79003063, 0.79866332, 0.81592871, 0.79359331])"
      ]
     },
     "execution_count": 21,
     "metadata": {},
     "output_type": "execute_result"
    }
   ],
   "source": [
    "scores = cross_val_score(clf, X, y, cv=5)\n",
    "scores"
   ]
  },
  {
   "cell_type": "markdown",
   "metadata": {},
   "source": [
    "## Feature selection\n",
    "\n",
    "Try to determine best features"
   ]
  },
  {
   "cell_type": "code",
   "execution_count": 22,
   "metadata": {},
   "outputs": [
    {
     "name": "stdout",
     "output_type": "stream",
     "text": [
      "[False False False False False False False False False False False  True\n",
      " False False  True False  True  True  True False False False]\n",
      "[15  9  5  8  7 14 16  6 12 11  4  1 10  2  1  3  1  1  1 13 17 18]\n"
     ]
    },
    {
     "data": {
      "text/plain": [
       "Index(['otau0', 'tdecl', 'tpend', 'trvrt', 'inb'], dtype='object')"
      ]
     },
     "execution_count": 22,
     "metadata": {},
     "output_type": "execute_result"
    }
   ],
   "source": [
    "# create the RFE model and select 3 attributes\n",
    "rfe = RFE(clf, 5)\n",
    "rfe = rfe.fit(X, y)\n",
    "# summarize the selection of the attributes\n",
    "print(rfe.support_)\n",
    "print(rfe.ranking_)\n",
    "df2.columns[rfe.support_]"
   ]
  },
  {
   "cell_type": "markdown",
   "metadata": {},
   "source": [
    "# Summary\n",
    "\n",
    "Case 1. Never active. The models all fit quickly and over cross-validation manage to get to over 90% accuracy.\n",
    "Only MLPC struggles.\n",
    "\n",
    "Case 2. Inactive for over a year. SVM really struggles to converge. Logistic regression needs 10000 iterations but gets to over 90%. MLPC gets there but is probably over-fitting.\n",
    "\n",
    "Case 3. Inactive for over a month. MLCP gets 30% with full full layers. Logistic regression can get to over 75%.\n",
    "\n",
    "Running through the models, and looking at the feature selection, it seems that, for all cases, if a user has had transaction declined, or has had one reverted or declared as pending, then they prove to be inactive. For some reason a notification of ONBOARDING_TIPS_ACTIVATED_USERS seems to be a good indicator. This might be that account-holders who are having trouble ask for help in the form of onboarding tips."
   ]
  },
  {
   "cell_type": "code",
   "execution_count": null,
   "metadata": {},
   "outputs": [],
   "source": []
  }
 ],
 "metadata": {
  "kernelspec": {
   "display_name": "Python 3",
   "language": "python",
   "name": "python3"
  },
  "language_info": {
   "codemirror_mode": {
    "name": "ipython",
    "version": 3
   },
   "file_extension": ".py",
   "mimetype": "text/x-python",
   "name": "python",
   "nbconvert_exporter": "python",
   "pygments_lexer": "ipython3",
   "version": "3.7.3"
  }
 },
 "nbformat": 4,
 "nbformat_minor": 4
}
