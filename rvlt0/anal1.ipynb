{
 "cells": [
  {
   "cell_type": "markdown",
   "metadata": {},
   "source": [
    "weaves - Revolut Challenge\n",
    "\n",
    "This notebook provides analysis for Part II - Engagedness measurement\n",
    "\n",
    "It uses a local module rvlt which provides a data generation routine for an arbitrary PDF"
   ]
  },
  {
   "cell_type": "code",
   "execution_count": 116,
   "metadata": {},
   "outputs": [
    {
     "name": "stdout",
     "output_type": "stream",
     "text": [
      "The autoreload extension is already loaded. To reload it, use:\n",
      "  %reload_ext autoreload\n"
     ]
    },
    {
     "data": {
      "text/plain": [
       "'0.24.2'"
      ]
     },
     "execution_count": 116,
     "metadata": {},
     "output_type": "execute_result"
    }
   ],
   "source": [
    "import numpy as np\n",
    "import pandas as pd\n",
    "import math\n",
    "\n",
    "import scipy.stats as st\n",
    "import statsmodels as sm\n",
    "import statsmodels.api as smi\n",
    "\n",
    "import matplotlib\n",
    "from cycler import cycler\n",
    "import matplotlib.pyplot as plt\n",
    "\n",
    "# this is the local Utility module\n",
    "import rvlt\n",
    "\n",
    "%load_ext autoreload\n",
    "%autoreload 2\n",
    "\n",
    "pd.__version__"
   ]
  },
  {
   "cell_type": "code",
   "execution_count": 2,
   "metadata": {},
   "outputs": [],
   "source": [
    "# If you turn this feature on, you can display each result as it happens.\n",
    "from IPython.core.interactiveshell import InteractiveShell\n",
    "InteractiveShell.ast_node_interactivity = \"all\""
   ]
  },
  {
   "cell_type": "code",
   "execution_count": 3,
   "metadata": {},
   "outputs": [],
   "source": [
    "# Tables to fetch from q/kdb+\n",
    "tbls = (\"ttdays0\", \"users2\", \"ntfs0\", \"ntfs1\" )"
   ]
  },
  {
   "cell_type": "code",
   "execution_count": 4,
   "metadata": {},
   "outputs": [],
   "source": [
    "# URL build function\n",
    "urlf = lambda x: str.format(\"http://j1:4444/q.csv?{}\", x)"
   ]
  },
  {
   "cell_type": "code",
   "execution_count": 5,
   "metadata": {},
   "outputs": [
    {
     "data": {
      "text/plain": [
       "['http://j1:4444/q.csv?ttdays0',\n",
       " 'http://j1:4444/q.csv?users2',\n",
       " 'http://j1:4444/q.csv?ntfs0',\n",
       " 'http://j1:4444/q.csv?ntfs1']"
      ]
     },
     "execution_count": 5,
     "metadata": {},
     "output_type": "execute_result"
    }
   ],
   "source": [
    "# List for Excel - use text import and pass the URL as the filename (don't use web import)\n",
    "[ urlf(x) for x in tbls]"
   ]
  },
  {
   "cell_type": "code",
   "execution_count": 6,
   "metadata": {},
   "outputs": [
    {
     "data": {
      "text/html": [
       "<div>\n",
       "<style scoped>\n",
       "    .dataframe tbody tr th:only-of-type {\n",
       "        vertical-align: middle;\n",
       "    }\n",
       "\n",
       "    .dataframe tbody tr th {\n",
       "        vertical-align: top;\n",
       "    }\n",
       "\n",
       "    .dataframe thead th {\n",
       "        text-align: right;\n",
       "    }\n",
       "</style>\n",
       "<table border=\"1\" class=\"dataframe\">\n",
       "  <thead>\n",
       "    <tr style=\"text-align: right;\">\n",
       "      <th></th>\n",
       "      <th>tdays0</th>\n",
       "      <th>x</th>\n",
       "    </tr>\n",
       "  </thead>\n",
       "  <tbody>\n",
       "    <tr>\n",
       "      <th>0</th>\n",
       "      <td>1</td>\n",
       "      <td>176</td>\n",
       "    </tr>\n",
       "    <tr>\n",
       "      <th>1</th>\n",
       "      <td>2</td>\n",
       "      <td>939</td>\n",
       "    </tr>\n",
       "    <tr>\n",
       "      <th>2</th>\n",
       "      <td>3</td>\n",
       "      <td>1021</td>\n",
       "    </tr>\n",
       "    <tr>\n",
       "      <th>3</th>\n",
       "      <td>4</td>\n",
       "      <td>902</td>\n",
       "    </tr>\n",
       "    <tr>\n",
       "      <th>4</th>\n",
       "      <td>5</td>\n",
       "      <td>875</td>\n",
       "    </tr>\n",
       "  </tbody>\n",
       "</table>\n",
       "</div>"
      ],
      "text/plain": [
       "   tdays0     x\n",
       "0       1   176\n",
       "1       2   939\n",
       "2       3  1021\n",
       "3       4   902\n",
       "4       5   875"
      ]
     },
     "execution_count": 6,
     "metadata": {},
     "output_type": "execute_result"
    },
    {
     "data": {
      "text/plain": [
       "0     176\n",
       "1     939\n",
       "2    1021\n",
       "3     902\n",
       "4     875\n",
       "Name: x, dtype: int64"
      ]
     },
     "execution_count": 6,
     "metadata": {},
     "output_type": "execute_result"
    },
    {
     "data": {
      "text/plain": [
       "604"
      ]
     },
     "execution_count": 6,
     "metadata": {},
     "output_type": "execute_result"
    },
    {
     "data": {
      "text/plain": [
       "True"
      ]
     },
     "execution_count": 6,
     "metadata": {},
     "output_type": "execute_result"
    }
   ],
   "source": [
    "# Try and fit tdays0 to a distribution\n",
    "c = pd.read_csv(urlf(tbls[0]))\n",
    "c.head()\n",
    "data = pd.Series(c['x'], index=c['tdays0'])\n",
    "data = pd.Series(c['x'])\n",
    "data.head()\n",
    "len(data)\n",
    "all(data > 0.5)"
   ]
  },
  {
   "cell_type": "code",
   "execution_count": 134,
   "metadata": {},
   "outputs": [
    {
     "data": {
      "text/plain": [
       "<Figure size 864x576 with 0 Axes>"
      ]
     },
     "execution_count": 134,
     "metadata": {},
     "output_type": "execute_result"
    },
    {
     "data": {
      "text/plain": [
       "<matplotlib.axes._subplots.AxesSubplot at 0x7fc8e19243c8>"
      ]
     },
     "execution_count": 134,
     "metadata": {},
     "output_type": "execute_result"
    },
    {
     "data": {
      "image/png": "[encoded data removed]",
      "text/plain": [
       "<Figure size 864x576 with 1 Axes>"
      ]
     },
     "metadata": {
      "needs_background": "light"
     },
     "output_type": "display_data"
    }
   ],
   "source": [
    "# Plot for comparison\n",
    "bins=math.floor(len(data)/2)\n",
    "\n",
    "plt.figure(figsize=(12,8))\n",
    "data.plot(kind='hist', bins=bins, density=True, alpha=0.5)"
   ]
  },
  {
   "cell_type": "code",
   "execution_count": 163,
   "metadata": {},
   "outputs": [],
   "source": [
    "# Try a variety of pareto-like distributions to see what fits the data best. \n",
    "# The commented numbers are the recorded SSE \n",
    "# The best fit is the inverse Weibull (Frecht) but it has infinite mean and variance.\n",
    "distribution = st.weibull_min # 0.026744602482763516\n",
    "distribution = st.weibull_max # 0.11059876836774153\n",
    "distribution = st.wald # 0.04321951887147501 good shape 0.004286143389295488\n",
    "distribution = st.pareto # 0.004500105346672364 0.00030974282763696146 0.0004970887541559099\n",
    "distribution = st.invgauss # 0.0042553838908376595 0.0003295758342573526 0.00029231504502302705 0.0006448498305976865\n",
    "distribution = st.invweibull # 0.08741126234883718 0.00019755557973632042\n",
    "distribution = st.genextreme # 0.04823740732286759 0.00019752473779033813\n",
    "distribution = st.loglaplace # 0.013750924203496164 0.00011770092369544237\n",
    "distribution = st.invweibull # 0.08741126234883718 0.00019755557973632042\n",
    "distribution = st.invgauss # 0.00037693053502781327\n",
    "distribution = st.wald # 0.0069594755869143736 good shape \n",
    "# distribution = \n",
    "\n",
    "params = (0.0, 1.0)\n",
    "sse = np.inf"
   ]
  },
  {
   "cell_type": "code",
   "execution_count": 167,
   "metadata": {},
   "outputs": [
    {
     "data": {
      "text/plain": [
       "((), -3.3586589468247747, 22.376324193541645)"
      ]
     },
     "execution_count": 167,
     "metadata": {},
     "output_type": "execute_result"
    }
   ],
   "source": [
    "# fit dist to data\n",
    "params = distribution.fit(data)\n",
    "\n",
    "# Separate parts of parameters\n",
    "arg = params[:-2]\n",
    "loc = params[-2]\n",
    "scale = params[-1]\n",
    "(arg, loc, scale)"
   ]
  },
  {
   "cell_type": "code",
   "execution_count": 168,
   "metadata": {},
   "outputs": [
    {
     "data": {
      "text/plain": [
       "0.0069594755869143736"
      ]
     },
     "execution_count": 168,
     "metadata": {},
     "output_type": "execute_result"
    }
   ],
   "source": [
    "y, x = np.histogram(data, bins=bins, density=True)\n",
    "x = (x + np.roll(x, -1))[:-1] / 2.0 # roll rotates the data\n",
    "\n",
    "# Calculate fitted PDF and error with fit in distribution\n",
    "# pdf = distribution.pdf(x, loc=loc, scale=scale, *arg)\n",
    "pdf = distribution.pdf(x, *arg, loc=loc, scale=scale)\n",
    "sse = np.sum(np.power(y - pdf, 2.0))\n",
    "sse"
   ]
  },
  {
   "cell_type": "code",
   "execution_count": 169,
   "metadata": {},
   "outputs": [
    {
     "data": {
      "text/plain": [
       "-2.040823    0.000677\n",
       "-2.034416    0.000700\n",
       "-2.028008    0.000724\n",
       "-2.021601    0.000748\n",
       "-2.015194    0.000773\n",
       "dtype: float64"
      ]
     },
     "execution_count": 169,
     "metadata": {},
     "output_type": "execute_result"
    }
   ],
   "source": [
    "# My plot method for an arbitrary PDF returns a series \"points of the PDF\"\n",
    "ppdf = rvlt.Utility().instance().make_pdf(distribution, params, ppfs=(0.0001, 0.95))\n",
    "ppdf.head()"
   ]
  },
  {
   "cell_type": "code",
   "execution_count": 170,
   "metadata": {},
   "outputs": [
    {
     "data": {
      "text/plain": [
       "<Figure size 864x576 with 0 Axes>"
      ]
     },
     "execution_count": 170,
     "metadata": {},
     "output_type": "execute_result"
    },
    {
     "data": {
      "text/plain": [
       "<matplotlib.axes._subplots.AxesSubplot at 0x7fc8e06eecc0>"
      ]
     },
     "execution_count": 170,
     "metadata": {},
     "output_type": "execute_result"
    },
    {
     "data": {
      "image/png": "[encoded data removed]",
      "text/plain": [
       "<Figure size 864x576 with 1 Axes>"
      ]
     },
     "metadata": {
      "needs_background": "light"
     },
     "output_type": "display_data"
    }
   ],
   "source": [
    "# Display - this is an extreme distribution, so it's best to trust the SSE number.\n",
    "plt.figure(figsize=(12,8))\n",
    "ax = ppdf.plot(lw=2, label='PDF', legend=True)\n",
    "data.plot(kind='hist', bins=bins, density=True, alpha=0.5, label='Data', legend=True, ax=ax)"
   ]
  },
  {
   "cell_type": "code",
   "execution_count": 174,
   "metadata": {},
   "outputs": [
    {
     "data": {
      "text/plain": [
       "((), -3.3586589468247747, 22.376324193541645)"
      ]
     },
     "execution_count": 174,
     "metadata": {},
     "output_type": "execute_result"
    },
    {
     "data": {
      "text/plain": [
       "11.76418521279839"
      ]
     },
     "execution_count": 174,
     "metadata": {},
     "output_type": "execute_result"
    },
    {
     "data": {
      "text/plain": [
       "22.376324193541645"
      ]
     },
     "execution_count": 174,
     "metadata": {},
     "output_type": "execute_result"
    },
    {
     "data": {
      "text/plain": [
       "(array(19.01766525), array(500.69988441), array(3.), array(15.))"
      ]
     },
     "execution_count": 174,
     "metadata": {},
     "output_type": "execute_result"
    }
   ],
   "source": [
    "# The heavy-tailed distributions return negative mean and variance\n",
    "# this indicates they are infinite.  The Wald has a good shape and has finite mean and variance.\n",
    "(arg, loc, scale)\n",
    "m1 = distribution.median(*arg, loc=loc, scale=scale)\n",
    "m1\n",
    "m1 = distribution.std(*arg, loc=loc, scale=scale)\n",
    "m1\n",
    "m0 = distribution.stats(*arg, loc=loc, scale=scale, moments='mvsk')\n",
    "m0"
   ]
  },
  {
   "cell_type": "code",
   "execution_count": 173,
   "metadata": {},
   "outputs": [
    {
     "data": {
      "text/plain": [
       "\u001b[0;31mSignature:\u001b[0m       \u001b[0mst\u001b[0m\u001b[0;34m.\u001b[0m\u001b[0mwald\u001b[0m\u001b[0;34m(\u001b[0m\u001b[0;34m*\u001b[0m\u001b[0margs\u001b[0m\u001b[0;34m,\u001b[0m \u001b[0;34m**\u001b[0m\u001b[0mkwds\u001b[0m\u001b[0;34m)\u001b[0m\u001b[0;34m\u001b[0m\u001b[0;34m\u001b[0m\u001b[0m\n",
       "\u001b[0;31mType:\u001b[0m            wald_gen\n",
       "\u001b[0;31mString form:\u001b[0m     <scipy.stats._continuous_distns.wald_gen object at 0x7fc8ec2e3c18>\n",
       "\u001b[0;31mFile:\u001b[0m            /misc/share/0/anaconda3/envs/gensim/lib/python3.7/site-packages/scipy/stats/_continuous_distns.py\n",
       "\u001b[0;31mDocstring:\u001b[0m      \n",
       "A Wald continuous random variable.\n",
       "\n",
       "As an instance of the `rv_continuous` class, `wald` object inherits from it\n",
       "a collection of generic methods (see below for the full list),\n",
       "and completes them with details specific for this particular distribution.\n",
       "\n",
       "Methods\n",
       "-------\n",
       "rvs(loc=0, scale=1, size=1, random_state=None)\n",
       "    Random variates.\n",
       "pdf(x, loc=0, scale=1)\n",
       "    Probability density function.\n",
       "logpdf(x, loc=0, scale=1)\n",
       "    Log of the probability density function.\n",
       "cdf(x, loc=0, scale=1)\n",
       "    Cumulative distribution function.\n",
       "logcdf(x, loc=0, scale=1)\n",
       "    Log of the cumulative distribution function.\n",
       "sf(x, loc=0, scale=1)\n",
       "    Survival function  (also defined as ``1 - cdf``, but `sf` is sometimes more accurate).\n",
       "logsf(x, loc=0, scale=1)\n",
       "    Log of the survival function.\n",
       "ppf(q, loc=0, scale=1)\n",
       "    Percent point function (inverse of ``cdf`` --- percentiles).\n",
       "isf(q, loc=0, scale=1)\n",
       "    Inverse survival function (inverse of ``sf``).\n",
       "moment(n, loc=0, scale=1)\n",
       "    Non-central moment of order n\n",
       "stats(loc=0, scale=1, moments='mv')\n",
       "    Mean('m'), variance('v'), skew('s'), and/or kurtosis('k').\n",
       "entropy(loc=0, scale=1)\n",
       "    (Differential) entropy of the RV.\n",
       "fit(data, loc=0, scale=1)\n",
       "    Parameter estimates for generic data.\n",
       "expect(func, args=(), loc=0, scale=1, lb=None, ub=None, conditional=False, **kwds)\n",
       "    Expected value of a function (of one argument) with respect to the distribution.\n",
       "median(loc=0, scale=1)\n",
       "    Median of the distribution.\n",
       "mean(loc=0, scale=1)\n",
       "    Mean of the distribution.\n",
       "var(loc=0, scale=1)\n",
       "    Variance of the distribution.\n",
       "std(loc=0, scale=1)\n",
       "    Standard deviation of the distribution.\n",
       "interval(alpha, loc=0, scale=1)\n",
       "    Endpoints of the range that contains alpha percent of the distribution\n",
       "\n",
       "Notes\n",
       "-----\n",
       "The probability density function for `wald` is:\n",
       "\n",
       ".. math::\n",
       "\n",
       "    f(x) = \\frac{1}{\\sqrt{2\\pi x^3}} \\exp(- \\frac{ (x-1)^2 }{ 2x })\n",
       "\n",
       "for :math:`x >= 0`.\n",
       "\n",
       "`wald` is a special case of `invgauss` with ``mu=1``.\n",
       "\n",
       "The probability density above is defined in the \"standardized\" form. To shift\n",
       "and/or scale the distribution use the ``loc`` and ``scale`` parameters.\n",
       "Specifically, ``wald.pdf(x, loc, scale)`` is identically\n",
       "equivalent to ``wald.pdf(y) / scale`` with\n",
       "``y = (x - loc) / scale``.\n",
       "\n",
       "Examples\n",
       "--------\n",
       ">>> from scipy.stats import wald\n",
       ">>> import matplotlib.pyplot as plt\n",
       ">>> fig, ax = plt.subplots(1, 1)\n",
       "\n",
       "Calculate a few first moments:\n",
       "\n",
       "\n",
       ">>> mean, var, skew, kurt = wald.stats(moments='mvsk')\n",
       "\n",
       "Display the probability density function (``pdf``):\n",
       "\n",
       ">>> x = np.linspace(wald.ppf(0.01),\n",
       "...                 wald.ppf(0.99), 100)\n",
       ">>> ax.plot(x, wald.pdf(x),\n",
       "...        'r-', lw=5, alpha=0.6, label='wald pdf')\n",
       "\n",
       "Alternatively, the distribution object can be called (as a function)\n",
       "to fix the shape, location and scale parameters. This returns a \"frozen\"\n",
       "RV object holding the given parameters fixed.\n",
       "\n",
       "Freeze the distribution and display the frozen ``pdf``:\n",
       "\n",
       ">>> rv = wald()\n",
       ">>> ax.plot(x, rv.pdf(x), 'k-', lw=2, label='frozen pdf')\n",
       "\n",
       "Check accuracy of ``cdf`` and ``ppf``:\n",
       "\n",
       ">>> vals = wald.ppf([0.001, 0.5, 0.999])\n",
       ">>> np.allclose([0.001, 0.5, 0.999], wald.cdf(vals))\n",
       "True\n",
       "\n",
       "Generate random numbers:\n",
       "\n",
       ">>> r = wald.rvs(size=1000)\n",
       "\n",
       "And compare the histogram:\n",
       "\n",
       ">>> ax.hist(r, density=True, histtype='stepfilled', alpha=0.2)\n",
       ">>> ax.legend(loc='best', frameon=False)\n",
       ">>> plt.show()\n",
       "\u001b[0;31mClass docstring:\u001b[0m\n",
       "A Wald continuous random variable.\n",
       "\n",
       "%(before_notes)s\n",
       "\n",
       "Notes\n",
       "-----\n",
       "The probability density function for `wald` is:\n",
       "\n",
       ".. math::\n",
       "\n",
       "    f(x) = \\frac{1}{\\sqrt{2\\pi x^3}} \\exp(- \\frac{ (x-1)^2 }{ 2x })\n",
       "\n",
       "for :math:`x >= 0`.\n",
       "\n",
       "`wald` is a special case of `invgauss` with ``mu=1``.\n",
       "\n",
       "%(after_notes)s\n",
       "\n",
       "%(example)s\n",
       "\u001b[0;31mCall docstring:\u001b[0m \n",
       "Freeze the distribution for the given arguments.\n",
       "\n",
       "Parameters\n",
       "----------\n",
       "arg1, arg2, arg3,... : array_like\n",
       "    The shape parameter(s) for the distribution.  Should include all\n",
       "    the non-optional arguments, may include ``loc`` and ``scale``.\n",
       "\n",
       "Returns\n",
       "-------\n",
       "rv_frozen : rv_frozen instance\n",
       "    The frozen distribution.\n"
      ]
     },
     "metadata": {},
     "output_type": "display_data"
    }
   ],
   "source": [
    "?st.wald"
   ]
  }
 ],
 "metadata": {
  "kernelspec": {
   "display_name": "Python 3",
   "language": "python",
   "name": "python3"
  },
  "language_info": {
   "codemirror_mode": {
    "name": "ipython",
    "version": 3
   },
   "file_extension": ".py",
   "mimetype": "text/x-python",
   "name": "python",
   "nbconvert_exporter": "python",
   "pygments_lexer": "ipython3",
   "version": "3.7.3"
  }
 },
 "nbformat": 4,
 "nbformat_minor": 4
}
