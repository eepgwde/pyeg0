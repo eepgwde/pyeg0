{
 "cells": [
  {
   "cell_type": "markdown",
   "metadata": {},
   "source": [
    "weaves\n",
    "\n",
    "Accessing Instagram"
   ]
  },
  {
   "cell_type": "code",
   "execution_count": 1,
   "metadata": {},
   "outputs": [],
   "source": [
    "import os\n",
    "\n",
    "from datetime import datetime\n",
    "from dateutil import parser\n",
    "\n",
    "import numpy as np\n",
    "import pandas as pd\n",
    "\n",
    "from kink0 import InstaOps\n",
    "\n",
    "import json\n",
    "\n",
    "%load_ext autoreload\n",
    "%autoreload 2"
   ]
  },
  {
   "cell_type": "code",
   "execution_count": 4,
   "metadata": {},
   "outputs": [
    {
     "data": {
      "text/plain": [
       "dict_keys(['posts', 'likes', 'captions', 'names'])"
      ]
     },
     "execution_count": 4,
     "metadata": {},
     "output_type": "execute_result"
    }
   ],
   "source": [
    "i0 = InstaOps.instance()\n",
    "kink0 = i0.load(\"bak/k-51115.json\")\n",
    "dfs = i0.getDataset(kink0)\n",
    "dfs.keys()"
   ]
  },
  {
   "cell_type": "code",
   "execution_count": 6,
   "metadata": {},
   "outputs": [
    {
     "data": {
      "text/html": [
       "<div>\n",
       "<style scoped>\n",
       "    .dataframe tbody tr th:only-of-type {\n",
       "        vertical-align: middle;\n",
       "    }\n",
       "\n",
       "    .dataframe tbody tr th {\n",
       "        vertical-align: top;\n",
       "    }\n",
       "\n",
       "    .dataframe thead th {\n",
       "        text-align: right;\n",
       "    }\n",
       "</style>\n",
       "<table border=\"1\" class=\"dataframe\">\n",
       "  <thead>\n",
       "    <tr style=\"text-align: right;\">\n",
       "      <th></th>\n",
       "      <th>pk</th>\n",
       "      <th>username</th>\n",
       "    </tr>\n",
       "  </thead>\n",
       "  <tbody>\n",
       "    <tr>\n",
       "      <th>0</th>\n",
       "      <td>8573371278</td>\n",
       "      <td>german_dabi</td>\n",
       "    </tr>\n",
       "    <tr>\n",
       "      <th>1</th>\n",
       "      <td>12603974119</td>\n",
       "      <td>littlegirl_.space</td>\n",
       "    </tr>\n",
       "    <tr>\n",
       "      <th>2</th>\n",
       "      <td>13355939902</td>\n",
       "      <td>smshopinsta</td>\n",
       "    </tr>\n",
       "    <tr>\n",
       "      <th>3</th>\n",
       "      <td>14282903849</td>\n",
       "      <td>corinnemaya_cl</td>\n",
       "    </tr>\n",
       "    <tr>\n",
       "      <th>4</th>\n",
       "      <td>12603974119</td>\n",
       "      <td>littlegirl_.space</td>\n",
       "    </tr>\n",
       "  </tbody>\n",
       "</table>\n",
       "</div>"
      ],
      "text/plain": [
       "            pk           username\n",
       "0   8573371278        german_dabi\n",
       "1  12603974119  littlegirl_.space\n",
       "2  13355939902        smshopinsta\n",
       "3  14282903849     corinnemaya_cl\n",
       "4  12603974119  littlegirl_.space"
      ]
     },
     "execution_count": 6,
     "metadata": {},
     "output_type": "execute_result"
    }
   ],
   "source": [
    "dfs['names'].head()"
   ]
  },
  {
   "cell_type": "code",
   "execution_count": 7,
   "metadata": {},
   "outputs": [
    {
     "data": {
      "text/html": [
       "<div>\n",
       "<style scoped>\n",
       "    .dataframe tbody tr th:only-of-type {\n",
       "        vertical-align: middle;\n",
       "    }\n",
       "\n",
       "    .dataframe tbody tr th {\n",
       "        vertical-align: top;\n",
       "    }\n",
       "\n",
       "    .dataframe thead th {\n",
       "        text-align: right;\n",
       "    }\n",
       "</style>\n",
       "<table border=\"1\" class=\"dataframe\">\n",
       "  <thead>\n",
       "    <tr style=\"text-align: right;\">\n",
       "      <th></th>\n",
       "      <th>mark0</th>\n",
       "      <th>user0</th>\n",
       "      <th>dt0</th>\n",
       "      <th>user1</th>\n",
       "      <th>dt1</th>\n",
       "      <th>mesj</th>\n",
       "    </tr>\n",
       "  </thead>\n",
       "  <tbody>\n",
       "    <tr>\n",
       "      <th>0</th>\n",
       "      <td></td>\n",
       "      <td>8573371278</td>\n",
       "      <td>2019-06-11 14:14:29</td>\n",
       "      <td>8573371278</td>\n",
       "      <td>2019-06-11 14:14:31</td>\n",
       "      <td>#anime #manga #animeworld #german #otaku #kawa...</td>\n",
       "    </tr>\n",
       "    <tr>\n",
       "      <th>1</th>\n",
       "      <td></td>\n",
       "      <td>12603974119</td>\n",
       "      <td>2019-06-11 14:12:04</td>\n",
       "      <td>12603974119</td>\n",
       "      <td>2019-06-11 14:12:06</td>\n",
       "      <td>💭💦\\n.\\n.\\n.\\n#daddykink #daddy #daddydomlittle...</td>\n",
       "    </tr>\n",
       "    <tr>\n",
       "      <th>2</th>\n",
       "      <td></td>\n",
       "      <td>13355939902</td>\n",
       "      <td>2019-06-11 14:11:41</td>\n",
       "      <td>13355939902</td>\n",
       "      <td>2019-06-11 14:11:43</td>\n",
       "      <td>Vil du gerne have en #klemme eller to på nogen...</td>\n",
       "    </tr>\n",
       "    <tr>\n",
       "      <th>3</th>\n",
       "      <td></td>\n",
       "      <td>14282903849</td>\n",
       "      <td>2019-06-11 14:10:15</td>\n",
       "      <td>14282903849</td>\n",
       "      <td>2019-06-11 14:11:12</td>\n",
       "      <td>#mdlgrp wblzrv #lonelyrp snluqkndk #ph qqppxbf...</td>\n",
       "    </tr>\n",
       "    <tr>\n",
       "      <th>4</th>\n",
       "      <td></td>\n",
       "      <td>12603974119</td>\n",
       "      <td>2019-06-11 14:09:33</td>\n",
       "      <td>12603974119</td>\n",
       "      <td>2019-06-11 14:09:35</td>\n",
       "      <td>🐨📡\\n.\\n.\\n.\\n#daddykink #daddy #daddydomlittle...</td>\n",
       "    </tr>\n",
       "  </tbody>\n",
       "</table>\n",
       "</div>"
      ],
      "text/plain": [
       "  mark0        user0                 dt0        user1                 dt1  \\\n",
       "0         8573371278 2019-06-11 14:14:29   8573371278 2019-06-11 14:14:31   \n",
       "1        12603974119 2019-06-11 14:12:04  12603974119 2019-06-11 14:12:06   \n",
       "2        13355939902 2019-06-11 14:11:41  13355939902 2019-06-11 14:11:43   \n",
       "3        14282903849 2019-06-11 14:10:15  14282903849 2019-06-11 14:11:12   \n",
       "4        12603974119 2019-06-11 14:09:33  12603974119 2019-06-11 14:09:35   \n",
       "\n",
       "                                                mesj  \n",
       "0  #anime #manga #animeworld #german #otaku #kawa...  \n",
       "1  💭💦\\n.\\n.\\n.\\n#daddykink #daddy #daddydomlittle...  \n",
       "2  Vil du gerne have en #klemme eller to på nogen...  \n",
       "3  #mdlgrp wblzrv #lonelyrp snluqkndk #ph qqppxbf...  \n",
       "4  🐨📡\\n.\\n.\\n.\\n#daddykink #daddy #daddydomlittle...  "
      ]
     },
     "execution_count": 7,
     "metadata": {},
     "output_type": "execute_result"
    }
   ],
   "source": [
    "dfs['captions'].head()"
   ]
  },
  {
   "cell_type": "code",
   "execution_count": null,
   "metadata": {},
   "outputs": [],
   "source": []
  }
 ],
 "metadata": {
  "kernelspec": {
   "display_name": "Python 3",
   "language": "python",
   "name": "python3"
  },
  "language_info": {
   "codemirror_mode": {
    "name": "ipython",
    "version": 3
   },
   "file_extension": ".py",
   "mimetype": "text/x-python",
   "name": "python",
   "nbconvert_exporter": "python",
   "pygments_lexer": "ipython3",
   "version": "3.7.3"
  }
 },
 "nbformat": 4,
 "nbformat_minor": 2
}
