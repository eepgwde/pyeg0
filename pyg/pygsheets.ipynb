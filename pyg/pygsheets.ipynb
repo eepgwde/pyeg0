{
 "cells": [
  {
   "cell_type": "code",
   "execution_count": 1,
   "metadata": {},
   "outputs": [],
   "source": [
    "import pygsheets\n",
    "import numpy as np\n",
    "\n",
    "user0 = pygsheets.authorize(client_secret='client_secret_.json')"
   ]
  },
  {
   "cell_type": "code",
   "execution_count": 2,
   "metadata": {},
   "outputs": [],
   "source": [
    "# Prepping a numpy array is hard - you have to use the singleton list form\n",
    "x0 = list(( [x,] for x in np.ones(4)))"
   ]
  },
  {
   "cell_type": "code",
   "execution_count": 3,
   "metadata": {},
   "outputs": [],
   "source": [
    "# Open the spreadsheet and the first sheet.\n",
    "sh = user0.open('pygsheets')\n",
    "wks = sh.sheet1\n",
    "\n",
    "# Update a single cell.\n",
    "wks.update_value('A1', \"Numbers on Stuff\")\n",
    "\n",
    "# Update the worksheet with the numpy array values. Beginning at cell 'A2'.\n",
    "wks.update_values('A2', [[50],[60],[67],[66]])\n",
    "wks.update_values('B2', x0)\n",
    "\n",
    "## Share the sheet with your friend. (read access only)\n",
    "# sh.share('friend@gmail.com')\n",
    "## sharing with write access\n",
    "# sh.share('friend@gmail.com', role='writer')"
   ]
  }
 ],
 "metadata": {
  "kernelspec": {
   "display_name": "Python 3",
   "language": "python",
   "name": "python3"
  },
  "language_info": {
   "codemirror_mode": {
    "name": "ipython",
    "version": 3
   },
   "file_extension": ".py",
   "mimetype": "text/x-python",
   "name": "python",
   "nbconvert_exporter": "python",
   "pygments_lexer": "ipython3",
   "version": "3.7.3"
  }
 },
 "nbformat": 4,
 "nbformat_minor": 2
}
