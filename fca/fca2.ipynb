{
 "cells": [
  {
   "cell_type": "markdown",
   "metadata": {},
   "source": [
    "# FCA\n",
    "\n",
    "Technical Challenge for Data Science Candidates\n",
    "\n",
    "This workbook loads a pickle file from the prior notebook.\n",
    "\n",
    "Naive Model"
   ]
  },
  {
   "cell_type": "code",
   "execution_count": 178,
   "metadata": {},
   "outputs": [
    {
     "data": {
      "text/plain": [
       "'0.24.2'"
      ]
     },
     "execution_count": 178,
     "metadata": {},
     "output_type": "execute_result"
    }
   ],
   "source": [
    "import numpy as np\n",
    "import pandas as pd\n",
    "import math\n",
    "import json\n",
    "\n",
    "from os import path\n",
    "\n",
    "from sklearn.model_selection import KFold\n",
    "from sklearn.neural_network import MLPClassifier\n",
    "from sklearn.linear_model import LogisticRegression\n",
    "\n",
    "from sklearn import tree\n",
    "from sklearn import ensemble\n",
    "from sklearn import metrics\n",
    "\n",
    "from sklearn.model_selection import cross_val_score\n",
    "from sklearn.feature_selection import RFE\n",
    "\n",
    "import scipy.stats as st\n",
    "import statsmodels as sm\n",
    "import statsmodels.api as smi\n",
    "from sklearn import svm\n",
    "\n",
    "from sklearn import datasets, linear_model\n",
    "from sklearn.model_selection import train_test_split\n",
    "\n",
    "from cycler import cycler\n",
    "import matplotlib.pyplot as plt\n",
    "import seaborn as sns\n",
    "\n",
    "pd.__version__"
   ]
  },
  {
   "cell_type": "code",
   "execution_count": 179,
   "metadata": {},
   "outputs": [],
   "source": [
    "# If you turn this feature on, you can display each result as it happens.\n",
    "from IPython.core.interactiveshell import InteractiveShell\n",
    "InteractiveShell.ast_node_interactivity = \"all\""
   ]
  },
  {
   "cell_type": "code",
   "execution_count": 180,
   "metadata": {},
   "outputs": [],
   "source": [
    "# this is the local Utility module and it reloaded each time.\n",
    "from fca import Utility"
   ]
  },
  {
   "cell_type": "code",
   "execution_count": 181,
   "metadata": {},
   "outputs": [
    {
     "name": "stdout",
     "output_type": "stream",
     "text": [
      "The autoreload extension is already loaded. To reload it, use:\n",
      "  %reload_ext autoreload\n"
     ]
    }
   ],
   "source": [
    "%load_ext autoreload\n",
    "%autoreload 1\n",
    "%aimport fca"
   ]
  },
  {
   "cell_type": "code",
   "execution_count": 182,
   "metadata": {},
   "outputs": [],
   "source": [
    "# My utility singleton.\n",
    "i0 = Utility.instance()"
   ]
  },
  {
   "cell_type": "markdown",
   "metadata": {},
   "source": [
    "## Modelling\n",
    "\n",
    "There are some highly correlated features that might be confusing.\n",
    "Build a naive model that uses all the features and refine it down.\n",
    "\n",
    "Filter the dataset and then apply a selection of models."
   ]
  },
  {
   "cell_type": "code",
   "execution_count": 183,
   "metadata": {},
   "outputs": [],
   "source": [
    "# df2 = pd.read_pickle(\"coded.pickle\")\n",
    "df2 = pd.read_pickle(\"scaled.pickle\")"
   ]
  },
  {
   "cell_type": "code",
   "execution_count": 184,
   "metadata": {},
   "outputs": [],
   "source": [
    "# re-instate the boolean binary outcome\n",
    "df2.y = df2.y > 0\n",
    "df2.y;"
   ]
  },
  {
   "cell_type": "code",
   "execution_count": 185,
   "metadata": {},
   "outputs": [
    {
     "data": {
      "text/plain": [
       "0.11265417111780131"
      ]
     },
     "execution_count": 185,
     "metadata": {},
     "output_type": "execute_result"
    }
   ],
   "source": [
    "## Low incidence rate may require some up-sampling.\n",
    "np.sum(df2.y.values) / len(df2.y)"
   ]
  },
  {
   "cell_type": "markdown",
   "metadata": {},
   "source": [
    "### Reload the dataset for the model\n",
    "\n",
    "You need to run this after you have chosen and evaluated to reset the dataset.\n",
    "There is no scaling needed for the models chosen.\n",
    "If you run all cells, the default is evaluate for the never-active with logistic regression."
   ]
  },
  {
   "cell_type": "markdown",
   "metadata": {},
   "source": [
    "### Splitting\n",
    "\n",
    "I use sample0 for the different datasets. \n",
    " 1. use a train/test split\n",
    " 2. use everything - let cross-validation make the splits"
   ]
  },
  {
   "cell_type": "code",
   "execution_count": 133,
   "metadata": {},
   "outputs": [],
   "source": [
    "sample0=2"
   ]
  },
  {
   "cell_type": "markdown",
   "metadata": {},
   "source": [
    "### Case 0: Prescient data\n",
    "\n",
    "Null hypothesis.\n",
    "\n",
    "I include the outcome variable - forcing over-fitting. All the models should converge to one. Or the data is structurally unsound (mis-scaled) or completely noise. I then remove each of the prescient variables."
   ]
  },
  {
   "cell_type": "code",
   "execution_count": 186,
   "metadata": {},
   "outputs": [],
   "source": [
    "y = df2.y\n",
    "# X = df2.drop(columns=['y'])\n",
    "X = df2"
   ]
  },
  {
   "cell_type": "markdown",
   "metadata": {},
   "source": [
    "### Case 1: All features\n",
    "\n",
    "Remove the outcome and get a baseline"
   ]
  },
  {
   "cell_type": "code",
   "execution_count": 187,
   "metadata": {},
   "outputs": [
    {
     "data": {
      "text/plain": [
       "Index(['age', 'job', 'marital', 'education', 'default', 'housing', 'loan',\n",
       "       'contact', 'month', 'day_of_week', 'duration', 'campaign', 'pdays',\n",
       "       'previous', 'poutcome', 'emp.var.rate', 'cons.price.idx',\n",
       "       'cons.conf.idx', 'euribor3m', 'nr.employed', 'job0', 'marital0',\n",
       "       'education0', 'default0', 'housing0', 'loan0', 'poutcome0', 'pdays0'],\n",
       "      dtype='object')"
      ]
     },
     "execution_count": 187,
     "metadata": {},
     "output_type": "execute_result"
    }
   ],
   "source": [
    "y = df2.y\n",
    "X = df2.drop(columns=['y'])\n",
    "# X = df2\n",
    "X.columns"
   ]
  },
  {
   "cell_type": "markdown",
   "metadata": {},
   "source": [
    "### Case 2: case 1 and drop rows\n",
    "\n",
    "Example with dropping rows on a feature. This is scaled data. It may already be cut in an earlier notebook in which the scaling will be out."
   ]
  },
  {
   "cell_type": "code",
   "execution_count": 188,
   "metadata": {},
   "outputs": [
    {
     "data": {
      "text/plain": [
       "<matplotlib.axes._subplots.AxesSubplot at 0x7fdfd98a2080>"
      ]
     },
     "execution_count": 188,
     "metadata": {},
     "output_type": "execute_result"
    },
    {
     "data": {
      "image/png": "[encoded data removed]",
      "text/plain": [
       "<Figure size 1296x432 with 1 Axes>"
      ]
     },
     "metadata": {
      "needs_background": "light"
     },
     "output_type": "display_data"
    }
   ],
   "source": [
    "fig, ax = plt.subplots(figsize=(18,6))\n",
    "sns.violinplot(ax=ax, x=X['nr.employed'], y=y)"
   ]
  },
  {
   "cell_type": "code",
   "execution_count": 154,
   "metadata": {},
   "outputs": [
    {
     "data": {
      "text/plain": [
       "0.7163577759871071"
      ]
     },
     "execution_count": 154,
     "metadata": {},
     "output_type": "execute_result"
    }
   ],
   "source": [
    "# The decision tree  \n",
    "# idxs = ~(X.pdays0 <= -2.461)\n",
    "idxs = X['nr.employed'] > -0.5\n",
    "sum(idxs.values) / len(idxs.values)"
   ]
  },
  {
   "cell_type": "code",
   "execution_count": 107,
   "metadata": {},
   "outputs": [],
   "source": [
    "X = X[idxs]\n",
    "y = y[idxs]"
   ]
  },
  {
   "cell_type": "markdown",
   "metadata": {},
   "source": [
    "### Case 3: case 1 and drop columns"
   ]
  },
  {
   "cell_type": "code",
   "execution_count": 55,
   "metadata": {},
   "outputs": [
    {
     "ename": "NameError",
     "evalue": "name 'pcols' is not defined",
     "output_type": "error",
     "traceback": [
      "\u001b[0;31m---------------------------------------------------------------------------\u001b[0m",
      "\u001b[0;31mNameError\u001b[0m                                 Traceback (most recent call last)",
      "\u001b[0;32m<ipython-input-55-2c171caa7287>\u001b[0m in \u001b[0;36m<module>\u001b[0;34m\u001b[0m\n\u001b[0;32m----> 1\u001b[0;31m \u001b[0mX\u001b[0m \u001b[0;34m=\u001b[0m \u001b[0mX\u001b[0m\u001b[0;34m.\u001b[0m\u001b[0mdrop\u001b[0m\u001b[0;34m(\u001b[0m\u001b[0mcolumns\u001b[0m\u001b[0;34m=\u001b[0m\u001b[0mpcols\u001b[0m\u001b[0;34m)\u001b[0m\u001b[0;34m\u001b[0m\u001b[0;34m\u001b[0m\u001b[0m\n\u001b[0m\u001b[1;32m      2\u001b[0m \u001b[0mX\u001b[0m\u001b[0;34m.\u001b[0m\u001b[0mcolumns\u001b[0m\u001b[0;34m\u001b[0m\u001b[0;34m\u001b[0m\u001b[0m\n",
      "\u001b[0;31mNameError\u001b[0m: name 'pcols' is not defined"
     ]
    }
   ],
   "source": [
    "X = X.drop(columns=pcols)\n",
    "X.columns"
   ]
  },
  {
   "cell_type": "markdown",
   "metadata": {},
   "source": [
    "### Split the Data"
   ]
  },
  {
   "cell_type": "code",
   "execution_count": 189,
   "metadata": {},
   "outputs": [],
   "source": [
    "Xcols = list(X.columns)\n",
    "if sample0 == 1:\n",
    "    X_train, X_test, y_train, y_test = train_test_split(X, y, test_size=0.2)\n",
    "elif sample0 == 2:\n",
    "    X_train, X_test, y_train, y_test = ( X, None, y, None )"
   ]
  },
  {
   "cell_type": "code",
   "execution_count": 190,
   "metadata": {},
   "outputs": [
    {
     "data": {
      "text/plain": [
       "(41188, 28)"
      ]
     },
     "execution_count": 190,
     "metadata": {},
     "output_type": "execute_result"
    },
    {
     "data": {
      "text/plain": [
       "(41188,)"
      ]
     },
     "execution_count": 190,
     "metadata": {},
     "output_type": "execute_result"
    },
    {
     "data": {
      "text/plain": [
       "['age',\n",
       " 'job',\n",
       " 'marital',\n",
       " 'education',\n",
       " 'default',\n",
       " 'housing',\n",
       " 'loan',\n",
       " 'contact',\n",
       " 'month',\n",
       " 'day_of_week',\n",
       " 'duration',\n",
       " 'campaign',\n",
       " 'pdays',\n",
       " 'previous',\n",
       " 'poutcome',\n",
       " 'emp.var.rate',\n",
       " 'cons.price.idx',\n",
       " 'cons.conf.idx',\n",
       " 'euribor3m',\n",
       " 'nr.employed',\n",
       " 'job0',\n",
       " 'marital0',\n",
       " 'education0',\n",
       " 'default0',\n",
       " 'housing0',\n",
       " 'loan0',\n",
       " 'poutcome0',\n",
       " 'pdays0']"
      ]
     },
     "execution_count": 190,
     "metadata": {},
     "output_type": "execute_result"
    }
   ],
   "source": [
    "X_train.shape\n",
    "y_train.shape\n",
    "Xcols"
   ]
  },
  {
   "cell_type": "markdown",
   "metadata": {},
   "source": [
    "## Model cases\n",
    "\n",
    "Again choose one to apply to the data you've chosen.\n",
    "\n",
    "These are a number of models that can be applied. Some are 'patchy', results have high variance. Some are good for spotting mal-formed features.\n",
    "\n",
    "    1. The first SVC is not practical for \"big\" data (width and count), but works well for smaller ones.\n",
    "\n",
    "    2. The Multi-Layer Perceptron Classifier is a useful neural network and can get reasonable results quickly - it parallizes well. The hidden_layer_sizes need tuning to get a cross validation score over 0.5. Can be patchy. Spots prescients.\n",
    "\n",
    "    3. The logistic regression is a very solid performer - not patchy. Usually spots prescients.\n",
    "\n",
    "    4. Gradient-boosted is fast and spots prescients.\n",
    "\n",
    "    5. Random-forest usually gets balanced results\n",
    "    \n",
    "When the MLPC is patchy, it usually means there is a useful split to be made. There is a Decision Tree Classifier below that can help find the split."
   ]
  },
  {
   "cell_type": "code",
   "execution_count": null,
   "metadata": {},
   "outputs": [],
   "source": [
    "clf = svm.SVC(kernel='linear', C=1)"
   ]
  },
  {
   "cell_type": "code",
   "execution_count": null,
   "metadata": {},
   "outputs": [],
   "source": [
    "# Useful method. Reduce the size of the neural network to find a path with prescient features. log_2 should be minimal\n",
    "x0 = math.floor(math.log(X.shape[1], 2))\n",
    "clf =  MLPClassifier(solver='lbfgs', alpha=1e-5, hidden_layer_sizes=(x0, x0, 2), \n",
    "                     random_state=1, warm_start=True)"
   ]
  },
  {
   "cell_type": "code",
   "execution_count": 214,
   "metadata": {},
   "outputs": [],
   "source": [
    "original_params = {'n_estimators': 1000, 'max_leaf_nodes': 8, 'max_depth': None, 'random_state': 2,\n",
    "                   'min_samples_split': 8}\n",
    "params = original_params\n",
    "\n",
    "clf = ensemble.GradientBoostingClassifier(**params)"
   ]
  },
  {
   "cell_type": "code",
   "execution_count": 213,
   "metadata": {},
   "outputs": [],
   "source": [
    "clf = ensemble.RandomForestClassifier(max_depth=2, random_state=0)"
   ]
  },
  {
   "cell_type": "code",
   "execution_count": 195,
   "metadata": {},
   "outputs": [],
   "source": [
    "clf = LogisticRegression(C=1e4, solver='lbfgs', multi_class='auto', max_iter=10000) # max_iter is 2 orders up!"
   ]
  },
  {
   "cell_type": "code",
   "execution_count": 191,
   "metadata": {},
   "outputs": [],
   "source": [
    "# Useful for plotting see below\n",
    "# This can be compared with the MLCP if we have patchy validation results.\n",
    "clf = tree.DecisionTreeClassifier()"
   ]
  },
  {
   "cell_type": "markdown",
   "metadata": {},
   "source": [
    "## From cross-validation results, choose the most accurate model\n",
    "\n",
    "To evaluate the model under a cross-validation scheme, run this cell."
   ]
  },
  {
   "cell_type": "code",
   "execution_count": null,
   "metadata": {},
   "outputs": [],
   "source": [
    "scores = cross_val_score(clf, X_train, y_train, cv=5, error_score=np.nan)\n",
    "scores"
   ]
  },
  {
   "cell_type": "markdown",
   "metadata": {},
   "source": [
    "## Feature selection\n",
    "\n",
    "Try to determine best features"
   ]
  },
  {
   "cell_type": "code",
   "execution_count": 197,
   "metadata": {},
   "outputs": [
    {
     "data": {
      "text/plain": [
       "LogisticRegression(C=10000.0, class_weight=None, dual=False, fit_intercept=True,\n",
       "                   intercept_scaling=1, l1_ratio=None, max_iter=10000,\n",
       "                   multi_class='auto', n_jobs=None, penalty='l2',\n",
       "                   random_state=None, solver='lbfgs', tol=0.0001, verbose=0,\n",
       "                   warm_start=False)"
      ]
     },
     "execution_count": 197,
     "metadata": {},
     "output_type": "execute_result"
    }
   ],
   "source": [
    "clf # remind ourselves which classifier we're using."
   ]
  },
  {
   "cell_type": "code",
   "execution_count": 198,
   "metadata": {},
   "outputs": [
    {
     "data": {
      "text/plain": [
       "array([False, False, False, False, False, False, False, False, False,\n",
       "       False,  True, False, False, False,  True,  True, False, False,\n",
       "       False,  True, False, False, False, False, False, False,  True,\n",
       "       False])"
      ]
     },
     "execution_count": 198,
     "metadata": {},
     "output_type": "execute_result"
    },
    {
     "data": {
      "text/plain": [
       "array([15, 18, 14, 10, 13, 22, 19,  4,  3, 12,  1,  9,  6, 16,  1,  1,  5,\n",
       "        8,  2,  1, 24, 23, 11,  7, 20, 21,  1, 17])"
      ]
     },
     "execution_count": 198,
     "metadata": {},
     "output_type": "execute_result"
    }
   ],
   "source": [
    "# create the RFE model and select 3 attributes\n",
    "rfe = RFE(clf, 5)\n",
    "rfe = rfe.fit(X_train, y_train); # suppress messages Future Warning\n",
    "# summarize the selection of the attributes\n",
    "rfe.support_\n",
    "rfe.ranking_"
   ]
  },
  {
   "cell_type": "code",
   "execution_count": 199,
   "metadata": {},
   "outputs": [
    {
     "data": {
      "text/plain": [
       "['duration', 'poutcome', 'emp.var.rate', 'nr.employed', 'poutcome0']"
      ]
     },
     "execution_count": 199,
     "metadata": {},
     "output_type": "execute_result"
    }
   ],
   "source": [
    "x0 = np.array(Xcols)\n",
    "f0s = list(x0[rfe.support_]) # just the first choices\n",
    "f0s"
   ]
  },
  {
   "cell_type": "code",
   "execution_count": 211,
   "metadata": {},
   "outputs": [
    {
     "data": {
      "text/html": [
       "<div>\n",
       "<style scoped>\n",
       "    .dataframe tbody tr th:only-of-type {\n",
       "        vertical-align: middle;\n",
       "    }\n",
       "\n",
       "    .dataframe tbody tr th {\n",
       "        vertical-align: top;\n",
       "    }\n",
       "\n",
       "    .dataframe thead th {\n",
       "        text-align: right;\n",
       "    }\n",
       "</style>\n",
       "<table border=\"1\" class=\"dataframe\">\n",
       "  <thead>\n",
       "    <tr style=\"text-align: right;\">\n",
       "      <th></th>\n",
       "      <th>name</th>\n",
       "      <th>rank</th>\n",
       "    </tr>\n",
       "  </thead>\n",
       "  <tbody>\n",
       "    <tr>\n",
       "      <th>15</th>\n",
       "      <td>emp.var.rate</td>\n",
       "      <td>1</td>\n",
       "    </tr>\n",
       "    <tr>\n",
       "      <th>19</th>\n",
       "      <td>nr.employed</td>\n",
       "      <td>1</td>\n",
       "    </tr>\n",
       "    <tr>\n",
       "      <th>10</th>\n",
       "      <td>duration</td>\n",
       "      <td>1</td>\n",
       "    </tr>\n",
       "    <tr>\n",
       "      <th>26</th>\n",
       "      <td>poutcome0</td>\n",
       "      <td>1</td>\n",
       "    </tr>\n",
       "    <tr>\n",
       "      <th>14</th>\n",
       "      <td>poutcome</td>\n",
       "      <td>1</td>\n",
       "    </tr>\n",
       "    <tr>\n",
       "      <th>18</th>\n",
       "      <td>euribor3m</td>\n",
       "      <td>2</td>\n",
       "    </tr>\n",
       "    <tr>\n",
       "      <th>8</th>\n",
       "      <td>month</td>\n",
       "      <td>3</td>\n",
       "    </tr>\n",
       "    <tr>\n",
       "      <th>7</th>\n",
       "      <td>contact</td>\n",
       "      <td>4</td>\n",
       "    </tr>\n",
       "    <tr>\n",
       "      <th>16</th>\n",
       "      <td>cons.price.idx</td>\n",
       "      <td>5</td>\n",
       "    </tr>\n",
       "    <tr>\n",
       "      <th>12</th>\n",
       "      <td>pdays</td>\n",
       "      <td>6</td>\n",
       "    </tr>\n",
       "    <tr>\n",
       "      <th>23</th>\n",
       "      <td>default0</td>\n",
       "      <td>7</td>\n",
       "    </tr>\n",
       "    <tr>\n",
       "      <th>17</th>\n",
       "      <td>cons.conf.idx</td>\n",
       "      <td>8</td>\n",
       "    </tr>\n",
       "    <tr>\n",
       "      <th>11</th>\n",
       "      <td>campaign</td>\n",
       "      <td>9</td>\n",
       "    </tr>\n",
       "    <tr>\n",
       "      <th>3</th>\n",
       "      <td>education</td>\n",
       "      <td>10</td>\n",
       "    </tr>\n",
       "    <tr>\n",
       "      <th>22</th>\n",
       "      <td>education0</td>\n",
       "      <td>11</td>\n",
       "    </tr>\n",
       "    <tr>\n",
       "      <th>9</th>\n",
       "      <td>day_of_week</td>\n",
       "      <td>12</td>\n",
       "    </tr>\n",
       "    <tr>\n",
       "      <th>4</th>\n",
       "      <td>default</td>\n",
       "      <td>13</td>\n",
       "    </tr>\n",
       "    <tr>\n",
       "      <th>2</th>\n",
       "      <td>marital</td>\n",
       "      <td>14</td>\n",
       "    </tr>\n",
       "    <tr>\n",
       "      <th>0</th>\n",
       "      <td>age</td>\n",
       "      <td>15</td>\n",
       "    </tr>\n",
       "    <tr>\n",
       "      <th>13</th>\n",
       "      <td>previous</td>\n",
       "      <td>16</td>\n",
       "    </tr>\n",
       "    <tr>\n",
       "      <th>27</th>\n",
       "      <td>pdays0</td>\n",
       "      <td>17</td>\n",
       "    </tr>\n",
       "    <tr>\n",
       "      <th>1</th>\n",
       "      <td>job</td>\n",
       "      <td>18</td>\n",
       "    </tr>\n",
       "    <tr>\n",
       "      <th>6</th>\n",
       "      <td>loan</td>\n",
       "      <td>19</td>\n",
       "    </tr>\n",
       "    <tr>\n",
       "      <th>24</th>\n",
       "      <td>housing0</td>\n",
       "      <td>20</td>\n",
       "    </tr>\n",
       "    <tr>\n",
       "      <th>25</th>\n",
       "      <td>loan0</td>\n",
       "      <td>21</td>\n",
       "    </tr>\n",
       "    <tr>\n",
       "      <th>5</th>\n",
       "      <td>housing</td>\n",
       "      <td>22</td>\n",
       "    </tr>\n",
       "    <tr>\n",
       "      <th>21</th>\n",
       "      <td>marital0</td>\n",
       "      <td>23</td>\n",
       "    </tr>\n",
       "    <tr>\n",
       "      <th>20</th>\n",
       "      <td>job0</td>\n",
       "      <td>24</td>\n",
       "    </tr>\n",
       "  </tbody>\n",
       "</table>\n",
       "</div>"
      ],
      "text/plain": [
       "              name  rank\n",
       "15    emp.var.rate     1\n",
       "19     nr.employed     1\n",
       "10        duration     1\n",
       "26       poutcome0     1\n",
       "14        poutcome     1\n",
       "18       euribor3m     2\n",
       "8            month     3\n",
       "7          contact     4\n",
       "16  cons.price.idx     5\n",
       "12           pdays     6\n",
       "23        default0     7\n",
       "17   cons.conf.idx     8\n",
       "11        campaign     9\n",
       "3        education    10\n",
       "22      education0    11\n",
       "9      day_of_week    12\n",
       "4          default    13\n",
       "2          marital    14\n",
       "0              age    15\n",
       "13        previous    16\n",
       "27          pdays0    17\n",
       "1              job    18\n",
       "6             loan    19\n",
       "24        housing0    20\n",
       "25           loan0    21\n",
       "5          housing    22\n",
       "21        marital0    23\n",
       "20            job0    24"
      ]
     },
     "execution_count": 211,
     "metadata": {},
     "output_type": "execute_result"
    }
   ],
   "source": [
    "# And in order\n",
    "rnk0 = pd.DataFrame(data={'name': list(X_train.columns), 'rank': rfe.ranking_})\n",
    "rnk0.sort_values(['rank'])"
   ]
  },
  {
   "cell_type": "code",
   "execution_count": 200,
   "metadata": {},
   "outputs": [
    {
     "data": {
      "text/plain": [
       "[10, 14, 15, 19, 26]"
      ]
     },
     "execution_count": 200,
     "metadata": {},
     "output_type": "execute_result"
    }
   ],
   "source": [
    "idxs = list(np.where(rfe.support_)[0])\n",
    "idxs"
   ]
  },
  {
   "cell_type": "markdown",
   "metadata": {},
   "source": [
    "### Decision Tree Classifier\n",
    "\n",
    "This is hard work for scikit-learn"
   ]
  },
  {
   "cell_type": "code",
   "execution_count": 34,
   "metadata": {},
   "outputs": [
    {
     "data": {
      "text/plain": [
       "['emp.var.rate',\n",
       " 'marital0',\n",
       " 'poutcome',\n",
       " 'cons.conf.idx',\n",
       " 'default',\n",
       " 'job0',\n",
       " 'marital',\n",
       " 'contact',\n",
       " 'previous',\n",
       " 'pdays',\n",
       " 'cons.price.idx',\n",
       " 'loan',\n",
       " 'campaign',\n",
       " 'pdays0',\n",
       " 'day_of_week',\n",
       " 'loan0',\n",
       " 'default0',\n",
       " 'poutcome0',\n",
       " 'education',\n",
       " 'month',\n",
       " 'housing',\n",
       " 'education0',\n",
       " 'housing0']"
      ]
     },
     "execution_count": 34,
     "metadata": {},
     "output_type": "execute_result"
    },
    {
     "data": {
      "text/plain": [
       "0.9551811207147713"
      ]
     },
     "execution_count": 34,
     "metadata": {},
     "output_type": "execute_result"
    }
   ],
   "source": [
    "# Train Decision Tree Classifer\n",
    "\n",
    "cols = X_train.columns\n",
    "cols = list(set(cols).difference(f0s))\n",
    "cols\n",
    "\n",
    "clf = clf.fit(X_train[cols], y_train)\n",
    "y_pred = clf.predict(X_train[cols])\n",
    "metrics.accuracy_score(y_train, y_pred)"
   ]
  },
  {
   "cell_type": "code",
   "execution_count": 35,
   "metadata": {},
   "outputs": [
    {
     "data": {
      "text/plain": [
       "[Text(166.70250000000001, 199.32, 'pdays0 <= -2.461\\nentropy = 0.2\\nsamples = 41188\\nvalue = [36548, 4640]\\nclass = 0'),\n",
       " Text(87.885, 163.07999999999998, 'cons.conf.idx <= -0.194\\nentropy = 0.462\\nsamples = 1515\\nvalue = [548, 967]\\nclass = 1'),\n",
       " Text(44.64, 126.83999999999999, 'cons.conf.idx <= -1.328\\nentropy = 0.494\\nsamples = 396\\nvalue = [220, 176]\\nclass = 0'),\n",
       " Text(22.32, 90.6, 'pdays <= -4.853\\nentropy = 0.476\\nsamples = 197\\nvalue = [77, 120]\\nclass = 1'),\n",
       " Text(11.16, 54.359999999999985, 'campaign <= 0.698\\nentropy = 0.441\\nsamples = 149\\nvalue = [49, 100]\\nclass = 1'),\n",
       " Text(5.58, 18.119999999999976, '\\n  (...)  \\n'),\n",
       " Text(16.740000000000002, 18.119999999999976, '\\n  (...)  \\n'),\n",
       " Text(33.480000000000004, 54.359999999999985, 'month <= -0.746\\nentropy = 0.486\\nsamples = 48\\nvalue = [28, 20]\\nclass = 0'),\n",
       " Text(27.9, 18.119999999999976, '\\n  (...)  \\n'),\n",
       " Text(39.06, 18.119999999999976, '\\n  (...)  \\n'),\n",
       " Text(66.96000000000001, 90.6, 'month <= 0.978\\nentropy = 0.404\\nsamples = 199\\nvalue = [143, 56]\\nclass = 0'),\n",
       " Text(55.8, 54.359999999999985, 'campaign <= 0.698\\nentropy = 0.437\\nsamples = 164\\nvalue = [111, 53]\\nclass = 0'),\n",
       " Text(50.22, 18.119999999999976, '\\n  (...)  \\n'),\n",
       " Text(61.38, 18.119999999999976, '\\n  (...)  \\n'),\n",
       " Text(78.12, 54.359999999999985, 'pdays <= -5.319\\nentropy = 0.157\\nsamples = 35\\nvalue = [32, 3]\\nclass = 0'),\n",
       " Text(72.54, 18.119999999999976, '\\n  (...)  \\n'),\n",
       " Text(83.7, 18.119999999999976, '\\n  (...)  \\n'),\n",
       " Text(131.13, 126.83999999999999, 'emp.var.rate <= -1.548\\nentropy = 0.414\\nsamples = 1119\\nvalue = [328, 791]\\nclass = 1'),\n",
       " Text(111.6, 90.6, 'campaign <= 0.337\\nentropy = 0.463\\nsamples = 520\\nvalue = [189, 331]\\nclass = 1'),\n",
       " Text(100.44, 54.359999999999985, 'emp.var.rate <= -1.93\\nentropy = 0.455\\nsamples = 495\\nvalue = [173, 322]\\nclass = 1'),\n",
       " Text(94.86, 18.119999999999976, '\\n  (...)  \\n'),\n",
       " Text(106.02, 18.119999999999976, '\\n  (...)  \\n'),\n",
       " Text(122.76, 54.359999999999985, 'previous <= 2.681\\nentropy = 0.461\\nsamples = 25\\nvalue = [16, 9]\\nclass = 0'),\n",
       " Text(117.18, 18.119999999999976, '\\n  (...)  \\n'),\n",
       " Text(128.34, 18.119999999999976, '\\n  (...)  \\n'),\n",
       " Text(150.66, 90.6, 'campaign <= 1.42\\nentropy = 0.356\\nsamples = 599\\nvalue = [139, 460]\\nclass = 1'),\n",
       " Text(145.08, 54.359999999999985, 'day_of_week <= -0.361\\nentropy = 0.348\\nsamples = 593\\nvalue = [133, 460]\\nclass = 1'),\n",
       " Text(139.5, 18.119999999999976, '\\n  (...)  \\n'),\n",
       " Text(150.66, 18.119999999999976, '\\n  (...)  \\n'),\n",
       " Text(156.24, 54.359999999999985, 'entropy = 0.0\\nsamples = 6\\nvalue = [6, 0]\\nclass = 0'),\n",
       " Text(245.52, 163.07999999999998, 'emp.var.rate <= -0.466\\nentropy = 0.168\\nsamples = 39673\\nvalue = [36000, 3673]\\nclass = 0'),\n",
       " Text(200.88, 126.83999999999999, 'cons.conf.idx <= -0.648\\nentropy = 0.313\\nsamples = 12018\\nvalue = [9681, 2337]\\nclass = 0'),\n",
       " Text(178.56, 90.6, 'cons.conf.idx <= -1.685\\nentropy = 0.22\\nsamples = 8505\\nvalue = [7435, 1070]\\nclass = 0'),\n",
       " Text(167.4, 54.359999999999985, 'poutcome0 <= -1.058\\nentropy = 0.479\\nsamples = 484\\nvalue = [292, 192]\\nclass = 0'),\n",
       " Text(161.82, 18.119999999999976, '\\n  (...)  \\n'),\n",
       " Text(172.98, 18.119999999999976, '\\n  (...)  \\n'),\n",
       " Text(189.72, 54.359999999999985, 'cons.price.idx <= -1.022\\nentropy = 0.195\\nsamples = 8021\\nvalue = [7143, 878]\\nclass = 0'),\n",
       " Text(184.14000000000001, 18.119999999999976, '\\n  (...)  \\n'),\n",
       " Text(195.3, 18.119999999999976, '\\n  (...)  \\n'),\n",
       " Text(223.2, 90.6, 'contact <= 0.28\\nentropy = 0.461\\nsamples = 3513\\nvalue = [2246, 1267]\\nclass = 0'),\n",
       " Text(212.04, 54.359999999999985, 'cons.price.idx <= -0.708\\nentropy = 0.474\\nsamples = 2946\\nvalue = [1808, 1138]\\nclass = 0'),\n",
       " Text(206.46, 18.119999999999976, '\\n  (...)  \\n'),\n",
       " Text(217.62, 18.119999999999976, '\\n  (...)  \\n'),\n",
       " Text(234.36, 54.359999999999985, 'month <= -1.608\\nentropy = 0.352\\nsamples = 567\\nvalue = [438, 129]\\nclass = 0'),\n",
       " Text(228.78, 18.119999999999976, '\\n  (...)  \\n'),\n",
       " Text(239.94, 18.119999999999976, '\\n  (...)  \\n'),\n",
       " Text(290.16, 126.83999999999999, 'month <= 1.409\\nentropy = 0.092\\nsamples = 27655\\nvalue = [26319, 1336]\\nclass = 0'),\n",
       " Text(267.84000000000003, 90.6, 'contact <= 0.28\\nentropy = 0.089\\nsamples = 27588\\nvalue = [26294, 1294]\\nclass = 0'),\n",
       " Text(256.68, 54.359999999999985, 'cons.price.idx <= 0.182\\nentropy = 0.108\\nsamples = 13943\\nvalue = [13146, 797]\\nclass = 0'),\n",
       " Text(251.1, 18.119999999999976, '\\n  (...)  \\n'),\n",
       " Text(262.26, 18.119999999999976, '\\n  (...)  \\n'),\n",
       " Text(279.0, 54.359999999999985, 'cons.price.idx <= 0.182\\nentropy = 0.07\\nsamples = 13645\\nvalue = [13148, 497]\\nclass = 0'),\n",
       " Text(273.42, 18.119999999999976, '\\n  (...)  \\n'),\n",
       " Text(284.58, 18.119999999999976, '\\n  (...)  \\n'),\n",
       " Text(312.48, 90.6, 'education <= 0.98\\nentropy = 0.468\\nsamples = 67\\nvalue = [25, 42]\\nclass = 1'),\n",
       " Text(301.32, 54.359999999999985, 'contact <= 0.28\\nentropy = 0.441\\nsamples = 58\\nvalue = [19, 39]\\nclass = 1'),\n",
       " Text(295.74, 18.119999999999976, '\\n  (...)  \\n'),\n",
       " Text(306.9, 18.119999999999976, '\\n  (...)  \\n'),\n",
       " Text(323.64, 54.359999999999985, 'day_of_week <= -0.361\\nentropy = 0.444\\nsamples = 9\\nvalue = [6, 3]\\nclass = 0'),\n",
       " Text(318.06, 18.119999999999976, '\\n  (...)  \\n'),\n",
       " Text(329.22, 18.119999999999976, '\\n  (...)  \\n')]"
      ]
     },
     "execution_count": 35,
     "metadata": {},
     "output_type": "execute_result"
    },
    {
     "data": {
      "image/png": "[encoded data removed]",
      "text/plain": [
       "<Figure size 432x288 with 1 Axes>"
      ]
     },
     "metadata": {
      "needs_background": "light"
     },
     "output_type": "display_data"
    }
   ],
   "source": [
    "tree.plot_tree(clf, max_depth=4, feature_names = cols, class_names=['0','1'])"
   ]
  },
  {
   "cell_type": "code",
   "execution_count": null,
   "metadata": {},
   "outputs": [],
   "source": [
    "dot_data = 'tree.dot'\n",
    "export_graphviz(clf, out_file=dot_data,  \n",
    "                filled=True, rounded=True,\n",
    "                special_characters=True, max_depth=4, feature_names = cols, class_names=['0','1'])"
   ]
  },
  {
   "cell_type": "markdown",
   "metadata": {},
   "source": [
    "# Summary\n",
    "\n",
    "Case 1. Never active. The models all fit quickly and over cross-validation manage to get to over 90% accuracy.\n",
    "Only MLPC struggles.\n",
    "\n",
    "Case 2. Inactive for over a year. SVM really struggles to converge. Logistic regression needs 10000 iterations but gets to over 90%. MLPC gets there but is probably over-fitting.\n",
    "\n",
    "Case 3. Inactive for over a month. MLCP gets 30% with full layers. Logistic regression can get to over 75%.\n",
    "\n",
    "Running through the models, and looking at the feature selection, it seems that, for all cases, if a user has had transaction declined, or has had one reverted or declared as pending, then they prove to be inactive. For some reason a notification of ONBOARDING_TIPS_ACTIVATED_USERS seems to be a good indicator. This might be that account-holders who are having trouble ask for help in the form of onboarding tips."
   ]
  },
  {
   "cell_type": "code",
   "execution_count": null,
   "metadata": {},
   "outputs": [],
   "source": []
  },
  {
   "cell_type": "code",
   "execution_count": null,
   "metadata": {},
   "outputs": [],
   "source": []
  }
 ],
 "metadata": {
  "kernelspec": {
   "display_name": "Python 3",
   "language": "python",
   "name": "python3"
  },
  "language_info": {
   "codemirror_mode": {
    "name": "ipython",
    "version": 3
   },
   "file_extension": ".py",
   "mimetype": "text/x-python",
   "name": "python",
   "nbconvert_exporter": "python",
   "pygments_lexer": "ipython3",
   "version": "3.7.3"
  }
 },
 "nbformat": 4,
 "nbformat_minor": 4
}
