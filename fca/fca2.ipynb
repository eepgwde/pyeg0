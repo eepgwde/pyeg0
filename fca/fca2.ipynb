{
 "cells": [
  {
   "cell_type": "markdown",
   "metadata": {},
   "source": [
    "# FCA\n",
    "\n",
    "Technical Challenge for Data Science Candidates\n",
    "\n",
    "This workbook loads a pickle file from the prior notebook.\n",
    "\n",
    "Naive Model"
   ]
  },
  {
   "cell_type": "code",
   "execution_count": 434,
   "metadata": {},
   "outputs": [
    {
     "data": {
      "text/plain": [
       "'0.24.2'"
      ]
     },
     "execution_count": 434,
     "metadata": {},
     "output_type": "execute_result"
    }
   ],
   "source": [
    "import numpy as np\n",
    "import pandas as pd\n",
    "import math\n",
    "import json\n",
    "\n",
    "from os import path\n",
    "\n",
    "from sklearn.model_selection import KFold\n",
    "from sklearn.neural_network import MLPClassifier\n",
    "from sklearn.linear_model import LogisticRegression\n",
    "\n",
    "from sklearn import tree\n",
    "from sklearn import ensemble\n",
    "from sklearn import metrics\n",
    "\n",
    "from sklearn.model_selection import cross_val_score\n",
    "from sklearn.feature_selection import RFE\n",
    "\n",
    "import scipy.stats as st\n",
    "import statsmodels as sm\n",
    "import statsmodels.api as smi\n",
    "from sklearn import svm\n",
    "\n",
    "from sklearn import datasets, linear_model\n",
    "from sklearn.model_selection import train_test_split\n",
    "\n",
    "from cycler import cycler\n",
    "import matplotlib.pyplot as plt\n",
    "import seaborn as sns\n",
    "\n",
    "pd.__version__"
   ]
  },
  {
   "cell_type": "code",
   "execution_count": 347,
   "metadata": {},
   "outputs": [],
   "source": [
    "# If you turn this feature on, you can display each result as it happens.\n",
    "from IPython.core.interactiveshell import InteractiveShell\n",
    "InteractiveShell.ast_node_interactivity = \"all\""
   ]
  },
  {
   "cell_type": "code",
   "execution_count": 348,
   "metadata": {},
   "outputs": [],
   "source": [
    "# this is the local Utility module and it reloaded each time.\n",
    "from fca import Utility"
   ]
  },
  {
   "cell_type": "code",
   "execution_count": 349,
   "metadata": {},
   "outputs": [
    {
     "name": "stdout",
     "output_type": "stream",
     "text": [
      "The autoreload extension is already loaded. To reload it, use:\n",
      "  %reload_ext autoreload\n"
     ]
    }
   ],
   "source": [
    "%load_ext autoreload\n",
    "%autoreload 1\n",
    "%aimport fca"
   ]
  },
  {
   "cell_type": "code",
   "execution_count": 350,
   "metadata": {},
   "outputs": [],
   "source": [
    "# My utility singleton.\n",
    "i0 = Utility.instance()"
   ]
  },
  {
   "cell_type": "markdown",
   "metadata": {},
   "source": [
    "## Modelling\n",
    "\n",
    "There are some highly correlated features that might be confusing.\n",
    "Build a naive model that uses all the features and refine it down.\n",
    "\n",
    "Filter the dataset and then apply a selection of models."
   ]
  },
  {
   "cell_type": "code",
   "execution_count": 389,
   "metadata": {},
   "outputs": [],
   "source": [
    "# df2 = pd.read_pickle(\"coded.pickle\")\n",
    "df2 = pd.read_pickle(\"scaled.pickle\")"
   ]
  },
  {
   "cell_type": "code",
   "execution_count": 390,
   "metadata": {},
   "outputs": [],
   "source": [
    "# re-instate the boolean binary outcome\n",
    "df2.y = df2.y > 0\n",
    "df2.y;"
   ]
  },
  {
   "cell_type": "code",
   "execution_count": 391,
   "metadata": {},
   "outputs": [
    {
     "data": {
      "text/plain": [
       "0.11265417111780131"
      ]
     },
     "execution_count": 391,
     "metadata": {},
     "output_type": "execute_result"
    }
   ],
   "source": [
    "## Low incidence rate may require some up-sampling.\n",
    "np.sum(df2.y.values) / len(df2.y)"
   ]
  },
  {
   "cell_type": "markdown",
   "metadata": {},
   "source": [
    "### Reload the dataset for the model\n",
    "\n",
    "You need to run this after you have chosen and evaluated to reset the dataset.\n",
    "There is no scaling needed for the models chosen.\n",
    "If you run all cells, the default is evaluate for the never-active with logistic regression."
   ]
  },
  {
   "cell_type": "markdown",
   "metadata": {},
   "source": [
    "### Splitting\n",
    "\n",
    "I use sample0 for the different datasets. \n",
    " 1. use a train/test split\n",
    " 2. use everything - let cross-validation make the splits"
   ]
  },
  {
   "cell_type": "code",
   "execution_count": 392,
   "metadata": {},
   "outputs": [],
   "source": [
    "sample0=2"
   ]
  },
  {
   "cell_type": "markdown",
   "metadata": {},
   "source": [
    "### Case 0: Prescient data\n",
    "\n",
    "Null hypothesis.\n",
    "\n",
    "I include the outcome variable - forcing over-fitting. All the models should converge to one. Or the data is structurally unsound (mis-scaled) or completely noise. I then remove each of the prescient variables."
   ]
  },
  {
   "cell_type": "code",
   "execution_count": 369,
   "metadata": {},
   "outputs": [],
   "source": [
    "y = df2.y\n",
    "# X = df2.drop(columns=['y'])\n",
    "X = df2"
   ]
  },
  {
   "cell_type": "markdown",
   "metadata": {},
   "source": [
    "### Case 1: All features\n",
    "\n",
    "Remove the outcome and get a baseline"
   ]
  },
  {
   "cell_type": "code",
   "execution_count": 395,
   "metadata": {},
   "outputs": [
    {
     "data": {
      "text/plain": [
       "Index(['age', 'job', 'marital', 'education', 'default', 'housing', 'loan',\n",
       "       'contact', 'month', 'day_of_week', 'duration', 'campaign', 'pdays',\n",
       "       'previous', 'poutcome', 'emp.var.rate', 'cons.price.idx',\n",
       "       'cons.conf.idx', 'euribor3m', 'nr.employed', 'job0', 'marital0',\n",
       "       'education0', 'default0', 'housing0', 'loan0', 'poutcome0', 'pdays0'],\n",
       "      dtype='object')"
      ]
     },
     "execution_count": 395,
     "metadata": {},
     "output_type": "execute_result"
    }
   ],
   "source": [
    "y = df2.y\n",
    "X = df2.drop(columns=['y'])\n",
    "# X = df2\n",
    "X.columns"
   ]
  },
  {
   "cell_type": "markdown",
   "metadata": {},
   "source": [
    "### Case 2: case 1 and other refinements\n"
   ]
  },
  {
   "cell_type": "code",
   "execution_count": 321,
   "metadata": {},
   "outputs": [
    {
     "data": {
      "text/plain": [
       "['default',\n",
       " 'poutcome',\n",
       " 'pdays',\n",
       " 'previous',\n",
       " 'euribor3m',\n",
       " 'emp.var.rate',\n",
       " 'cons.conf.idx']"
      ]
     },
     "execution_count": 321,
     "metadata": {},
     "output_type": "execute_result"
    }
   ],
   "source": [
    "# Remove highly-correlated features\n",
    "# default is an historical - if loan given will they default\n",
    "pcols = ['default', 'poutcome', 'pdays', 'previous' ]\n",
    "pcols = pcols + ['euribor3m', 'emp.var.rate',  'cons.conf.idx']\n",
    "pcols"
   ]
  },
  {
   "cell_type": "code",
   "execution_count": 322,
   "metadata": {},
   "outputs": [
    {
     "data": {
      "text/plain": [
       "Index(['age', 'job', 'marital', 'education', 'housing', 'loan', 'contact',\n",
       "       'month', 'day_of_week', 'duration', 'campaign', 'cons.price.idx',\n",
       "       'nr.employed'],\n",
       "      dtype='object')"
      ]
     },
     "execution_count": 322,
     "metadata": {},
     "output_type": "execute_result"
    }
   ],
   "source": [
    "X = X.drop(columns=pcols)\n",
    "X.columns"
   ]
  },
  {
   "cell_type": "markdown",
   "metadata": {},
   "source": [
    "### Split the Data"
   ]
  },
  {
   "cell_type": "code",
   "execution_count": 396,
   "metadata": {},
   "outputs": [],
   "source": [
    "Xcols = list(X.columns)\n",
    "if sample0 == 1:\n",
    "    X_train, X_test, y_train, y_test = train_test_split(X, y, test_size=0.2)\n",
    "elif sample0 == 2:\n",
    "    X_train, X_test, y_train, y_test = ( X, None, y, None )"
   ]
  },
  {
   "cell_type": "code",
   "execution_count": 397,
   "metadata": {},
   "outputs": [
    {
     "data": {
      "text/plain": [
       "(41188, 28)"
      ]
     },
     "execution_count": 397,
     "metadata": {},
     "output_type": "execute_result"
    },
    {
     "data": {
      "text/plain": [
       "(41188,)"
      ]
     },
     "execution_count": 397,
     "metadata": {},
     "output_type": "execute_result"
    },
    {
     "data": {
      "text/plain": [
       "['age',\n",
       " 'job',\n",
       " 'marital',\n",
       " 'education',\n",
       " 'default',\n",
       " 'housing',\n",
       " 'loan',\n",
       " 'contact',\n",
       " 'month',\n",
       " 'day_of_week',\n",
       " 'duration',\n",
       " 'campaign',\n",
       " 'pdays',\n",
       " 'previous',\n",
       " 'poutcome',\n",
       " 'emp.var.rate',\n",
       " 'cons.price.idx',\n",
       " 'cons.conf.idx',\n",
       " 'euribor3m',\n",
       " 'nr.employed',\n",
       " 'job0',\n",
       " 'marital0',\n",
       " 'education0',\n",
       " 'default0',\n",
       " 'housing0',\n",
       " 'loan0',\n",
       " 'poutcome0',\n",
       " 'pdays0']"
      ]
     },
     "execution_count": 397,
     "metadata": {},
     "output_type": "execute_result"
    }
   ],
   "source": [
    "X_train.shape\n",
    "y_train.shape\n",
    "Xcols"
   ]
  },
  {
   "cell_type": "markdown",
   "metadata": {},
   "source": [
    "## Model cases\n",
    "\n",
    "Again choose one to apply to the data you've chosen.\n",
    "\n",
    "These are a number of models that can be applied. Some are 'patchy', results have high variance. Some are good for spotting mal-formed features.\n",
    "\n",
    "    1. The first SVC is not practical for \"big\" data (width and count), but works well for smaller ones.\n",
    "\n",
    "    2. The Multi-Layer Perceptron Classifier is a useful neural network and can get reasonable results quickly - it parallizes well. The hidden_layer_sizes need tuning to get a cross validation score over 0.5. Can be patchy. Spots prescients.\n",
    "\n",
    "    3. The logistic regression is a very solid performer - not patchy. Usually spots prescients.\n",
    "\n",
    "    4. Gradient-boosted is fast and spots prescients.\n",
    "\n",
    "    5. Random-forest usually gets balanced results\n",
    "    \n",
    "When the MLPC is patchy, it usually means there is a useful split to be made. There is a Decision Tree Classifier below that can help find the split."
   ]
  },
  {
   "cell_type": "code",
   "execution_count": 325,
   "metadata": {},
   "outputs": [],
   "source": [
    "clf = svm.SVC(kernel='linear', C=1)"
   ]
  },
  {
   "cell_type": "code",
   "execution_count": 398,
   "metadata": {},
   "outputs": [],
   "source": [
    "# Useful method. Reduce the size of the neural network to find a path with prescient features. log_2 should be minimal\n",
    "x0 = math.floor(math.log(X.shape[1], 2))\n",
    "clf =  MLPClassifier(solver='lbfgs', alpha=1e-5, hidden_layer_sizes=(x0, x0, 2), \n",
    "                     random_state=1, warm_start=True)"
   ]
  },
  {
   "cell_type": "code",
   "execution_count": 381,
   "metadata": {},
   "outputs": [],
   "source": [
    "original_params = {'n_estimators': 1000, 'max_leaf_nodes': 8, 'max_depth': None, 'random_state': 2,\n",
    "                   'min_samples_split': 8}\n",
    "params = original_params\n",
    "\n",
    "clf = ensemble.GradientBoostingClassifier(**params)"
   ]
  },
  {
   "cell_type": "code",
   "execution_count": 383,
   "metadata": {},
   "outputs": [],
   "source": [
    "clf = ensemble.RandomForestClassifier(max_depth=2, random_state=0)"
   ]
  },
  {
   "cell_type": "code",
   "execution_count": 428,
   "metadata": {},
   "outputs": [],
   "source": [
    "clf = LogisticRegression(C=1e4, solver='lbfgs', multi_class='auto', max_iter=10000) # max_iter is 2 orders up!"
   ]
  },
  {
   "cell_type": "code",
   "execution_count": null,
   "metadata": {},
   "outputs": [],
   "source": [
    "clf = DecisionTreeClassifier()\n",
    "\n",
    "tree.plot_tree(clf.fit(X_train, y_train)) "
   ]
  },
  {
   "cell_type": "markdown",
   "metadata": {},
   "source": [
    "## From cross-validation results, choose the most accurate model\n",
    "\n",
    "To evaluate the model under a cross-validation scheme, run this cell."
   ]
  },
  {
   "cell_type": "code",
   "execution_count": 405,
   "metadata": {},
   "outputs": [
    {
     "data": {
      "text/plain": [
       "array([0.8884438 , 0.36028162, 0.62078174, 0.18331917, 0.14228481])"
      ]
     },
     "execution_count": 405,
     "metadata": {},
     "output_type": "execute_result"
    }
   ],
   "source": [
    "scores = cross_val_score(clf, X_train, y_train, cv=5, error_score=np.nan)\n",
    "scores"
   ]
  },
  {
   "cell_type": "markdown",
   "metadata": {},
   "source": [
    "## Feature selection\n",
    "\n",
    "Try to determine best features"
   ]
  },
  {
   "cell_type": "code",
   "execution_count": 400,
   "metadata": {},
   "outputs": [
    {
     "data": {
      "text/plain": [
       "MLPClassifier(activation='relu', alpha=1e-05, batch_size='auto', beta_1=0.9,\n",
       "              beta_2=0.999, early_stopping=False, epsilon=1e-08,\n",
       "              hidden_layer_sizes=(4, 4, 2), learning_rate='constant',\n",
       "              learning_rate_init=0.001, max_iter=200, momentum=0.9,\n",
       "              n_iter_no_change=10, nesterovs_momentum=True, power_t=0.5,\n",
       "              random_state=1, shuffle=True, solver='lbfgs', tol=0.0001,\n",
       "              validation_fraction=0.1, verbose=False, warm_start=True)"
      ]
     },
     "execution_count": 400,
     "metadata": {},
     "output_type": "execute_result"
    }
   ],
   "source": [
    "clf"
   ]
  },
  {
   "cell_type": "code",
   "execution_count": 386,
   "metadata": {},
   "outputs": [
    {
     "name": "stderr",
     "output_type": "stream",
     "text": [
      "/misc/share/0/anaconda3/envs/gensim/lib/python3.7/site-packages/sklearn/ensemble/forest.py:245: FutureWarning: The default value of n_estimators will change from 10 in version 0.20 to 100 in 0.22.\n",
      "  \"10 in version 0.20 to 100 in 0.22.\", FutureWarning)\n",
      "/misc/share/0/anaconda3/envs/gensim/lib/python3.7/site-packages/sklearn/ensemble/forest.py:245: FutureWarning: The default value of n_estimators will change from 10 in version 0.20 to 100 in 0.22.\n",
      "  \"10 in version 0.20 to 100 in 0.22.\", FutureWarning)\n",
      "/misc/share/0/anaconda3/envs/gensim/lib/python3.7/site-packages/sklearn/ensemble/forest.py:245: FutureWarning: The default value of n_estimators will change from 10 in version 0.20 to 100 in 0.22.\n",
      "  \"10 in version 0.20 to 100 in 0.22.\", FutureWarning)\n",
      "/misc/share/0/anaconda3/envs/gensim/lib/python3.7/site-packages/sklearn/ensemble/forest.py:245: FutureWarning: The default value of n_estimators will change from 10 in version 0.20 to 100 in 0.22.\n",
      "  \"10 in version 0.20 to 100 in 0.22.\", FutureWarning)\n",
      "/misc/share/0/anaconda3/envs/gensim/lib/python3.7/site-packages/sklearn/ensemble/forest.py:245: FutureWarning: The default value of n_estimators will change from 10 in version 0.20 to 100 in 0.22.\n",
      "  \"10 in version 0.20 to 100 in 0.22.\", FutureWarning)\n",
      "/misc/share/0/anaconda3/envs/gensim/lib/python3.7/site-packages/sklearn/ensemble/forest.py:245: FutureWarning: The default value of n_estimators will change from 10 in version 0.20 to 100 in 0.22.\n",
      "  \"10 in version 0.20 to 100 in 0.22.\", FutureWarning)\n",
      "/misc/share/0/anaconda3/envs/gensim/lib/python3.7/site-packages/sklearn/ensemble/forest.py:245: FutureWarning: The default value of n_estimators will change from 10 in version 0.20 to 100 in 0.22.\n",
      "  \"10 in version 0.20 to 100 in 0.22.\", FutureWarning)\n",
      "/misc/share/0/anaconda3/envs/gensim/lib/python3.7/site-packages/sklearn/ensemble/forest.py:245: FutureWarning: The default value of n_estimators will change from 10 in version 0.20 to 100 in 0.22.\n",
      "  \"10 in version 0.20 to 100 in 0.22.\", FutureWarning)\n",
      "/misc/share/0/anaconda3/envs/gensim/lib/python3.7/site-packages/sklearn/ensemble/forest.py:245: FutureWarning: The default value of n_estimators will change from 10 in version 0.20 to 100 in 0.22.\n",
      "  \"10 in version 0.20 to 100 in 0.22.\", FutureWarning)\n",
      "/misc/share/0/anaconda3/envs/gensim/lib/python3.7/site-packages/sklearn/ensemble/forest.py:245: FutureWarning: The default value of n_estimators will change from 10 in version 0.20 to 100 in 0.22.\n",
      "  \"10 in version 0.20 to 100 in 0.22.\", FutureWarning)\n",
      "/misc/share/0/anaconda3/envs/gensim/lib/python3.7/site-packages/sklearn/ensemble/forest.py:245: FutureWarning: The default value of n_estimators will change from 10 in version 0.20 to 100 in 0.22.\n",
      "  \"10 in version 0.20 to 100 in 0.22.\", FutureWarning)\n",
      "/misc/share/0/anaconda3/envs/gensim/lib/python3.7/site-packages/sklearn/ensemble/forest.py:245: FutureWarning: The default value of n_estimators will change from 10 in version 0.20 to 100 in 0.22.\n",
      "  \"10 in version 0.20 to 100 in 0.22.\", FutureWarning)\n",
      "/misc/share/0/anaconda3/envs/gensim/lib/python3.7/site-packages/sklearn/ensemble/forest.py:245: FutureWarning: The default value of n_estimators will change from 10 in version 0.20 to 100 in 0.22.\n",
      "  \"10 in version 0.20 to 100 in 0.22.\", FutureWarning)\n",
      "/misc/share/0/anaconda3/envs/gensim/lib/python3.7/site-packages/sklearn/ensemble/forest.py:245: FutureWarning: The default value of n_estimators will change from 10 in version 0.20 to 100 in 0.22.\n",
      "  \"10 in version 0.20 to 100 in 0.22.\", FutureWarning)\n",
      "/misc/share/0/anaconda3/envs/gensim/lib/python3.7/site-packages/sklearn/ensemble/forest.py:245: FutureWarning: The default value of n_estimators will change from 10 in version 0.20 to 100 in 0.22.\n",
      "  \"10 in version 0.20 to 100 in 0.22.\", FutureWarning)\n",
      "/misc/share/0/anaconda3/envs/gensim/lib/python3.7/site-packages/sklearn/ensemble/forest.py:245: FutureWarning: The default value of n_estimators will change from 10 in version 0.20 to 100 in 0.22.\n",
      "  \"10 in version 0.20 to 100 in 0.22.\", FutureWarning)\n",
      "/misc/share/0/anaconda3/envs/gensim/lib/python3.7/site-packages/sklearn/ensemble/forest.py:245: FutureWarning: The default value of n_estimators will change from 10 in version 0.20 to 100 in 0.22.\n",
      "  \"10 in version 0.20 to 100 in 0.22.\", FutureWarning)\n",
      "/misc/share/0/anaconda3/envs/gensim/lib/python3.7/site-packages/sklearn/ensemble/forest.py:245: FutureWarning: The default value of n_estimators will change from 10 in version 0.20 to 100 in 0.22.\n",
      "  \"10 in version 0.20 to 100 in 0.22.\", FutureWarning)\n",
      "/misc/share/0/anaconda3/envs/gensim/lib/python3.7/site-packages/sklearn/ensemble/forest.py:245: FutureWarning: The default value of n_estimators will change from 10 in version 0.20 to 100 in 0.22.\n",
      "  \"10 in version 0.20 to 100 in 0.22.\", FutureWarning)\n",
      "/misc/share/0/anaconda3/envs/gensim/lib/python3.7/site-packages/sklearn/ensemble/forest.py:245: FutureWarning: The default value of n_estimators will change from 10 in version 0.20 to 100 in 0.22.\n",
      "  \"10 in version 0.20 to 100 in 0.22.\", FutureWarning)\n",
      "/misc/share/0/anaconda3/envs/gensim/lib/python3.7/site-packages/sklearn/ensemble/forest.py:245: FutureWarning: The default value of n_estimators will change from 10 in version 0.20 to 100 in 0.22.\n",
      "  \"10 in version 0.20 to 100 in 0.22.\", FutureWarning)\n",
      "/misc/share/0/anaconda3/envs/gensim/lib/python3.7/site-packages/sklearn/ensemble/forest.py:245: FutureWarning: The default value of n_estimators will change from 10 in version 0.20 to 100 in 0.22.\n",
      "  \"10 in version 0.20 to 100 in 0.22.\", FutureWarning)\n",
      "/misc/share/0/anaconda3/envs/gensim/lib/python3.7/site-packages/sklearn/ensemble/forest.py:245: FutureWarning: The default value of n_estimators will change from 10 in version 0.20 to 100 in 0.22.\n",
      "  \"10 in version 0.20 to 100 in 0.22.\", FutureWarning)\n",
      "/misc/share/0/anaconda3/envs/gensim/lib/python3.7/site-packages/sklearn/ensemble/forest.py:245: FutureWarning: The default value of n_estimators will change from 10 in version 0.20 to 100 in 0.22.\n",
      "  \"10 in version 0.20 to 100 in 0.22.\", FutureWarning)\n",
      "/misc/share/0/anaconda3/envs/gensim/lib/python3.7/site-packages/sklearn/ensemble/forest.py:245: FutureWarning: The default value of n_estimators will change from 10 in version 0.20 to 100 in 0.22.\n",
      "  \"10 in version 0.20 to 100 in 0.22.\", FutureWarning)\n"
     ]
    },
    {
     "data": {
      "text/plain": [
       "array([False, False, False, False, False, False, False, False, False,\n",
       "       False, False, False,  True, False, False, False, False,  True,\n",
       "        True,  True,  True, False, False, False, False, False, False,\n",
       "       False, False])"
      ]
     },
     "execution_count": 386,
     "metadata": {},
     "output_type": "execute_result"
    },
    {
     "data": {
      "text/plain": [
       "array([25, 24, 23, 22, 19, 21, 20, 17, 18, 16,  9, 15,  1, 12, 11,  7, 13,\n",
       "        1,  1,  1,  1, 10,  8,  6,  5,  4, 14,  3,  2])"
      ]
     },
     "execution_count": 386,
     "metadata": {},
     "output_type": "execute_result"
    }
   ],
   "source": [
    "# create the RFE model and select 3 attributes\n",
    "rfe = RFE(clf, 5)\n",
    "rfe = rfe.fit(X_train, y_train)\n",
    "# summarize the selection of the attributes\n",
    "rfe.support_\n",
    "rfe.ranking_"
   ]
  },
  {
   "cell_type": "code",
   "execution_count": 387,
   "metadata": {},
   "outputs": [
    {
     "data": {
      "text/plain": [
       "['pdays', 'cons.conf.idx', 'euribor3m', 'nr.employed', 'y']"
      ]
     },
     "execution_count": 387,
     "metadata": {},
     "output_type": "execute_result"
    }
   ],
   "source": [
    "x0 = np.array(Xcols)\n",
    "list(x0[rfe.support_])"
   ]
  },
  {
   "cell_type": "code",
   "execution_count": 388,
   "metadata": {},
   "outputs": [
    {
     "data": {
      "text/plain": [
       "[12, 17, 18, 19, 20]"
      ]
     },
     "execution_count": 388,
     "metadata": {},
     "output_type": "execute_result"
    },
    {
     "data": {
      "text/plain": [
       "['age',\n",
       " 'job',\n",
       " 'marital',\n",
       " 'education',\n",
       " 'default',\n",
       " 'housing',\n",
       " 'loan',\n",
       " 'contact',\n",
       " 'month',\n",
       " 'day_of_week',\n",
       " 'duration',\n",
       " 'campaign',\n",
       " 'pdays',\n",
       " 'previous',\n",
       " 'poutcome',\n",
       " 'emp.var.rate',\n",
       " 'cons.price.idx',\n",
       " 'cons.conf.idx',\n",
       " 'euribor3m',\n",
       " 'nr.employed',\n",
       " 'y',\n",
       " 'job0',\n",
       " 'marital0',\n",
       " 'education0',\n",
       " 'default0',\n",
       " 'housing0',\n",
       " 'loan0',\n",
       " 'poutcome0',\n",
       " 'pdays0']"
      ]
     },
     "execution_count": 388,
     "metadata": {},
     "output_type": "execute_result"
    }
   ],
   "source": [
    "idxs = list(np.where(rfe.support_)[0])\n",
    "idxs\n",
    "Xcols"
   ]
  },
  {
   "cell_type": "markdown",
   "metadata": {},
   "source": [
    "### Decision Tree Classifier\n",
    "\n",
    "This is hard work for scikit-learn"
   ]
  },
  {
   "cell_type": "code",
   "execution_count": 435,
   "metadata": {},
   "outputs": [],
   "source": [
    "## Look at a decision tree\n",
    "# This can spot patches\n",
    "clf = tree.DecisionTreeClassifier()"
   ]
  },
  {
   "cell_type": "code",
   "execution_count": 436,
   "metadata": {},
   "outputs": [
    {
     "data": {
      "text/plain": [
       "['age', 'job', 'marital', 'education']"
      ]
     },
     "execution_count": 436,
     "metadata": {},
     "output_type": "execute_result"
    },
    {
     "data": {
      "text/plain": [
       "0.8969117218607361"
      ]
     },
     "execution_count": 436,
     "metadata": {},
     "output_type": "execute_result"
    }
   ],
   "source": [
    "# Train Decision Tree Classifer\n",
    "\n",
    "cols = X_train.columns\n",
    "cols = set(cols).difference(set(filter(lambda x: x.endswith(\"0\"), cols)))\n",
    "cols = ['age', 'job', 'marital', 'education']\n",
    "cols\n",
    "\n",
    "clf = clf.fit(X_train[cols], y_train)\n",
    "y_pred = clf.predict(X_train[cols])\n",
    "metrics.accuracy_score(y_train, y_pred)"
   ]
  },
  {
   "cell_type": "code",
   "execution_count": 432,
   "metadata": {},
   "outputs": [
    {
     "ename": "ValueError",
     "evalue": "Expected 2D array, got scalar array instead:\narray=nan.\nReshape your data either using array.reshape(-1, 1) if your data has a single feature or array.reshape(1, -1) if it contains a single sample.",
     "output_type": "error",
     "traceback": [
      "\u001b[0;31m---------------------------------------------------------------------------\u001b[0m",
      "\u001b[0;31mValueError\u001b[0m                                Traceback (most recent call last)",
      "\u001b[0;32m<ipython-input-432-b19078014609>\u001b[0m in \u001b[0;36m<module>\u001b[0;34m\u001b[0m\n\u001b[1;32m      1\u001b[0m \u001b[0;31m#Predict the response for test dataset\u001b[0m\u001b[0;34m\u001b[0m\u001b[0;34m\u001b[0m\u001b[0;34m\u001b[0m\u001b[0m\n\u001b[0;32m----> 2\u001b[0;31m \u001b[0my_pred\u001b[0m \u001b[0;34m=\u001b[0m \u001b[0mclf\u001b[0m\u001b[0;34m.\u001b[0m\u001b[0mpredict\u001b[0m\u001b[0;34m(\u001b[0m\u001b[0mX_test\u001b[0m\u001b[0;34m)\u001b[0m\u001b[0;34m\u001b[0m\u001b[0;34m\u001b[0m\u001b[0m\n\u001b[0m\u001b[1;32m      3\u001b[0m \u001b[0;34m\u001b[0m\u001b[0m\n\u001b[1;32m      4\u001b[0m \u001b[0mmetrics\u001b[0m\u001b[0;34m.\u001b[0m\u001b[0maccuracy_score\u001b[0m\u001b[0;34m(\u001b[0m\u001b[0my_test\u001b[0m\u001b[0;34m,\u001b[0m \u001b[0my_pred\u001b[0m\u001b[0;34m)\u001b[0m\u001b[0;34m\u001b[0m\u001b[0;34m\u001b[0m\u001b[0m\n",
      "\u001b[0;32m/misc/share/0/anaconda3/envs/gensim/lib/python3.7/site-packages/sklearn/tree/tree.py\u001b[0m in \u001b[0;36mpredict\u001b[0;34m(self, X, check_input)\u001b[0m\n\u001b[1;32m    428\u001b[0m         \"\"\"\n\u001b[1;32m    429\u001b[0m         \u001b[0mcheck_is_fitted\u001b[0m\u001b[0;34m(\u001b[0m\u001b[0mself\u001b[0m\u001b[0;34m,\u001b[0m \u001b[0;34m'tree_'\u001b[0m\u001b[0;34m)\u001b[0m\u001b[0;34m\u001b[0m\u001b[0;34m\u001b[0m\u001b[0m\n\u001b[0;32m--> 430\u001b[0;31m         \u001b[0mX\u001b[0m \u001b[0;34m=\u001b[0m \u001b[0mself\u001b[0m\u001b[0;34m.\u001b[0m\u001b[0m_validate_X_predict\u001b[0m\u001b[0;34m(\u001b[0m\u001b[0mX\u001b[0m\u001b[0;34m,\u001b[0m \u001b[0mcheck_input\u001b[0m\u001b[0;34m)\u001b[0m\u001b[0;34m\u001b[0m\u001b[0;34m\u001b[0m\u001b[0m\n\u001b[0m\u001b[1;32m    431\u001b[0m         \u001b[0mproba\u001b[0m \u001b[0;34m=\u001b[0m \u001b[0mself\u001b[0m\u001b[0;34m.\u001b[0m\u001b[0mtree_\u001b[0m\u001b[0;34m.\u001b[0m\u001b[0mpredict\u001b[0m\u001b[0;34m(\u001b[0m\u001b[0mX\u001b[0m\u001b[0;34m)\u001b[0m\u001b[0;34m\u001b[0m\u001b[0;34m\u001b[0m\u001b[0m\n\u001b[1;32m    432\u001b[0m         \u001b[0mn_samples\u001b[0m \u001b[0;34m=\u001b[0m \u001b[0mX\u001b[0m\u001b[0;34m.\u001b[0m\u001b[0mshape\u001b[0m\u001b[0;34m[\u001b[0m\u001b[0;36m0\u001b[0m\u001b[0;34m]\u001b[0m\u001b[0;34m\u001b[0m\u001b[0;34m\u001b[0m\u001b[0m\n",
      "\u001b[0;32m/misc/share/0/anaconda3/envs/gensim/lib/python3.7/site-packages/sklearn/tree/tree.py\u001b[0m in \u001b[0;36m_validate_X_predict\u001b[0;34m(self, X, check_input)\u001b[0m\n\u001b[1;32m    389\u001b[0m         \u001b[0;34m\"\"\"Validate X whenever one tries to predict, apply, predict_proba\"\"\"\u001b[0m\u001b[0;34m\u001b[0m\u001b[0;34m\u001b[0m\u001b[0m\n\u001b[1;32m    390\u001b[0m         \u001b[0;32mif\u001b[0m \u001b[0mcheck_input\u001b[0m\u001b[0;34m:\u001b[0m\u001b[0;34m\u001b[0m\u001b[0;34m\u001b[0m\u001b[0m\n\u001b[0;32m--> 391\u001b[0;31m             \u001b[0mX\u001b[0m \u001b[0;34m=\u001b[0m \u001b[0mcheck_array\u001b[0m\u001b[0;34m(\u001b[0m\u001b[0mX\u001b[0m\u001b[0;34m,\u001b[0m \u001b[0mdtype\u001b[0m\u001b[0;34m=\u001b[0m\u001b[0mDTYPE\u001b[0m\u001b[0;34m,\u001b[0m \u001b[0maccept_sparse\u001b[0m\u001b[0;34m=\u001b[0m\u001b[0;34m\"csr\"\u001b[0m\u001b[0;34m)\u001b[0m\u001b[0;34m\u001b[0m\u001b[0;34m\u001b[0m\u001b[0m\n\u001b[0m\u001b[1;32m    392\u001b[0m             if issparse(X) and (X.indices.dtype != np.intc or\n\u001b[1;32m    393\u001b[0m                                 X.indptr.dtype != np.intc):\n",
      "\u001b[0;32m/misc/share/0/anaconda3/envs/gensim/lib/python3.7/site-packages/sklearn/utils/validation.py\u001b[0m in \u001b[0;36mcheck_array\u001b[0;34m(array, accept_sparse, accept_large_sparse, dtype, order, copy, force_all_finite, ensure_2d, allow_nd, ensure_min_samples, ensure_min_features, warn_on_dtype, estimator)\u001b[0m\n\u001b[1;32m    512\u001b[0m                     \u001b[0;34m\"Reshape your data either using array.reshape(-1, 1) if \"\u001b[0m\u001b[0;34m\u001b[0m\u001b[0;34m\u001b[0m\u001b[0m\n\u001b[1;32m    513\u001b[0m                     \u001b[0;34m\"your data has a single feature or array.reshape(1, -1) \"\u001b[0m\u001b[0;34m\u001b[0m\u001b[0;34m\u001b[0m\u001b[0m\n\u001b[0;32m--> 514\u001b[0;31m                     \"if it contains a single sample.\".format(array))\n\u001b[0m\u001b[1;32m    515\u001b[0m             \u001b[0;31m# If input is 1D raise error\u001b[0m\u001b[0;34m\u001b[0m\u001b[0;34m\u001b[0m\u001b[0;34m\u001b[0m\u001b[0m\n\u001b[1;32m    516\u001b[0m             \u001b[0;32mif\u001b[0m \u001b[0marray\u001b[0m\u001b[0;34m.\u001b[0m\u001b[0mndim\u001b[0m \u001b[0;34m==\u001b[0m \u001b[0;36m1\u001b[0m\u001b[0;34m:\u001b[0m\u001b[0;34m\u001b[0m\u001b[0;34m\u001b[0m\u001b[0m\n",
      "\u001b[0;31mValueError\u001b[0m: Expected 2D array, got scalar array instead:\narray=nan.\nReshape your data either using array.reshape(-1, 1) if your data has a single feature or array.reshape(1, -1) if it contains a single sample."
     ]
    }
   ],
   "source": [
    "#Predict the response for test dataset\n",
    "y_pred = clf.predict(X_test)\n",
    "\n",
    "metrics.accuracy_score(y_test, y_pred)"
   ]
  },
  {
   "cell_type": "code",
   "execution_count": 440,
   "metadata": {},
   "outputs": [
    {
     "data": {
      "text/plain": [
       "[Text(167.4, 199.32, 'nr.employed <= -1.099\\nentropy = 0.2\\nsamples = 41188\\nvalue = [36548, 4640]\\nclass = 0'),\n",
       " Text(83.7, 163.07999999999998, 'duration <= -0.331\\nentropy = 0.494\\nsamples = 4964\\nvalue = [2755, 2209]\\nclass = 0'),\n",
       " Text(41.85, 126.83999999999999, 'poutcome <= 2.918\\nentropy = 0.287\\nsamples = 1891\\nvalue = [1563, 328]\\nclass = 0'),\n",
       " Text(20.925, 90.6, 'duration <= -0.52\\nentropy = 0.228\\nsamples = 1605\\nvalue = [1394, 211]\\nclass = 0'),\n",
       " Text(10.4625, 54.359999999999985, 'duration <= -0.697\\nentropy = 0.126\\nsamples = 991\\nvalue = [924, 67]\\nclass = 0'),\n",
       " Text(5.23125, 18.119999999999976, '\\n  (...)  \\n'),\n",
       " Text(15.693750000000001, 18.119999999999976, '\\n  (...)  \\n'),\n",
       " Text(31.387500000000003, 54.359999999999985, 'emp.var.rate <= -1.166\\nentropy = 0.359\\nsamples = 614\\nvalue = [470, 144]\\nclass = 0'),\n",
       " Text(26.15625, 18.119999999999976, '\\n  (...)  \\n'),\n",
       " Text(36.61875, 18.119999999999976, '\\n  (...)  \\n'),\n",
       " Text(62.775000000000006, 90.6, 'duration <= -0.427\\nentropy = 0.483\\nsamples = 286\\nvalue = [169, 117]\\nclass = 0'),\n",
       " Text(52.3125, 54.359999999999985, 'cons.price.idx <= -0.029\\nentropy = 0.43\\nsamples = 201\\nvalue = [138, 63]\\nclass = 0'),\n",
       " Text(47.081250000000004, 18.119999999999976, '\\n  (...)  \\n'),\n",
       " Text(57.54375, 18.119999999999976, '\\n  (...)  \\n'),\n",
       " Text(73.2375, 54.359999999999985, 'day_of_week <= -0.361\\nentropy = 0.463\\nsamples = 85\\nvalue = [31, 54]\\nclass = 1'),\n",
       " Text(68.00625000000001, 18.119999999999976, '\\n  (...)  \\n'),\n",
       " Text(78.46875, 18.119999999999976, '\\n  (...)  \\n'),\n",
       " Text(125.55000000000001, 126.83999999999999, 'pdays <= -3.456\\nentropy = 0.475\\nsamples = 3073\\nvalue = [1192, 1881]\\nclass = 1'),\n",
       " Text(104.625, 90.6, 'campaign <= 1.42\\nentropy = 0.299\\nsamples = 900\\nvalue = [165, 735]\\nclass = 1'),\n",
       " Text(94.16250000000001, 54.359999999999985, 'nr.employed <= -2.028\\nentropy = 0.295\\nsamples = 894\\nvalue = [161, 733]\\nclass = 1'),\n",
       " Text(88.93125, 18.119999999999976, '\\n  (...)  \\n'),\n",
       " Text(99.39375, 18.119999999999976, '\\n  (...)  \\n'),\n",
       " Text(115.0875, 54.359999999999985, 'marital <= 0.202\\nentropy = 0.444\\nsamples = 6\\nvalue = [4, 2]\\nclass = 0'),\n",
       " Text(109.85625, 18.119999999999976, '\\n  (...)  \\n'),\n",
       " Text(120.31875000000001, 18.119999999999976, '\\n  (...)  \\n'),\n",
       " Text(146.475, 90.6, 'duration <= -0.03\\nentropy = 0.499\\nsamples = 2173\\nvalue = [1027, 1146]\\nclass = 1'),\n",
       " Text(136.01250000000002, 54.359999999999985, 'duration <= -0.231\\nentropy = 0.478\\nsamples = 700\\nvalue = [424, 276]\\nclass = 0'),\n",
       " Text(130.78125, 18.119999999999976, '\\n  (...)  \\n'),\n",
       " Text(141.24375, 18.119999999999976, '\\n  (...)  \\n'),\n",
       " Text(156.9375, 54.359999999999985, 'cons.price.idx <= -1.546\\nentropy = 0.484\\nsamples = 1473\\nvalue = [603, 870]\\nclass = 1'),\n",
       " Text(151.70625, 18.119999999999976, '\\n  (...)  \\n'),\n",
       " Text(162.16875000000002, 18.119999999999976, '\\n  (...)  \\n'),\n",
       " Text(251.10000000000002, 163.07999999999998, 'duration <= 1.343\\nentropy = 0.125\\nsamples = 36224\\nvalue = [33793, 2431]\\nclass = 0'),\n",
       " Text(209.25, 126.83999999999999, 'cons.conf.idx <= -1.328\\nentropy = 0.061\\nsamples = 33232\\nvalue = [32188, 1044]\\nclass = 0'),\n",
       " Text(188.32500000000002, 90.6, 'euribor3m <= -1.208\\nentropy = 0.293\\nsamples = 2476\\nvalue = [2035, 441]\\nclass = 0'),\n",
       " Text(177.8625, 54.359999999999985, 'day_of_week <= -0.361\\nentropy = 0.251\\nsamples = 2229\\nvalue = [1901, 328]\\nclass = 0'),\n",
       " Text(172.63125, 18.119999999999976, '\\n  (...)  \\n'),\n",
       " Text(183.09375, 18.119999999999976, '\\n  (...)  \\n'),\n",
       " Text(198.7875, 54.359999999999985, 'duration <= -0.327\\nentropy = 0.496\\nsamples = 247\\nvalue = [134, 113]\\nclass = 0'),\n",
       " Text(193.55625, 18.119999999999976, '\\n  (...)  \\n'),\n",
       " Text(204.01875, 18.119999999999976, '\\n  (...)  \\n'),\n",
       " Text(230.175, 90.6, 'duration <= 0.826\\nentropy = 0.038\\nsamples = 30756\\nvalue = [30153, 603]\\nclass = 0'),\n",
       " Text(219.7125, 54.359999999999985, 'month <= 1.409\\nentropy = 0.021\\nsamples = 29162\\nvalue = [28853, 309]\\nclass = 0'),\n",
       " Text(214.48125000000002, 18.119999999999976, '\\n  (...)  \\n'),\n",
       " Text(224.94375, 18.119999999999976, '\\n  (...)  \\n'),\n",
       " Text(240.63750000000002, 54.359999999999985, 'euribor3m <= 0.275\\nentropy = 0.301\\nsamples = 1594\\nvalue = [1300, 294]\\nclass = 0'),\n",
       " Text(235.40625, 18.119999999999976, '\\n  (...)  \\n'),\n",
       " Text(245.86875, 18.119999999999976, '\\n  (...)  \\n'),\n",
       " Text(292.95, 126.83999999999999, 'duration <= 2.226\\nentropy = 0.497\\nsamples = 2992\\nvalue = [1605, 1387]\\nclass = 0'),\n",
       " Text(272.02500000000003, 90.6, 'euribor3m <= -1.279\\nentropy = 0.464\\nsamples = 1601\\nvalue = [1016, 585]\\nclass = 0'),\n",
       " Text(261.5625, 54.359999999999985, 'euribor3m <= -1.31\\nentropy = 0.488\\nsamples = 292\\nvalue = [123, 169]\\nclass = 1'),\n",
       " Text(256.33125, 18.119999999999976, '\\n  (...)  \\n'),\n",
       " Text(266.79375, 18.119999999999976, '\\n  (...)  \\n'),\n",
       " Text(282.4875, 54.359999999999985, 'euribor3m <= 0.773\\nentropy = 0.434\\nsamples = 1309\\nvalue = [893, 416]\\nclass = 0'),\n",
       " Text(277.25625, 18.119999999999976, '\\n  (...)  \\n'),\n",
       " Text(287.71875, 18.119999999999976, '\\n  (...)  \\n'),\n",
       " Text(313.875, 90.6, 'contact <= 0.28\\nentropy = 0.488\\nsamples = 1391\\nvalue = [589, 802]\\nclass = 1'),\n",
       " Text(303.4125, 54.359999999999985, 'month <= 0.978\\nentropy = 0.472\\nsamples = 894\\nvalue = [342, 552]\\nclass = 1'),\n",
       " Text(298.18125000000003, 18.119999999999976, '\\n  (...)  \\n'),\n",
       " Text(308.64375, 18.119999999999976, '\\n  (...)  \\n'),\n",
       " Text(324.33750000000003, 54.359999999999985, 'euribor3m <= 0.715\\nentropy = 0.5\\nsamples = 497\\nvalue = [247, 250]\\nclass = 1'),\n",
       " Text(319.10625, 18.119999999999976, '\\n  (...)  \\n'),\n",
       " Text(329.56875, 18.119999999999976, '\\n  (...)  \\n')]"
      ]
     },
     "execution_count": 440,
     "metadata": {},
     "output_type": "execute_result"
    },
    {
     "data": {
      "image/png": "[encoded data removed]",
      "text/plain": [
       "<Figure size 432x288 with 1 Axes>"
      ]
     },
     "metadata": {
      "needs_background": "light"
     },
     "output_type": "display_data"
    }
   ],
   "source": [
    "tree.plot_tree(clf.fit(X_train, y_train), max_depth=4, feature_names = list(X_train.columns), class_names=['0','1'])"
   ]
  },
  {
   "cell_type": "code",
   "execution_count": 442,
   "metadata": {},
   "outputs": [],
   "source": [
    "dot_data = 'tree.dot'\n",
    "export_graphviz(clf, out_file=dot_data,  \n",
    "                filled=True, rounded=True,\n",
    "                special_characters=True, max_depth=4, feature_names = X_train.columns, class_names=['0','1'])"
   ]
  },
  {
   "cell_type": "markdown",
   "metadata": {},
   "source": [
    "# Summary\n",
    "\n",
    "Case 1. Never active. The models all fit quickly and over cross-validation manage to get to over 90% accuracy.\n",
    "Only MLPC struggles.\n",
    "\n",
    "Case 2. Inactive for over a year. SVM really struggles to converge. Logistic regression needs 10000 iterations but gets to over 90%. MLPC gets there but is probably over-fitting.\n",
    "\n",
    "Case 3. Inactive for over a month. MLCP gets 30% with full layers. Logistic regression can get to over 75%.\n",
    "\n",
    "Running through the models, and looking at the feature selection, it seems that, for all cases, if a user has had transaction declined, or has had one reverted or declared as pending, then they prove to be inactive. For some reason a notification of ONBOARDING_TIPS_ACTIVATED_USERS seems to be a good indicator. This might be that account-holders who are having trouble ask for help in the form of onboarding tips."
   ]
  },
  {
   "cell_type": "code",
   "execution_count": null,
   "metadata": {},
   "outputs": [],
   "source": []
  },
  {
   "cell_type": "code",
   "execution_count": null,
   "metadata": {},
   "outputs": [],
   "source": []
  }
 ],
 "metadata": {
  "kernelspec": {
   "display_name": "Python 3",
   "language": "python",
   "name": "python3"
  },
  "language_info": {
   "codemirror_mode": {
    "name": "ipython",
    "version": 3
   },
   "file_extension": ".py",
   "mimetype": "text/x-python",
   "name": "python",
   "nbconvert_exporter": "python",
   "pygments_lexer": "ipython3",
   "version": "3.7.3"
  }
 },
 "nbformat": 4,
 "nbformat_minor": 4
}
