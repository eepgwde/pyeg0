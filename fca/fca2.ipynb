{
 "cells": [
  {
   "cell_type": "markdown",
   "metadata": {},
   "source": [
    "# FCA\n",
    "\n",
    "Technical Challenge for Data Science Candidates\n",
    "\n",
    "This workbook loads a pickle file from the loader notebook. It applies a number of models to the dataset.\n",
    "\n",
    "## Conditional Processing\n",
    "\n",
    "The notebook has to be used in a particular way. \n",
    "\n",
    " 1. One chooses a particular dataset\n",
    " 2. One applies a particular model\n",
    " \n",
    "## Datasets\n",
    "\n",
    " - Prescient Features\n",
    "\n",
    "I use a *Prescient* dataset to check that the models will work. A *prescient* dataset is one that includes the outcome variable.\n",
    "\n",
    " - Naive Features\n",
    "\n",
    "This removes the outcome variable and applies power models to the whole dataset with all features.\n",
    "\n",
    "The performance of the different models with this dataset gives insights into the underlying data. Some datasets are more suited to tree models (non-parametric), some to parametric models. Random forest is an example of the former and logistic regression of the latter.\n",
    "\n",
    " - Refined Features\n",
    " \n",
    "From the correlation results, it can be shown that fewer features can achieve comparable results.\n",
    "\n",
    "## Methods\n",
    "\n",
    "I will use a full cross-validation method and a train/test method. The cross-validation method will take the whole dataset and form a number of train/test datasets, but will train a model on the first set of training data and then apply it to the other sets.\n",
    "\n",
    "This gives an insight into how much the model has over/under-fitted the data.\n",
    "\n",
    "### Metrics\n",
    "\n",
    "I've only used balanced_accuracy here. The default accuracy method can reach 90% if it spots all the true-negative results. This is mis-informative because the dataset contains just 10% true-positives.\n",
    "\n",
    "Balanced-accuracy and recall are the most useful metrics for this dataset."
   ]
  },
  {
   "cell_type": "code",
   "execution_count": 1,
   "metadata": {},
   "outputs": [
    {
     "data": {
      "text/plain": [
       "'0.24.2'"
      ]
     },
     "execution_count": 1,
     "metadata": {},
     "output_type": "execute_result"
    }
   ],
   "source": [
    "import numpy as np\n",
    "import pandas as pd\n",
    "import math\n",
    "import json\n",
    "\n",
    "from os import path\n",
    "\n",
    "from sklearn.model_selection import KFold\n",
    "from sklearn.neural_network import MLPClassifier\n",
    "from sklearn.linear_model import LogisticRegression\n",
    "\n",
    "from sklearn import tree\n",
    "from sklearn import ensemble\n",
    "from sklearn import metrics\n",
    "\n",
    "from sklearn.model_selection import cross_val_score\n",
    "from sklearn.feature_selection import RFE\n",
    "\n",
    "import scipy.stats as st\n",
    "import statsmodels as sm\n",
    "import statsmodels.api as smi\n",
    "from sklearn import svm\n",
    "\n",
    "from sklearn import datasets, linear_model\n",
    "from sklearn.model_selection import train_test_split\n",
    "\n",
    "from imblearn.over_sampling import SMOTE\n",
    "\n",
    "from cycler import cycler\n",
    "import matplotlib.pyplot as plt\n",
    "import seaborn as sns\n",
    "\n",
    "pd.__version__"
   ]
  },
  {
   "cell_type": "code",
   "execution_count": 2,
   "metadata": {},
   "outputs": [],
   "source": [
    "# If you turn this feature on, you can display each result as it happens.\n",
    "from IPython.core.interactiveshell import InteractiveShell\n",
    "InteractiveShell.ast_node_interactivity = \"all\""
   ]
  },
  {
   "cell_type": "code",
   "execution_count": 3,
   "metadata": {},
   "outputs": [],
   "source": [
    "# this is the local Utility module and it reloaded each time.\n",
    "from fca import Utility"
   ]
  },
  {
   "cell_type": "code",
   "execution_count": 4,
   "metadata": {},
   "outputs": [
    {
     "name": "stdout",
     "output_type": "stream",
     "text": [
      "The autoreload extension is already loaded. To reload it, use:\n",
      "  %reload_ext autoreload\n"
     ]
    }
   ],
   "source": [
    "%load_ext autoreload\n",
    "%autoreload 1\n",
    "%aimport fca"
   ]
  },
  {
   "cell_type": "code",
   "execution_count": 5,
   "metadata": {},
   "outputs": [],
   "source": [
    "# My utility singleton.\n",
    "i0 = Utility.instance()"
   ]
  },
  {
   "cell_type": "markdown",
   "metadata": {},
   "source": [
    "## Dataset Filtering\n",
    "\n",
    "There are some highly correlated features that might be confusing.\n",
    "Build a naive model that uses all the features and refine it down.\n",
    "\n",
    "Filter the dataset and then apply a selection of models."
   ]
  },
  {
   "cell_type": "code",
   "execution_count": 6,
   "metadata": {},
   "outputs": [
    {
     "data": {
      "text/plain": [
       "(41188, 29)"
      ]
     },
     "execution_count": 6,
     "metadata": {},
     "output_type": "execute_result"
    }
   ],
   "source": [
    "# df2 = pd.read_pickle(\"coded.pickle\")\n",
    "df2 = pd.read_pickle(\"scaled.pickle\")\n",
    "df2.shape"
   ]
  },
  {
   "cell_type": "code",
   "execution_count": 7,
   "metadata": {},
   "outputs": [],
   "source": [
    "# re-instate the boolean binary outcome\n",
    "df2.y = df2.y > 0\n",
    "df2.y;"
   ]
  },
  {
   "cell_type": "code",
   "execution_count": 8,
   "metadata": {},
   "outputs": [
    {
     "data": {
      "text/plain": [
       "0.11265417111780131"
      ]
     },
     "execution_count": 8,
     "metadata": {},
     "output_type": "execute_result"
    }
   ],
   "source": [
    "## Low incidence rate may require some up-sampling.\n",
    "np.sum(df2.y.values) / len(df2.y)"
   ]
  },
  {
   "cell_type": "markdown",
   "metadata": {},
   "source": [
    "### Reload the dataset for the model\n",
    "\n",
    "You need to run this ode selectively to choose the right data-set for the model.\n",
    "\n",
    "There is no scaling needed for the models chosen.\n",
    "If you run all cells, the default is evaluate for the never-active with logistic regression."
   ]
  },
  {
   "cell_type": "markdown",
   "metadata": {},
   "source": [
    "### Splitting\n",
    "\n",
    "I use sample0 for the different datasets. \n",
    " 1. use a train/test split\n",
    " 2. use everything - let cross-validation make the splits\n",
    " \n",
    "Initially, I only use sample0 at 2 and just look at the cross-validation results."
   ]
  },
  {
   "cell_type": "code",
   "execution_count": 26,
   "metadata": {},
   "outputs": [],
   "source": [
    "sample0=1"
   ]
  },
  {
   "cell_type": "markdown",
   "metadata": {},
   "source": [
    "### Case 0: Prescient data\n",
    "\n",
    "Null hypothesis.\n",
    "\n",
    "I include the outcome variable - forcing over-fitting. All the models should converge to one. Or the data is structurally unsound (mis-scaled) or completely noise. I then remove each of the prescient variables."
   ]
  },
  {
   "cell_type": "code",
   "execution_count": 27,
   "metadata": {},
   "outputs": [],
   "source": [
    "y = df2.y\n",
    "# X = df2.drop(columns=['y'])\n",
    "X = df2"
   ]
  },
  {
   "cell_type": "markdown",
   "metadata": {},
   "source": [
    "### Case 1: All features\n",
    "\n",
    "Remove the outcome and get a baseline"
   ]
  },
  {
   "cell_type": "code",
   "execution_count": 28,
   "metadata": {},
   "outputs": [
    {
     "data": {
      "text/plain": [
       "Index(['age', 'job', 'marital', 'education', 'default', 'housing', 'loan',\n",
       "       'contact', 'month', 'day_of_week', 'duration', 'campaign', 'pdays',\n",
       "       'previous', 'poutcome', 'emp.var.rate', 'cons.price.idx',\n",
       "       'cons.conf.idx', 'euribor3m', 'nr.employed', 'job0', 'marital0',\n",
       "       'education0', 'default0', 'housing0', 'loan0', 'poutcome0', 'pdays0'],\n",
       "      dtype='object')"
      ]
     },
     "execution_count": 28,
     "metadata": {},
     "output_type": "execute_result"
    },
    {
     "data": {
      "text/plain": [
       "(41188, 28)"
      ]
     },
     "execution_count": 28,
     "metadata": {},
     "output_type": "execute_result"
    }
   ],
   "source": [
    "y = df2.y\n",
    "X = df2.drop(columns=['y'])\n",
    "# X = df2\n",
    "X.columns\n",
    "X.shape"
   ]
  },
  {
   "cell_type": "markdown",
   "metadata": {},
   "source": [
    "### Case 2: case 1 and drop rows\n",
    "\n",
    "This isn't used, but is worth investigating.\n",
    "\n",
    "It filters the dataset into separate sets.\n",
    "\n",
    "Example with dropping rows on a feature. This is scaled data. It may already be cut in an earlier notebook in which the scaling will be out."
   ]
  },
  {
   "cell_type": "code",
   "execution_count": 311,
   "metadata": {},
   "outputs": [
    {
     "data": {
      "text/plain": [
       "<matplotlib.axes._subplots.AxesSubplot at 0x7f5fa1dabda0>"
      ]
     },
     "execution_count": 311,
     "metadata": {},
     "output_type": "execute_result"
    },
    {
     "data": {
      "image/png": "[encoded data removed]",
      "text/plain": [
       "<Figure size 1296x432 with 1 Axes>"
      ]
     },
     "metadata": {
      "needs_background": "light"
     },
     "output_type": "display_data"
    }
   ],
   "source": [
    "fig, ax = plt.subplots(figsize=(18,6))\n",
    "sns.violinplot(ax=ax, x=X['nr.employed'], y=y)"
   ]
  },
  {
   "cell_type": "code",
   "execution_count": 482,
   "metadata": {},
   "outputs": [
    {
     "data": {
      "text/plain": [
       "Index(['age', 'job', 'marital', 'education', 'default', 'housing', 'loan',\n",
       "       'contact', 'month', 'day_of_week', 'duration', 'campaign', 'pdays',\n",
       "       'previous', 'poutcome', 'emp.var.rate', 'cons.price.idx',\n",
       "       'cons.conf.idx', 'euribor3m', 'nr.employed', 'job0', 'marital0',\n",
       "       'education0', 'default0', 'housing0', 'loan0', 'poutcome0', 'pdays0'],\n",
       "      dtype='object')"
      ]
     },
     "execution_count": 482,
     "metadata": {},
     "output_type": "execute_result"
    },
    {
     "data": {
      "text/plain": [
       "(41188, 28)"
      ]
     },
     "execution_count": 482,
     "metadata": {},
     "output_type": "execute_result"
    }
   ],
   "source": [
    "y = df2.y\n",
    "X = df2.drop(columns=['y'])\n",
    "# X = df2\n",
    "X.columns\n",
    "X.shape"
   ]
  },
  {
   "cell_type": "code",
   "execution_count": 312,
   "metadata": {},
   "outputs": [
    {
     "data": {
      "text/plain": [
       "0.3277168107215694"
      ]
     },
     "execution_count": 312,
     "metadata": {},
     "output_type": "execute_result"
    }
   ],
   "source": [
    "# The decision tree  \n",
    "# idxs = ~(X.pdays0 > -2.461)\n",
    "idxs = X['nr.employed'] < -0.5\n",
    "sum(idxs.values) / len(idxs.values)"
   ]
  },
  {
   "cell_type": "code",
   "execution_count": 324,
   "metadata": {},
   "outputs": [],
   "source": [
    "idxs = ~idxs"
   ]
  },
  {
   "cell_type": "code",
   "execution_count": 325,
   "metadata": {},
   "outputs": [],
   "source": [
    "X = X[idxs]\n",
    "y = y[idxs]"
   ]
  },
  {
   "cell_type": "markdown",
   "metadata": {},
   "source": [
    "### Case 3: case 1 and drop columns\n",
    "\n",
    "This removes a lot of the features and tries to get a comparable result to the full dataset.\n",
    "\n",
    "It is useful to switch over to sample0 as 1 and to look at the confusion and performance matrices."
   ]
  },
  {
   "cell_type": "code",
   "execution_count": 388,
   "metadata": {},
   "outputs": [],
   "source": [
    "pcols = ['month', 'day_of_week', 'contact' ]\n",
    "pcols = pcols + ['campaign']\n",
    "pcols = pcols + ['marital0', 'education0', 'default0', 'housing0', 'loan0', 'pdays0']\n",
    "pcols = pcols + ['job', 'education']"
   ]
  },
  {
   "cell_type": "code",
   "execution_count": 389,
   "metadata": {},
   "outputs": [
    {
     "data": {
      "text/plain": [
       "['month',\n",
       " 'day_of_week',\n",
       " 'contact',\n",
       " 'campaign',\n",
       " 'marital0',\n",
       " 'education0',\n",
       " 'default0',\n",
       " 'housing0',\n",
       " 'loan0',\n",
       " 'pdays0',\n",
       " 'job',\n",
       " 'education',\n",
       " 'euribor3m',\n",
       " 'cons.price.idx']"
      ]
     },
     "execution_count": 389,
     "metadata": {},
     "output_type": "execute_result"
    }
   ],
   "source": [
    "pcols = pcols + ['euribor3m', 'cons.price.idx' ]\n",
    "pcols"
   ]
  },
  {
   "cell_type": "code",
   "execution_count": 390,
   "metadata": {},
   "outputs": [
    {
     "data": {
      "text/plain": [
       "Index(['age', 'marital', 'default', 'housing', 'loan', 'duration', 'pdays',\n",
       "       'previous', 'poutcome', 'emp.var.rate', 'cons.conf.idx', 'nr.employed',\n",
       "       'job0', 'poutcome0'],\n",
       "      dtype='object')"
      ]
     },
     "execution_count": 390,
     "metadata": {},
     "output_type": "execute_result"
    }
   ],
   "source": [
    "X = X.drop(columns=pcols)\n",
    "X.columns"
   ]
  },
  {
   "cell_type": "markdown",
   "metadata": {},
   "source": [
    "### Case 4: Just 5 features\n"
   ]
  },
  {
   "cell_type": "code",
   "execution_count": 29,
   "metadata": {},
   "outputs": [
    {
     "data": {
      "text/plain": [
       "Index(['age', 'nr.employed', 'poutcome', 'pdays', 'duration'], dtype='object')"
      ]
     },
     "execution_count": 29,
     "metadata": {},
     "output_type": "execute_result"
    }
   ],
   "source": [
    "p1 = ['age', 'job', 'marital', 'education', 'default']\n",
    "p1 = ['age', 'nr.employed', 'poutcome0', 'pdays', 'default']\n",
    "p1 = ['age', 'nr.employed', 'poutcome', 'pdays', 'duration']\n",
    "X = X[p1]\n",
    "\n",
    "X.columns"
   ]
  },
  {
   "cell_type": "markdown",
   "metadata": {},
   "source": [
    "### Split the Data"
   ]
  },
  {
   "cell_type": "code",
   "execution_count": 30,
   "metadata": {},
   "outputs": [],
   "source": [
    "Xcols = list(X.columns)\n",
    "if sample0 == 1:\n",
    "    X_train, X_test, y_train, y_test = train_test_split(X, y, test_size=0.2)\n",
    "elif sample0 == 2:\n",
    "    X_train, X_test, y_train, y_test = ( X, None, y, None )"
   ]
  },
  {
   "cell_type": "code",
   "execution_count": 31,
   "metadata": {},
   "outputs": [],
   "source": [
    "## Add some SMOTE\n",
    "if False:\n",
    "    sm = SMOTE(random_state=42)\n",
    "    X_train, y_train = sm.fit_resample(X_train, y_train)\n",
    "    X_train = pd.DataFrame(data=X_train, columns=Xcols)"
   ]
  },
  {
   "cell_type": "code",
   "execution_count": 32,
   "metadata": {},
   "outputs": [
    {
     "data": {
      "text/plain": [
       "(32950, 5)"
      ]
     },
     "execution_count": 32,
     "metadata": {},
     "output_type": "execute_result"
    },
    {
     "data": {
      "text/plain": [
       "(32950,)"
      ]
     },
     "execution_count": 32,
     "metadata": {},
     "output_type": "execute_result"
    },
    {
     "data": {
      "text/plain": [
       "['age', 'nr.employed', 'poutcome', 'pdays', 'duration']"
      ]
     },
     "execution_count": 32,
     "metadata": {},
     "output_type": "execute_result"
    }
   ],
   "source": [
    "X_train.shape\n",
    "y_train.shape\n",
    "Xcols"
   ]
  },
  {
   "cell_type": "markdown",
   "metadata": {},
   "source": [
    "## Model cases\n",
    "\n",
    "Again choose one to apply to the data you've chosen.\n",
    "\n",
    "These are a number of models that can be applied. Some are 'patchy', results have high variance. Some are good for spotting mal-formed features.\n",
    "\n",
    "    1. The first SVC is not practical for \"big\" data (width and count), but works well for smaller ones.\n",
    "    \n",
    "    2. The Decision Tree Classifier is a single-tree based on information gain. It can be thought of as a single iteration of Random Forest.\n",
    "\n",
    "    3. The Multi-Layer Perceptron Classifier is a useful neural network and can get reasonable results quickly - it parallizes well. The hidden_layer_sizes need tuning to get a cross validation score over 0.5. Can be patchy. Spots prescients. It is can be thought of as a set of interlocking trees.\n",
    "\n",
    "    4. Gradient-boosted can be fast and spots prescients. Structurally, it can be thought of as a patchwork quilt of decision trees.\n",
    "    \n",
    "    5. Random-forest usually gets balanced results. It aggregates across trees. It is less prone to over-fitting.\n",
    "\n",
    "    6. The logistic regression classifier is a parametric method and only uses Maximum-Likelihood Estimation but across all the features. It is prone to under-fitting. Usually spots prescients.\n",
    "    \n",
    "When the MLPC is patchy, it usually means there is a useful split to be made. There is a Decision Tree Classifier below that can help find the split."
   ]
  },
  {
   "cell_type": "code",
   "execution_count": 24,
   "metadata": {},
   "outputs": [],
   "source": [
    "clf = svm.SVC(kernel='linear', C=1)"
   ]
  },
  {
   "cell_type": "code",
   "execution_count": 509,
   "metadata": {},
   "outputs": [],
   "source": [
    "# Useful method. Reduce the size of the neural network to find a path with prescient features. log_2 should be minimal\n",
    "x0 = math.floor(math.log(X.shape[1], 2))\n",
    "clf =  MLPClassifier(solver='lbfgs', alpha=1e-5, hidden_layer_sizes=(x0, x0, 2), \n",
    "                     random_state=1, warm_start=True)"
   ]
  },
  {
   "cell_type": "code",
   "execution_count": 366,
   "metadata": {},
   "outputs": [],
   "source": [
    "# Very accurate\n",
    "p0 = {'n_estimators': 1000, 'max_leaf_nodes': 8, 'max_depth': None, 'random_state': 2,\n",
    "                   'min_samples_split': 8}\n",
    "# Less so\n",
    "p0 = {'n_estimators': 1000, 'max_leaf_nodes': 8, 'max_depth': None, 'random_state': 2,\n",
    "                   'min_samples_split': 8}\n",
    "params = p0\n",
    "\n",
    "clf = ensemble.GradientBoostingClassifier(**params)"
   ]
  },
  {
   "cell_type": "code",
   "execution_count": 510,
   "metadata": {},
   "outputs": [],
   "source": [
    "# Not accurate\n",
    "p0 = { 'max_depth':2, 'random_state': 0, 'n_jobs': 4, 'warm_start': False }\n",
    "# Very accurate\n",
    "p0 = { 'n_estimators': 1000, 'max_depth':8, 'random_state': 2, 'n_jobs': 4, 'warm_start': True, \n",
    "      'bootstrap': True, 'max_features': None }\n",
    "\n",
    "params = p0\n",
    "\n",
    "clf = ensemble.RandomForestClassifier(**params)"
   ]
  },
  {
   "cell_type": "code",
   "execution_count": 33,
   "metadata": {},
   "outputs": [],
   "source": [
    "clf = LogisticRegression(C=1e4, solver='lbfgs', multi_class='auto', max_iter=10000) # max_iter is 2 orders up!"
   ]
  },
  {
   "cell_type": "code",
   "execution_count": 362,
   "metadata": {},
   "outputs": [],
   "source": [
    "# Useful for plotting see below\n",
    "# This can be compared with the MLCP if we have patchy validation results.\n",
    "clf = tree.DecisionTreeClassifier()"
   ]
  },
  {
   "cell_type": "markdown",
   "metadata": {},
   "source": [
    "## From cross-validation results, compare models for fitting issues\n",
    "\n",
    "To evaluate the model under a cross-validation scheme, run this cell.\n",
    "\n",
    "The scoring metric is a balanced accuracy one. Cross-validation applies a model trained on one training to a number of others. Variable accuracy results indicate over-fitting; very similar results would suggest under-fitting.\n",
    "\n",
    "Under-fitting usually arises when there are not enough features. Over-fitting when there are too many samples."
   ]
  },
  {
   "cell_type": "code",
   "execution_count": 34,
   "metadata": {},
   "outputs": [
    {
     "data": {
      "text/plain": [
       "array([0.68502509, 0.68812325, 0.67852619, 0.67572337, 0.68805073])"
      ]
     },
     "execution_count": 34,
     "metadata": {},
     "output_type": "execute_result"
    },
    {
     "data": {
      "text/plain": [
       "Index(['age', 'nr.employed', 'poutcome', 'pdays', 'duration'], dtype='object')"
      ]
     },
     "execution_count": 34,
     "metadata": {},
     "output_type": "execute_result"
    }
   ],
   "source": [
    "scores = cross_val_score(clf, X_train, y_train, cv=5, error_score=np.nan, scoring='balanced_accuracy')\n",
    "scores\n",
    "X_train.columns"
   ]
  },
  {
   "cell_type": "markdown",
   "metadata": {},
   "source": [
    "## Confusion Matrix\n",
    "\n",
    "If sample0 is 1 look at the confusion and performance matrices"
   ]
  },
  {
   "cell_type": "code",
   "execution_count": 21,
   "metadata": {},
   "outputs": [],
   "source": [
    "def perf0(X, y):\n",
    "    global clf\n",
    "    y_pred = clf.predict(X)\n",
    "    return (metrics.accuracy_score(y, y_pred), metrics.balanced_accuracy_score(y, y_pred), metrics.confusion_matrix(y, y_pred))"
   ]
  },
  {
   "cell_type": "code",
   "execution_count": 35,
   "metadata": {},
   "outputs": [
    {
     "data": {
      "text/plain": [
       "(0.9092564491654022, 0.6832926950925087, array([[28499,   715],\n",
       "        [ 2275,  1461]]))"
      ]
     },
     "execution_count": 35,
     "metadata": {},
     "output_type": "execute_result"
    }
   ],
   "source": [
    "clf = clf.fit(X_train, y_train)\n",
    "\n",
    "perf0(X_train, y_train)"
   ]
  },
  {
   "cell_type": "code",
   "execution_count": 36,
   "metadata": {},
   "outputs": [
    {
     "data": {
      "text/plain": [
       "array([[7133,  201],\n",
       "       [ 577,  327]])"
      ]
     },
     "execution_count": 36,
     "metadata": {},
     "output_type": "execute_result"
    },
    {
     "data": {
      "text/plain": [
       "(7133, 201, 577, 327)"
      ]
     },
     "execution_count": 36,
     "metadata": {},
     "output_type": "execute_result"
    }
   ],
   "source": [
    "a0, a1, conf0 = perf0(X_test, y_test)\n",
    "conf0\n",
    "tn, fp, fn, tp = conf0.ravel()\n",
    "(tn, fp, fn, tp)"
   ]
  },
  {
   "cell_type": "code",
   "execution_count": 37,
   "metadata": {},
   "outputs": [
    {
     "name": "stdout",
     "output_type": "stream",
     "text": [
      "              precision    recall  f1-score   support\n",
      "\n",
      "       False       0.93      0.97      0.95      7334\n",
      "        True       0.62      0.36      0.46       904\n",
      "\n",
      "    accuracy                           0.91      8238\n",
      "   macro avg       0.77      0.67      0.70      8238\n",
      "weighted avg       0.89      0.91      0.89      8238\n",
      "\n"
     ]
    }
   ],
   "source": [
    "print(metrics.classification_report(y_test, clf.predict(X_test)))"
   ]
  },
  {
   "cell_type": "markdown",
   "metadata": {},
   "source": [
    "#### Collate Probabilities\n",
    "\n",
    "I haven't joined the results back to the original data."
   ]
  },
  {
   "cell_type": "code",
   "execution_count": 271,
   "metadata": {},
   "outputs": [
    {
     "data": {
      "text/html": [
       "<div>\n",
       "<style scoped>\n",
       "    .dataframe tbody tr th:only-of-type {\n",
       "        vertical-align: middle;\n",
       "    }\n",
       "\n",
       "    .dataframe tbody tr th {\n",
       "        vertical-align: top;\n",
       "    }\n",
       "\n",
       "    .dataframe thead th {\n",
       "        text-align: right;\n",
       "    }\n",
       "</style>\n",
       "<table border=\"1\" class=\"dataframe\">\n",
       "  <thead>\n",
       "    <tr style=\"text-align: right;\">\n",
       "      <th></th>\n",
       "      <th>age</th>\n",
       "      <th>nr.employed</th>\n",
       "      <th>poutcome0</th>\n",
       "      <th>pdays</th>\n",
       "      <th>duration</th>\n",
       "      <th>y</th>\n",
       "      <th>Py</th>\n",
       "    </tr>\n",
       "  </thead>\n",
       "  <tbody>\n",
       "    <tr>\n",
       "      <th>40997</th>\n",
       "      <td>-1.441693</td>\n",
       "      <td>-2.815697</td>\n",
       "      <td>0.397706</td>\n",
       "      <td>0.194144</td>\n",
       "      <td>-0.969179</td>\n",
       "      <td>False</td>\n",
       "      <td>0.999953</td>\n",
       "    </tr>\n",
       "    <tr>\n",
       "      <th>40841</th>\n",
       "      <td>-0.769980</td>\n",
       "      <td>-2.815697</td>\n",
       "      <td>0.397706</td>\n",
       "      <td>0.194144</td>\n",
       "      <td>-0.973036</td>\n",
       "      <td>False</td>\n",
       "      <td>0.999953</td>\n",
       "    </tr>\n",
       "    <tr>\n",
       "      <th>40846</th>\n",
       "      <td>-1.729570</td>\n",
       "      <td>-2.815697</td>\n",
       "      <td>0.397706</td>\n",
       "      <td>0.194144</td>\n",
       "      <td>-0.946038</td>\n",
       "      <td>False</td>\n",
       "      <td>0.999953</td>\n",
       "    </tr>\n",
       "    <tr>\n",
       "      <th>40705</th>\n",
       "      <td>-0.865939</td>\n",
       "      <td>-2.815697</td>\n",
       "      <td>0.397706</td>\n",
       "      <td>0.194144</td>\n",
       "      <td>-0.976893</td>\n",
       "      <td>False</td>\n",
       "      <td>0.999953</td>\n",
       "    </tr>\n",
       "    <tr>\n",
       "      <th>40939</th>\n",
       "      <td>-1.249775</td>\n",
       "      <td>-2.815697</td>\n",
       "      <td>0.397706</td>\n",
       "      <td>0.194144</td>\n",
       "      <td>-0.976893</td>\n",
       "      <td>False</td>\n",
       "      <td>0.999953</td>\n",
       "    </tr>\n",
       "  </tbody>\n",
       "</table>\n",
       "</div>"
      ],
      "text/plain": [
       "            age  nr.employed  poutcome0     pdays  duration      y        Py\n",
       "40997 -1.441693    -2.815697   0.397706  0.194144 -0.969179  False  0.999953\n",
       "40841 -0.769980    -2.815697   0.397706  0.194144 -0.973036  False  0.999953\n",
       "40846 -1.729570    -2.815697   0.397706  0.194144 -0.946038  False  0.999953\n",
       "40705 -0.865939    -2.815697   0.397706  0.194144 -0.976893  False  0.999953\n",
       "40939 -1.249775    -2.815697   0.397706  0.194144 -0.976893  False  0.999953"
      ]
     },
     "execution_count": 271,
     "metadata": {},
     "output_type": "execute_result"
    }
   ],
   "source": [
    "y_p = clf.predict_proba(X_train)\n",
    "\n",
    "R = X_train.copy(deep=True)\n",
    "R['y'] = y\n",
    "R['Py'] = y_p[:, 0]\n",
    "R = R.sort_values(by='Py', ascending=False)\n",
    "R.head()"
   ]
  },
  {
   "cell_type": "markdown",
   "metadata": {},
   "source": [
    "## Feature selection\n",
    "\n",
    "Try to determine best features. It is not usually sufficient to choose the top-ranked features. It is best to be selective and choose the best feature for a particular group of features. The best feature is not the most defined or the most correlated with respect to the outocome feature; it may be the one that preserves the distribution best."
   ]
  },
  {
   "cell_type": "code",
   "execution_count": 38,
   "metadata": {},
   "outputs": [
    {
     "data": {
      "text/plain": [
       "LogisticRegression(C=10000.0, class_weight=None, dual=False, fit_intercept=True,\n",
       "                   intercept_scaling=1, l1_ratio=None, max_iter=10000,\n",
       "                   multi_class='auto', n_jobs=None, penalty='l2',\n",
       "                   random_state=None, solver='lbfgs', tol=0.0001, verbose=0,\n",
       "                   warm_start=False)"
      ]
     },
     "execution_count": 38,
     "metadata": {},
     "output_type": "execute_result"
    }
   ],
   "source": [
    "clf # remind ourselves which classifier we're using."
   ]
  },
  {
   "cell_type": "code",
   "execution_count": 39,
   "metadata": {},
   "outputs": [
    {
     "data": {
      "text/plain": [
       "array([ True,  True,  True,  True,  True])"
      ]
     },
     "execution_count": 39,
     "metadata": {},
     "output_type": "execute_result"
    },
    {
     "data": {
      "text/plain": [
       "array([1, 1, 1, 1, 1])"
      ]
     },
     "execution_count": 39,
     "metadata": {},
     "output_type": "execute_result"
    }
   ],
   "source": [
    "# create the RFE model and select 3 attributes\n",
    "rfe = RFE(clf, 5)\n",
    "rfe = rfe.fit(X_train, y_train); # suppress messages Future Warning\n",
    "# summarize the selection of the attributes\n",
    "rfe.support_\n",
    "rfe.ranking_"
   ]
  },
  {
   "cell_type": "code",
   "execution_count": 40,
   "metadata": {},
   "outputs": [
    {
     "data": {
      "text/plain": [
       "['age', 'nr.employed', 'poutcome', 'pdays', 'duration']"
      ]
     },
     "execution_count": 40,
     "metadata": {},
     "output_type": "execute_result"
    }
   ],
   "source": [
    "x0 = np.array(Xcols)\n",
    "f0s = list(x0[rfe.support_]) # just the first choices\n",
    "f0s"
   ]
  },
  {
   "cell_type": "code",
   "execution_count": 41,
   "metadata": {},
   "outputs": [
    {
     "data": {
      "text/html": [
       "<div>\n",
       "<style scoped>\n",
       "    .dataframe tbody tr th:only-of-type {\n",
       "        vertical-align: middle;\n",
       "    }\n",
       "\n",
       "    .dataframe tbody tr th {\n",
       "        vertical-align: top;\n",
       "    }\n",
       "\n",
       "    .dataframe thead th {\n",
       "        text-align: right;\n",
       "    }\n",
       "</style>\n",
       "<table border=\"1\" class=\"dataframe\">\n",
       "  <thead>\n",
       "    <tr style=\"text-align: right;\">\n",
       "      <th></th>\n",
       "      <th>name</th>\n",
       "      <th>rank</th>\n",
       "    </tr>\n",
       "  </thead>\n",
       "  <tbody>\n",
       "    <tr>\n",
       "      <th>0</th>\n",
       "      <td>age</td>\n",
       "      <td>1</td>\n",
       "    </tr>\n",
       "    <tr>\n",
       "      <th>1</th>\n",
       "      <td>nr.employed</td>\n",
       "      <td>1</td>\n",
       "    </tr>\n",
       "    <tr>\n",
       "      <th>2</th>\n",
       "      <td>poutcome</td>\n",
       "      <td>1</td>\n",
       "    </tr>\n",
       "    <tr>\n",
       "      <th>3</th>\n",
       "      <td>pdays</td>\n",
       "      <td>1</td>\n",
       "    </tr>\n",
       "    <tr>\n",
       "      <th>4</th>\n",
       "      <td>duration</td>\n",
       "      <td>1</td>\n",
       "    </tr>\n",
       "  </tbody>\n",
       "</table>\n",
       "</div>"
      ],
      "text/plain": [
       "          name  rank\n",
       "0          age     1\n",
       "1  nr.employed     1\n",
       "2     poutcome     1\n",
       "3        pdays     1\n",
       "4     duration     1"
      ]
     },
     "execution_count": 41,
     "metadata": {},
     "output_type": "execute_result"
    }
   ],
   "source": [
    "# And in order\n",
    "rnk0 = pd.DataFrame(data={'name': list(X_train.columns), 'rank': rfe.ranking_})\n",
    "rnk0 = rnk0.sort_values(['rank'])\n",
    "rnk0.reset_index(drop=True)"
   ]
  },
  {
   "cell_type": "code",
   "execution_count": 212,
   "metadata": {},
   "outputs": [
    {
     "data": {
      "text/plain": [
       "['age', 'nr.employed', 'euribor3m', 'pdays', 'duration']"
      ]
     },
     "execution_count": 212,
     "metadata": {},
     "output_type": "execute_result"
    }
   ],
   "source": [
    "# Get the top five and plug them into the selection case 4.\n",
    "\n",
    "list(rnk0[:5]['name'].values)"
   ]
  },
  {
   "cell_type": "markdown",
   "metadata": {},
   "source": [
    "### Decision Tree Classifier\n",
    "\n",
    "This is hard work for scikit-learn"
   ]
  },
  {
   "cell_type": "code",
   "execution_count": null,
   "metadata": {},
   "outputs": [],
   "source": [
    "# Train Decision Tree Classifer\n",
    "\n",
    "cols = X_train.columns\n",
    "cols = list(set(cols).difference(f0s))\n",
    "cols\n",
    "\n",
    "clf = clf.fit(X_train[cols], y_train)\n",
    "y_pred = clf.predict(X_train[cols])\n",
    "metrics.accuracy_score(y_train, y_pred)"
   ]
  },
  {
   "cell_type": "code",
   "execution_count": null,
   "metadata": {},
   "outputs": [],
   "source": [
    "tree.plot_tree(clf, max_depth=4, feature_names = cols, class_names=['0','1'])"
   ]
  },
  {
   "cell_type": "code",
   "execution_count": null,
   "metadata": {},
   "outputs": [],
   "source": [
    "dot_data = 'tree.dot'\n",
    "export_graphviz(clf, out_file=dot_data,  \n",
    "                filled=True, rounded=True,\n",
    "                special_characters=True, max_depth=4, feature_names = cols, class_names=['0','1'])"
   ]
  },
  {
   "cell_type": "markdown",
   "metadata": {},
   "source": [
    "# Summary\n",
    "\n"
   ]
  },
  {
   "cell_type": "code",
   "execution_count": null,
   "metadata": {},
   "outputs": [],
   "source": []
  },
  {
   "cell_type": "code",
   "execution_count": null,
   "metadata": {},
   "outputs": [],
   "source": []
  }
 ],
 "metadata": {
  "kernelspec": {
   "display_name": "Python 3",
   "language": "python",
   "name": "python3"
  },
  "language_info": {
   "codemirror_mode": {
    "name": "ipython",
    "version": 3
   },
   "file_extension": ".py",
   "mimetype": "text/x-python",
   "name": "python",
   "nbconvert_exporter": "python",
   "pygments_lexer": "ipython3",
   "version": "3.7.3"
  }
 },
 "nbformat": 4,
 "nbformat_minor": 4
}
