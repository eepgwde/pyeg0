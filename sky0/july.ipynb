{
 "cells": [
  {
   "cell_type": "markdown",
   "metadata": {},
   "source": [
    "# Forecasting for July\n",
    "\n",
    "Technical Challenge for Data Science Candidates\n",
    "\n",
    "You want to forecast the “Outside Temperature” for the first 9 days of the next month.\n",
    "\n",
    "Assume that:\n",
    "\n",
    "  - The average temperature for each day of July is constant and equal to 25 degrees;\n",
    "\n",
    "  - For the 1st of July, the pattern of the temperatures across the day with respect to the average temperature on that day is similar to the one found on 1st of June, for the 2nd of July is similar to the average on the 2nd of June, etc.\n",
    "  \n",
    "Produce a “.txt” file with your forecast for July (from 1st July to 9th July) with the sample values for each time for e.g. dd/mm/yyyy, Time, Outside Temperature.\n",
    "\n",
    "## Implementation\n",
    "\n",
    "The algorithm I'll use is to calculate the average temperature for each day of June.\n",
    "\n",
    "For each day in June, calculate the offsets from that average. \n",
    "\n",
    "Then, take those offsets and apply those to the average temperature for July of 25 degrees.\n",
    "\n",
    "Note that this isn't a particularly good predictor because it doesn't apply like for like. It's probably better to use a Normalization method.\n",
    "\n",
    "Probably better is to calculate the residuals for each day in June and add those. So (X - mu) / std. where std is the sample standard deviation. Gives the absolute residuals.\n",
    "\n",
    "But better still is to calculate the percentage residuals from the mean on each day."
   ]
  },
  {
   "cell_type": "code",
   "execution_count": 2,
   "metadata": {},
   "outputs": [
    {
     "data": {
      "text/plain": [
       "'0.24.2'"
      ]
     },
     "execution_count": 2,
     "metadata": {},
     "output_type": "execute_result"
    }
   ],
   "source": [
    "import numpy as np\n",
    "import pandas as pd\n",
    "\n",
    "import matplotlib\n",
    "from cycler import cycler\n",
    "import matplotlib.pyplot as plt\n",
    "\n",
    "pd.__version__"
   ]
  },
  {
   "cell_type": "code",
   "execution_count": 3,
   "metadata": {},
   "outputs": [],
   "source": [
    "# If you turn this feature on, you can display each result as it happens.\n",
    "from IPython.core.interactiveshell import InteractiveShell\n",
    "InteractiveShell.ast_node_interactivity = \"all\""
   ]
  },
  {
   "cell_type": "code",
   "execution_count": 4,
   "metadata": {},
   "outputs": [],
   "source": [
    "df1 = pd.read_pickle(\"200606.pkl\")"
   ]
  },
  {
   "cell_type": "code",
   "execution_count": 5,
   "metadata": {},
   "outputs": [
    {
     "name": "stdout",
     "output_type": "stream",
     "text": [
      "<class 'pandas.core.frame.DataFrame'>\n",
      "Int64Index: 4319 entries, 90 to 4408\n",
      "Data columns (total 20 columns):\n",
      "Date                      4319 non-null object\n",
      "Time                      4319 non-null object\n",
      "Temp Humidity Index       4319 non-null float64\n",
      "Outside Temperature       4319 non-null float64\n",
      "WindChill                 4319 non-null float64\n",
      "Hi Temperature            4319 non-null float64\n",
      "Low Temperature           4319 non-null float64\n",
      "Outside Humidity          4319 non-null int64\n",
      "DewPoint                  4319 non-null float64\n",
      "WindSpeed                 4319 non-null int64\n",
      "Hi                        4319 non-null int64\n",
      "Wind Direction            4319 non-null object\n",
      "Rain                      4319 non-null float64\n",
      "Barometer                 4319 non-null float64\n",
      "Inside  Temperature       4319 non-null float64\n",
      "Inside  Humidity          4319 non-null int64\n",
      "ArchivePeriod             4319 non-null int64\n",
      "dttm0                     4319 non-null datetime64[ns]\n",
      "m0                        4319 non-null int64\n",
      "dy0                       4319 non-null int64\n",
      "dtypes: datetime64[ns](1), float64(9), int64(7), object(3)\n",
      "memory usage: 708.6+ KB\n"
     ]
    },
    {
     "data": {
      "text/html": [
       "<div>\n",
       "<style scoped>\n",
       "    .dataframe tbody tr th:only-of-type {\n",
       "        vertical-align: middle;\n",
       "    }\n",
       "\n",
       "    .dataframe tbody tr th {\n",
       "        vertical-align: top;\n",
       "    }\n",
       "\n",
       "    .dataframe thead th {\n",
       "        text-align: right;\n",
       "    }\n",
       "</style>\n",
       "<table border=\"1\" class=\"dataframe\">\n",
       "  <thead>\n",
       "    <tr style=\"text-align: right;\">\n",
       "      <th></th>\n",
       "      <th>Date</th>\n",
       "      <th>Time</th>\n",
       "      <th>Temp Humidity Index</th>\n",
       "      <th>Outside Temperature</th>\n",
       "      <th>WindChill</th>\n",
       "      <th>Hi Temperature</th>\n",
       "      <th>Low Temperature</th>\n",
       "      <th>Outside Humidity</th>\n",
       "      <th>DewPoint</th>\n",
       "      <th>WindSpeed</th>\n",
       "      <th>Hi</th>\n",
       "      <th>Wind Direction</th>\n",
       "      <th>Rain</th>\n",
       "      <th>Barometer</th>\n",
       "      <th>Inside  Temperature</th>\n",
       "      <th>Inside  Humidity</th>\n",
       "      <th>ArchivePeriod</th>\n",
       "      <th>dttm0</th>\n",
       "      <th>m0</th>\n",
       "      <th>dy0</th>\n",
       "    </tr>\n",
       "  </thead>\n",
       "  <tbody>\n",
       "    <tr>\n",
       "      <th>90</th>\n",
       "      <td>01/06/2006</td>\n",
       "      <td>00:00</td>\n",
       "      <td>9.6</td>\n",
       "      <td>9.6</td>\n",
       "      <td>9.6</td>\n",
       "      <td>9.6</td>\n",
       "      <td>9.5</td>\n",
       "      <td>81</td>\n",
       "      <td>6.4</td>\n",
       "      <td>1</td>\n",
       "      <td>10</td>\n",
       "      <td>WNW</td>\n",
       "      <td>0.0</td>\n",
       "      <td>1014.4</td>\n",
       "      <td>21.1</td>\n",
       "      <td>40</td>\n",
       "      <td>10</td>\n",
       "      <td>2006-06-01 00:00:00</td>\n",
       "      <td>6</td>\n",
       "      <td>1</td>\n",
       "    </tr>\n",
       "    <tr>\n",
       "      <th>91</th>\n",
       "      <td>01/06/2006</td>\n",
       "      <td>00:10</td>\n",
       "      <td>9.5</td>\n",
       "      <td>9.5</td>\n",
       "      <td>9.5</td>\n",
       "      <td>9.6</td>\n",
       "      <td>9.5</td>\n",
       "      <td>81</td>\n",
       "      <td>6.4</td>\n",
       "      <td>1</td>\n",
       "      <td>5</td>\n",
       "      <td>SW</td>\n",
       "      <td>0.0</td>\n",
       "      <td>1014.4</td>\n",
       "      <td>21.1</td>\n",
       "      <td>40</td>\n",
       "      <td>10</td>\n",
       "      <td>2006-06-01 00:10:00</td>\n",
       "      <td>6</td>\n",
       "      <td>1</td>\n",
       "    </tr>\n",
       "    <tr>\n",
       "      <th>92</th>\n",
       "      <td>01/06/2006</td>\n",
       "      <td>00:20</td>\n",
       "      <td>9.5</td>\n",
       "      <td>9.5</td>\n",
       "      <td>9.5</td>\n",
       "      <td>9.6</td>\n",
       "      <td>9.5</td>\n",
       "      <td>81</td>\n",
       "      <td>6.4</td>\n",
       "      <td>1</td>\n",
       "      <td>7</td>\n",
       "      <td>WSW</td>\n",
       "      <td>0.0</td>\n",
       "      <td>1014.3</td>\n",
       "      <td>21.1</td>\n",
       "      <td>40</td>\n",
       "      <td>10</td>\n",
       "      <td>2006-06-01 00:20:00</td>\n",
       "      <td>6</td>\n",
       "      <td>1</td>\n",
       "    </tr>\n",
       "    <tr>\n",
       "      <th>93</th>\n",
       "      <td>01/06/2006</td>\n",
       "      <td>00:30</td>\n",
       "      <td>9.5</td>\n",
       "      <td>9.5</td>\n",
       "      <td>9.5</td>\n",
       "      <td>9.6</td>\n",
       "      <td>9.5</td>\n",
       "      <td>82</td>\n",
       "      <td>6.6</td>\n",
       "      <td>1</td>\n",
       "      <td>6</td>\n",
       "      <td>W</td>\n",
       "      <td>0.0</td>\n",
       "      <td>1014.2</td>\n",
       "      <td>21.1</td>\n",
       "      <td>40</td>\n",
       "      <td>10</td>\n",
       "      <td>2006-06-01 00:30:00</td>\n",
       "      <td>6</td>\n",
       "      <td>1</td>\n",
       "    </tr>\n",
       "    <tr>\n",
       "      <th>94</th>\n",
       "      <td>01/06/2006</td>\n",
       "      <td>00:40</td>\n",
       "      <td>9.5</td>\n",
       "      <td>9.5</td>\n",
       "      <td>9.5</td>\n",
       "      <td>9.6</td>\n",
       "      <td>9.5</td>\n",
       "      <td>83</td>\n",
       "      <td>6.8</td>\n",
       "      <td>1</td>\n",
       "      <td>6</td>\n",
       "      <td>SW</td>\n",
       "      <td>0.0</td>\n",
       "      <td>1014.1</td>\n",
       "      <td>21.0</td>\n",
       "      <td>40</td>\n",
       "      <td>10</td>\n",
       "      <td>2006-06-01 00:40:00</td>\n",
       "      <td>6</td>\n",
       "      <td>1</td>\n",
       "    </tr>\n",
       "  </tbody>\n",
       "</table>\n",
       "</div>"
      ],
      "text/plain": [
       "          Date   Time  Temp Humidity Index     Outside Temperature  WindChill  \\\n",
       "90  01/06/2006  00:00                     9.6                  9.6        9.6   \n",
       "91  01/06/2006  00:10                     9.5                  9.5        9.5   \n",
       "92  01/06/2006  00:20                     9.5                  9.5        9.5   \n",
       "93  01/06/2006  00:30                     9.5                  9.5        9.5   \n",
       "94  01/06/2006  00:40                     9.5                  9.5        9.5   \n",
       "\n",
       "    Hi Temperature  Low Temperature  Outside Humidity  DewPoint  WindSpeed  \\\n",
       "90             9.6              9.5                81       6.4          1   \n",
       "91             9.6              9.5                81       6.4          1   \n",
       "92             9.6              9.5                81       6.4          1   \n",
       "93             9.6              9.5                82       6.6          1   \n",
       "94             9.6              9.5                83       6.8          1   \n",
       "\n",
       "    Hi Wind Direction  Rain  Barometer  Inside  Temperature  Inside  Humidity  \\\n",
       "90  10            WNW   0.0     1014.4                 21.1                40   \n",
       "91   5             SW   0.0     1014.4                 21.1                40   \n",
       "92   7            WSW   0.0     1014.3                 21.1                40   \n",
       "93   6              W   0.0     1014.2                 21.1                40   \n",
       "94   6             SW   0.0     1014.1                 21.0                40   \n",
       "\n",
       "    ArchivePeriod               dttm0  m0  dy0  \n",
       "90             10 2006-06-01 00:00:00   6    1  \n",
       "91             10 2006-06-01 00:10:00   6    1  \n",
       "92             10 2006-06-01 00:20:00   6    1  \n",
       "93             10 2006-06-01 00:30:00   6    1  \n",
       "94             10 2006-06-01 00:40:00   6    1  "
      ]
     },
     "execution_count": 5,
     "metadata": {},
     "output_type": "execute_result"
    }
   ],
   "source": [
    "df1.info()\n",
    "df1.head()"
   ]
  },
  {
   "cell_type": "code",
   "execution_count": 6,
   "metadata": {},
   "outputs": [],
   "source": [
    "## Filter down to first 9 days\n",
    "ndays=9\n",
    "cut0 = df1.dttm0.min().normalize() + pd.DateOffset(days=ndays)\n",
    "df2 = df1[ df1['dttm0'] < cut0]"
   ]
  },
  {
   "cell_type": "code",
   "execution_count": 7,
   "metadata": {},
   "outputs": [
    {
     "data": {
      "text/plain": [
       "Index(['Date', 'Time', 'Temp Humidity Index   ', 'Outside Temperature',\n",
       "       'WindChill', 'Hi Temperature', 'Low Temperature', 'Outside Humidity',\n",
       "       'DewPoint', 'WindSpeed', 'Hi', 'Wind Direction', 'Rain', 'Barometer',\n",
       "       'Inside  Temperature', 'Inside  Humidity', 'ArchivePeriod', 'dttm0',\n",
       "       'm0', 'dy0'],\n",
       "      dtype='object')"
      ]
     },
     "execution_count": 7,
     "metadata": {},
     "output_type": "execute_result"
    }
   ],
   "source": [
    "df2.columns"
   ]
  },
  {
   "cell_type": "code",
   "execution_count": 10,
   "metadata": {},
   "outputs": [
    {
     "data": {
      "text/plain": [
       "array([9.88991433, 9.67573932, 5.12870002, 7.57879188, 0.94915171,\n",
       "       5.25852991, 8.23440588, 9.06819005, 7.8795339 , 2.79517412,\n",
       "       4.31399461, 5.71481754, 1.79826591, 0.97849421, 2.38066395,\n",
       "       7.76452657, 3.86763703, 0.29925991, 0.53135686, 5.40243638,\n",
       "       8.26144198, 3.01103188, 2.14945676, 8.94202568, 5.02909971,\n",
       "       6.89577487, 6.99893521, 1.81841238, 9.4207588 , 2.52834331,\n",
       "       5.24626561, 2.55038515, 3.78944686, 1.65613328, 2.78729666,\n",
       "       1.95563211, 4.80682303, 1.55662081, 4.16831928, 2.95410085,\n",
       "       6.88639991, 0.55221514, 7.05243814, 0.02121903, 2.66835261,\n",
       "       9.03662973, 4.86011783, 6.66314005, 4.80101528, 9.84079286,\n",
       "       3.22220836, 3.40450419, 3.67619031, 4.48996775, 9.32837698,\n",
       "       1.60127375, 4.05251874, 1.97021362, 6.69958676, 0.47953719,\n",
       "       5.76255757, 0.26878649, 6.36322813, 2.13672672, 0.70468034,\n",
       "       0.46183762, 2.37928596, 5.97822917, 8.28170689, 4.69537875,\n",
       "       9.77272765, 3.28676836, 1.36293571, 2.35062641, 5.54104213,\n",
       "       9.79391991, 8.07456253, 1.43180221, 2.85780264, 7.33871676,\n",
       "       4.81239948, 1.78715499, 2.67511217, 1.56371864, 1.45122948,\n",
       "       6.23929635, 7.70146429, 9.03032629, 4.35601336, 3.26233734,\n",
       "       9.97675551, 8.80329104, 3.20119922, 8.04858263, 8.87498148,\n",
       "       3.18713397, 7.27072909, 4.49046328, 2.98192716, 9.71557026])"
      ]
     },
     "execution_count": 10,
     "metadata": {},
     "output_type": "execute_result"
    }
   ],
   "source": [
    "x = np.random.rand(100)*10\n",
    "x"
   ]
  },
  {
   "cell_type": "code",
   "execution_count": 11,
   "metadata": {},
   "outputs": [
    {
     "data": {
      "text/plain": [
       "55.82436757697846"
      ]
     },
     "execution_count": 11,
     "metadata": {},
     "output_type": "execute_result"
    }
   ],
   "source": [
    "np.linalg.norm(x)"
   ]
  },
  {
   "cell_type": "code",
   "execution_count": 13,
   "metadata": {},
   "outputs": [
    {
     "data": {
      "text/plain": [
       "array([0.17716124, 0.17332466, 0.09187207, 0.13576136, 0.01700246,\n",
       "       0.09419775, 0.14750558, 0.16244143, 0.14114865, 0.05007086,\n",
       "       0.07727798, 0.10237138, 0.03221292, 0.01752808, 0.04264561,\n",
       "       0.13908848, 0.06928224, 0.00536074, 0.00951837, 0.09677559,\n",
       "       0.14798989, 0.05393759, 0.03850392, 0.16018141, 0.09008789,\n",
       "       0.12352625, 0.1253742 , 0.03257381, 0.16875711, 0.04529103,\n",
       "       0.09397806, 0.04568588, 0.06788159, 0.02966685, 0.04992975,\n",
       "       0.03503187, 0.08610618, 0.02788425, 0.07466845, 0.05291777,\n",
       "       0.12335831, 0.00989201, 0.12633261, 0.0003801 , 0.04779907,\n",
       "       0.16187608, 0.08706087, 0.11935899, 0.08600214, 0.17628131,\n",
       "       0.05772046, 0.06098599, 0.06585279, 0.08043025, 0.16710224,\n",
       "       0.02868414, 0.07259408, 0.03529308, 0.12001187, 0.00859011,\n",
       "       0.10322656, 0.00481486, 0.11398657, 0.03827588, 0.01262317,\n",
       "       0.00827305, 0.04262092, 0.10708996, 0.1483529 , 0.08410984,\n",
       "       0.17506204, 0.05887695, 0.02441471, 0.04210753, 0.09925848,\n",
       "       0.17544166, 0.14464226, 0.02564834, 0.05119275, 0.13146081,\n",
       "       0.08620607, 0.03201389, 0.04792015, 0.0280114 , 0.02599634,\n",
       "       0.11176654, 0.13795883, 0.16176316, 0.07803068, 0.05843931,\n",
       "       0.17871686, 0.15769621, 0.05734412, 0.14417687, 0.15898042,\n",
       "       0.05709216, 0.13024293, 0.08043912, 0.05341623, 0.17403816])"
      ]
     },
     "execution_count": 13,
     "metadata": {},
     "output_type": "execute_result"
    }
   ],
   "source": [
    "norm1 = x / np.linalg.norm(x)\n",
    "norm1"
   ]
  },
  {
   "cell_type": "code",
   "execution_count": 28,
   "metadata": {},
   "outputs": [
    {
     "data": {
      "text/plain": [
       "array([ 0.37056704,  0.41264878, -0.45848921,  0.23707945, -0.04726233,\n",
       "        0.44727906,  0.2164848 , -0.28311769,  0.12031474,  0.35139535])"
      ]
     },
     "execution_count": 28,
     "metadata": {},
     "output_type": "execute_result"
    }
   ],
   "source": [
    "x0 = np.random.rand(10) - 0.5\n",
    "x0"
   ]
  },
  {
   "cell_type": "code",
   "execution_count": 29,
   "metadata": {},
   "outputs": [
    {
     "data": {
      "text/plain": [
       "array([ 3.70567036,  4.12648785, -4.58489214,  2.37079454, -0.47262327,\n",
       "        4.47279057,  2.164848  , -2.83117695,  1.20314735,  3.51395348])"
      ]
     },
     "execution_count": 29,
     "metadata": {},
     "output_type": "execute_result"
    }
   ],
   "source": [
    "x = 10 * x0\n",
    "x"
   ]
  },
  {
   "cell_type": "code",
   "execution_count": 30,
   "metadata": {},
   "outputs": [
    {
     "data": {
      "text/plain": [
       "10.204341627482146"
      ]
     },
     "execution_count": 30,
     "metadata": {},
     "output_type": "execute_result"
    },
    {
     "data": {
      "text/plain": [
       "array([ 0.36314644,  0.40438551, -0.44930798,  0.23233194, -0.0463159 ,\n",
       "        0.43832231,  0.2121497 , -0.27744827,  0.11790544,  0.34435867])"
      ]
     },
     "execution_count": 30,
     "metadata": {},
     "output_type": "execute_result"
    }
   ],
   "source": [
    "np.linalg.norm(x)\n",
    "x1 = x / np.linalg.norm(x)\n",
    "x1"
   ]
  },
  {
   "cell_type": "code",
   "execution_count": 25,
   "metadata": {},
   "outputs": [
    {
     "data": {
      "text/plain": [
       "array([ 1.98142443,  4.35314228,  2.98465367,  5.30803855,  1.40755114,\n",
       "       -3.22895542, -4.64535262, -0.90341954,  1.39819572,  1.81187924])"
      ]
     },
     "execution_count": 25,
     "metadata": {},
     "output_type": "execute_result"
    }
   ],
   "source": [
    "x1 * 10"
   ]
  },
  {
   "cell_type": "code",
   "execution_count": 33,
   "metadata": {},
   "outputs": [
    {
     "data": {
      "text/plain": [
       "1.3668999782562579"
      ]
     },
     "execution_count": 33,
     "metadata": {},
     "output_type": "execute_result"
    }
   ],
   "source": [
    "np.mean(x)"
   ]
  },
  {
   "cell_type": "code",
   "execution_count": 45,
   "metadata": {},
   "outputs": [
    {
     "data": {
      "text/plain": [
       "array([0.00733998, 0.04458752, 0.16431504, 0.24951028, 0.33313448,\n",
       "       0.66088623, 0.75798901, 0.79348466, 0.81186477, 0.88028389])"
      ]
     },
     "execution_count": 45,
     "metadata": {},
     "output_type": "execute_result"
    }
   ],
   "source": [
    "x0 = np.random.rand(10)\n",
    "x0 = np.sort(x0)\n",
    "x0"
   ]
  },
  {
   "cell_type": "code",
   "execution_count": 49,
   "metadata": {},
   "outputs": [
    {
     "data": {
      "text/plain": [
       "array([ 0.73399787,  4.45875171, 16.43150412, 24.95102804, 33.31344848,\n",
       "       66.08862296, 75.79890085, 79.34846578, 81.18647728, 88.02838916])"
      ]
     },
     "execution_count": 49,
     "metadata": {},
     "output_type": "execute_result"
    }
   ],
   "source": [
    "x1 = x0 * 100\n",
    "x1"
   ]
  },
  {
   "cell_type": "code",
   "execution_count": 50,
   "metadata": {},
   "outputs": [
    {
     "data": {
      "text/plain": [
       "47.03395862404958"
      ]
     },
     "execution_count": 50,
     "metadata": {},
     "output_type": "execute_result"
    }
   ],
   "source": [
    "xbar = np.mean(x1)\n",
    "xbar"
   ]
  },
  {
   "cell_type": "code",
   "execution_count": 57,
   "metadata": {},
   "outputs": [
    {
     "data": {
      "text/plain": [
       "array([-0.9843943 , -0.90520144, -0.65064595, -0.46951035, -0.29171498,\n",
       "        0.40512568,  0.61157817,  0.6870463 ,  0.72612469,  0.87159218])"
      ]
     },
     "execution_count": 57,
     "metadata": {},
     "output_type": "execute_result"
    }
   ],
   "source": [
    "r1 = (x1 - xbar)/xbar\n",
    "r1"
   ]
  },
  {
   "cell_type": "code",
   "execution_count": 59,
   "metadata": {},
   "outputs": [
    {
     "data": {
      "text/plain": [
       "array([ 0.73399787,  4.45875171, 16.43150412, 24.95102804, 33.31344848,\n",
       "       66.08862296, 75.79890085, 79.34846578, 81.18647728, 88.02838916])"
      ]
     },
     "execution_count": 59,
     "metadata": {},
     "output_type": "execute_result"
    }
   ],
   "source": [
    "(1+r1 )* xbar"
   ]
  },
  {
   "cell_type": "code",
   "execution_count": 61,
   "metadata": {},
   "outputs": [
    {
     "data": {
      "text/plain": [
       "array([10.00733998, 10.04458752, 10.16431504, 10.24951028, 10.33313448,\n",
       "       10.66088623, 10.75798901, 10.79348466, 10.81186477, 10.88028389])"
      ]
     },
     "execution_count": 61,
     "metadata": {},
     "output_type": "execute_result"
    }
   ],
   "source": [
    "x0 + 10"
   ]
  },
  {
   "cell_type": "code",
   "execution_count": 67,
   "metadata": {},
   "outputs": [
    {
     "data": {
      "text/plain": [
       "array([  0.84409755,   5.12756447,  18.89622974,  28.69368225,\n",
       "        38.31046575,  76.0019164 ,  87.16873598,  91.25073565,\n",
       "        93.36444887, 101.23264753])"
      ]
     },
     "execution_count": 67,
     "metadata": {},
     "output_type": "execute_result"
    }
   ],
   "source": [
    "x1 * (1.15)"
   ]
  },
  {
   "cell_type": "code",
   "execution_count": 73,
   "metadata": {},
   "outputs": [
    {
     "data": {
      "text/plain": [
       "array([ 0.11009968,  0.66881276,  2.46472562,  3.74265421,  4.99701727,\n",
       "        9.91329344, 11.36983513, 11.90226987, 12.17797159, 13.20425837])"
      ]
     },
     "execution_count": 73,
     "metadata": {},
     "output_type": "execute_result"
    }
   ],
   "source": [
    "np.mean(x1 * 1.15) * (1+r1) - x1"
   ]
  },
  {
   "cell_type": "code",
   "execution_count": 74,
   "metadata": {},
   "outputs": [
    {
     "data": {
      "text/plain": [
       "array([ 0.73399787,  4.45875171, 16.43150412, 24.95102804, 33.31344848,\n",
       "       66.08862296, 75.79890085, 79.34846578, 81.18647728, 88.02838916])"
      ]
     },
     "execution_count": 74,
     "metadata": {},
     "output_type": "execute_result"
    }
   ],
   "source": [
    "x1"
   ]
  },
  {
   "cell_type": "code",
   "execution_count": 75,
   "metadata": {},
   "outputs": [
    {
     "data": {
      "text/plain": [
       "array([0.        , 0.04266888, 0.17982262, 0.27741794, 0.37321356,\n",
       "       0.74866923, 0.85990522, 0.90056723, 0.92162255, 1.        ])"
      ]
     },
     "execution_count": 75,
     "metadata": {},
     "output_type": "execute_result"
    }
   ],
   "source": [
    "( x1 - np.min(x1) ) / (np.max(x1) - np.min(x1))"
   ]
  },
  {
   "cell_type": "code",
   "execution_count": 108,
   "metadata": {},
   "outputs": [
    {
     "data": {
      "text/plain": [
       "1.0"
      ]
     },
     "execution_count": 108,
     "metadata": {},
     "output_type": "execute_result"
    },
    {
     "data": {
      "text/plain": [
       "0.6666666666666666"
      ]
     },
     "execution_count": 108,
     "metadata": {},
     "output_type": "execute_result"
    },
    {
     "data": {
      "text/plain": [
       "1.0"
      ]
     },
     "execution_count": 108,
     "metadata": {},
     "output_type": "execute_result"
    },
    {
     "data": {
      "text/plain": [
       "0.816496580927726"
      ]
     },
     "execution_count": 108,
     "metadata": {},
     "output_type": "execute_result"
    }
   ],
   "source": [
    "np.var([1,2,3],ddof=1)\n",
    "np.var([1,2,3])\n",
    "\n",
    "np.std([1,2,3],ddof=1)\n",
    "np.std([1,2,3])"
   ]
  },
  {
   "cell_type": "code",
   "execution_count": 146,
   "metadata": {},
   "outputs": [
    {
     "data": {
      "text/plain": [
       "array([15.24719949, 15.37102981, 15.38688686, 15.49529736, 15.54827515,\n",
       "       15.6542128 , 15.72240757, 15.77599948, 15.85958354, 15.89364488,\n",
       "       15.89941315, 15.97626295, 16.07604057, 16.09231979, 16.11318449,\n",
       "       16.11379807, 16.1294378 , 16.1351105 , 16.22206166, 16.34535447,\n",
       "       16.35392   , 16.53795184, 16.55596885, 16.60389196])"
      ]
     },
     "execution_count": 146,
     "metadata": {},
     "output_type": "execute_result"
    }
   ],
   "source": [
    "# Like a day in June.\n",
    "mu, sigma = 16, 0.4 # mean and standard deviation\n",
    "s0=np.random.normal(mu, sigma, 24)\n",
    "s0=np.sort(s)\n",
    "s0"
   ]
  },
  {
   "cell_type": "code",
   "execution_count": 147,
   "metadata": {},
   "outputs": [
    {
     "data": {
      "text/plain": [
       "(15.962885543369504, 0.3836068309359353)"
      ]
     },
     "execution_count": 147,
     "metadata": {},
     "output_type": "execute_result"
    },
    {
     "data": {
      "text/plain": [
       "array([-1.86567598, -1.54287068, -1.50153396, -1.21892559, -1.08082121,\n",
       "       -0.80465915, -0.62688658, -0.48718126, -0.26929136, -0.18049905,\n",
       "       -0.16546211,  0.03487269,  0.29497656,  0.33741381,  0.39180468,\n",
       "        0.39340416,  0.43417439,  0.44896218,  0.67562958,  0.99703367,\n",
       "        1.0193626 ,  1.49910339,  1.54607078,  1.67099845])"
      ]
     },
     "execution_count": 147,
     "metadata": {},
     "output_type": "execute_result"
    }
   ],
   "source": [
    "# Sample statistics\n",
    "mu0 = np.mean(s0)\n",
    "std0 = np.std(s0, ddof=1)\n",
    "(mu0, std0)\n",
    "r0 = (s0 - mu0)/std0\n",
    "r0"
   ]
  },
  {
   "cell_type": "code",
   "execution_count": 148,
   "metadata": {},
   "outputs": [
    {
     "data": {
      "text/plain": [
       "array([22., 22., 22., 22., 22., 22., 22., 22., 22., 22., 22., 22., 22.,\n",
       "       22., 22., 22., 22., 22., 22., 22., 22., 22., 22., 22.])"
      ]
     },
     "execution_count": 148,
     "metadata": {},
     "output_type": "execute_result"
    }
   ],
   "source": [
    "# Like a day in July\n",
    "mu1 = 22\n",
    "s1=np.ones(s0.size) * mu1\n",
    "s1"
   ]
  },
  {
   "cell_type": "code",
   "execution_count": 149,
   "metadata": {},
   "outputs": [
    {
     "data": {
      "text/plain": [
       "array([20.13432402, 20.45712932, 20.49846604, 20.78107441, 20.91917879,\n",
       "       21.19534085, 21.37311342, 21.51281874, 21.73070864, 21.81950095,\n",
       "       21.83453789, 22.03487269, 22.29497656, 22.33741381, 22.39180468,\n",
       "       22.39340416, 22.43417439, 22.44896218, 22.67562958, 22.99703367,\n",
       "       23.0193626 , 23.49910339, 23.54607078, 23.67099845])"
      ]
     },
     "execution_count": 149,
     "metadata": {},
     "output_type": "execute_result"
    }
   ],
   "source": [
    "s1x = s1 + r0\n",
    "s1x"
   ]
  },
  {
   "cell_type": "code",
   "execution_count": 150,
   "metadata": {},
   "outputs": [
    {
     "data": {
      "text/plain": [
       "(22.0, 0.9999999999999999)"
      ]
     },
     "execution_count": 150,
     "metadata": {},
     "output_type": "execute_result"
    },
    {
     "data": {
      "text/plain": [
       "array([-1.86567598, -1.54287068, -1.50153396, -1.21892559, -1.08082121,\n",
       "       -0.80465915, -0.62688658, -0.48718126, -0.26929136, -0.18049905,\n",
       "       -0.16546211,  0.03487269,  0.29497656,  0.33741381,  0.39180468,\n",
       "        0.39340416,  0.43417439,  0.44896218,  0.67562958,  0.99703367,\n",
       "        1.0193626 ,  1.49910339,  1.54607078,  1.67099845])"
      ]
     },
     "execution_count": 150,
     "metadata": {},
     "output_type": "execute_result"
    }
   ],
   "source": [
    "mu1 = np.mean(s1x)\n",
    "std1 = np.std(s1x, ddof=1)\n",
    "(mu1, std1)\n",
    "r1x = (s1x - mu1)/std1\n",
    "r1x"
   ]
  },
  {
   "cell_type": "code",
   "execution_count": null,
   "metadata": {},
   "outputs": [],
   "source": []
  }
 ],
 "metadata": {
  "kernelspec": {
   "display_name": "Python 3",
   "language": "python",
   "name": "python3"
  },
  "language_info": {
   "codemirror_mode": {
    "name": "ipython",
    "version": 3
   },
   "file_extension": ".py",
   "mimetype": "text/x-python",
   "name": "python",
   "nbconvert_exporter": "python",
   "pygments_lexer": "ipython3",
   "version": "3.7.3"
  }
 },
 "nbformat": 4,
 "nbformat_minor": 4
}
