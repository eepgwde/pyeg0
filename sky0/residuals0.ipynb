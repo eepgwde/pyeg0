{
 "cells": [
  {
   "cell_type": "markdown",
   "metadata": {},
   "source": [
    "# Forecasting for July\n",
    "\n",
    "Technical Challenge for Data Science Candidates\n",
    "\n",
    "You want to forecast the “Outside Temperature” for the first 9 days of the next month.\n",
    "\n",
    "Assume that:\n",
    "\n",
    "  - The average temperature for each day of July is constant and equal to 25 degrees;\n",
    "\n",
    "  - For the 1st of July, the pattern of the temperatures across the day with respect to the average temperature on that day is similar to the one found on 1st of June, for the 2nd of July is similar to the average on the 2nd of June, etc.\n",
    "  \n",
    "Produce a “.txt” file with your forecast for July (from 1st July to 9th July) with the sample values for each time for e.g. dd/mm/yyyy, Time, Outside Temperature.\n",
    "\n",
    "## Implementation\n",
    "\n",
    "The algorithm I'll use is to calculate the average temperature for each day of June.\n",
    "\n",
    "For each day in June, calculate the offsets from that average. \n",
    "\n",
    "Then, take those offsets and apply those to the average temperature for July of 25 degrees.\n",
    "\n",
    "Note that this isn't a particularly good predictor because it doesn't apply like for like. It's probably better to use a Normalization method.\n",
    "\n",
    "Probably better is to calculate the residuals for each day in June and add those. So (X - mu) / std. where std is the sample standard deviation. Gives the absolute residuals.\n",
    "\n",
    "But better still is to calculate the percentage residuals from the mean on each day.\n",
    "\n",
    "But this is actually the same as scaling up the June readings for any one day, by the ratio of the expected July number, 22 degrees, by the average of the June day. So if the average in June is 16, then multiply up the June numbers by 22/16 = 1.375."
   ]
  },
  {
   "cell_type": "code",
   "execution_count": 2,
   "metadata": {},
   "outputs": [
    {
     "data": {
      "text/plain": [
       "'0.24.2'"
      ]
     },
     "execution_count": 2,
     "metadata": {},
     "output_type": "execute_result"
    }
   ],
   "source": [
    "import numpy as np\n",
    "import pandas as pd\n",
    "\n",
    "import matplotlib\n",
    "from cycler import cycler\n",
    "import matplotlib.pyplot as plt\n",
    "\n",
    "pd.__version__"
   ]
  },
  {
   "cell_type": "code",
   "execution_count": 3,
   "metadata": {},
   "outputs": [],
   "source": [
    "# If you turn this feature on, you can display each result as it happens.\n",
    "from IPython.core.interactiveshell import InteractiveShell\n",
    "InteractiveShell.ast_node_interactivity = \"all\""
   ]
  },
  {
   "cell_type": "markdown",
   "metadata": {},
   "source": [
    "## Residuals\n",
    "\n",
    "Absolute residuals"
   ]
  },
  {
   "cell_type": "code",
   "execution_count": 6,
   "metadata": {},
   "outputs": [
    {
     "data": {
      "text/plain": [
       "array([15.23950968, 15.25854225, 15.41795319, 15.49131178, 15.67496635,\n",
       "       15.73867892, 15.86573684, 15.87682797, 15.92005993, 15.92392121,\n",
       "       15.97383664, 15.98386534, 16.08186518, 16.0887025 , 16.12626189,\n",
       "       16.14214232, 16.18745778, 16.20060806, 16.22515699, 16.23949539,\n",
       "       16.31556415, 16.36149431, 16.44654032, 16.70269323])"
      ]
     },
     "execution_count": 6,
     "metadata": {},
     "output_type": "execute_result"
    }
   ],
   "source": [
    "# Like a day in June.\n",
    "mu, sigma = 16, 0.4 # mean and standard deviation\n",
    "s0=np.random.normal(mu, sigma, 24)\n",
    "s0=np.sort(s0)\n",
    "s0"
   ]
  },
  {
   "cell_type": "code",
   "execution_count": 7,
   "metadata": {},
   "outputs": [
    {
     "data": {
      "text/plain": [
       "(15.978466343345284, 0.3666751023025071, 43.57663294565073)"
      ]
     },
     "execution_count": 7,
     "metadata": {},
     "output_type": "execute_result"
    },
    {
     "data": {
      "text/plain": [
       "array([-2.01529   , -1.96338418, -1.52863707, -1.32857278, -0.82770821,\n",
       "       -0.65395066, -0.30743703, -0.27718918, -0.15928654, -0.14875603,\n",
       "       -0.01262617,  0.01472421,  0.28199033,  0.30063714,  0.4030695 ,\n",
       "        0.44637875,  0.56996354,  0.60582711,  0.6727772 ,  0.71188103,\n",
       "        0.91933652,  1.04459769,  1.27653603,  1.97511879])"
      ]
     },
     "execution_count": 7,
     "metadata": {},
     "output_type": "execute_result"
    }
   ],
   "source": [
    "# Sample statistics\n",
    "mu0 = np.mean(s0)\n",
    "std0 = np.std(s0, ddof=1)\n",
    "(mu0, std0, mu0/std0)\n",
    "r0 = (s0 - mu0)/std0\n",
    "r0"
   ]
  },
  {
   "cell_type": "code",
   "execution_count": 8,
   "metadata": {},
   "outputs": [
    {
     "data": {
      "text/plain": [
       "array([22., 22., 22., 22., 22., 22., 22., 22., 22., 22., 22., 22., 22.,\n",
       "       22., 22., 22., 22., 22., 22., 22., 22., 22., 22., 22.])"
      ]
     },
     "execution_count": 8,
     "metadata": {},
     "output_type": "execute_result"
    }
   ],
   "source": [
    "# Like a day in July\n",
    "mu1 = 22\n",
    "s1=np.ones(s0.size) * mu1\n",
    "s1"
   ]
  },
  {
   "cell_type": "code",
   "execution_count": 9,
   "metadata": {},
   "outputs": [
    {
     "data": {
      "text/plain": [
       "array([19.98471   , 20.03661582, 20.47136293, 20.67142722, 21.17229179,\n",
       "       21.34604934, 21.69256297, 21.72281082, 21.84071346, 21.85124397,\n",
       "       21.98737383, 22.01472421, 22.28199033, 22.30063714, 22.4030695 ,\n",
       "       22.44637875, 22.56996354, 22.60582711, 22.6727772 , 22.71188103,\n",
       "       22.91933652, 23.04459769, 23.27653603, 23.97511879])"
      ]
     },
     "execution_count": 9,
     "metadata": {},
     "output_type": "execute_result"
    }
   ],
   "source": [
    "s1x = s1 + r0\n",
    "s1x"
   ]
  },
  {
   "cell_type": "code",
   "execution_count": 10,
   "metadata": {},
   "outputs": [
    {
     "data": {
      "text/plain": [
       "(22.0, 1.0, 22.0)"
      ]
     },
     "execution_count": 10,
     "metadata": {},
     "output_type": "execute_result"
    },
    {
     "data": {
      "text/plain": [
       "array([-2.01529   , -1.96338418, -1.52863707, -1.32857278, -0.82770821,\n",
       "       -0.65395066, -0.30743703, -0.27718918, -0.15928654, -0.14875603,\n",
       "       -0.01262617,  0.01472421,  0.28199033,  0.30063714,  0.4030695 ,\n",
       "        0.44637875,  0.56996354,  0.60582711,  0.6727772 ,  0.71188103,\n",
       "        0.91933652,  1.04459769,  1.27653603,  1.97511879])"
      ]
     },
     "execution_count": 10,
     "metadata": {},
     "output_type": "execute_result"
    }
   ],
   "source": [
    "mu1 = np.mean(s1x)\n",
    "std1 = np.std(s1x, ddof=1)\n",
    "(mu1, std1, mu1/std1)\n",
    "r1x = (s1x - mu1)/std1\n",
    "r1x"
   ]
  },
  {
   "cell_type": "markdown",
   "metadata": {},
   "source": [
    "## Residuals\n",
    "\n",
    "Ratio residuals"
   ]
  },
  {
   "cell_type": "code",
   "execution_count": 13,
   "metadata": {},
   "outputs": [
    {
     "data": {
      "text/plain": [
       "array([15.23950968, 15.25854225, 15.41795319, 15.49131178, 15.67496635,\n",
       "       15.73867892, 15.86573684, 15.87682797, 15.92005993, 15.92392121,\n",
       "       15.97383664, 15.98386534, 16.08186518, 16.0887025 , 16.12626189,\n",
       "       16.14214232, 16.18745778, 16.20060806, 16.22515699, 16.23949539,\n",
       "       16.31556415, 16.36149431, 16.44654032, 16.70269323])"
      ]
     },
     "execution_count": 13,
     "metadata": {},
     "output_type": "execute_result"
    }
   ],
   "source": [
    "# Like a day in June.\n",
    "s0"
   ]
  },
  {
   "cell_type": "code",
   "execution_count": 14,
   "metadata": {},
   "outputs": [
    {
     "data": {
      "text/plain": [
       "array([-0.04624703, -0.04505589, -0.03507928, -0.03048819, -0.01899431,\n",
       "       -0.01500691, -0.00705509, -0.00636096, -0.00365532, -0.00341367,\n",
       "       -0.00028975,  0.00033789,  0.00647114,  0.00689904,  0.00924967,\n",
       "        0.01024353,  0.01307957,  0.01390257,  0.01543894,  0.0163363 ,\n",
       "        0.02109701,  0.02397151,  0.02929405,  0.04532518])"
      ]
     },
     "execution_count": 14,
     "metadata": {},
     "output_type": "execute_result"
    }
   ],
   "source": [
    "# Sample statistics\n",
    "mu00 = mu0\n",
    "std00 = std0\n",
    "\n",
    "# Calculate ratios\n",
    "s01 = (s0 - mu0)/mu0\n",
    "s01"
   ]
  },
  {
   "cell_type": "code",
   "execution_count": 15,
   "metadata": {},
   "outputs": [
    {
     "data": {
      "text/plain": [
       "(6.071532165918825e-17, 0.022948078646810807, 2.6457692861195645e-15)"
      ]
     },
     "execution_count": 15,
     "metadata": {},
     "output_type": "execute_result"
    },
    {
     "data": {
      "text/plain": [
       "array([-2.01529   , -1.96338418, -1.52863707, -1.32857278, -0.82770821,\n",
       "       -0.65395066, -0.30743703, -0.27718918, -0.15928654, -0.14875603,\n",
       "       -0.01262617,  0.01472421,  0.28199033,  0.30063714,  0.4030695 ,\n",
       "        0.44637875,  0.56996354,  0.60582711,  0.6727772 ,  0.71188103,\n",
       "        0.91933652,  1.04459769,  1.27653603,  1.97511879])"
      ]
     },
     "execution_count": 15,
     "metadata": {},
     "output_type": "execute_result"
    }
   ],
   "source": [
    "mu0 = np.mean(s01)\n",
    "std0 = np.std(s01, ddof=1)\n",
    "(mu0, std0, mu0/std0)\n",
    "r0 = (s01 - mu0)/std0\n",
    "r0"
   ]
  },
  {
   "cell_type": "code",
   "execution_count": 19,
   "metadata": {},
   "outputs": [],
   "source": [
    "s00 = (1 + ((r0 * std0) - mu0)) * mu00"
   ]
  },
  {
   "cell_type": "code",
   "execution_count": 20,
   "metadata": {},
   "outputs": [
    {
     "data": {
      "text/plain": [
       "(15.978466343345282, 0.3666751023025066, 43.576632945650786)"
      ]
     },
     "execution_count": 20,
     "metadata": {},
     "output_type": "execute_result"
    }
   ],
   "source": [
    "(np.mean(s00), np.std(s00, ddof=1), np.mean(s00)/np.std(s00, ddof=1))"
   ]
  },
  {
   "cell_type": "code",
   "execution_count": 22,
   "metadata": {},
   "outputs": [],
   "source": [
    "# Like a day in July\n",
    "mu01 = 22"
   ]
  },
  {
   "cell_type": "code",
   "execution_count": 23,
   "metadata": {},
   "outputs": [
    {
     "data": {
      "text/plain": [
       "array([20.98256527, 21.00877032, 21.22825576, 21.32925976, 21.58212511,\n",
       "       21.66984795, 21.84478804, 21.8600589 , 21.91958296, 21.92489937,\n",
       "       21.99362558, 22.00743363, 22.142365  , 22.15177898, 22.20349275,\n",
       "       22.22535776, 22.2877505 , 22.3058565 , 22.33965677, 22.35939864,\n",
       "       22.46413415, 22.52737322, 22.64446908, 22.99715399])"
      ]
     },
     "execution_count": 23,
     "metadata": {},
     "output_type": "execute_result"
    }
   ],
   "source": [
    "s02 = (1 + ((r0 * std0) - mu0)) * mu01\n",
    "s02"
   ]
  },
  {
   "cell_type": "code",
   "execution_count": 24,
   "metadata": {},
   "outputs": [
    {
     "data": {
      "text/plain": [
       "(22.0, 0.5048577302298372, 43.576632945650786)"
      ]
     },
     "execution_count": 24,
     "metadata": {},
     "output_type": "execute_result"
    }
   ],
   "source": [
    "mu02 = np.mean(s02)\n",
    "std02 = np.std(s02, ddof=1)\n",
    "(mu02, std02, mu02/std02)"
   ]
  },
  {
   "cell_type": "code",
   "execution_count": 26,
   "metadata": {},
   "outputs": [
    {
     "data": {
      "text/plain": [
       "(15.978466343345284, 0.3666751023025071, 43.57663294565073)"
      ]
     },
     "execution_count": 26,
     "metadata": {},
     "output_type": "execute_result"
    }
   ],
   "source": [
    "(mu00, std00, mu00/std00)"
   ]
  },
  {
   "cell_type": "code",
   "execution_count": 27,
   "metadata": {},
   "outputs": [
    {
     "data": {
      "text/plain": [
       "array([20.98256527, 21.00877032, 21.22825576, 21.32925976, 21.58212511,\n",
       "       21.66984795, 21.84478804, 21.8600589 , 21.91958296, 21.92489937,\n",
       "       21.99362558, 22.00743363, 22.142365  , 22.15177898, 22.20349275,\n",
       "       22.22535776, 22.2877505 , 22.3058565 , 22.33965677, 22.35939864,\n",
       "       22.46413415, 22.52737322, 22.64446908, 22.99715399])"
      ]
     },
     "execution_count": 27,
     "metadata": {},
     "output_type": "execute_result"
    }
   ],
   "source": [
    "s02"
   ]
  },
  {
   "cell_type": "code",
   "execution_count": 28,
   "metadata": {},
   "outputs": [
    {
     "data": {
      "text/plain": [
       "array([15.23950968, 15.25854225, 15.41795319, 15.49131178, 15.67496635,\n",
       "       15.73867892, 15.86573684, 15.87682797, 15.92005993, 15.92392121,\n",
       "       15.97383664, 15.98386534, 16.08186518, 16.0887025 , 16.12626189,\n",
       "       16.14214232, 16.18745778, 16.20060806, 16.22515699, 16.23949539,\n",
       "       16.31556415, 16.36149431, 16.44654032, 16.70269323])"
      ]
     },
     "execution_count": 28,
     "metadata": {},
     "output_type": "execute_result"
    }
   ],
   "source": [
    "s00"
   ]
  },
  {
   "cell_type": "code",
   "execution_count": 29,
   "metadata": {},
   "outputs": [
    {
     "data": {
      "text/plain": [
       "array([1.37685304, 1.37685304, 1.37685304, 1.37685304, 1.37685304,\n",
       "       1.37685304, 1.37685304, 1.37685304, 1.37685304, 1.37685304,\n",
       "       1.37685304, 1.37685304, 1.37685304, 1.37685304, 1.37685304,\n",
       "       1.37685304, 1.37685304, 1.37685304, 1.37685304, 1.37685304,\n",
       "       1.37685304, 1.37685304, 1.37685304, 1.37685304])"
      ]
     },
     "execution_count": 29,
     "metadata": {},
     "output_type": "execute_result"
    }
   ],
   "source": [
    "s02 / s00"
   ]
  },
  {
   "cell_type": "code",
   "execution_count": 31,
   "metadata": {},
   "outputs": [
    {
     "data": {
      "text/plain": [
       "1.375"
      ]
     },
     "execution_count": 31,
     "metadata": {},
     "output_type": "execute_result"
    }
   ],
   "source": [
    "22/16"
   ]
  },
  {
   "cell_type": "code",
   "execution_count": 34,
   "metadata": {},
   "outputs": [
    {
     "data": {
      "text/plain": [
       "array([20.98256527, 21.00877032, 21.22825576, 21.32925976, 21.58212511,\n",
       "       21.66984795, 21.84478804, 21.8600589 , 21.91958296, 21.92489937,\n",
       "       21.99362558, 22.00743363, 22.142365  , 22.15177898, 22.20349275,\n",
       "       22.22535776, 22.2877505 , 22.3058565 , 22.33965677, 22.35939864,\n",
       "       22.46413415, 22.52737322, 22.64446908, 22.99715399])"
      ]
     },
     "execution_count": 34,
     "metadata": {},
     "output_type": "execute_result"
    }
   ],
   "source": [
    "s0 * 22/np.mean(s0)"
   ]
  },
  {
   "cell_type": "code",
   "execution_count": null,
   "metadata": {},
   "outputs": [],
   "source": []
  }
 ],
 "metadata": {
  "kernelspec": {
   "display_name": "Python 3",
   "language": "python",
   "name": "python3"
  },
  "language_info": {
   "codemirror_mode": {
    "name": "ipython",
    "version": 3
   },
   "file_extension": ".py",
   "mimetype": "text/x-python",
   "name": "python",
   "nbconvert_exporter": "python",
   "pygments_lexer": "ipython3",
   "version": "3.7.3"
  }
 },
 "nbformat": 4,
 "nbformat_minor": 4
}
