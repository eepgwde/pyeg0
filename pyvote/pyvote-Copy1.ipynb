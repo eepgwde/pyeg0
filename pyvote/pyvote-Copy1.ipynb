{
 "cells": [
  {
   "cell_type": "markdown",
   "metadata": {},
   "source": [
    "weaves\n",
    "\n",
    "Rough working: pyvote and Bell Ordinal number calculation"
   ]
  },
  {
   "cell_type": "code",
   "execution_count": 1,
   "metadata": {},
   "outputs": [],
   "source": [
    "import os\n",
    "import datetime\n",
    "\n",
    "import pandas as pd\n",
    "import numpy as np\n",
    "import functools\n",
    "import scipy.special as scis\n",
    "from functools import partial\n",
    "from itertools import permutations, combinations, chain\n",
    "import string\n",
    "\n",
    "import weaves \n",
    "\n",
    "%load_ext autoreload\n",
    "%autoreload 2"
   ]
  },
  {
   "cell_type": "code",
   "execution_count": 2,
   "metadata": {},
   "outputs": [],
   "source": [
    "from py3votecore.plurality import PluralityAtLarge\n",
    "from py3votecore.stv import STV, Quota\n",
    "from py3votecore.schulze_by_graph import SchulzeMethodByGraph, SchulzeNPRByGraph\n",
    "\n",
    "import pyvote"
   ]
  },
  {
   "cell_type": "code",
   "execution_count": 3,
   "metadata": {},
   "outputs": [
    {
     "name": "stdout",
     "output_type": "stream",
     "text": [
      "0.1.0\n",
      "$Id: e6c1cce8af7f88d8635a28819453f91ae0cb6f85 $\n"
     ]
    }
   ],
   "source": [
    "print(pyvote.__version__)\n",
    "print(pyvote.__Id__)"
   ]
  },
  {
   "cell_type": "code",
   "execution_count": 4,
   "metadata": {
    "scrolled": true
   },
   "outputs": [
    {
     "data": {
      "text/plain": [
       "{'candidates': {'a', 'b', 'c'},\n",
       " 'winner': 'a',\n",
       " 'pairs': {('b', 'a'): 3,\n",
       "  ('b', 'c'): 4,\n",
       "  ('c', 'a'): 3,\n",
       "  ('c', 'b'): 3,\n",
       "  ('a', 'b'): 4,\n",
       "  ('a', 'c'): 4},\n",
       " 'strong_pairs': {('b', 'c'): 4, ('a', 'b'): 4, ('a', 'c'): 4}}"
      ]
     },
     "execution_count": 4,
     "metadata": {},
     "output_type": "execute_result"
    }
   ],
   "source": [
    "# Generate data\n",
    "input = {\n",
    "    ('a', 'b'): 4,\n",
    "    ('b', 'a'): 3,\n",
    "    ('a', 'c'): 4,\n",
    "    ('c', 'a'): 3,\n",
    "    ('b', 'c'): 4,\n",
    "    ('c', 'b'): 3,\n",
    "}\n",
    "judge0 = SchulzeMethodByGraph(input)\n",
    "output = judge0.as_dict()\n",
    "output"
   ]
  },
  {
   "cell_type": "raw",
   "metadata": {},
   "source": [
    "        # Run tests\n",
    "        self.assertEqual(output, {\n",
    "            'candidates': set(['a', 'b', 'c']),\n",
    "            'pairs': input,\n",
    "            'strong_pairs': {\n",
    "                ('a', 'b'): 4,\n",
    "                ('a', 'c'): 4,\n",
    "                ('b', 'c'): 4,\n",
    "            },\n",
    "            'winner': 'a',\n",
    "        })"
   ]
  },
  {
   "cell_type": "markdown",
   "metadata": {},
   "source": [
    "    3 voters preferring candidate A to B to C\n",
    "    1 voter preferring candidate B to C to A\n",
    "    1 voter preferring candidate C to A to B\n",
    "    1 voter preferring candidate C to B to A"
   ]
  },
  {
   "cell_type": "markdown",
   "metadata": {},
   "source": [
    "input = {\n",
    "    ('a', ('b', 'c')): 3,\n",
    "    ('b', 'c', 'a'): 1,\n",
    "    ('c', 'a', 'b'): 1,\n",
    "    ('c', 'b', 'a'): 1,\n",
    "}\n",
    "judge0 = SchulzeMethodByGraph(input)\n",
    "output = judge0.as_dict()\n",
    "output"
   ]
  },
  {
   "cell_type": "code",
   "execution_count": 5,
   "metadata": {},
   "outputs": [
    {
     "data": {
      "text/plain": [
       "{'a', 'b', 'c'}"
      ]
     },
     "execution_count": 5,
     "metadata": {},
     "output_type": "execute_result"
    }
   ],
   "source": [
    "judge0.graph\n",
    "judge0.candidates"
   ]
  },
  {
   "cell_type": "code",
   "execution_count": 6,
   "metadata": {},
   "outputs": [],
   "source": [
    "def graph_winner(self):\n",
    "    losing_candidates = set([edge[1] for edge in self.graph.edges()])\n",
    "    winning_candidates = set(self.graph.nodes()) - losing_candidates\n",
    "    if len(winning_candidates) == 1:\n",
    "        self.winner = list(winning_candidates)[0]\n",
    "    elif len(winning_candidates) > 1:\n",
    "        self.tied_winners = winning_candidates\n",
    "        self.winner = self.break_ties(winning_candidates)\n",
    "    else:\n",
    "        self.condorcet_completion_method()\n",
    "            \n",
    "    return self"
   ]
  },
  {
   "cell_type": "code",
   "execution_count": 7,
   "metadata": {},
   "outputs": [
    {
     "data": {
      "text/plain": [
       "<py3votecore.schulze_by_graph.SchulzeMethodByGraph at 0x7f4ee384f2b0>"
      ]
     },
     "execution_count": 7,
     "metadata": {},
     "output_type": "execute_result"
    }
   ],
   "source": [
    "graph_winner(judge0)"
   ]
  },
  {
   "cell_type": "code",
   "execution_count": 8,
   "metadata": {},
   "outputs": [
    {
     "data": {
      "text/plain": [
       "'a'"
      ]
     },
     "execution_count": 8,
     "metadata": {},
     "output_type": "execute_result"
    }
   ],
   "source": [
    "judge0.winner"
   ]
  },
  {
   "cell_type": "code",
   "execution_count": 9,
   "metadata": {},
   "outputs": [
    {
     "data": {
      "text/plain": [
       "py3votecore.schulze_by_graph.SchulzeMethodByGraph"
      ]
     },
     "execution_count": 9,
     "metadata": {},
     "output_type": "execute_result"
    }
   ],
   "source": [
    "type(judge0)"
   ]
  },
  {
   "cell_type": "code",
   "execution_count": 10,
   "metadata": {},
   "outputs": [
    {
     "data": {
      "text/plain": [
       "['b', 'c', 'a']"
      ]
     },
     "execution_count": 10,
     "metadata": {},
     "output_type": "execute_result"
    }
   ],
   "source": [
    "judge0.graph.nodes()"
   ]
  },
  {
   "cell_type": "code",
   "execution_count": 11,
   "metadata": {},
   "outputs": [
    {
     "data": {
      "text/plain": [
       "[('b', 'c'), ('a', 'b'), ('a', 'c')]"
      ]
     },
     "execution_count": 11,
     "metadata": {},
     "output_type": "execute_result"
    }
   ],
   "source": [
    "judge0.graph.edges()"
   ]
  },
  {
   "cell_type": "markdown",
   "metadata": {},
   "source": [
    "The permutohedron of order n has n! vertices, each of which is adjacent to n − 1 others, so the total number of edges is (n − 1)n!/2. Each edge has length √2, and connects two vertices that differ by swapping two coordinates the values of which differ by one.[3]"
   ]
  },
  {
   "cell_type": "code",
   "execution_count": 12,
   "metadata": {},
   "outputs": [
    {
     "name": "stdout",
     "output_type": "stream",
     "text": [
      "6 [array([0, 1, 2]), array([0, 2, 1]), array([1, 0, 2]), array([1, 2, 0]), array([2, 0, 1]), array([2, 1, 0])]\n"
     ]
    }
   ],
   "source": [
    "l = [0, 1, 2]\n",
    "l1 = permutations(l, len(l))\n",
    "l1 = map(np.array, l1)\n",
    "l1 = list(l1)\n",
    "print(len(l1), l1)"
   ]
  },
  {
   "cell_type": "code",
   "execution_count": 13,
   "metadata": {},
   "outputs": [
    {
     "name": "stdout",
     "output_type": "stream",
     "text": [
      "15 [(array([0, 1, 2]), array([0, 2, 1])), (array([0, 1, 2]), array([1, 0, 2])), (array([0, 1, 2]), array([1, 2, 0])), (array([0, 1, 2]), array([2, 0, 1])), (array([0, 1, 2]), array([2, 1, 0])), (array([0, 2, 1]), array([1, 0, 2])), (array([0, 2, 1]), array([1, 2, 0])), (array([0, 2, 1]), array([2, 0, 1])), (array([0, 2, 1]), array([2, 1, 0])), (array([1, 0, 2]), array([1, 2, 0])), (array([1, 0, 2]), array([2, 0, 1])), (array([1, 0, 2]), array([2, 1, 0])), (array([1, 2, 0]), array([2, 0, 1])), (array([1, 2, 0]), array([2, 1, 0])), (array([2, 0, 1]), array([2, 1, 0]))]\n"
     ]
    },
    {
     "data": {
      "text/plain": [
       "array([0, 1, 1])"
      ]
     },
     "execution_count": 13,
     "metadata": {},
     "output_type": "execute_result"
    }
   ],
   "source": [
    "l2=list(combinations(l1, len(l)-1))\n",
    "print(len(l2), l2)\n",
    "abs(l2[0][0] - l2[0][1])"
   ]
  },
  {
   "cell_type": "markdown",
   "metadata": {},
   "source": [
    "Try building a permutohedron"
   ]
  },
  {
   "cell_type": "code",
   "execution_count": 14,
   "metadata": {},
   "outputs": [
    {
     "data": {
      "text/plain": [
       "{('A',),\n",
       " ('A', 'B'),\n",
       " ('A', 'B', 'C'),\n",
       " ('A', 'C'),\n",
       " ('A', 'C', 'B'),\n",
       " ('B',),\n",
       " ('B', 'A'),\n",
       " ('B', 'A', 'C'),\n",
       " ('B', 'C'),\n",
       " ('B', 'C', 'A'),\n",
       " ('C',),\n",
       " ('C', 'A'),\n",
       " ('C', 'A', 'B'),\n",
       " ('C', 'B'),\n",
       " ('C', 'B', 'A')}"
      ]
     },
     "execution_count": 14,
     "metadata": {},
     "output_type": "execute_result"
    }
   ],
   "source": [
    "weaves.POSetOps.instance().strong('ABC')"
   ]
  },
  {
   "cell_type": "code",
   "execution_count": 15,
   "metadata": {},
   "outputs": [
    {
     "data": {
      "text/plain": [
       "{'m': {0: 'A', 1: 'B', 2: 'C'},\n",
       " 'n': ((0, 1, 2), (0, 2, 1), (1, 0, 2), (1, 2, 0), (2, 0, 1), (2, 1, 0)),\n",
       " 'e': (((0, 1, 2), (0, 2, 1)),\n",
       "  ((0, 1, 2), (1, 0, 2)),\n",
       "  ((0, 2, 1), (1, 2, 0)),\n",
       "  ((1, 0, 2), (2, 0, 1)),\n",
       "  ((1, 2, 0), (2, 1, 0)),\n",
       "  ((2, 0, 1), (2, 1, 0)))}"
      ]
     },
     "execution_count": 15,
     "metadata": {},
     "output_type": "execute_result"
    }
   ],
   "source": [
    "weaves.POSetOps.instance().adjacency(tuple('ABC'))"
   ]
  },
  {
   "cell_type": "code",
   "execution_count": 16,
   "metadata": {},
   "outputs": [
    {
     "data": {
      "text/plain": [
       "{'m': {0: 'A', 1: 'B', 2: 'C', 3: 'D'},\n",
       " 'n': ((0, 1, 2, 3),\n",
       "  (0, 1, 3, 2),\n",
       "  (0, 2, 1, 3),\n",
       "  (0, 2, 3, 1),\n",
       "  (0, 3, 1, 2),\n",
       "  (0, 3, 2, 1),\n",
       "  (1, 0, 2, 3),\n",
       "  (1, 0, 3, 2),\n",
       "  (1, 2, 0, 3),\n",
       "  (1, 2, 3, 0),\n",
       "  (1, 3, 0, 2),\n",
       "  (1, 3, 2, 0),\n",
       "  (2, 0, 1, 3),\n",
       "  (2, 0, 3, 1),\n",
       "  (2, 1, 0, 3),\n",
       "  (2, 1, 3, 0),\n",
       "  (2, 3, 0, 1),\n",
       "  (2, 3, 1, 0),\n",
       "  (3, 0, 1, 2),\n",
       "  (3, 0, 2, 1),\n",
       "  (3, 1, 0, 2),\n",
       "  (3, 1, 2, 0),\n",
       "  (3, 2, 0, 1),\n",
       "  (3, 2, 1, 0)),\n",
       " 'e': (((0, 1, 2, 3), (0, 1, 3, 2)),\n",
       "  ((0, 1, 2, 3), (0, 2, 1, 3)),\n",
       "  ((0, 1, 2, 3), (1, 0, 2, 3)),\n",
       "  ((0, 1, 3, 2), (0, 2, 3, 1)),\n",
       "  ((0, 1, 3, 2), (1, 0, 3, 2)),\n",
       "  ((0, 2, 1, 3), (0, 3, 1, 2)),\n",
       "  ((0, 2, 1, 3), (1, 2, 0, 3)),\n",
       "  ((0, 2, 3, 1), (0, 3, 2, 1)),\n",
       "  ((0, 2, 3, 1), (1, 2, 3, 0)),\n",
       "  ((0, 3, 1, 2), (0, 3, 2, 1)),\n",
       "  ((0, 3, 1, 2), (1, 3, 0, 2)),\n",
       "  ((0, 3, 2, 1), (1, 3, 2, 0)),\n",
       "  ((1, 0, 2, 3), (1, 0, 3, 2)),\n",
       "  ((1, 0, 2, 3), (2, 0, 1, 3)),\n",
       "  ((1, 0, 3, 2), (2, 0, 3, 1)),\n",
       "  ((1, 2, 0, 3), (1, 3, 0, 2)),\n",
       "  ((1, 2, 0, 3), (2, 1, 0, 3)),\n",
       "  ((1, 2, 3, 0), (1, 3, 2, 0)),\n",
       "  ((1, 2, 3, 0), (2, 1, 3, 0)),\n",
       "  ((1, 3, 0, 2), (2, 3, 0, 1)),\n",
       "  ((1, 3, 2, 0), (2, 3, 1, 0)),\n",
       "  ((2, 0, 1, 3), (2, 1, 0, 3)),\n",
       "  ((2, 0, 1, 3), (3, 0, 1, 2)),\n",
       "  ((2, 0, 3, 1), (2, 1, 3, 0)),\n",
       "  ((2, 0, 3, 1), (3, 0, 2, 1)),\n",
       "  ((2, 1, 0, 3), (3, 1, 0, 2)),\n",
       "  ((2, 1, 3, 0), (3, 1, 2, 0)),\n",
       "  ((2, 3, 0, 1), (2, 3, 1, 0)),\n",
       "  ((2, 3, 0, 1), (3, 2, 0, 1)),\n",
       "  ((2, 3, 1, 0), (3, 2, 1, 0)),\n",
       "  ((3, 0, 1, 2), (3, 0, 2, 1)),\n",
       "  ((3, 0, 1, 2), (3, 1, 0, 2)),\n",
       "  ((3, 0, 2, 1), (3, 1, 2, 0)),\n",
       "  ((3, 1, 0, 2), (3, 2, 0, 1)),\n",
       "  ((3, 1, 2, 0), (3, 2, 1, 0)),\n",
       "  ((3, 2, 0, 1), (3, 2, 1, 0)))}"
      ]
     },
     "execution_count": 16,
     "metadata": {},
     "output_type": "execute_result"
    }
   ],
   "source": [
    "weaves.POSetOps.instance().adjacency(tuple('ABCD'))"
   ]
  },
  {
   "cell_type": "code",
   "execution_count": 17,
   "metadata": {},
   "outputs": [],
   "source": [
    "def build(candidates, ballots):\n",
    "    graph = digraph()\n",
    "    graph.add_nodes(candidates)\n",
    "    for pair in itertools.permutations(candidates, 2):\n",
    "        graph.add_edge(pair, sum([\n",
    "        ballot[\"count\"]\n",
    "        for ballot in ballots\n",
    "        if ballot[\"ballot\"][pair[0]] > ballot[\"ballot\"][pair[1]]\n",
    "    ]))\n",
    "    return graph"
   ]
  },
  {
   "cell_type": "code",
   "execution_count": 18,
   "metadata": {},
   "outputs": [],
   "source": [
    "from itertools import permutations, combinations\n",
    "import numpy as np\n",
    "\n",
    "from functools import partial"
   ]
  },
  {
   "cell_type": "code",
   "execution_count": 19,
   "metadata": {},
   "outputs": [
    {
     "data": {
      "text/plain": [
       "{'m': {0: 'A', 1: 'B', 2: 'C'},\n",
       " 'n': ((0, 1, 2), (0, 2, 1), (1, 0, 2), (1, 2, 0), (2, 0, 1), (2, 1, 0)),\n",
       " 'e': (((0, 1, 2), (0, 2, 1)),\n",
       "  ((0, 1, 2), (1, 0, 2)),\n",
       "  ((0, 2, 1), (1, 2, 0)),\n",
       "  ((1, 0, 2), (2, 0, 1)),\n",
       "  ((1, 2, 0), (2, 1, 0)),\n",
       "  ((2, 0, 1), (2, 1, 0)))}"
      ]
     },
     "execution_count": 19,
     "metadata": {},
     "output_type": "execute_result"
    }
   ],
   "source": [
    "import weaves\n",
    "\n",
    "d0 = weaves.POSetOps.instance().sym2basis('ABC')\n",
    "\n",
    "c0 = weaves.POSetOps.instance().adjacency(d0)\n",
    "c0"
   ]
  },
  {
   "cell_type": "code",
   "execution_count": 21,
   "metadata": {},
   "outputs": [
    {
     "data": {
      "text/plain": [
       "dict_keys([0, 1, 2])"
      ]
     },
     "execution_count": 21,
     "metadata": {},
     "output_type": "execute_result"
    }
   ],
   "source": [
    "d0.keys()"
   ]
  },
  {
   "cell_type": "code",
   "execution_count": null,
   "metadata": {},
   "outputs": [],
   "source": [
    "def remap(xs, d1=None):\n",
    "    return [ d1[x] for x in xs ]\n",
    "\n",
    "def join0(x, s=None):\n",
    "    return x\n",
    "\n",
    "def join1(x, s=\"-\"):\n",
    "    return s.join(x)\n",
    "\n",
    "f = partial(join1, s=\"-\")\n",
    "\n",
    "remap1 = partial(remap, d1=d0)\n",
    "\n",
    "for x in c0['n']:\n",
    "    print(x, remap1(x), f(remap1(x)))"
   ]
  },
  {
   "cell_type": "code",
   "execution_count": 57,
   "metadata": {},
   "outputs": [
    {
     "data": {
      "text/plain": [
       "(((0, 1, 2), (0, 2, 1)),\n",
       " ((0, 1, 2), (1, 0, 2)),\n",
       " ((0, 2, 1), (1, 2, 0)),\n",
       " ((1, 0, 2), (2, 0, 1)),\n",
       " ((1, 2, 0), (2, 1, 0)),\n",
       " ((2, 0, 1), (2, 1, 0)))"
      ]
     },
     "execution_count": 57,
     "metadata": {},
     "output_type": "execute_result"
    }
   ],
   "source": [
    "c0['e']"
   ]
  },
  {
   "cell_type": "code",
   "execution_count": 58,
   "metadata": {},
   "outputs": [
    {
     "data": {
      "text/plain": [
       "[('A-B-C', 'A-C-B'),\n",
       " ('A-B-C', 'B-A-C'),\n",
       " ('A-C-B', 'B-C-A'),\n",
       " ('B-A-C', 'C-A-B'),\n",
       " ('B-C-A', 'C-B-A'),\n",
       " ('C-A-B', 'C-B-A')]"
      ]
     },
     "execution_count": 58,
     "metadata": {},
     "output_type": "execute_result"
    }
   ],
   "source": [
    "[ ( f(remap1(x[0])), f(remap1(x[1])) ) for x in c0['e'] ]"
   ]
  },
  {
   "cell_type": "code",
   "execution_count": 32,
   "metadata": {},
   "outputs": [
    {
     "ename": "ValueError",
     "evalue": "dictionary update sequence element #0 has length 1; 2 is required",
     "output_type": "error",
     "traceback": [
      "\u001b[0;31m---------------------------------------------------------------------------\u001b[0m",
      "\u001b[0;31mValueError\u001b[0m                                Traceback (most recent call last)",
      "\u001b[0;32m<ipython-input-32-47e5ae11a71f>\u001b[0m in \u001b[0;36m<module>\u001b[0;34m()\u001b[0m\n\u001b[1;32m      1\u001b[0m \u001b[0mz0\u001b[0m \u001b[0;34m=\u001b[0m \u001b[0mzip\u001b[0m\u001b[0;34m(\u001b[0m \u001b[0;34m[\u001b[0m \u001b[0mc0\u001b[0m\u001b[0;34m[\u001b[0m\u001b[0;34m'n'\u001b[0m\u001b[0;34m]\u001b[0m\u001b[0;34m,\u001b[0m \u001b[0;34m[\u001b[0m \u001b[0mremap1\u001b[0m\u001b[0;34m(\u001b[0m\u001b[0mx\u001b[0m\u001b[0;34m)\u001b[0m \u001b[0;32mfor\u001b[0m \u001b[0mx\u001b[0m \u001b[0;32min\u001b[0m \u001b[0mc0\u001b[0m\u001b[0;34m[\u001b[0m\u001b[0;34m'n'\u001b[0m\u001b[0;34m]\u001b[0m\u001b[0;34m]\u001b[0m \u001b[0;34m]\u001b[0m\u001b[0;34m)\u001b[0m\u001b[0;34m\u001b[0m\u001b[0m\n\u001b[0;32m----> 2\u001b[0;31m \u001b[0mdict\u001b[0m\u001b[0;34m(\u001b[0m\u001b[0mz0\u001b[0m\u001b[0;34m)\u001b[0m\u001b[0;34m\u001b[0m\u001b[0m\n\u001b[0m",
      "\u001b[0;31mValueError\u001b[0m: dictionary update sequence element #0 has length 1; 2 is required"
     ]
    }
   ],
   "source": [
    "z0 = zip( [ c0['n'], [ remap1(x) for x in c0['n']] ])\n"
   ]
  },
  {
   "cell_type": "code",
   "execution_count": 59,
   "metadata": {},
   "outputs": [
    {
     "ename": "NameError",
     "evalue": "name 'g0' is not defined",
     "output_type": "error",
     "traceback": [
      "\u001b[0;31m---------------------------------------------------------------------------\u001b[0m",
      "\u001b[0;31mNameError\u001b[0m                                 Traceback (most recent call last)",
      "\u001b[0;32m<ipython-input-59-00a9c09e40a1>\u001b[0m in \u001b[0;36m<module>\u001b[0;34m()\u001b[0m\n\u001b[0;32m----> 1\u001b[0;31m \u001b[0mg0\u001b[0m\u001b[0;34m\u001b[0m\u001b[0m\n\u001b[0m",
      "\u001b[0;31mNameError\u001b[0m: name 'g0' is not defined"
     ]
    }
   ],
   "source": [
    "g0"
   ]
  },
  {
   "cell_type": "code",
   "execution_count": null,
   "metadata": {},
   "outputs": [],
   "source": []
  }
 ],
 "metadata": {
  "kernelspec": {
   "display_name": "Python 3",
   "language": "python",
   "name": "python3"
  },
  "language_info": {
   "codemirror_mode": {
    "name": "ipython",
    "version": 3
   },
   "file_extension": ".py",
   "mimetype": "text/x-python",
   "name": "python",
   "nbconvert_exporter": "python",
   "pygments_lexer": "ipython3",
   "version": "3.6.0"
  }
 },
 "nbformat": 4,
 "nbformat_minor": 2
}
