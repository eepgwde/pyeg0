{
 "cells": [
  {
   "cell_type": "markdown",
   "metadata": {},
   "source": [
    "weaves\n",
    "\n",
    "Rough working: pyvote and Bell Ordinal number calculation"
   ]
  },
  {
   "cell_type": "code",
   "execution_count": 1,
   "metadata": {},
   "outputs": [
    {
     "name": "stdout",
     "output_type": "stream",
     "text": [
      "The autoreload extension is already loaded. To reload it, use:\n",
      "  %reload_ext autoreload\n"
     ]
    }
   ],
   "source": [
    "import os\n",
    "import datetime\n",
    "\n",
    "import pandas as pd\n",
    "import numpy as np\n",
    "import functools\n",
    "import scipy.special as scis\n",
    "from functools import partial\n",
    "from itertools import permutations, combinations, chain\n",
    "import string\n",
    "\n",
    "from weaves import POSetOps\n",
    "from pyvote import VoteOps\n",
    "\n",
    "%load_ext autoreload\n",
    "%autoreload 2"
   ]
  },
  {
   "cell_type": "markdown",
   "metadata": {},
   "source": [
    "The permutohedron of order n has n! vertices, each of which is adjacent to n − 1 others, so the total number of edges is (n − 1)n!/2. Each edge has length √2, and connects two vertices that differ by swapping two coordinates the values of which differ by one.[3]"
   ]
  },
  {
   "cell_type": "code",
   "execution_count": 2,
   "metadata": {},
   "outputs": [
    {
     "name": "stdout",
     "output_type": "stream",
     "text": [
      "6 [array([0, 1, 2]), array([0, 2, 1]), array([1, 0, 2]), array([1, 2, 0]), array([2, 0, 1]), array([2, 1, 0])]\n"
     ]
    }
   ],
   "source": [
    "l = [0, 1, 2]\n",
    "l1 = permutations(l, len(l))\n",
    "l1 = map(np.array, l1)\n",
    "l1 = list(l1)\n",
    "print(len(l1), l1)"
   ]
  },
  {
   "cell_type": "code",
   "execution_count": 3,
   "metadata": {},
   "outputs": [
    {
     "name": "stdout",
     "output_type": "stream",
     "text": [
      "15 [(array([0, 1, 2]), array([0, 2, 1])), (array([0, 1, 2]), array([1, 0, 2])), (array([0, 1, 2]), array([1, 2, 0])), (array([0, 1, 2]), array([2, 0, 1])), (array([0, 1, 2]), array([2, 1, 0])), (array([0, 2, 1]), array([1, 0, 2])), (array([0, 2, 1]), array([1, 2, 0])), (array([0, 2, 1]), array([2, 0, 1])), (array([0, 2, 1]), array([2, 1, 0])), (array([1, 0, 2]), array([1, 2, 0])), (array([1, 0, 2]), array([2, 0, 1])), (array([1, 0, 2]), array([2, 1, 0])), (array([1, 2, 0]), array([2, 0, 1])), (array([1, 2, 0]), array([2, 1, 0])), (array([2, 0, 1]), array([2, 1, 0]))]\n"
     ]
    },
    {
     "data": {
      "text/plain": [
       "array([0, 1, 1])"
      ]
     },
     "execution_count": 3,
     "metadata": {},
     "output_type": "execute_result"
    }
   ],
   "source": [
    "l2=list(combinations(l1, len(l)-1))\n",
    "print(len(l2), l2)\n",
    "abs(l2[0][0] - l2[0][1])"
   ]
  },
  {
   "cell_type": "markdown",
   "metadata": {},
   "source": [
    "Try building a permutohedron"
   ]
  },
  {
   "cell_type": "code",
   "execution_count": 4,
   "metadata": {},
   "outputs": [
    {
     "data": {
      "text/plain": [
       "{('A',),\n",
       " ('A', 'B'),\n",
       " ('A', 'B', 'C'),\n",
       " ('A', 'C'),\n",
       " ('A', 'C', 'B'),\n",
       " ('B',),\n",
       " ('B', 'A'),\n",
       " ('B', 'A', 'C'),\n",
       " ('B', 'C'),\n",
       " ('B', 'C', 'A'),\n",
       " ('C',),\n",
       " ('C', 'A'),\n",
       " ('C', 'A', 'B'),\n",
       " ('C', 'B'),\n",
       " ('C', 'B', 'A')}"
      ]
     },
     "execution_count": 4,
     "metadata": {},
     "output_type": "execute_result"
    }
   ],
   "source": [
    "POSetOps.instance().strong('ABC')"
   ]
  },
  {
   "cell_type": "code",
   "execution_count": 5,
   "metadata": {},
   "outputs": [
    {
     "data": {
      "text/plain": [
       "{'m': {0: 'A', 1: 'B', 2: 'C'},\n",
       " 'n': ((0, 1, 2), (0, 2, 1), (1, 0, 2), (1, 2, 0), (2, 0, 1), (2, 1, 0)),\n",
       " 'e': (((0, 1, 2), (0, 2, 1)),\n",
       "  ((0, 1, 2), (1, 0, 2)),\n",
       "  ((0, 2, 1), (1, 2, 0)),\n",
       "  ((1, 0, 2), (2, 0, 1)),\n",
       "  ((1, 2, 0), (2, 1, 0)),\n",
       "  ((2, 0, 1), (2, 1, 0)))}"
      ]
     },
     "execution_count": 5,
     "metadata": {},
     "output_type": "execute_result"
    }
   ],
   "source": [
    "POSetOps.instance().adjacency(tuple('ABC'))"
   ]
  },
  {
   "cell_type": "code",
   "execution_count": 6,
   "metadata": {},
   "outputs": [
    {
     "data": {
      "text/plain": [
       "{'m': {0: 'A', 1: 'B', 2: 'C', 3: 'D'},\n",
       " 'n': ((0, 1, 2, 3),\n",
       "  (0, 1, 3, 2),\n",
       "  (0, 2, 1, 3),\n",
       "  (0, 2, 3, 1),\n",
       "  (0, 3, 1, 2),\n",
       "  (0, 3, 2, 1),\n",
       "  (1, 0, 2, 3),\n",
       "  (1, 0, 3, 2),\n",
       "  (1, 2, 0, 3),\n",
       "  (1, 2, 3, 0),\n",
       "  (1, 3, 0, 2),\n",
       "  (1, 3, 2, 0),\n",
       "  (2, 0, 1, 3),\n",
       "  (2, 0, 3, 1),\n",
       "  (2, 1, 0, 3),\n",
       "  (2, 1, 3, 0),\n",
       "  (2, 3, 0, 1),\n",
       "  (2, 3, 1, 0),\n",
       "  (3, 0, 1, 2),\n",
       "  (3, 0, 2, 1),\n",
       "  (3, 1, 0, 2),\n",
       "  (3, 1, 2, 0),\n",
       "  (3, 2, 0, 1),\n",
       "  (3, 2, 1, 0)),\n",
       " 'e': (((0, 1, 2, 3), (0, 1, 3, 2)),\n",
       "  ((0, 1, 2, 3), (0, 2, 1, 3)),\n",
       "  ((0, 1, 2, 3), (1, 0, 2, 3)),\n",
       "  ((0, 1, 3, 2), (0, 2, 3, 1)),\n",
       "  ((0, 1, 3, 2), (1, 0, 3, 2)),\n",
       "  ((0, 2, 1, 3), (0, 3, 1, 2)),\n",
       "  ((0, 2, 1, 3), (1, 2, 0, 3)),\n",
       "  ((0, 2, 3, 1), (0, 3, 2, 1)),\n",
       "  ((0, 2, 3, 1), (1, 2, 3, 0)),\n",
       "  ((0, 3, 1, 2), (0, 3, 2, 1)),\n",
       "  ((0, 3, 1, 2), (1, 3, 0, 2)),\n",
       "  ((0, 3, 2, 1), (1, 3, 2, 0)),\n",
       "  ((1, 0, 2, 3), (1, 0, 3, 2)),\n",
       "  ((1, 0, 2, 3), (2, 0, 1, 3)),\n",
       "  ((1, 0, 3, 2), (2, 0, 3, 1)),\n",
       "  ((1, 2, 0, 3), (1, 3, 0, 2)),\n",
       "  ((1, 2, 0, 3), (2, 1, 0, 3)),\n",
       "  ((1, 2, 3, 0), (1, 3, 2, 0)),\n",
       "  ((1, 2, 3, 0), (2, 1, 3, 0)),\n",
       "  ((1, 3, 0, 2), (2, 3, 0, 1)),\n",
       "  ((1, 3, 2, 0), (2, 3, 1, 0)),\n",
       "  ((2, 0, 1, 3), (2, 1, 0, 3)),\n",
       "  ((2, 0, 1, 3), (3, 0, 1, 2)),\n",
       "  ((2, 0, 3, 1), (2, 1, 3, 0)),\n",
       "  ((2, 0, 3, 1), (3, 0, 2, 1)),\n",
       "  ((2, 1, 0, 3), (3, 1, 0, 2)),\n",
       "  ((2, 1, 3, 0), (3, 1, 2, 0)),\n",
       "  ((2, 3, 0, 1), (2, 3, 1, 0)),\n",
       "  ((2, 3, 0, 1), (3, 2, 0, 1)),\n",
       "  ((2, 3, 1, 0), (3, 2, 1, 0)),\n",
       "  ((3, 0, 1, 2), (3, 0, 2, 1)),\n",
       "  ((3, 0, 1, 2), (3, 1, 0, 2)),\n",
       "  ((3, 0, 2, 1), (3, 1, 2, 0)),\n",
       "  ((3, 1, 0, 2), (3, 2, 0, 1)),\n",
       "  ((3, 1, 2, 0), (3, 2, 1, 0)),\n",
       "  ((3, 2, 0, 1), (3, 2, 1, 0)))}"
      ]
     },
     "execution_count": 6,
     "metadata": {},
     "output_type": "execute_result"
    }
   ],
   "source": [
    "POSetOps.instance().adjacency(tuple('ABCD'))"
   ]
  },
  {
   "cell_type": "code",
   "execution_count": 7,
   "metadata": {},
   "outputs": [
    {
     "data": {
      "text/plain": [
       "{'m': {0: 'A', 1: 'B', 2: 'C'},\n",
       " 'n': ((0, 1, 2), (0, 2, 1), (1, 0, 2), (1, 2, 0), (2, 0, 1), (2, 1, 0)),\n",
       " 'e': (((0, 1, 2), (0, 2, 1)),\n",
       "  ((0, 1, 2), (1, 0, 2)),\n",
       "  ((0, 2, 1), (1, 2, 0)),\n",
       "  ((1, 0, 2), (2, 0, 1)),\n",
       "  ((1, 2, 0), (2, 1, 0)),\n",
       "  ((2, 0, 1), (2, 1, 0))),\n",
       " 'map': {0: 'A', 1: 'B', 2: 'C'},\n",
       " 'nodes': {(0, 1, 2): 'A>B>C',\n",
       "  (0, 2, 1): 'A>C>B',\n",
       "  (1, 0, 2): 'B>A>C',\n",
       "  (1, 2, 0): 'B>C>A',\n",
       "  (2, 0, 1): 'C>A>B',\n",
       "  (2, 1, 0): 'C>B>A'},\n",
       " 'edges': <generator object _Impl.remap.<locals>.<genexpr> at 0x7faa90d0a8e0>}"
      ]
     },
     "execution_count": 7,
     "metadata": {},
     "output_type": "execute_result"
    }
   ],
   "source": [
    "d0 = POSetOps.instance().sym2basis('ABC')\n",
    "\n",
    "c0 = POSetOps.instance().adjacency(d0)\n",
    "c1 = POSetOps.instance().remap(adjacency0=c0)\n",
    "c1"
   ]
  },
  {
   "cell_type": "code",
   "execution_count": 14,
   "metadata": {},
   "outputs": [
    {
     "data": {
      "text/plain": [
       "[((0, 1, 2), (0, 2, 1)),\n",
       " ((0, 1, 2), (1, 0, 2)),\n",
       " ((0, 2, 1), (0, 1, 2)),\n",
       " ((0, 2, 1), (1, 2, 0)),\n",
       " ((1, 0, 2), (0, 1, 2)),\n",
       " ((1, 0, 2), (2, 0, 1)),\n",
       " ((1, 2, 0), (0, 2, 1)),\n",
       " ((1, 2, 0), (2, 1, 0)),\n",
       " ((2, 0, 1), (1, 0, 2)),\n",
       " ((2, 0, 1), (2, 1, 0)),\n",
       " ((2, 1, 0), (1, 2, 0)),\n",
       " ((2, 1, 0), (2, 0, 1))]"
      ]
     },
     "execution_count": 14,
     "metadata": {},
     "output_type": "execute_result"
    }
   ],
   "source": [
    "g0 = VoteOps.instance().build(syms='ABC')\n",
    "g0.edges()"
   ]
  },
  {
   "cell_type": "code",
   "execution_count": 13,
   "metadata": {},
   "outputs": [
    {
     "data": {
      "text/plain": [
       "[('A>B>C', 'A>C>B'),\n",
       " ('A>B>C', 'B>A>C'),\n",
       " ('A>C>B', 'A>B>C'),\n",
       " ('A>C>B', 'B>C>A'),\n",
       " ('B>A>C', 'A>B>C'),\n",
       " ('B>A>C', 'C>A>B'),\n",
       " ('B>C>A', 'A>C>B'),\n",
       " ('B>C>A', 'C>B>A'),\n",
       " ('C>A>B', 'B>A>C'),\n",
       " ('C>A>B', 'C>B>A'),\n",
       " ('C>B>A', 'B>C>A'),\n",
       " ('C>B>A', 'C>A>B')]"
      ]
     },
     "execution_count": 13,
     "metadata": {},
     "output_type": "execute_result"
    }
   ],
   "source": [
    "g0 = VoteOps.instance().build(syms='ABC', remap0=True)\n",
    "g0.edges()"
   ]
  },
  {
   "cell_type": "code",
   "execution_count": null,
   "metadata": {},
   "outputs": [],
   "source": []
  }
 ],
 "metadata": {
  "kernelspec": {
   "display_name": "Python 3",
   "language": "python",
   "name": "python3"
  },
  "language_info": {
   "codemirror_mode": {
    "name": "ipython",
    "version": 3
   },
   "file_extension": ".py",
   "mimetype": "text/x-python",
   "name": "python",
   "nbconvert_exporter": "python",
   "pygments_lexer": "ipython3",
   "version": "3.6.0"
  }
 },
 "nbformat": 4,
 "nbformat_minor": 2
}
