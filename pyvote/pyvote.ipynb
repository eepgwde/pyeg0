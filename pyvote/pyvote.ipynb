{
 "cells": [
  {
   "cell_type": "markdown",
   "metadata": {},
   "source": [
    "weaves\n",
    "\n",
    "Rough working: pyvote and Bell Ordinal number calculation"
   ]
  },
  {
   "cell_type": "code",
   "execution_count": 1,
   "metadata": {},
   "outputs": [
    {
     "name": "stdout",
     "output_type": "stream",
     "text": [
      "The autoreload extension is already loaded. To reload it, use:\n",
      "  %reload_ext autoreload\n"
     ]
    }
   ],
   "source": [
    "import os\n",
    "import datetime\n",
    "\n",
    "import pandas as pd\n",
    "import numpy as np\n",
    "import functools\n",
    "import scipy.special as scis\n",
    "from functools import partial\n",
    "from itertools import permutations, combinations, chain\n",
    "import string\n",
    "\n",
    "import weaves \n",
    "\n",
    "%load_ext autoreload\n",
    "%autoreload 2"
   ]
  },
  {
   "cell_type": "code",
   "execution_count": 2,
   "metadata": {},
   "outputs": [],
   "source": [
    "from py3votecore.plurality import PluralityAtLarge\n",
    "from py3votecore.stv import STV, Quota\n",
    "\n",
    "import pyvote"
   ]
  },
  {
   "cell_type": "code",
   "execution_count": 3,
   "metadata": {},
   "outputs": [
    {
     "name": "stdout",
     "output_type": "stream",
     "text": [
      "0.1.0\n",
      "$Id: e6c1cce8af7f88d8635a28819453f91ae0cb6f85 $\n"
     ]
    }
   ],
   "source": [
    "print(pyvote.__version__)\n",
    "print(pyvote.__Id__)"
   ]
  },
  {
   "cell_type": "code",
   "execution_count": 4,
   "metadata": {},
   "outputs": [],
   "source": [
    "input = [\n",
    "            {\"count\": 26, \"ballot\": \"c1\"},\n",
    "            {\"count\": 22, \"ballot\": \"c2\"},\n",
    "            {\"count\": 23, \"ballot\": \"c3\"}\n",
    "        ]"
   ]
  },
  {
   "cell_type": "code",
   "execution_count": 5,
   "metadata": {},
   "outputs": [
    {
     "data": {
      "text/plain": [
       "{'candidates': {'c1', 'c2', 'c3'},\n",
       " 'winners': {'c1'},\n",
       " 'tallies': {'c1': 26, 'c2': 22, 'c3': 23}}"
      ]
     },
     "execution_count": 5,
     "metadata": {},
     "output_type": "execute_result"
    }
   ],
   "source": [
    "output = PluralityAtLarge(input, required_winners=1).as_dict()\n",
    "output"
   ]
  },
  {
   "cell_type": "code",
   "execution_count": 6,
   "metadata": {},
   "outputs": [
    {
     "data": {
      "text/plain": [
       "{'candidates': {'c1', 'c2', 'c3'},\n",
       " 'tallies': {'c3': 23, 'c2': 22, 'c1': 26},\n",
       " 'winner': 'c1'}"
      ]
     },
     "execution_count": 6,
     "metadata": {},
     "output_type": "execute_result"
    }
   ],
   "source": [
    "{\n",
    "    'candidates': set(['c1', 'c2', 'c3']),\n",
    "    'tallies': {'c3': 23, 'c2': 22, 'c1': 26},\n",
    "    'winner': 'c1'\n",
    "}"
   ]
  },
  {
   "cell_type": "code",
   "execution_count": 7,
   "metadata": {},
   "outputs": [],
   "source": [
    "input = [\n",
    "        {\"count\": 56, \"ballot\": [\"c1\", \"c2\", \"c3\"]},\n",
    "        {\"count\": 40, \"ballot\": [\"c2\", \"c3\", \"c1\"]},\n",
    "        {\"count\": 20, \"ballot\": [\"c3\", \"c1\", \"c2\"]},\n",
    "]"
   ]
  },
  {
   "cell_type": "code",
   "execution_count": 8,
   "metadata": {},
   "outputs": [
    {
     "data": {
      "text/plain": [
       "{'candidates': {'c1', 'c2', 'c3'},\n",
       " 'winners': {'c1', 'c2'},\n",
       " 'quota': 39,\n",
       " 'rounds': [{'tallies': {'c1': 56.0, 'c2': 40.0, 'c3': 20.0},\n",
       "   'winners': {'c1', 'c2'}}]}"
      ]
     },
     "execution_count": 8,
     "metadata": {},
     "output_type": "execute_result"
    }
   ],
   "source": [
    "output = STV(input, required_winners=2).as_dict()\n",
    "output"
   ]
  },
  {
   "cell_type": "raw",
   "metadata": {},
   "source": [
    "{\n",
    "    'candidates': set(['c1', 'c2', 'c3']),\n",
    "    'quota': 39,\n",
    "    'rounds': [{\n",
    "        'tallies': {'c3': 20.0, 'c2': 40.0, 'c1': 56.0},\n",
    "        'winners': set(['c2', 'c1'])\n",
    "    }],\n",
    "    'winners': set(['c2', 'c1'])\n",
    "}"
   ]
  },
  {
   "cell_type": "markdown",
   "metadata": {},
   "source": [
    "oranges, 4\n",
    "pear > oranges, 2\n",
    "chocolate > strawberries, 10\n",
    "chocolate > sweets, 4\n",
    "strawberries, 1\n",
    "sweets, 1\n"
   ]
  },
  {
   "cell_type": "code",
   "execution_count": 9,
   "metadata": {},
   "outputs": [],
   "source": [
    "input = [\n",
    "        {\"count\": 4, \"ballot\": [\"oranges\"]},\n",
    "        {\"count\": 2, \"ballot\": [\"pear\", \"oranges\"]},\n",
    "        {\"count\": 10, \"ballot\": [\"chocolate\", \"strawberries\"]},\n",
    "        {\"count\": 4, \"ballot\": [\"chocolate\", \"sweets\"]},\n",
    "        {\"count\": 1, \"ballot\": [\"strawberries\"]},\n",
    "        {\"count\": 1, \"ballot\": [\"sweets\"]},\n",
    "]"
   ]
  },
  {
   "cell_type": "code",
   "execution_count": 10,
   "metadata": {},
   "outputs": [
    {
     "data": {
      "text/plain": [
       "{'candidates': {'chocolate', 'oranges', 'pear', 'strawberries', 'sweets'},\n",
       " 'winners': {'chocolate', 'oranges'},\n",
       " 'quota': 11.0,\n",
       " 'rounds': [{'tallies': {'oranges': 4.0,\n",
       "    'pear': 2.0,\n",
       "    'chocolate': 14.0,\n",
       "    'strawberries': 1.0,\n",
       "    'sweets': 1.0},\n",
       "   'winners': {'chocolate'}},\n",
       "  {'tallies': {'oranges': 4.0,\n",
       "    'pear': 2.0,\n",
       "    'strawberries': 3.142857142857143,\n",
       "    'sweets': 1.8571428571428572},\n",
       "   'loser': 'sweets'},\n",
       "  {'tallies': {'oranges': 4.0, 'pear': 2.0, 'strawberries': 3.142857142857143},\n",
       "   'loser': 'pear'},\n",
       "  {'tallies': {'oranges': 6.0, 'strawberries': 3.142857142857143},\n",
       "   'loser': 'strawberries'}],\n",
       " 'remaining_candidates': {'oranges'}}"
      ]
     },
     "execution_count": 10,
     "metadata": {},
     "output_type": "execute_result"
    }
   ],
   "source": [
    "output = STV(input, required_winners=2,  quota_f=Quota.hare).as_dict()\n",
    "output"
   ]
  },
  {
   "cell_type": "raw",
   "metadata": {},
   "source": [
    "Alpha party\n",
    "\n",
    "31 voters Andrea Carter Brad\n",
    "\n",
    "30 voters Carter Andrea Brad\n",
    "\n",
    "2 voters Brad Andrea Carter\n",
    "\n",
    "Beta party\n",
    "\n",
    "20 voters Delilah Scott Jennifer\n",
    "\n",
    "20 voters Scott Delilah Jennifer\n",
    "\n",
    "17 voters Jennifer Delilah Scott"
   ]
  },
  {
   "cell_type": "code",
   "execution_count": 11,
   "metadata": {},
   "outputs": [],
   "source": [
    "input =  [\n",
    "        {\"count\": 31, \"ballot\": [\"Andrea\", \"Carter\", \"Brad\"]},\n",
    "        {\"count\": 30, \"ballot\": [\"Carter\", \"Andrea\", \"Brad\"]},\n",
    "        {\"count\": 2, \"ballot\": [\"Brad\", \"Andrea\", \"Carter\"]},\n",
    "        {\"count\": 20, \"ballot\": [\"Delilah\", \"Scott\", \"Jennifer\"]},\n",
    "        {\"count\": 20, \"ballot\": [\"Scott\", \"Delilah\", \"Jennifer\"]},\n",
    "        {\"count\": 17, \"ballot\": [\"Jennifer\", \"Delilah\", \"Scott\"]},\n",
    "]"
   ]
  },
  {
   "cell_type": "code",
   "execution_count": 12,
   "metadata": {},
   "outputs": [
    {
     "data": {
      "text/plain": [
       "{'candidates': {'Andrea', 'Brad', 'Carter', 'Delilah', 'Jennifer', 'Scott'},\n",
       " 'winners': {'Andrea', 'Brad', 'Carter', 'Delilah', 'Scott'},\n",
       " 'quota': 21,\n",
       " 'rounds': [{'tallies': {'Andrea': 31.0,\n",
       "    'Carter': 30.0,\n",
       "    'Brad': 2.0,\n",
       "    'Delilah': 20.0,\n",
       "    'Scott': 20.0,\n",
       "    'Jennifer': 17.0},\n",
       "   'winners': {'Andrea', 'Carter'}},\n",
       "  {'tallies': {'Brad': 21.0, 'Delilah': 20.0, 'Scott': 20.0, 'Jennifer': 17.0},\n",
       "   'winners': {'Brad'}},\n",
       "  {'tallies': {'Delilah': 20.0, 'Scott': 20.0, 'Jennifer': 17.0},\n",
       "   'loser': 'Jennifer'}],\n",
       " 'remaining_candidates': {'Delilah', 'Scott'}}"
      ]
     },
     "execution_count": 12,
     "metadata": {},
     "output_type": "execute_result"
    }
   ],
   "source": [
    "output = STV(input, required_winners=5,  quota_f=Quota.droop).as_dict()\n",
    "output"
   ]
  },
  {
   "cell_type": "code",
   "execution_count": 13,
   "metadata": {},
   "outputs": [
    {
     "data": {
      "text/plain": [
       "{'candidates': {'Andrea', 'Brad', 'Carter', 'Delilah', 'Jennifer', 'Scott'},\n",
       " 'winners': {'Andrea', 'Carter', 'Delilah', 'Jennifer', 'Scott'},\n",
       " 'quota': 24.0,\n",
       " 'rounds': [{'tallies': {'Andrea': 31.0,\n",
       "    'Carter': 30.0,\n",
       "    'Brad': 2.0,\n",
       "    'Delilah': 20.0,\n",
       "    'Scott': 20.0,\n",
       "    'Jennifer': 17.0},\n",
       "   'winners': {'Andrea', 'Carter'}},\n",
       "  {'tallies': {'Brad': 15.0, 'Delilah': 20.0, 'Scott': 20.0, 'Jennifer': 17.0},\n",
       "   'loser': 'Brad'}],\n",
       " 'remaining_candidates': {'Delilah', 'Jennifer', 'Scott'}}"
      ]
     },
     "execution_count": 13,
     "metadata": {},
     "output_type": "execute_result"
    }
   ],
   "source": [
    "output = STV(input, required_winners=5,  quota_f=Quota.hare).as_dict()\n",
    "output"
   ]
  },
  {
   "cell_type": "markdown",
   "metadata": {},
   "source": [
    "Bell Ordinal: combinations and permutations"
   ]
  },
  {
   "cell_type": "code",
   "execution_count": 14,
   "metadata": {},
   "outputs": [
    {
     "data": {
      "text/plain": [
       "15.0"
      ]
     },
     "execution_count": 14,
     "metadata": {},
     "output_type": "execute_result"
    }
   ],
   "source": [
    "scis.binom(6,2)"
   ]
  },
  {
   "cell_type": "code",
   "execution_count": 15,
   "metadata": {},
   "outputs": [],
   "source": [
    "nperm = lambda n,k: scis.factorial(k) * scis.binom(n,k)\n",
    "ncomb = lambda n,k: nperm(n,k)/scis.factorial(k)"
   ]
  },
  {
   "cell_type": "code",
   "execution_count": 16,
   "metadata": {},
   "outputs": [
    {
     "data": {
      "text/plain": [
       "15.0"
      ]
     },
     "execution_count": 16,
     "metadata": {},
     "output_type": "execute_result"
    }
   ],
   "source": [
    "nperm(6,2)\n",
    "ncomb(6,2)"
   ]
  },
  {
   "cell_type": "code",
   "execution_count": 17,
   "metadata": {},
   "outputs": [
    {
     "data": {
      "text/plain": [
       "15.0"
      ]
     },
     "execution_count": 17,
     "metadata": {},
     "output_type": "execute_result"
    }
   ],
   "source": [
    "scis.perm(6,2)\n",
    "scis.comb(6,2)"
   ]
  },
  {
   "cell_type": "code",
   "execution_count": 18,
   "metadata": {},
   "outputs": [
    {
     "name": "stdout",
     "output_type": "stream",
     "text": [
      "[2, 3, 4, 5, 6, 7, 8, 9, 10]\n"
     ]
    }
   ],
   "source": [
    "l0 = map(lambda x: 1 + x, range(1,10))\n",
    "print(list(l0))"
   ]
  },
  {
   "cell_type": "code",
   "execution_count": 19,
   "metadata": {},
   "outputs": [
    {
     "data": {
      "text/plain": [
       "6"
      ]
     },
     "execution_count": 19,
     "metadata": {},
     "output_type": "execute_result"
    }
   ],
   "source": [
    "functools.reduce(lambda x,y: x+y, [1, 2, 3])"
   ]
  },
  {
   "cell_type": "code",
   "execution_count": 20,
   "metadata": {},
   "outputs": [
    {
     "data": {
      "text/plain": [
       "15"
      ]
     },
     "execution_count": 20,
     "metadata": {},
     "output_type": "execute_result"
    }
   ],
   "source": [
    "functools.reduce(lambda x, y: x+y, [1, 2, 3, 4, 5])"
   ]
  },
  {
   "cell_type": "code",
   "execution_count": 21,
   "metadata": {},
   "outputs": [
    {
     "data": {
      "text/plain": [
       "array([ 0.,  1.,  3.,  6.])"
      ]
     },
     "execution_count": 21,
     "metadata": {},
     "output_type": "execute_result"
    }
   ],
   "source": [
    "scis.binom([1,2,3,4],2)"
   ]
  },
  {
   "cell_type": "code",
   "execution_count": 22,
   "metadata": {},
   "outputs": [
    {
     "data": {
      "text/plain": [
       "15.0"
      ]
     },
     "execution_count": 22,
     "metadata": {},
     "output_type": "execute_result"
    }
   ],
   "source": [
    "sum(scis.perm(range(1,6),1))"
   ]
  },
  {
   "cell_type": "code",
   "execution_count": 23,
   "metadata": {},
   "outputs": [
    {
     "data": {
      "text/plain": [
       "29"
      ]
     },
     "execution_count": 23,
     "metadata": {},
     "output_type": "execute_result"
    }
   ],
   "source": [
    "functools.reduce(lambda x, y: x+2*y, [1, 2, 3, 4, 5])"
   ]
  },
  {
   "cell_type": "code",
   "execution_count": 24,
   "metadata": {},
   "outputs": [
    {
     "data": {
      "text/plain": [
       "5"
      ]
     },
     "execution_count": 24,
     "metadata": {},
     "output_type": "execute_result"
    }
   ],
   "source": [
    "1+2*2"
   ]
  },
  {
   "cell_type": "code",
   "execution_count": 25,
   "metadata": {},
   "outputs": [
    {
     "data": {
      "text/plain": [
       "11"
      ]
     },
     "execution_count": 25,
     "metadata": {},
     "output_type": "execute_result"
    }
   ],
   "source": [
    "5+2*3"
   ]
  },
  {
   "cell_type": "code",
   "execution_count": 26,
   "metadata": {},
   "outputs": [
    {
     "data": {
      "text/plain": [
       "19"
      ]
     },
     "execution_count": 26,
     "metadata": {},
     "output_type": "execute_result"
    }
   ],
   "source": [
    "11+2*4"
   ]
  },
  {
   "cell_type": "code",
   "execution_count": 27,
   "metadata": {},
   "outputs": [
    {
     "data": {
      "text/plain": [
       "29"
      ]
     },
     "execution_count": 27,
     "metadata": {},
     "output_type": "execute_result"
    }
   ],
   "source": [
    "19+2*5"
   ]
  },
  {
   "cell_type": "code",
   "execution_count": 28,
   "metadata": {},
   "outputs": [
    {
     "name": "stdout",
     "output_type": "stream",
     "text": [
      "[6.0, 15.0, 20.0, 15.0, 6.0]\n"
     ]
    }
   ],
   "source": [
    "m0=map(lambda x:scis.comb(6,x), range(1,6))\n",
    "print(list(m0))"
   ]
  },
  {
   "cell_type": "code",
   "execution_count": 29,
   "metadata": {},
   "outputs": [],
   "source": [
    "n=4\n",
    "k=range(n+1)\n",
    "m0=map(lambda k: range(k+1), k)"
   ]
  },
  {
   "cell_type": "code",
   "execution_count": 30,
   "metadata": {},
   "outputs": [
    {
     "name": "stdout",
     "output_type": "stream",
     "text": [
      "[[0], [0, 1], [0, 1, 2], [0, 1, 2, 3], [0, 1, 2, 3, 4]]\n"
     ]
    }
   ],
   "source": [
    "l0=list(map(list,m0))\n",
    "print(l0)"
   ]
  },
  {
   "cell_type": "markdown",
   "metadata": {},
   "source": [
    "### Bell Ordinal: calculations\n",
    "\n",
    "Some implementations"
   ]
  },
  {
   "cell_type": "code",
   "execution_count": 31,
   "metadata": {},
   "outputs": [],
   "source": [
    "f1=lambda j, k=1, n=1: (-1)**(k-j)*scis.binom(k,j)*j**n"
   ]
  },
  {
   "cell_type": "code",
   "execution_count": 32,
   "metadata": {},
   "outputs": [],
   "source": [
    "def f2(l, n=1):\n",
    "    k=max(l)\n",
    "    f3=partial(f1,k=k,n=n)\n",
    "    return map(f3, l)"
   ]
  },
  {
   "cell_type": "code",
   "execution_count": 33,
   "metadata": {},
   "outputs": [],
   "source": [
    "n=4\n",
    "m1 = [f2(l, n=n) for l in list(l0)]"
   ]
  },
  {
   "cell_type": "code",
   "execution_count": 34,
   "metadata": {},
   "outputs": [
    {
     "data": {
      "text/plain": [
       "[[0.0],\n",
       " [-0.0, 1.0],\n",
       " [0.0, -2.0, 16.0],\n",
       " [-0.0, 3.0, -48.0, 81.0],\n",
       " [0.0, -4.0, 96.0, -324.0, 256.0]]"
      ]
     },
     "execution_count": 34,
     "metadata": {},
     "output_type": "execute_result"
    }
   ],
   "source": [
    "l1 = list(map(list,m1))\n",
    "l1"
   ]
  },
  {
   "cell_type": "code",
   "execution_count": 35,
   "metadata": {},
   "outputs": [
    {
     "data": {
      "text/plain": [
       "[0.0, 1.0, 14.0, 36.0, 24.0]"
      ]
     },
     "execution_count": 35,
     "metadata": {},
     "output_type": "execute_result"
    }
   ],
   "source": [
    "[ sum(x) for x in l1]"
   ]
  },
  {
   "cell_type": "code",
   "execution_count": 36,
   "metadata": {},
   "outputs": [
    {
     "data": {
      "text/plain": [
       "75.0"
      ]
     },
     "execution_count": 36,
     "metadata": {},
     "output_type": "execute_result"
    }
   ],
   "source": [
    "sum(_)"
   ]
  },
  {
   "cell_type": "code",
   "execution_count": 37,
   "metadata": {},
   "outputs": [],
   "source": [
    "def bellOrdinal(n):\n",
    "    def bellOrdinal_(n):\n",
    "        for k in range(n+1):\n",
    "            for j in range(k+1):\n",
    "                yield (-1)**(k-j)*scis.binom(k,j)*j**n\n",
    "    return sum([ x for x in bellOrdinal_(n) ])"
   ]
  },
  {
   "cell_type": "code",
   "execution_count": 38,
   "metadata": {},
   "outputs": [
    {
     "data": {
      "text/plain": [
       "[1.0,\n",
       " 1.0,\n",
       " 3.0,\n",
       " 13.0,\n",
       " 75.0,\n",
       " 541.0,\n",
       " 4683.0,\n",
       " 47293.0,\n",
       " 545835.0,\n",
       " 7087261.0,\n",
       " 102247563.0]"
      ]
     },
     "execution_count": 38,
     "metadata": {},
     "output_type": "execute_result"
    }
   ],
   "source": [
    "[bellOrdinal(a) for a in range(10+1)] "
   ]
  },
  {
   "cell_type": "code",
   "execution_count": 39,
   "metadata": {},
   "outputs": [
    {
     "name": "stdout",
     "output_type": "stream",
     "text": [
      "[1, 2, 3, 4]\n",
      "[4.0, 6.0, 4.0, 1.0]\n",
      "[13.0, 3.0, 1.0, 1.0]\n"
     ]
    }
   ],
   "source": [
    "n=4\n",
    "lx=[ k for k in range(1, n+1) ]\n",
    "print(lx)\n",
    "print([ scis.binom(n, k) for k in lx])\n",
    "print([ bellOrdinal(n-k) for k in lx])"
   ]
  },
  {
   "cell_type": "code",
   "execution_count": 40,
   "metadata": {},
   "outputs": [
    {
     "data": {
      "text/plain": [
       "[52.0, 18.0, 4.0, 1.0]"
      ]
     },
     "execution_count": 40,
     "metadata": {},
     "output_type": "execute_result"
    }
   ],
   "source": [
    "n=4\n",
    "[ scis.binom(n, k) * bellOrdinal(n-k) for k in range(1, n+1)]"
   ]
  },
  {
   "cell_type": "code",
   "execution_count": 41,
   "metadata": {},
   "outputs": [
    {
     "name": "stdout",
     "output_type": "stream",
     "text": [
      "75.0 [1.0, 4.0, 18.0, 52.0]\n"
     ]
    }
   ],
   "source": [
    "l1=[ scis.binom(n, k) * bellOrdinal(k) for k in range(n)]\n",
    "print(sum(l1), l1)"
   ]
  },
  {
   "cell_type": "code",
   "execution_count": 42,
   "metadata": {},
   "outputs": [],
   "source": [
    "def bellOrdinal1(n):\n",
    "    if n<=1:\n",
    "        return 1\n",
    "    l0 =[ scis.binom(n, k-1)* bellOrdinal1(k-1) for k in range(n+1) ]\n",
    "    return sum(l0)"
   ]
  },
  {
   "cell_type": "code",
   "execution_count": 43,
   "metadata": {},
   "outputs": [
    {
     "data": {
      "text/plain": [
       "75.0"
      ]
     },
     "execution_count": 43,
     "metadata": {},
     "output_type": "execute_result"
    }
   ],
   "source": [
    "bellOrdinal1(4)"
   ]
  },
  {
   "cell_type": "markdown",
   "metadata": {},
   "source": [
    "Generate sequences"
   ]
  },
  {
   "cell_type": "code",
   "execution_count": 44,
   "metadata": {},
   "outputs": [
    {
     "data": {
      "text/plain": [
       "[('A', 'B', 'C'),\n",
       " ('A', 'C', 'B'),\n",
       " ('B', 'A', 'C'),\n",
       " ('B', 'C', 'A'),\n",
       " ('C', 'A', 'B'),\n",
       " ('C', 'B', 'A')]"
      ]
     },
     "execution_count": 44,
     "metadata": {},
     "output_type": "execute_result"
    }
   ],
   "source": [
    "n=3\n",
    "[ x for x in permutations('ABC',3) ]"
   ]
  },
  {
   "cell_type": "code",
   "execution_count": 45,
   "metadata": {},
   "outputs": [
    {
     "name": "stdout",
     "output_type": "stream",
     "text": [
      "{('B', 'C'), ('A', 'C'), ('B', 'A'), ('C', 'A'), ('C', 'B'), ('A', 'B')}\n"
     ]
    }
   ],
   "source": [
    "n=3\n",
    "ly=set([ x for x in permutations('ABC',2) ])\n",
    "print(ly)"
   ]
  },
  {
   "cell_type": "code",
   "execution_count": 46,
   "metadata": {},
   "outputs": [
    {
     "name": "stdout",
     "output_type": "stream",
     "text": [
      "{(('A', 'C'), ('B', 'A')), (('A', 'C'), ('C', 'B')), (('C', 'A'), ('C', 'B')), (('A', 'C'), ('A', 'B')), (('C', 'A'), ('A', 'B')), (('B', 'C'), ('C', 'A')), (('C', 'B'), ('A', 'B')), (('B', 'A'), ('C', 'B')), (('A', 'C'), ('C', 'A')), (('B', 'C'), ('B', 'A')), (('B', 'A'), ('A', 'B')), (('B', 'C'), ('A', 'B')), (('B', 'C'), ('A', 'C')), (('B', 'A'), ('C', 'A')), (('B', 'C'), ('C', 'B'))}\n",
      "15\n"
     ]
    }
   ],
   "source": [
    "ly2=set([ x for x in combinations(ly,2) ])\n",
    "print(ly2)\n",
    "print(len(ly2))"
   ]
  },
  {
   "cell_type": "code",
   "execution_count": 47,
   "metadata": {},
   "outputs": [
    {
     "data": {
      "text/plain": [
       "[('A',), ('B',), ('C',)]"
      ]
     },
     "execution_count": 47,
     "metadata": {},
     "output_type": "execute_result"
    }
   ],
   "source": [
    "n=3\n",
    "[ x for x in permutations('ABC',1) ]"
   ]
  },
  {
   "cell_type": "code",
   "execution_count": 48,
   "metadata": {},
   "outputs": [
    {
     "data": {
      "text/plain": [
       "3"
      ]
     },
     "execution_count": 48,
     "metadata": {},
     "output_type": "execute_result"
    }
   ],
   "source": [
    "len(_)"
   ]
  },
  {
   "cell_type": "code",
   "execution_count": 49,
   "metadata": {},
   "outputs": [
    {
     "data": {
      "text/plain": [
       "[('A', 'B', 'C')]"
      ]
     },
     "execution_count": 49,
     "metadata": {},
     "output_type": "execute_result"
    }
   ],
   "source": [
    "[x for x in combinations('ABC',3) ]"
   ]
  },
  {
   "cell_type": "raw",
   "metadata": {},
   "source": [
    "a>b\n",
    "then\n",
    "a\n",
    "b\n",
    "\n",
    "a=b\n",
    "then\n",
    "a\n",
    "b\n",
    "\n",
    "a>b>c\n",
    "implies\n",
    "a>b, a>c, b=c\n",
    "a>c, b>c, a=b\n",
    "\n",
    "{a,b,c,d}\n",
    "a>b>c>d\n",
    "implies {d, {a,b,c}}\n",
    "a>b>c,d=c\n",
    "a>b>c,d=b \n",
    "a>b>c,d=a\n",
    "\n",
    "b>c>d,a=d\n",
    "b>c>d,a=c\n",
    "b>c>d,a=b\n",
    "\n",
    "a>c>d,b=d\n",
    "a>c>d,b=c\n",
    "a>c>d,b=a\n",
    "\n",
    "a>b>d,c=d\n",
    "a>b>d,c=b\n",
    "a>b>d,c=a\n"
   ]
  },
  {
   "cell_type": "code",
   "execution_count": 50,
   "metadata": {},
   "outputs": [],
   "source": [
    "def gather(l, idx=-1):\n",
    "    s0 = set()\n",
    "    s0 = s0.union(*[x[-1] for x in l])\n",
    "    return s0\n",
    "\n",
    "def flatten(l):\n",
    "    if not l:\n",
    "        return l\n",
    "    x0 = list(chain.from_iterable(l))\n",
    "    if len(x0[0]) == 1:\n",
    "        return set(x0)\n",
    "    return flatten(x0)\n",
    "\n",
    "def combs0(l, k):\n",
    "    return set(combinations(l, k))\n",
    "\n",
    "def perms0(l, k):\n",
    "    return set(permutations(l, k))"
   ]
  },
  {
   "cell_type": "code",
   "execution_count": 51,
   "metadata": {},
   "outputs": [
    {
     "data": {
      "text/plain": [
       "{'A', 'B', 'C', 'D', 'E', 'F'}"
      ]
     },
     "execution_count": 51,
     "metadata": {},
     "output_type": "execute_result"
    }
   ],
   "source": [
    "flatten(['ABC', 'DEF'])"
   ]
  },
  {
   "cell_type": "code",
   "execution_count": 52,
   "metadata": {},
   "outputs": [
    {
     "name": "stdout",
     "output_type": "stream",
     "text": [
      "pair0: [pair0: ['A', 'B'], pair0: ['A', 'B']]\n"
     ]
    }
   ],
   "source": [
    "class pair0(object):\n",
    "    v = []\n",
    "    def __init__(self, a,b):\n",
    "        self.v=[a,b]\n",
    "        \n",
    "    def __repr__(self):\n",
    "        return type(self).__name__ + \": \" + str(self.v)\n",
    "\n",
    "    def __eq__(self, other):\n",
    "        \"\"\"Overrides the default implementation\"\"\"\n",
    "        if isinstance(other, pair0):\n",
    "            return self.v == other.v\n",
    "        return False\n",
    "    \n",
    "r0 = pair0('A', 'B')\n",
    "r1 = pair0('A', 'B')\n",
    "r0 == r1\n",
    "r2 = pair0(r0, r1)\n",
    "print(r2)"
   ]
  },
  {
   "cell_type": "code",
   "execution_count": 53,
   "metadata": {},
   "outputs": [
    {
     "data": {
      "text/plain": [
       "True"
      ]
     },
     "execution_count": 53,
     "metadata": {},
     "output_type": "execute_result"
    }
   ],
   "source": [
    "class prefer0(pair0):\n",
    "    def __init__(self, a, b):\n",
    "        super(prefer0, self).__init__(a, b)\n",
    "\n",
    "class noprefer0(pair0):\n",
    "    def __init__(self, a, b):\n",
    "        super(noprefer0, self).__init__(a, b)\n",
    "        \n",
    "p0 = prefer0('A', 'B')\n",
    "n0 = noprefer0('A', 'B')\n",
    "p0 == n0"
   ]
  },
  {
   "cell_type": "code",
   "execution_count": 54,
   "metadata": {},
   "outputs": [
    {
     "name": "stdout",
     "output_type": "stream",
     "text": [
      "[]\n",
      "[]\n",
      "[[['A', 'B'], ['A', 'C']], [['A', 'C'], ['B', 'C']]]\n",
      "[]\n"
     ]
    }
   ],
   "source": [
    "r0=[]\n",
    "r1=[]\n",
    "\n",
    "def p1(l):\n",
    "    global r0\n",
    "    l0 = []\n",
    "    n0=len(l)\n",
    "    \n",
    "    if n0 <= 1:\n",
    "        return\n",
    "    \n",
    "    if n0 == 3:\n",
    "        # a>b>c implies a>b, a>c, b=c; a>c, b>c, a=b\n",
    "        l1 = [ [ l[0], l[1] ], [ l[0], l[2] ] ]\n",
    "        l2 = [ [ l[0], l[2] ], [ l[1], l[2] ] ]\n",
    "        l0 = [ l1, l2 ]\n",
    "\n",
    "    # a>b>c implies\n",
    "    # a>b, a>c, b=c\n",
    "    # a>c, b>c, a=b\n",
    "    \n",
    "    return l0\n",
    "\n",
    "print(p1(list('AB')))\n",
    "print(r0)\n",
    "r0 = []\n",
    "print(p1(list('ABC')))\n",
    "print(r0)"
   ]
  },
  {
   "cell_type": "code",
   "execution_count": 55,
   "metadata": {},
   "outputs": [],
   "source": [
    "from weaves.preferences import Prefer0, NoPrefer0"
   ]
  },
  {
   "cell_type": "code",
   "execution_count": 56,
   "metadata": {},
   "outputs": [
    {
     "name": "stdout",
     "output_type": "stream",
     "text": [
      "[]\n",
      "[]\n",
      "[[>['A', 'B'], >['A', 'C'], =['B', 'C']], [>['A', 'C'], >['B', 'C'], =['A', 'B']]]\n",
      "[]\n"
     ]
    }
   ],
   "source": [
    "r0=[]\n",
    "r1=[]\n",
    "\n",
    "def p1(l):\n",
    "    global r0\n",
    "    l0 = []\n",
    "    n0=len(l)\n",
    "    \n",
    "    if n0 <= 1:\n",
    "        return\n",
    "    \n",
    "    if n0 == 3:\n",
    "        # a>b>c implies a>b, a>c, b=c; a>c, b>c, a=b\n",
    "        l1 = [ Prefer0(l[0], l[1]), Prefer0(l[0], l[2]), NoPrefer0(l[1], l[2]) ]\n",
    "        l2 = [ Prefer0(l[0], l[2]), Prefer0(l[1], l[2]), NoPrefer0(l[0], l[1]) ]\n",
    "        l0 = [ l1, l2 ]\n",
    "\n",
    "    # a>b>c implies\n",
    "    # a>b, a>c, b=c\n",
    "    # a>c, b>c, a=b\n",
    "    \n",
    "    return l0\n",
    "\n",
    "print(p1(list('AB')))\n",
    "print(r0)\n",
    "r0 = []\n",
    "print(p1(list('ABC')))\n",
    "print(r0)"
   ]
  },
  {
   "cell_type": "code",
   "execution_count": 57,
   "metadata": {},
   "outputs": [
    {
     "data": {
      "text/plain": [
       "[('C', 'A', 'D', 'B'),\n",
       " ('A', 'D', 'B', 'C'),\n",
       " ('C', 'D', 'B', 'A'),\n",
       " ('B', 'C', 'D', 'A'),\n",
       " ('D', 'C', 'A', 'B'),\n",
       " ('D', 'C', 'B', 'A'),\n",
       " ('B', 'A', 'C', 'D'),\n",
       " ('B', 'D', 'A', 'C'),\n",
       " ('B', 'A', 'D', 'C'),\n",
       " ('A', 'B', 'D', 'C'),\n",
       " ('C', 'B', 'D', 'A'),\n",
       " ('A', 'D', 'C', 'B'),\n",
       " ('A', 'C', 'D', 'B'),\n",
       " ('D', 'A', 'B', 'C'),\n",
       " ('C', 'D', 'A', 'B'),\n",
       " ('C', 'B', 'A', 'D'),\n",
       " ('B', 'D', 'C', 'A'),\n",
       " ('A', 'C', 'B', 'D'),\n",
       " ('D', 'A', 'C', 'B'),\n",
       " ('D', 'B', 'A', 'C'),\n",
       " ('B', 'C', 'A', 'D'),\n",
       " ('C', 'A', 'B', 'D'),\n",
       " ('A', 'B', 'C', 'D'),\n",
       " ('D', 'B', 'C', 'A')]"
      ]
     },
     "execution_count": 57,
     "metadata": {},
     "output_type": "execute_result"
    }
   ],
   "source": [
    "s0=perms0('ABCD', 4)\n",
    "s0\n",
    "la=list(s0)\n",
    "la.reverse()\n",
    "la"
   ]
  },
  {
   "cell_type": "code",
   "execution_count": 58,
   "metadata": {},
   "outputs": [
    {
     "data": {
      "text/plain": [
       "[('C', 'A', 'B'),\n",
       " ('A', 'B', 'C'),\n",
       " ('B', 'C', 'A'),\n",
       " ('B', 'A', 'C'),\n",
       " ('C', 'B', 'A'),\n",
       " ('A', 'C', 'B')]"
      ]
     },
     "execution_count": 58,
     "metadata": {},
     "output_type": "execute_result"
    }
   ],
   "source": [
    "s0=perms0('ABC', 3)\n",
    "s0\n",
    "la=list(s0)\n",
    "la.reverse()\n",
    "la"
   ]
  },
  {
   "cell_type": "code",
   "execution_count": 59,
   "metadata": {},
   "outputs": [
    {
     "name": "stdout",
     "output_type": "stream",
     "text": [
      "[[[>['C', 'A'], >['C', 'B'], =['A', 'B']], [>['C', 'B'], >['A', 'B'], =['C', 'A']]], [[>['A', 'B'], >['A', 'C'], =['B', 'C']], [>['A', 'C'], >['B', 'C'], =['A', 'B']]], [[>['B', 'C'], >['B', 'A'], =['C', 'A']], [>['B', 'A'], >['C', 'A'], =['B', 'C']]], [[>['B', 'A'], >['B', 'C'], =['A', 'C']], [>['B', 'C'], >['A', 'C'], =['B', 'A']]], [[>['C', 'B'], >['C', 'A'], =['B', 'A']], [>['C', 'A'], >['B', 'A'], =['C', 'B']]], [[>['A', 'C'], >['A', 'B'], =['C', 'B']], [>['A', 'B'], >['C', 'B'], =['A', 'C']]]]\n",
      "6\n"
     ]
    }
   ],
   "source": [
    "lb = [ p1(l) for l in la ]\n",
    "print(lb)\n",
    "print(len(lb)) "
   ]
  },
  {
   "cell_type": "raw",
   "metadata": {},
   "source": [
    "    if len(l) == 2:\n",
    "        r1.append() = [ p1(l, n=2), set(combinations(l,n)]\n",
    "        \n",
    "        k = len(l) - 1\n",
    "        ln = combinations(l,k)\n",
    "        l0 = [l for l in list(ln) ]\n",
    "        l0 = [p1(l) for l in list(l0) ]\n",
    "        l1 = gather(l0, idx=-1)\n",
    "        l0 = [l2, l0, l1]\n"
   ]
  },
  {
   "cell_type": "code",
   "execution_count": 60,
   "metadata": {},
   "outputs": [
    {
     "data": {
      "text/plain": [
       "[('A',), ('B',), ('C',)]"
      ]
     },
     "execution_count": 60,
     "metadata": {},
     "output_type": "execute_result"
    }
   ],
   "source": [
    "[ l for l in combinations('ABC', 1)]"
   ]
  },
  {
   "cell_type": "code",
   "execution_count": 61,
   "metadata": {},
   "outputs": [
    {
     "data": {
      "text/plain": [
       "[('A',), ('B',), ('C',)]"
      ]
     },
     "execution_count": 61,
     "metadata": {},
     "output_type": "execute_result"
    }
   ],
   "source": [
    "list(combinations('ABC', 1))"
   ]
  },
  {
   "cell_type": "code",
   "execution_count": 62,
   "metadata": {},
   "outputs": [
    {
     "data": {
      "text/plain": [
       "['A', 'B', 'C']"
      ]
     },
     "execution_count": 62,
     "metadata": {},
     "output_type": "execute_result"
    }
   ],
   "source": [
    "list('ABC')"
   ]
  },
  {
   "cell_type": "code",
   "execution_count": 63,
   "metadata": {},
   "outputs": [
    {
     "ename": "IndentationError",
     "evalue": "expected an indented block (<ipython-input-63-993753ec5fab>, line 9)",
     "output_type": "error",
     "traceback": [
      "\u001b[0;36m  File \u001b[0;32m\"<ipython-input-63-993753ec5fab>\"\u001b[0;36m, line \u001b[0;32m9\u001b[0m\n\u001b[0;31m    parts[i&1].append(item)\u001b[0m\n\u001b[0m                           ^\u001b[0m\n\u001b[0;31mIndentationError\u001b[0m\u001b[0;31m:\u001b[0m expected an indented block\n"
     ]
    }
   ],
   "source": [
    "            \n",
    "def partitions1(set_):\n",
    "    if not set_:\n",
    "        yield []\n",
    "        return\n",
    "    for i in range(int(2**len(set_)/2)):\n",
    "        parts = [list(), list()]\n",
    "        for item in set_:\n",
    "            parts[i&1].append(item)\n",
    "            i >>= 1\n",
    "        for b in partitions1(parts[1]):\n",
    "            yield [parts[0]]+b"
   ]
  },
  {
   "cell_type": "code",
   "execution_count": null,
   "metadata": {},
   "outputs": [],
   "source": [
    "[[1,2]]+[3]\n",
    "l0=set([1,2,3])\n",
    "l0.add(3)\n",
    "l0\n",
    "range(int(2**len('ABC')/2))"
   ]
  },
  {
   "cell_type": "code",
   "execution_count": null,
   "metadata": {},
   "outputs": [],
   "source": [
    "# Generates set partitions recursively\n",
    "g0 = 0\n",
    "def partitions(set_):\n",
    "    global g0\n",
    "    \n",
    "    g0+=1\n",
    "\n",
    "    if not set_:\n",
    "        yield []\n",
    "        return\n",
    "\n",
    "    print(int(2**len(set_)/2))\n",
    "    for i in range(int(2**len(set_)/2)):\n",
    "        parts = [set(), set()]\n",
    "        for item in set_:\n",
    "            print(g0, i, i&1, item)\n",
    "            parts[i&1].add(item)\n",
    "            i >>= 1\n",
    "        for b in partitions(parts[1]):\n",
    "            yield [parts[0]]+b"
   ]
  },
  {
   "cell_type": "code",
   "execution_count": null,
   "metadata": {},
   "outputs": [],
   "source": [
    "list(partitions(set('ABC')))"
   ]
  },
  {
   "cell_type": "code",
   "execution_count": null,
   "metadata": {},
   "outputs": [],
   "source": [
    "l0 = [ list(partitions1(x)) for x in permutations('ABC', 3) ]\n",
    "for x in list(l0):\n",
    "    print(\"{}:{}\".format(len(x), x))"
   ]
  },
  {
   "cell_type": "code",
   "execution_count": null,
   "metadata": {},
   "outputs": [],
   "source": [
    "x0 = l0[0]\n",
    "\n",
    "def reduce_(x0):\n",
    "    for x in x0:\n",
    "        yield [ set(y) for y in x ]\n",
    "        \n",
    "def reduce1_(l0):\n",
    "    for x in l0:\n",
    "        yield reduce_(x)\n",
    "\n",
    "list(reduce_(x0))            \n",
    "l2 = [ list(l) for l in list(reduce1_(l0)) ]"
   ]
  },
  {
   "cell_type": "code",
   "execution_count": null,
   "metadata": {},
   "outputs": [],
   "source": [
    "s0 = set()\n",
    "for x in l2:\n",
    "    for y in x:\n",
    "        print(y)"
   ]
  },
  {
   "cell_type": "code",
   "execution_count": null,
   "metadata": {},
   "outputs": [],
   "source": [
    "l1 = weaves.POSetOps.instance().partitions(set('ABC'))\n",
    "l2 = list(l1)\n",
    "print(len(l2))\n",
    "for x in l2:\n",
    "    x = list(x)\n",
    "    print(\"{}:{}\".format(len(x), x))"
   ]
  },
  {
   "cell_type": "code",
   "execution_count": null,
   "metadata": {},
   "outputs": [],
   "source": [
    "l1 = weaves.POSetOps.instance().partitions(list('ABC'))\n",
    "l2 = list(l1)\n",
    "print(len(l2))\n",
    "for x in l2:\n",
    "    x = list(x)\n",
    "    print(\"{}:{}\".format(len(x), x))"
   ]
  },
  {
   "cell_type": "code",
   "execution_count": null,
   "metadata": {},
   "outputs": [],
   "source": [
    "l1 = weaves.POSetOps.instance().partitions(list('ABCD'))\n",
    "l2 = list(l1)\n",
    "print(len(l2))\n",
    "for x in l2:\n",
    "    x = list(x)\n",
    "    print(\"{}:{}\".format(len(x), x))"
   ]
  },
  {
   "cell_type": "code",
   "execution_count": null,
   "metadata": {},
   "outputs": [],
   "source": [
    "sss = [ set(range(n)) for n in range(0,10+1) ]"
   ]
  },
  {
   "cell_type": "code",
   "execution_count": null,
   "metadata": {},
   "outputs": [],
   "source": [
    "[ len(list(partitions(ss))) for ss in sss ]"
   ]
  },
  {
   "cell_type": "code",
   "execution_count": null,
   "metadata": {},
   "outputs": [],
   "source": [
    "perms0('ABC', 3)"
   ]
  },
  {
   "cell_type": "code",
   "execution_count": null,
   "metadata": {},
   "outputs": [],
   "source": [
    "permutations('ABC', 3)"
   ]
  },
  {
   "cell_type": "code",
   "execution_count": null,
   "metadata": {},
   "outputs": [],
   "source": [
    "24*15"
   ]
  },
  {
   "cell_type": "code",
   "execution_count": null,
   "metadata": {},
   "outputs": [],
   "source": [
    "x=8\n",
    "x&1"
   ]
  },
  {
   "cell_type": "code",
   "execution_count": null,
   "metadata": {},
   "outputs": [],
   "source": [
    "# Written May 2010 by Josiah Carlson based on Eric Burnett's description here:\n",
    "# http://www.thelowlyprogrammer.com/2010/04/indexing-and-enumerating-subsets-of.html\n",
    "# and java code here:\n",
    "# http://github.com/EricBurnett/EnumeratedSubsets\n",
    "#\n",
    "# This source is public domain.\n",
    "\n",
    "class EnumeratedSubsets(object):\n",
    "    def __init__(self):\n",
    "        self.cache = {}\n",
    "    def choose(self, n, k):\n",
    "        # handle the simple cases\n",
    "        k = min(k, n-k)\n",
    "        if k == 0:\n",
    "            return 1\n",
    "        elif k < 0:\n",
    "            raise Exception(\"negative k?\")\n",
    "        elif k == 1:\n",
    "            return n\n",
    "        # handle caching and subcalls\n",
    "        c = (n,k)\n",
    "        if c not in self.cache:\n",
    "            self.cache[c] = self.choose(n-1, k) + self.choose(n-1, k-1)\n",
    "        return self.cache[c]\n",
    "\n",
    "    def precacheChoose(self, n, k=None):\n",
    "        # adjust your bounds\n",
    "        if k is None:\n",
    "            k = (n+1)//2 - 1\n",
    "        for k_i in range(1, k+1):\n",
    "            for n_i in range(k_i, n+1):\n",
    "                self.choose(n_i, k_i)\n",
    "\n",
    "    def generateSubset(self, n, k, i):\n",
    "        # non-recursive generateSubset(n, k, i), which will choose the i'th\n",
    "        # subset of size k from n items (numbered 0..n-1)\n",
    "        b = None\n",
    "        offset = 0\n",
    "        while 1:\n",
    "            if b is None:\n",
    "                b = set()\n",
    "\n",
    "            upperBound = self.choose(n,k)\n",
    "            if i >= upperBound:\n",
    "                return None\n",
    "\n",
    "            zeros = 0\n",
    "            low = 0\n",
    "            high = self.choose(n-1, k-1)\n",
    "            while i >= high:\n",
    "                zeros += 1\n",
    "                low = high\n",
    "                high += self.choose(n-zeros-1, k-1)\n",
    "\n",
    "            if (zeros + k) > n:\n",
    "                raise Exception(\"Too many zeros!\")\n",
    "\n",
    "            b.add(offset + zeros)\n",
    "            if k == 1:\n",
    "                return sorted(b)\n",
    "            else:\n",
    "                n -= zeros + 1\n",
    "                k -= 1\n",
    "                i -= low\n",
    "                offset += zeros+1\n",
    "\n",
    "    def test1(self):\n",
    "        for l in range(1, 10):\n",
    "            for k in range(1, min(l, 5)):\n",
    "                i = 0\n",
    "                while 1:\n",
    "                    b = self.generateSubset(l, k, i)\n",
    "                    if b is None:\n",
    "                        break\n",
    "                    print(\"%i %i %s: %s\"%(l, k, i, b))\n",
    "                    i += 1\n",
    "\n",
    "    def test(self):\n",
    "        for l in range(1, 10):\n",
    "            for k in range(1, min(l, 5)):\n",
    "                i = 0\n",
    "                while 1:\n",
    "                    b = self.generateSubset(l, k, i)\n",
    "                    if b is None:\n",
    "                        break\n",
    "                    print(\"%i %i %s: %s\"%(l, k, i, b))\n",
    "                    i += 1\n",
    "\n",
    "        i = 0\n",
    "        while 1:\n",
    "            b = self.generateSubset(25, 24, i)\n",
    "            if b is None:\n",
    "                break\n",
    "            print(\"%i %i %s: %s\"%(25, 24, i, b))\n",
    "            i += 1\n",
    "\n",
    "        self.precacheChoose(10000, 12)\n",
    "        i = 160000\n",
    "        b = self.generateSubset(100, 3, i)\n",
    "        print(\"%i %i %s: %s\"%(100, 3, i, b))\n",
    "\n",
    "        i = 160000000000000000000000000000\n",
    "        b = self.generateSubset(10000, 12, i)\n",
    "        print(\"%i %i %s: %s\"%(10000, 12, i, b))\n",
    "\n",
    "        "
   ]
  },
  {
   "cell_type": "code",
   "execution_count": null,
   "metadata": {},
   "outputs": [],
   "source": [
    "x0=EnumeratedSubsets()"
   ]
  },
  {
   "cell_type": "code",
   "execution_count": null,
   "metadata": {},
   "outputs": [],
   "source": [
    "x0.test1()"
   ]
  },
  {
   "cell_type": "code",
   "execution_count": null,
   "metadata": {},
   "outputs": [],
   "source": [
    "def grayCode(n=5):\n",
    "    for i in range(0, 1<<n):\n",
    "        gray=i^(i>>1)\n",
    "        print(\"{0:0{1}b}\".format(gray,n))\n",
    "\n",
    "grayCode(n=3)"
   ]
  },
  {
   "cell_type": "code",
   "execution_count": null,
   "metadata": {},
   "outputs": [],
   "source": [
    "c1<<5"
   ]
  },
  {
   "cell_type": "code",
   "execution_count": null,
   "metadata": {},
   "outputs": [],
   "source": [
    "weaves.POSetOps.instance().strong(('LMR'))"
   ]
  },
  {
   "cell_type": "code",
   "execution_count": null,
   "metadata": {},
   "outputs": [],
   "source": [
    "basis = range(0,5)\n",
    "x = string.ascii_letters[0:5]"
   ]
  },
  {
   "cell_type": "code",
   "execution_count": null,
   "metadata": {},
   "outputs": [],
   "source": [
    "def nodes(n=5, x=string.ascii_letters):\n",
    "    basis = range(0,n)\n",
    "    for coeff in permutations(basis):\n",
    "        yield [ 1+coeff[i] for i in basis ]    "
   ]
  },
  {
   "cell_type": "code",
   "execution_count": null,
   "metadata": {},
   "outputs": [],
   "source": [
    "l0=list(nodes(n=4))\n",
    "print(len(l0))\n",
    "l0"
   ]
  },
  {
   "cell_type": "code",
   "execution_count": null,
   "metadata": {},
   "outputs": [],
   "source": [
    "list(_)"
   ]
  },
  {
   "cell_type": "code",
   "execution_count": null,
   "metadata": {},
   "outputs": [],
   "source": [
    "x"
   ]
  },
  {
   "cell_type": "code",
   "execution_count": null,
   "metadata": {},
   "outputs": [],
   "source": [
    "x"
   ]
  },
  {
   "cell_type": "code",
   "execution_count": null,
   "metadata": {},
   "outputs": [],
   "source": []
  }
 ],
 "metadata": {
  "kernelspec": {
   "display_name": "Python 3",
   "language": "python",
   "name": "python3"
  },
  "language_info": {
   "codemirror_mode": {
    "name": "ipython",
    "version": 3
   },
   "file_extension": ".py",
   "mimetype": "text/x-python",
   "name": "python",
   "nbconvert_exporter": "python",
   "pygments_lexer": "ipython3",
   "version": "3.6.0"
  }
 },
 "nbformat": 4,
 "nbformat_minor": 2
}
