{
 "cells": [
  {
   "cell_type": "markdown",
   "metadata": {},
   "source": [
    "weaves\n",
    "\n",
    "Rough working: pyvote and Bell Ordinal number calculation"
   ]
  },
  {
   "cell_type": "code",
   "execution_count": 214,
   "metadata": {},
   "outputs": [
    {
     "name": "stdout",
     "output_type": "stream",
     "text": [
      "The autoreload extension is already loaded. To reload it, use:\n",
      "  %reload_ext autoreload\n"
     ]
    }
   ],
   "source": [
    "import os\n",
    "import datetime\n",
    "\n",
    "import pandas as pd\n",
    "import numpy as np\n",
    "import functools\n",
    "import scipy.special as scis\n",
    "from functools import partial\n",
    "from itertools import permutations, combinations, chain\n",
    "import string\n",
    "\n",
    "import weaves \n",
    "\n",
    "%load_ext autoreload\n",
    "%autoreload 2"
   ]
  },
  {
   "cell_type": "code",
   "execution_count": 62,
   "metadata": {},
   "outputs": [],
   "source": [
    "from py3votecore.plurality import PluralityAtLarge\n",
    "from py3votecore.stv import STV, Quota\n",
    "\n",
    "import pyvote"
   ]
  },
  {
   "cell_type": "code",
   "execution_count": 63,
   "metadata": {},
   "outputs": [
    {
     "name": "stdout",
     "output_type": "stream",
     "text": [
      "0.1.0\n",
      "$Id: e6c1cce8af7f88d8635a28819453f91ae0cb6f85 $\n"
     ]
    }
   ],
   "source": [
    "print(pyvote.__version__)\n",
    "print(pyvote.__Id__)"
   ]
  },
  {
   "cell_type": "code",
   "execution_count": 64,
   "metadata": {},
   "outputs": [],
   "source": [
    "input = [\n",
    "            {\"count\": 26, \"ballot\": \"c1\"},\n",
    "            {\"count\": 22, \"ballot\": \"c2\"},\n",
    "            {\"count\": 23, \"ballot\": \"c3\"}\n",
    "        ]"
   ]
  },
  {
   "cell_type": "code",
   "execution_count": 65,
   "metadata": {},
   "outputs": [
    {
     "data": {
      "text/plain": [
       "{'candidates': {'c1', 'c2', 'c3'},\n",
       " 'winners': {'c1'},\n",
       " 'tallies': {'c3': 23, 'c1': 26, 'c2': 22}}"
      ]
     },
     "execution_count": 65,
     "metadata": {},
     "output_type": "execute_result"
    }
   ],
   "source": [
    "output = PluralityAtLarge(input, required_winners=1).as_dict()\n",
    "output"
   ]
  },
  {
   "cell_type": "code",
   "execution_count": 66,
   "metadata": {},
   "outputs": [
    {
     "data": {
      "text/plain": [
       "{'candidates': {'c1', 'c2', 'c3'},\n",
       " 'tallies': {'c3': 23, 'c2': 22, 'c1': 26},\n",
       " 'winner': 'c1'}"
      ]
     },
     "execution_count": 66,
     "metadata": {},
     "output_type": "execute_result"
    }
   ],
   "source": [
    "{\n",
    "    'candidates': set(['c1', 'c2', 'c3']),\n",
    "    'tallies': {'c3': 23, 'c2': 22, 'c1': 26},\n",
    "    'winner': 'c1'\n",
    "}"
   ]
  },
  {
   "cell_type": "code",
   "execution_count": 67,
   "metadata": {},
   "outputs": [],
   "source": [
    "input = [\n",
    "        {\"count\": 56, \"ballot\": [\"c1\", \"c2\", \"c3\"]},\n",
    "        {\"count\": 40, \"ballot\": [\"c2\", \"c3\", \"c1\"]},\n",
    "        {\"count\": 20, \"ballot\": [\"c3\", \"c1\", \"c2\"]},\n",
    "]"
   ]
  },
  {
   "cell_type": "code",
   "execution_count": 68,
   "metadata": {},
   "outputs": [
    {
     "data": {
      "text/plain": [
       "{'candidates': {'c1', 'c2', 'c3'},\n",
       " 'winners': {'c1', 'c2'},\n",
       " 'quota': 39,\n",
       " 'rounds': [{'tallies': {'c1': 56.0, 'c2': 40.0, 'c3': 20.0},\n",
       "   'winners': {'c1', 'c2'}}]}"
      ]
     },
     "execution_count": 68,
     "metadata": {},
     "output_type": "execute_result"
    }
   ],
   "source": [
    "output = STV(input, required_winners=2).as_dict()\n",
    "output"
   ]
  },
  {
   "cell_type": "raw",
   "metadata": {},
   "source": [
    "{\n",
    "    'candidates': set(['c1', 'c2', 'c3']),\n",
    "    'quota': 39,\n",
    "    'rounds': [{\n",
    "        'tallies': {'c3': 20.0, 'c2': 40.0, 'c1': 56.0},\n",
    "        'winners': set(['c2', 'c1'])\n",
    "    }],\n",
    "    'winners': set(['c2', 'c1'])\n",
    "}"
   ]
  },
  {
   "cell_type": "markdown",
   "metadata": {},
   "source": [
    "oranges, 4\n",
    "pear > oranges, 2\n",
    "chocolate > strawberries, 10\n",
    "chocolate > sweets, 4\n",
    "strawberries, 1\n",
    "sweets, 1\n"
   ]
  },
  {
   "cell_type": "code",
   "execution_count": 69,
   "metadata": {},
   "outputs": [],
   "source": [
    "input = [\n",
    "        {\"count\": 4, \"ballot\": [\"oranges\"]},\n",
    "        {\"count\": 2, \"ballot\": [\"pear\", \"oranges\"]},\n",
    "        {\"count\": 10, \"ballot\": [\"chocolate\", \"strawberries\"]},\n",
    "        {\"count\": 4, \"ballot\": [\"chocolate\", \"sweets\"]},\n",
    "        {\"count\": 1, \"ballot\": [\"strawberries\"]},\n",
    "        {\"count\": 1, \"ballot\": [\"sweets\"]},\n",
    "]"
   ]
  },
  {
   "cell_type": "code",
   "execution_count": 70,
   "metadata": {},
   "outputs": [
    {
     "data": {
      "text/plain": [
       "{'candidates': {'chocolate', 'oranges', 'pear', 'strawberries', 'sweets'},\n",
       " 'winners': {'chocolate', 'oranges'},\n",
       " 'quota': 11.0,\n",
       " 'rounds': [{'tallies': {'oranges': 4.0,\n",
       "    'pear': 2.0,\n",
       "    'chocolate': 14.0,\n",
       "    'strawberries': 1.0,\n",
       "    'sweets': 1.0},\n",
       "   'winners': {'chocolate'}},\n",
       "  {'tallies': {'oranges': 4.0,\n",
       "    'pear': 2.0,\n",
       "    'strawberries': 3.142857142857143,\n",
       "    'sweets': 1.8571428571428572},\n",
       "   'loser': 'sweets'},\n",
       "  {'tallies': {'oranges': 4.0, 'pear': 2.0, 'strawberries': 3.142857142857143},\n",
       "   'loser': 'pear'},\n",
       "  {'tallies': {'oranges': 6.0, 'strawberries': 3.142857142857143},\n",
       "   'loser': 'strawberries'}],\n",
       " 'remaining_candidates': {'oranges'}}"
      ]
     },
     "execution_count": 70,
     "metadata": {},
     "output_type": "execute_result"
    }
   ],
   "source": [
    "output = STV(input, required_winners=2,  quota_f=Quota.hare).as_dict()\n",
    "output"
   ]
  },
  {
   "cell_type": "raw",
   "metadata": {},
   "source": [
    "Alpha party\n",
    "\n",
    "31 voters Andrea Carter Brad\n",
    "\n",
    "30 voters Carter Andrea Brad\n",
    "\n",
    "2 voters Brad Andrea Carter\n",
    "\n",
    "Beta party\n",
    "\n",
    "20 voters Delilah Scott Jennifer\n",
    "\n",
    "20 voters Scott Delilah Jennifer\n",
    "\n",
    "17 voters Jennifer Delilah Scott"
   ]
  },
  {
   "cell_type": "code",
   "execution_count": 71,
   "metadata": {},
   "outputs": [],
   "source": [
    "input =  [\n",
    "        {\"count\": 31, \"ballot\": [\"Andrea\", \"Carter\", \"Brad\"]},\n",
    "        {\"count\": 30, \"ballot\": [\"Carter\", \"Andrea\", \"Brad\"]},\n",
    "        {\"count\": 2, \"ballot\": [\"Brad\", \"Andrea\", \"Carter\"]},\n",
    "        {\"count\": 20, \"ballot\": [\"Delilah\", \"Scott\", \"Jennifer\"]},\n",
    "        {\"count\": 20, \"ballot\": [\"Scott\", \"Delilah\", \"Jennifer\"]},\n",
    "        {\"count\": 17, \"ballot\": [\"Jennifer\", \"Delilah\", \"Scott\"]},\n",
    "]"
   ]
  },
  {
   "cell_type": "code",
   "execution_count": 72,
   "metadata": {},
   "outputs": [
    {
     "data": {
      "text/plain": [
       "{'candidates': {'Andrea', 'Brad', 'Carter', 'Delilah', 'Jennifer', 'Scott'},\n",
       " 'winners': {'Andrea', 'Brad', 'Carter', 'Delilah', 'Scott'},\n",
       " 'quota': 21,\n",
       " 'rounds': [{'tallies': {'Andrea': 31.0,\n",
       "    'Carter': 30.0,\n",
       "    'Brad': 2.0,\n",
       "    'Delilah': 20.0,\n",
       "    'Scott': 20.0,\n",
       "    'Jennifer': 17.0},\n",
       "   'winners': {'Andrea', 'Carter'}},\n",
       "  {'tallies': {'Brad': 21.0, 'Delilah': 20.0, 'Scott': 20.0, 'Jennifer': 17.0},\n",
       "   'winners': {'Brad'}},\n",
       "  {'tallies': {'Delilah': 20.0, 'Scott': 20.0, 'Jennifer': 17.0},\n",
       "   'loser': 'Jennifer'}],\n",
       " 'remaining_candidates': {'Delilah', 'Scott'}}"
      ]
     },
     "execution_count": 72,
     "metadata": {},
     "output_type": "execute_result"
    }
   ],
   "source": [
    "output = STV(input, required_winners=5,  quota_f=Quota.droop).as_dict()\n",
    "output"
   ]
  },
  {
   "cell_type": "code",
   "execution_count": 73,
   "metadata": {},
   "outputs": [
    {
     "data": {
      "text/plain": [
       "{'candidates': {'Andrea', 'Brad', 'Carter', 'Delilah', 'Jennifer', 'Scott'},\n",
       " 'winners': {'Andrea', 'Carter', 'Delilah', 'Jennifer', 'Scott'},\n",
       " 'quota': 24.0,\n",
       " 'rounds': [{'tallies': {'Andrea': 31.0,\n",
       "    'Carter': 30.0,\n",
       "    'Brad': 2.0,\n",
       "    'Delilah': 20.0,\n",
       "    'Scott': 20.0,\n",
       "    'Jennifer': 17.0},\n",
       "   'winners': {'Andrea', 'Carter'}},\n",
       "  {'tallies': {'Brad': 15.0, 'Delilah': 20.0, 'Scott': 20.0, 'Jennifer': 17.0},\n",
       "   'loser': 'Brad'}],\n",
       " 'remaining_candidates': {'Delilah', 'Jennifer', 'Scott'}}"
      ]
     },
     "execution_count": 73,
     "metadata": {},
     "output_type": "execute_result"
    }
   ],
   "source": [
    "output = STV(input, required_winners=5,  quota_f=Quota.hare).as_dict()\n",
    "output"
   ]
  },
  {
   "cell_type": "markdown",
   "metadata": {},
   "source": [
    "Bell Ordinal: combinations and permutations"
   ]
  },
  {
   "cell_type": "code",
   "execution_count": 74,
   "metadata": {},
   "outputs": [
    {
     "data": {
      "text/plain": [
       "15.0"
      ]
     },
     "execution_count": 74,
     "metadata": {},
     "output_type": "execute_result"
    }
   ],
   "source": [
    "scis.binom(6,2)"
   ]
  },
  {
   "cell_type": "code",
   "execution_count": 75,
   "metadata": {},
   "outputs": [],
   "source": [
    "nperm = lambda n,k: scis.factorial(k) * scis.binom(n,k)\n",
    "ncomb = lambda n,k: nperm(n,k)/scis.factorial(k)"
   ]
  },
  {
   "cell_type": "code",
   "execution_count": 76,
   "metadata": {},
   "outputs": [
    {
     "data": {
      "text/plain": [
       "15.0"
      ]
     },
     "execution_count": 76,
     "metadata": {},
     "output_type": "execute_result"
    }
   ],
   "source": [
    "nperm(6,2)\n",
    "ncomb(6,2)"
   ]
  },
  {
   "cell_type": "code",
   "execution_count": 77,
   "metadata": {},
   "outputs": [
    {
     "data": {
      "text/plain": [
       "15.0"
      ]
     },
     "execution_count": 77,
     "metadata": {},
     "output_type": "execute_result"
    }
   ],
   "source": [
    "scis.perm(6,2)\n",
    "scis.comb(6,2)"
   ]
  },
  {
   "cell_type": "code",
   "execution_count": 78,
   "metadata": {},
   "outputs": [
    {
     "name": "stdout",
     "output_type": "stream",
     "text": [
      "[2, 3, 4, 5, 6, 7, 8, 9, 10]\n"
     ]
    }
   ],
   "source": [
    "l0 = map(lambda x: 1 + x, range(1,10))\n",
    "print(list(l0))"
   ]
  },
  {
   "cell_type": "code",
   "execution_count": 79,
   "metadata": {},
   "outputs": [
    {
     "data": {
      "text/plain": [
       "6"
      ]
     },
     "execution_count": 79,
     "metadata": {},
     "output_type": "execute_result"
    }
   ],
   "source": [
    "functools.reduce(lambda x,y: x+y, [1, 2, 3])"
   ]
  },
  {
   "cell_type": "code",
   "execution_count": 80,
   "metadata": {},
   "outputs": [
    {
     "data": {
      "text/plain": [
       "15"
      ]
     },
     "execution_count": 80,
     "metadata": {},
     "output_type": "execute_result"
    }
   ],
   "source": [
    "functools.reduce(lambda x, y: x+y, [1, 2, 3, 4, 5])"
   ]
  },
  {
   "cell_type": "code",
   "execution_count": 81,
   "metadata": {},
   "outputs": [
    {
     "data": {
      "text/plain": [
       "array([ 0.,  1.,  3.,  6.])"
      ]
     },
     "execution_count": 81,
     "metadata": {},
     "output_type": "execute_result"
    }
   ],
   "source": [
    "scis.binom([1,2,3,4],2)"
   ]
  },
  {
   "cell_type": "code",
   "execution_count": 82,
   "metadata": {},
   "outputs": [
    {
     "data": {
      "text/plain": [
       "15.0"
      ]
     },
     "execution_count": 82,
     "metadata": {},
     "output_type": "execute_result"
    }
   ],
   "source": [
    "sum(scis.perm(range(1,6),1))"
   ]
  },
  {
   "cell_type": "code",
   "execution_count": 83,
   "metadata": {},
   "outputs": [
    {
     "data": {
      "text/plain": [
       "29"
      ]
     },
     "execution_count": 83,
     "metadata": {},
     "output_type": "execute_result"
    }
   ],
   "source": [
    "functools.reduce(lambda x, y: x+2*y, [1, 2, 3, 4, 5])"
   ]
  },
  {
   "cell_type": "code",
   "execution_count": 84,
   "metadata": {},
   "outputs": [
    {
     "data": {
      "text/plain": [
       "5"
      ]
     },
     "execution_count": 84,
     "metadata": {},
     "output_type": "execute_result"
    }
   ],
   "source": [
    "1+2*2"
   ]
  },
  {
   "cell_type": "code",
   "execution_count": 85,
   "metadata": {},
   "outputs": [
    {
     "data": {
      "text/plain": [
       "11"
      ]
     },
     "execution_count": 85,
     "metadata": {},
     "output_type": "execute_result"
    }
   ],
   "source": [
    "5+2*3"
   ]
  },
  {
   "cell_type": "code",
   "execution_count": 86,
   "metadata": {},
   "outputs": [
    {
     "data": {
      "text/plain": [
       "19"
      ]
     },
     "execution_count": 86,
     "metadata": {},
     "output_type": "execute_result"
    }
   ],
   "source": [
    "11+2*4"
   ]
  },
  {
   "cell_type": "code",
   "execution_count": 87,
   "metadata": {},
   "outputs": [
    {
     "data": {
      "text/plain": [
       "29"
      ]
     },
     "execution_count": 87,
     "metadata": {},
     "output_type": "execute_result"
    }
   ],
   "source": [
    "19+2*5"
   ]
  },
  {
   "cell_type": "code",
   "execution_count": 88,
   "metadata": {},
   "outputs": [
    {
     "name": "stdout",
     "output_type": "stream",
     "text": [
      "[6.0, 15.0, 20.0, 15.0, 6.0]\n"
     ]
    }
   ],
   "source": [
    "m0=map(lambda x:scis.comb(6,x), range(1,6))\n",
    "print(list(m0))"
   ]
  },
  {
   "cell_type": "code",
   "execution_count": 89,
   "metadata": {},
   "outputs": [],
   "source": [
    "n=4\n",
    "k=range(n+1)\n",
    "m0=map(lambda k: range(k+1), k)"
   ]
  },
  {
   "cell_type": "code",
   "execution_count": 90,
   "metadata": {},
   "outputs": [
    {
     "name": "stdout",
     "output_type": "stream",
     "text": [
      "[[0], [0, 1], [0, 1, 2], [0, 1, 2, 3], [0, 1, 2, 3, 4]]\n"
     ]
    }
   ],
   "source": [
    "l0=list(map(list,m0))\n",
    "print(l0)"
   ]
  },
  {
   "cell_type": "markdown",
   "metadata": {},
   "source": [
    "### Bell Ordinal: calculations\n",
    "\n",
    "Some implementations"
   ]
  },
  {
   "cell_type": "code",
   "execution_count": 91,
   "metadata": {},
   "outputs": [],
   "source": [
    "f1=lambda j, k=1, n=1: (-1)**(k-j)*scis.binom(k,j)*j**n"
   ]
  },
  {
   "cell_type": "code",
   "execution_count": 92,
   "metadata": {},
   "outputs": [],
   "source": [
    "def f2(l, n=1):\n",
    "    k=max(l)\n",
    "    f3=partial(f1,k=k,n=n)\n",
    "    return map(f3, l)"
   ]
  },
  {
   "cell_type": "code",
   "execution_count": 93,
   "metadata": {},
   "outputs": [],
   "source": [
    "n=4\n",
    "m1 = [f2(l, n=n) for l in list(l0)]"
   ]
  },
  {
   "cell_type": "code",
   "execution_count": 94,
   "metadata": {},
   "outputs": [
    {
     "data": {
      "text/plain": [
       "[[0.0],\n",
       " [-0.0, 1.0],\n",
       " [0.0, -2.0, 16.0],\n",
       " [-0.0, 3.0, -48.0, 81.0],\n",
       " [0.0, -4.0, 96.0, -324.0, 256.0]]"
      ]
     },
     "execution_count": 94,
     "metadata": {},
     "output_type": "execute_result"
    }
   ],
   "source": [
    "l1 = list(map(list,m1))\n",
    "l1"
   ]
  },
  {
   "cell_type": "code",
   "execution_count": 95,
   "metadata": {},
   "outputs": [
    {
     "data": {
      "text/plain": [
       "[0.0, 1.0, 14.0, 36.0, 24.0]"
      ]
     },
     "execution_count": 95,
     "metadata": {},
     "output_type": "execute_result"
    }
   ],
   "source": [
    "[ sum(x) for x in l1]"
   ]
  },
  {
   "cell_type": "code",
   "execution_count": 96,
   "metadata": {},
   "outputs": [
    {
     "data": {
      "text/plain": [
       "75.0"
      ]
     },
     "execution_count": 96,
     "metadata": {},
     "output_type": "execute_result"
    }
   ],
   "source": [
    "sum(_)"
   ]
  },
  {
   "cell_type": "code",
   "execution_count": 97,
   "metadata": {},
   "outputs": [],
   "source": [
    "def bellOrdinal(n):\n",
    "    def bellOrdinal_(n):\n",
    "        for k in range(n+1):\n",
    "            for j in range(k+1):\n",
    "                yield (-1)**(k-j)*scis.binom(k,j)*j**n\n",
    "    return sum([ x for x in bellOrdinal_(n) ])"
   ]
  },
  {
   "cell_type": "code",
   "execution_count": 98,
   "metadata": {},
   "outputs": [
    {
     "data": {
      "text/plain": [
       "[1.0,\n",
       " 1.0,\n",
       " 3.0,\n",
       " 13.0,\n",
       " 75.0,\n",
       " 541.0,\n",
       " 4683.0,\n",
       " 47293.0,\n",
       " 545835.0,\n",
       " 7087261.0,\n",
       " 102247563.0]"
      ]
     },
     "execution_count": 98,
     "metadata": {},
     "output_type": "execute_result"
    }
   ],
   "source": [
    "[bellOrdinal(a) for a in range(10+1)] "
   ]
  },
  {
   "cell_type": "code",
   "execution_count": 99,
   "metadata": {},
   "outputs": [
    {
     "name": "stdout",
     "output_type": "stream",
     "text": [
      "[1, 2, 3, 4]\n",
      "[4.0, 6.0, 4.0, 1.0]\n",
      "[13.0, 3.0, 1.0, 1.0]\n"
     ]
    }
   ],
   "source": [
    "n=4\n",
    "lx=[ k for k in range(1, n+1) ]\n",
    "print(lx)\n",
    "print([ scis.binom(n, k) for k in lx])\n",
    "print([ bellOrdinal(n-k) for k in lx])"
   ]
  },
  {
   "cell_type": "code",
   "execution_count": 100,
   "metadata": {},
   "outputs": [
    {
     "data": {
      "text/plain": [
       "[52.0, 18.0, 4.0, 1.0]"
      ]
     },
     "execution_count": 100,
     "metadata": {},
     "output_type": "execute_result"
    }
   ],
   "source": [
    "n=4\n",
    "[ scis.binom(n, k) * bellOrdinal(n-k) for k in range(1, n+1)]"
   ]
  },
  {
   "cell_type": "code",
   "execution_count": 101,
   "metadata": {},
   "outputs": [
    {
     "name": "stdout",
     "output_type": "stream",
     "text": [
      "75.0 [1.0, 4.0, 18.0, 52.0]\n"
     ]
    }
   ],
   "source": [
    "l1=[ scis.binom(n, k) * bellOrdinal(k) for k in range(n)]\n",
    "print(sum(l1), l1)"
   ]
  },
  {
   "cell_type": "code",
   "execution_count": 102,
   "metadata": {},
   "outputs": [],
   "source": [
    "def bellOrdinal1(n):\n",
    "    if n<=1:\n",
    "        return 1\n",
    "    l0 =[ scis.binom(n, k-1)* bellOrdinal1(k-1) for k in range(n+1) ]\n",
    "    return sum(l0)"
   ]
  },
  {
   "cell_type": "code",
   "execution_count": 103,
   "metadata": {},
   "outputs": [
    {
     "data": {
      "text/plain": [
       "75.0"
      ]
     },
     "execution_count": 103,
     "metadata": {},
     "output_type": "execute_result"
    }
   ],
   "source": [
    "bellOrdinal1(4)"
   ]
  },
  {
   "cell_type": "markdown",
   "metadata": {},
   "source": [
    "Generate sequences"
   ]
  },
  {
   "cell_type": "code",
   "execution_count": 104,
   "metadata": {},
   "outputs": [
    {
     "data": {
      "text/plain": [
       "[('A', 'B', 'C'),\n",
       " ('A', 'C', 'B'),\n",
       " ('B', 'A', 'C'),\n",
       " ('B', 'C', 'A'),\n",
       " ('C', 'A', 'B'),\n",
       " ('C', 'B', 'A')]"
      ]
     },
     "execution_count": 104,
     "metadata": {},
     "output_type": "execute_result"
    }
   ],
   "source": [
    "n=3\n",
    "[ x for x in permutations('ABC',3) ]"
   ]
  },
  {
   "cell_type": "code",
   "execution_count": 105,
   "metadata": {},
   "outputs": [
    {
     "name": "stdout",
     "output_type": "stream",
     "text": [
      "{('A', 'C'), ('C', 'A'), ('A', 'B'), ('B', 'A'), ('C', 'B'), ('B', 'C')}\n"
     ]
    }
   ],
   "source": [
    "n=3\n",
    "ly=set([ x for x in permutations('ABC',2) ])\n",
    "print(ly)"
   ]
  },
  {
   "cell_type": "code",
   "execution_count": 106,
   "metadata": {},
   "outputs": [
    {
     "name": "stdout",
     "output_type": "stream",
     "text": [
      "{(('A', 'B'), ('B', 'A')), (('A', 'C'), ('B', 'A')), (('A', 'C'), ('A', 'B')), (('B', 'A'), ('C', 'B')), (('A', 'C'), ('C', 'A')), (('C', 'B'), ('B', 'C')), (('A', 'B'), ('B', 'C')), (('A', 'B'), ('C', 'B')), (('B', 'A'), ('B', 'C')), (('A', 'C'), ('C', 'B')), (('C', 'A'), ('B', 'C')), (('C', 'A'), ('B', 'A')), (('C', 'A'), ('C', 'B')), (('A', 'C'), ('B', 'C')), (('C', 'A'), ('A', 'B'))}\n",
      "15\n"
     ]
    }
   ],
   "source": [
    "ly2=set([ x for x in combinations(ly,2) ])\n",
    "print(ly2)\n",
    "print(len(ly2))"
   ]
  },
  {
   "cell_type": "code",
   "execution_count": 107,
   "metadata": {},
   "outputs": [
    {
     "data": {
      "text/plain": [
       "[('A',), ('B',), ('C',)]"
      ]
     },
     "execution_count": 107,
     "metadata": {},
     "output_type": "execute_result"
    }
   ],
   "source": [
    "n=3\n",
    "[ x for x in permutations('ABC',1) ]"
   ]
  },
  {
   "cell_type": "code",
   "execution_count": 108,
   "metadata": {},
   "outputs": [
    {
     "data": {
      "text/plain": [
       "3"
      ]
     },
     "execution_count": 108,
     "metadata": {},
     "output_type": "execute_result"
    }
   ],
   "source": [
    "len(_)"
   ]
  },
  {
   "cell_type": "code",
   "execution_count": 109,
   "metadata": {},
   "outputs": [
    {
     "data": {
      "text/plain": [
       "[('A', 'B', 'C')]"
      ]
     },
     "execution_count": 109,
     "metadata": {},
     "output_type": "execute_result"
    }
   ],
   "source": [
    "[x for x in combinations('ABC',3) ]"
   ]
  },
  {
   "cell_type": "raw",
   "metadata": {},
   "source": [
    "a>b\n",
    "then\n",
    "a\n",
    "b\n",
    "\n",
    "a=b\n",
    "then\n",
    "a\n",
    "b\n",
    "\n",
    "a>b>c\n",
    "implies\n",
    "a>b, a>c, b=c\n",
    "a>c, b>c, a=b\n",
    "\n",
    "{a,b,c,d}\n",
    "a>b>c>d\n",
    "implies {d, {a,b,c}}\n",
    "a>b>c,d=c\n",
    "a>b>c,d=b \n",
    "a>b>c,d=a\n",
    "\n",
    "b>c>d,a=d\n",
    "b>c>d,a=c\n",
    "b>c>d,a=b\n",
    "\n",
    "a>c>d,b=d\n",
    "a>c>d,b=c\n",
    "a>c>d,b=a\n",
    "\n",
    "a>b>d,c=d\n",
    "a>b>d,c=b\n",
    "a>b>d,c=a\n"
   ]
  },
  {
   "cell_type": "code",
   "execution_count": 110,
   "metadata": {},
   "outputs": [],
   "source": [
    "def gather(l, idx=-1):\n",
    "    s0 = set()\n",
    "    s0 = s0.union(*[x[-1] for x in l])\n",
    "    return s0\n",
    "\n",
    "def flatten(l):\n",
    "    if not l:\n",
    "        return l\n",
    "    x0 = list(chain.from_iterable(l))\n",
    "    if len(x0[0]) == 1:\n",
    "        return set(x0)\n",
    "    return flatten(x0)\n",
    "\n",
    "def combs0(l, k):\n",
    "    return set(combinations(l, k))\n",
    "\n",
    "def perms0(l, k):\n",
    "    return set(permutations(l, k))"
   ]
  },
  {
   "cell_type": "code",
   "execution_count": 111,
   "metadata": {},
   "outputs": [
    {
     "data": {
      "text/plain": [
       "{'A', 'B', 'C', 'D', 'E', 'F'}"
      ]
     },
     "execution_count": 111,
     "metadata": {},
     "output_type": "execute_result"
    }
   ],
   "source": [
    "flatten(['ABC', 'DEF'])"
   ]
  },
  {
   "cell_type": "code",
   "execution_count": 112,
   "metadata": {},
   "outputs": [
    {
     "name": "stdout",
     "output_type": "stream",
     "text": [
      "pair0: [pair0: ['A', 'B'], pair0: ['A', 'B']]\n"
     ]
    }
   ],
   "source": [
    "class pair0(object):\n",
    "    v = []\n",
    "    def __init__(self, a,b):\n",
    "        self.v=[a,b]\n",
    "        \n",
    "    def __repr__(self):\n",
    "        return type(self).__name__ + \": \" + str(self.v)\n",
    "\n",
    "    def __eq__(self, other):\n",
    "        \"\"\"Overrides the default implementation\"\"\"\n",
    "        if isinstance(other, pair0):\n",
    "            return self.v == other.v\n",
    "        return False\n",
    "    \n",
    "r0 = pair0('A', 'B')\n",
    "r1 = pair0('A', 'B')\n",
    "r0 == r1\n",
    "r2 = pair0(r0, r1)\n",
    "print(r2)"
   ]
  },
  {
   "cell_type": "code",
   "execution_count": 113,
   "metadata": {},
   "outputs": [
    {
     "data": {
      "text/plain": [
       "True"
      ]
     },
     "execution_count": 113,
     "metadata": {},
     "output_type": "execute_result"
    }
   ],
   "source": [
    "class prefer0(pair0):\n",
    "    def __init__(self, a, b):\n",
    "        super(prefer0, self).__init__(a, b)\n",
    "\n",
    "class noprefer0(pair0):\n",
    "    def __init__(self, a, b):\n",
    "        super(noprefer0, self).__init__(a, b)\n",
    "        \n",
    "p0 = prefer0('A', 'B')\n",
    "n0 = noprefer0('A', 'B')\n",
    "p0 == n0"
   ]
  },
  {
   "cell_type": "code",
   "execution_count": 114,
   "metadata": {},
   "outputs": [
    {
     "name": "stdout",
     "output_type": "stream",
     "text": [
      "[]\n",
      "[]\n",
      "[[['A', 'B'], ['A', 'C']], [['A', 'C'], ['B', 'C']]]\n",
      "[]\n"
     ]
    }
   ],
   "source": [
    "r0=[]\n",
    "r1=[]\n",
    "\n",
    "def p1(l):\n",
    "    global r0\n",
    "    l0 = []\n",
    "    n0=len(l)\n",
    "    \n",
    "    if n0 <= 1:\n",
    "        return\n",
    "    \n",
    "    if n0 == 3:\n",
    "        # a>b>c implies a>b, a>c, b=c; a>c, b>c, a=b\n",
    "        l1 = [ [ l[0], l[1] ], [ l[0], l[2] ] ]\n",
    "        l2 = [ [ l[0], l[2] ], [ l[1], l[2] ] ]\n",
    "        l0 = [ l1, l2 ]\n",
    "\n",
    "    # a>b>c implies\n",
    "    # a>b, a>c, b=c\n",
    "    # a>c, b>c, a=b\n",
    "    \n",
    "    return l0\n",
    "\n",
    "print(p1(list('AB')))\n",
    "print(r0)\n",
    "r0 = []\n",
    "print(p1(list('ABC')))\n",
    "print(r0)"
   ]
  },
  {
   "cell_type": "code",
   "execution_count": 115,
   "metadata": {},
   "outputs": [],
   "source": [
    "from weaves.preferences import Prefer0, NoPrefer0"
   ]
  },
  {
   "cell_type": "code",
   "execution_count": 116,
   "metadata": {},
   "outputs": [
    {
     "name": "stdout",
     "output_type": "stream",
     "text": [
      "[]\n",
      "[]\n",
      "[[>['A', 'B'], >['A', 'C'], =['B', 'C']], [>['A', 'C'], >['B', 'C'], =['A', 'B']]]\n",
      "[]\n"
     ]
    }
   ],
   "source": [
    "r0=[]\n",
    "r1=[]\n",
    "\n",
    "def p1(l):\n",
    "    global r0\n",
    "    l0 = []\n",
    "    n0=len(l)\n",
    "    \n",
    "    if n0 <= 1:\n",
    "        return\n",
    "    \n",
    "    if n0 == 3:\n",
    "        # a>b>c implies a>b, a>c, b=c; a>c, b>c, a=b\n",
    "        l1 = [ Prefer0(l[0], l[1]), Prefer0(l[0], l[2]), NoPrefer0(l[1], l[2]) ]\n",
    "        l2 = [ Prefer0(l[0], l[2]), Prefer0(l[1], l[2]), NoPrefer0(l[0], l[1]) ]\n",
    "        l0 = [ l1, l2 ]\n",
    "\n",
    "    # a>b>c implies\n",
    "    # a>b, a>c, b=c\n",
    "    # a>c, b>c, a=b\n",
    "    \n",
    "    return l0\n",
    "\n",
    "print(p1(list('AB')))\n",
    "print(r0)\n",
    "r0 = []\n",
    "print(p1(list('ABC')))\n",
    "print(r0)"
   ]
  },
  {
   "cell_type": "code",
   "execution_count": 117,
   "metadata": {},
   "outputs": [
    {
     "data": {
      "text/plain": [
       "[('B', 'C', 'D', 'A'),\n",
       " ('C', 'B', 'D', 'A'),\n",
       " ('D', 'C', 'A', 'B'),\n",
       " ('B', 'A', 'C', 'D'),\n",
       " ('C', 'A', 'B', 'D'),\n",
       " ('C', 'B', 'A', 'D'),\n",
       " ('D', 'C', 'B', 'A'),\n",
       " ('B', 'D', 'C', 'A'),\n",
       " ('A', 'B', 'C', 'D'),\n",
       " ('D', 'B', 'A', 'C'),\n",
       " ('D', 'A', 'B', 'C'),\n",
       " ('B', 'D', 'A', 'C'),\n",
       " ('A', 'C', 'D', 'B'),\n",
       " ('C', 'D', 'A', 'B'),\n",
       " ('D', 'A', 'C', 'B'),\n",
       " ('B', 'C', 'A', 'D'),\n",
       " ('B', 'A', 'D', 'C'),\n",
       " ('A', 'D', 'B', 'C'),\n",
       " ('D', 'B', 'C', 'A'),\n",
       " ('A', 'D', 'C', 'B'),\n",
       " ('C', 'D', 'B', 'A'),\n",
       " ('C', 'A', 'D', 'B'),\n",
       " ('A', 'C', 'B', 'D'),\n",
       " ('A', 'B', 'D', 'C')]"
      ]
     },
     "execution_count": 117,
     "metadata": {},
     "output_type": "execute_result"
    }
   ],
   "source": [
    "s0=perms0('ABCD', 4)\n",
    "s0\n",
    "la=list(s0)\n",
    "la.reverse()\n",
    "la"
   ]
  },
  {
   "cell_type": "code",
   "execution_count": 118,
   "metadata": {},
   "outputs": [
    {
     "data": {
      "text/plain": [
       "[('B', 'C', 'A'),\n",
       " ('C', 'B', 'A'),\n",
       " ('A', 'C', 'B'),\n",
       " ('A', 'B', 'C'),\n",
       " ('B', 'A', 'C'),\n",
       " ('C', 'A', 'B')]"
      ]
     },
     "execution_count": 118,
     "metadata": {},
     "output_type": "execute_result"
    }
   ],
   "source": [
    "s0=perms0('ABC', 3)\n",
    "s0\n",
    "la=list(s0)\n",
    "la.reverse()\n",
    "la"
   ]
  },
  {
   "cell_type": "code",
   "execution_count": 119,
   "metadata": {},
   "outputs": [
    {
     "name": "stdout",
     "output_type": "stream",
     "text": [
      "[[[>['B', 'C'], >['B', 'A'], =['C', 'A']], [>['B', 'A'], >['C', 'A'], =['B', 'C']]], [[>['C', 'B'], >['C', 'A'], =['B', 'A']], [>['C', 'A'], >['B', 'A'], =['C', 'B']]], [[>['A', 'C'], >['A', 'B'], =['C', 'B']], [>['A', 'B'], >['C', 'B'], =['A', 'C']]], [[>['A', 'B'], >['A', 'C'], =['B', 'C']], [>['A', 'C'], >['B', 'C'], =['A', 'B']]], [[>['B', 'A'], >['B', 'C'], =['A', 'C']], [>['B', 'C'], >['A', 'C'], =['B', 'A']]], [[>['C', 'A'], >['C', 'B'], =['A', 'B']], [>['C', 'B'], >['A', 'B'], =['C', 'A']]]]\n",
      "6\n"
     ]
    }
   ],
   "source": [
    "lb = [ p1(l) for l in la ]\n",
    "print(lb)\n",
    "print(len(lb)) "
   ]
  },
  {
   "cell_type": "raw",
   "metadata": {},
   "source": [
    "    if len(l) == 2:\n",
    "        r1.append() = [ p1(l, n=2), set(combinations(l,n)]\n",
    "        \n",
    "        k = len(l) - 1\n",
    "        ln = combinations(l,k)\n",
    "        l0 = [l for l in list(ln) ]\n",
    "        l0 = [p1(l) for l in list(l0) ]\n",
    "        l1 = gather(l0, idx=-1)\n",
    "        l0 = [l2, l0, l1]\n"
   ]
  },
  {
   "cell_type": "code",
   "execution_count": 122,
   "metadata": {},
   "outputs": [
    {
     "data": {
      "text/plain": [
       "[('A',), ('B',), ('C',)]"
      ]
     },
     "execution_count": 122,
     "metadata": {},
     "output_type": "execute_result"
    }
   ],
   "source": [
    "[ l for l in combinations('ABC', 1)]"
   ]
  },
  {
   "cell_type": "code",
   "execution_count": 125,
   "metadata": {},
   "outputs": [
    {
     "data": {
      "text/plain": [
       "[('A',), ('B',), ('C',)]"
      ]
     },
     "execution_count": 125,
     "metadata": {},
     "output_type": "execute_result"
    }
   ],
   "source": [
    "list(combinations('ABC', 1))"
   ]
  },
  {
   "cell_type": "code",
   "execution_count": 126,
   "metadata": {},
   "outputs": [
    {
     "data": {
      "text/plain": [
       "['A', 'B', 'C']"
      ]
     },
     "execution_count": 126,
     "metadata": {},
     "output_type": "execute_result"
    }
   ],
   "source": [
    "list('ABC')"
   ]
  },
  {
   "cell_type": "code",
   "execution_count": 176,
   "metadata": {},
   "outputs": [],
   "source": [
    "            \n",
    "def partitions1(set_):\n",
    "    if not set_:\n",
    "        yield []\n",
    "        return\n",
    "    for i in range(int(2**len(set_)/2)):\n",
    "        parts = [list(), list()]\n",
    "        for item in set_:\n",
    "            parts[i&1].append(item)\n",
    "            i >>= 1\n",
    "        for b in partitions1(parts[1]):\n",
    "            yield [parts[0]]+b"
   ]
  },
  {
   "cell_type": "code",
   "execution_count": 191,
   "metadata": {},
   "outputs": [
    {
     "data": {
      "text/plain": [
       "range(0, 4)"
      ]
     },
     "execution_count": 191,
     "metadata": {},
     "output_type": "execute_result"
    }
   ],
   "source": [
    "[[1,2]]+[3]\n",
    "l0=set([1,2,3])\n",
    "l0.add(3)\n",
    "l0\n",
    "range(int(2**len('ABC')/2))"
   ]
  },
  {
   "cell_type": "code",
   "execution_count": 198,
   "metadata": {},
   "outputs": [],
   "source": [
    "# Generates set partitions recursively\n",
    "g0 = 0\n",
    "def partitions(set_):\n",
    "    global g0\n",
    "    \n",
    "    g0+=1\n",
    "\n",
    "    if not set_:\n",
    "        yield []\n",
    "        return\n",
    "\n",
    "    print(int(2**len(set_)/2))\n",
    "    for i in range(int(2**len(set_)/2)):\n",
    "        parts = [set(), set()]\n",
    "        for item in set_:\n",
    "            print(g0, i, i&1, item)\n",
    "            parts[i&1].add(item)\n",
    "            i >>= 1\n",
    "        for b in partitions(parts[1]):\n",
    "            yield [parts[0]]+b"
   ]
  },
  {
   "cell_type": "code",
   "execution_count": 199,
   "metadata": {},
   "outputs": [
    {
     "name": "stdout",
     "output_type": "stream",
     "text": [
      "4\n",
      "1 0 0 C\n",
      "1 0 0 A\n",
      "1 0 0 B\n",
      "y\n",
      "2 1 1 C\n",
      "2 0 0 A\n",
      "2 0 0 B\n",
      "1\n",
      "3 0 0 C\n",
      "y\n",
      "y\n",
      "4 2 0 C\n",
      "4 1 1 A\n",
      "4 0 0 B\n",
      "1\n",
      "5 0 0 A\n",
      "y\n",
      "y\n",
      "6 3 1 C\n",
      "6 1 1 A\n",
      "6 0 0 B\n",
      "2\n",
      "7 0 0 C\n",
      "7 0 0 A\n",
      "y\n",
      "y\n",
      "8 1 1 C\n",
      "8 0 0 A\n",
      "1\n",
      "9 0 0 C\n",
      "y\n",
      "y\n",
      "y\n"
     ]
    },
    {
     "data": {
      "text/plain": [
       "[[{'A', 'B', 'C'}],\n",
       " [{'A', 'B'}, {'C'}],\n",
       " [{'B', 'C'}, {'A'}],\n",
       " [{'B'}, {'A', 'C'}],\n",
       " [{'B'}, {'A'}, {'C'}]]"
      ]
     },
     "execution_count": 199,
     "metadata": {},
     "output_type": "execute_result"
    }
   ],
   "source": [
    "list(partitions(set('ABC')))"
   ]
  },
  {
   "cell_type": "code",
   "execution_count": 139,
   "metadata": {},
   "outputs": [
    {
     "name": "stdout",
     "output_type": "stream",
     "text": [
      "5:[[['A', 'B', 'C']], [['B', 'C'], ['A']], [['A', 'C'], ['B']], [['C'], ['A', 'B']], [['C'], ['B'], ['A']]]\n",
      "5:[[['A', 'C', 'B']], [['C', 'B'], ['A']], [['A', 'B'], ['C']], [['B'], ['A', 'C']], [['B'], ['C'], ['A']]]\n",
      "5:[[['B', 'A', 'C']], [['A', 'C'], ['B']], [['B', 'C'], ['A']], [['C'], ['B', 'A']], [['C'], ['A'], ['B']]]\n",
      "5:[[['B', 'C', 'A']], [['C', 'A'], ['B']], [['B', 'A'], ['C']], [['A'], ['B', 'C']], [['A'], ['C'], ['B']]]\n",
      "5:[[['C', 'A', 'B']], [['A', 'B'], ['C']], [['C', 'B'], ['A']], [['B'], ['C', 'A']], [['B'], ['A'], ['C']]]\n",
      "5:[[['C', 'B', 'A']], [['B', 'A'], ['C']], [['C', 'A'], ['B']], [['A'], ['C', 'B']], [['A'], ['B'], ['C']]]\n"
     ]
    }
   ],
   "source": [
    "l0 = [ list(partitions1(x)) for x in permutations('ABC', 3) ]\n",
    "for x in list(l0):\n",
    "    print(\"{}:{}\".format(len(x), x))"
   ]
  },
  {
   "cell_type": "code",
   "execution_count": 162,
   "metadata": {},
   "outputs": [],
   "source": [
    "x0 = l0[0]\n",
    "\n",
    "def reduce_(x0):\n",
    "    for x in x0:\n",
    "        yield [ set(y) for y in x ]\n",
    "        \n",
    "def reduce1_(l0):\n",
    "    for x in l0:\n",
    "        yield reduce_(x)\n",
    "\n",
    "list(reduce_(x0))            \n",
    "l2 = [ list(l) for l in list(reduce1_(l0)) ]"
   ]
  },
  {
   "cell_type": "code",
   "execution_count": 165,
   "metadata": {},
   "outputs": [
    {
     "name": "stdout",
     "output_type": "stream",
     "text": [
      "[{'C', 'A', 'B'}]\n",
      "[{'C', 'B'}, {'A'}]\n",
      "[{'C', 'A'}, {'B'}]\n",
      "[{'C'}, {'A', 'B'}]\n",
      "[{'C'}, {'B'}, {'A'}]\n",
      "[{'C', 'A', 'B'}]\n",
      "[{'C', 'B'}, {'A'}]\n",
      "[{'A', 'B'}, {'C'}]\n",
      "[{'B'}, {'C', 'A'}]\n",
      "[{'B'}, {'C'}, {'A'}]\n",
      "[{'C', 'B', 'A'}]\n",
      "[{'C', 'A'}, {'B'}]\n",
      "[{'C', 'B'}, {'A'}]\n",
      "[{'C'}, {'B', 'A'}]\n",
      "[{'C'}, {'A'}, {'B'}]\n",
      "[{'C', 'B', 'A'}]\n",
      "[{'C', 'A'}, {'B'}]\n",
      "[{'B', 'A'}, {'C'}]\n",
      "[{'A'}, {'C', 'B'}]\n",
      "[{'A'}, {'C'}, {'B'}]\n",
      "[{'C', 'A', 'B'}]\n",
      "[{'A', 'B'}, {'C'}]\n",
      "[{'C', 'B'}, {'A'}]\n",
      "[{'B'}, {'C', 'A'}]\n",
      "[{'B'}, {'A'}, {'C'}]\n",
      "[{'C', 'B', 'A'}]\n",
      "[{'B', 'A'}, {'C'}]\n",
      "[{'C', 'A'}, {'B'}]\n",
      "[{'A'}, {'C', 'B'}]\n",
      "[{'A'}, {'B'}, {'C'}]\n"
     ]
    }
   ],
   "source": [
    "s0 = set()\n",
    "for x in l2:\n",
    "    for y in x:\n",
    "        print(y)"
   ]
  },
  {
   "cell_type": "code",
   "execution_count": 169,
   "metadata": {},
   "outputs": [
    {
     "name": "stdout",
     "output_type": "stream",
     "text": [
      "5\n",
      "1:[{'C', 'A', 'B'}]\n",
      "2:[{'A', 'B'}, {'C'}]\n",
      "2:[{'C', 'B'}, {'A'}]\n",
      "2:[{'B'}, {'C', 'A'}]\n",
      "3:[{'B'}, {'A'}, {'C'}]\n"
     ]
    }
   ],
   "source": [
    "l1 = weaves.POSetOps.instance().partitions(set('ABC'))\n",
    "l2 = list(l1)\n",
    "print(len(l2))\n",
    "for x in l2:\n",
    "    x = list(x)\n",
    "    print(\"{}:{}\".format(len(x), x))"
   ]
  },
  {
   "cell_type": "code",
   "execution_count": 168,
   "metadata": {},
   "outputs": [
    {
     "name": "stdout",
     "output_type": "stream",
     "text": [
      "6\n",
      "5:[[['A', 'B', 'C']], [['B', 'C'], ['A']], [['A', 'C'], ['B']], [['C'], ['A', 'B']], [['C'], ['B'], ['A']]]\n",
      "5:[[['A', 'C', 'B']], [['C', 'B'], ['A']], [['A', 'B'], ['C']], [['B'], ['A', 'C']], [['B'], ['C'], ['A']]]\n",
      "5:[[['B', 'A', 'C']], [['A', 'C'], ['B']], [['B', 'C'], ['A']], [['C'], ['B', 'A']], [['C'], ['A'], ['B']]]\n",
      "5:[[['B', 'C', 'A']], [['C', 'A'], ['B']], [['B', 'A'], ['C']], [['A'], ['B', 'C']], [['A'], ['C'], ['B']]]\n",
      "5:[[['C', 'A', 'B']], [['A', 'B'], ['C']], [['C', 'B'], ['A']], [['B'], ['C', 'A']], [['B'], ['A'], ['C']]]\n",
      "5:[[['C', 'B', 'A']], [['B', 'A'], ['C']], [['C', 'A'], ['B']], [['A'], ['C', 'B']], [['A'], ['B'], ['C']]]\n"
     ]
    }
   ],
   "source": [
    "l1 = weaves.POSetOps.instance().partitions(list('ABC'))\n",
    "l2 = list(l1)\n",
    "print(len(l2))\n",
    "for x in l2:\n",
    "    x = list(x)\n",
    "    print(\"{}:{}\".format(len(x), x))"
   ]
  },
  {
   "cell_type": "code",
   "execution_count": 147,
   "metadata": {},
   "outputs": [
    {
     "name": "stdout",
     "output_type": "stream",
     "text": [
      "24\n",
      "15:[[['A', 'B', 'C', 'D']], [['B', 'C', 'D'], ['A']], [['A', 'C', 'D'], ['B']], [['C', 'D'], ['A', 'B']], [['C', 'D'], ['B'], ['A']], [['A', 'B', 'D'], ['C']], [['B', 'D'], ['A', 'C']], [['B', 'D'], ['C'], ['A']], [['A', 'D'], ['B', 'C']], [['A', 'D'], ['C'], ['B']], [['D'], ['A', 'B', 'C']], [['D'], ['B', 'C'], ['A']], [['D'], ['A', 'C'], ['B']], [['D'], ['C'], ['A', 'B']], [['D'], ['C'], ['B'], ['A']]]\n",
      "15:[[['A', 'B', 'D', 'C']], [['B', 'D', 'C'], ['A']], [['A', 'D', 'C'], ['B']], [['D', 'C'], ['A', 'B']], [['D', 'C'], ['B'], ['A']], [['A', 'B', 'C'], ['D']], [['B', 'C'], ['A', 'D']], [['B', 'C'], ['D'], ['A']], [['A', 'C'], ['B', 'D']], [['A', 'C'], ['D'], ['B']], [['C'], ['A', 'B', 'D']], [['C'], ['B', 'D'], ['A']], [['C'], ['A', 'D'], ['B']], [['C'], ['D'], ['A', 'B']], [['C'], ['D'], ['B'], ['A']]]\n",
      "15:[[['A', 'C', 'B', 'D']], [['C', 'B', 'D'], ['A']], [['A', 'B', 'D'], ['C']], [['B', 'D'], ['A', 'C']], [['B', 'D'], ['C'], ['A']], [['A', 'C', 'D'], ['B']], [['C', 'D'], ['A', 'B']], [['C', 'D'], ['B'], ['A']], [['A', 'D'], ['C', 'B']], [['A', 'D'], ['B'], ['C']], [['D'], ['A', 'C', 'B']], [['D'], ['C', 'B'], ['A']], [['D'], ['A', 'B'], ['C']], [['D'], ['B'], ['A', 'C']], [['D'], ['B'], ['C'], ['A']]]\n",
      "15:[[['A', 'C', 'D', 'B']], [['C', 'D', 'B'], ['A']], [['A', 'D', 'B'], ['C']], [['D', 'B'], ['A', 'C']], [['D', 'B'], ['C'], ['A']], [['A', 'C', 'B'], ['D']], [['C', 'B'], ['A', 'D']], [['C', 'B'], ['D'], ['A']], [['A', 'B'], ['C', 'D']], [['A', 'B'], ['D'], ['C']], [['B'], ['A', 'C', 'D']], [['B'], ['C', 'D'], ['A']], [['B'], ['A', 'D'], ['C']], [['B'], ['D'], ['A', 'C']], [['B'], ['D'], ['C'], ['A']]]\n",
      "15:[[['A', 'D', 'B', 'C']], [['D', 'B', 'C'], ['A']], [['A', 'B', 'C'], ['D']], [['B', 'C'], ['A', 'D']], [['B', 'C'], ['D'], ['A']], [['A', 'D', 'C'], ['B']], [['D', 'C'], ['A', 'B']], [['D', 'C'], ['B'], ['A']], [['A', 'C'], ['D', 'B']], [['A', 'C'], ['B'], ['D']], [['C'], ['A', 'D', 'B']], [['C'], ['D', 'B'], ['A']], [['C'], ['A', 'B'], ['D']], [['C'], ['B'], ['A', 'D']], [['C'], ['B'], ['D'], ['A']]]\n",
      "15:[[['A', 'D', 'C', 'B']], [['D', 'C', 'B'], ['A']], [['A', 'C', 'B'], ['D']], [['C', 'B'], ['A', 'D']], [['C', 'B'], ['D'], ['A']], [['A', 'D', 'B'], ['C']], [['D', 'B'], ['A', 'C']], [['D', 'B'], ['C'], ['A']], [['A', 'B'], ['D', 'C']], [['A', 'B'], ['C'], ['D']], [['B'], ['A', 'D', 'C']], [['B'], ['D', 'C'], ['A']], [['B'], ['A', 'C'], ['D']], [['B'], ['C'], ['A', 'D']], [['B'], ['C'], ['D'], ['A']]]\n",
      "15:[[['B', 'A', 'C', 'D']], [['A', 'C', 'D'], ['B']], [['B', 'C', 'D'], ['A']], [['C', 'D'], ['B', 'A']], [['C', 'D'], ['A'], ['B']], [['B', 'A', 'D'], ['C']], [['A', 'D'], ['B', 'C']], [['A', 'D'], ['C'], ['B']], [['B', 'D'], ['A', 'C']], [['B', 'D'], ['C'], ['A']], [['D'], ['B', 'A', 'C']], [['D'], ['A', 'C'], ['B']], [['D'], ['B', 'C'], ['A']], [['D'], ['C'], ['B', 'A']], [['D'], ['C'], ['A'], ['B']]]\n",
      "15:[[['B', 'A', 'D', 'C']], [['A', 'D', 'C'], ['B']], [['B', 'D', 'C'], ['A']], [['D', 'C'], ['B', 'A']], [['D', 'C'], ['A'], ['B']], [['B', 'A', 'C'], ['D']], [['A', 'C'], ['B', 'D']], [['A', 'C'], ['D'], ['B']], [['B', 'C'], ['A', 'D']], [['B', 'C'], ['D'], ['A']], [['C'], ['B', 'A', 'D']], [['C'], ['A', 'D'], ['B']], [['C'], ['B', 'D'], ['A']], [['C'], ['D'], ['B', 'A']], [['C'], ['D'], ['A'], ['B']]]\n",
      "15:[[['B', 'C', 'A', 'D']], [['C', 'A', 'D'], ['B']], [['B', 'A', 'D'], ['C']], [['A', 'D'], ['B', 'C']], [['A', 'D'], ['C'], ['B']], [['B', 'C', 'D'], ['A']], [['C', 'D'], ['B', 'A']], [['C', 'D'], ['A'], ['B']], [['B', 'D'], ['C', 'A']], [['B', 'D'], ['A'], ['C']], [['D'], ['B', 'C', 'A']], [['D'], ['C', 'A'], ['B']], [['D'], ['B', 'A'], ['C']], [['D'], ['A'], ['B', 'C']], [['D'], ['A'], ['C'], ['B']]]\n",
      "15:[[['B', 'C', 'D', 'A']], [['C', 'D', 'A'], ['B']], [['B', 'D', 'A'], ['C']], [['D', 'A'], ['B', 'C']], [['D', 'A'], ['C'], ['B']], [['B', 'C', 'A'], ['D']], [['C', 'A'], ['B', 'D']], [['C', 'A'], ['D'], ['B']], [['B', 'A'], ['C', 'D']], [['B', 'A'], ['D'], ['C']], [['A'], ['B', 'C', 'D']], [['A'], ['C', 'D'], ['B']], [['A'], ['B', 'D'], ['C']], [['A'], ['D'], ['B', 'C']], [['A'], ['D'], ['C'], ['B']]]\n",
      "15:[[['B', 'D', 'A', 'C']], [['D', 'A', 'C'], ['B']], [['B', 'A', 'C'], ['D']], [['A', 'C'], ['B', 'D']], [['A', 'C'], ['D'], ['B']], [['B', 'D', 'C'], ['A']], [['D', 'C'], ['B', 'A']], [['D', 'C'], ['A'], ['B']], [['B', 'C'], ['D', 'A']], [['B', 'C'], ['A'], ['D']], [['C'], ['B', 'D', 'A']], [['C'], ['D', 'A'], ['B']], [['C'], ['B', 'A'], ['D']], [['C'], ['A'], ['B', 'D']], [['C'], ['A'], ['D'], ['B']]]\n",
      "15:[[['B', 'D', 'C', 'A']], [['D', 'C', 'A'], ['B']], [['B', 'C', 'A'], ['D']], [['C', 'A'], ['B', 'D']], [['C', 'A'], ['D'], ['B']], [['B', 'D', 'A'], ['C']], [['D', 'A'], ['B', 'C']], [['D', 'A'], ['C'], ['B']], [['B', 'A'], ['D', 'C']], [['B', 'A'], ['C'], ['D']], [['A'], ['B', 'D', 'C']], [['A'], ['D', 'C'], ['B']], [['A'], ['B', 'C'], ['D']], [['A'], ['C'], ['B', 'D']], [['A'], ['C'], ['D'], ['B']]]\n",
      "15:[[['C', 'A', 'B', 'D']], [['A', 'B', 'D'], ['C']], [['C', 'B', 'D'], ['A']], [['B', 'D'], ['C', 'A']], [['B', 'D'], ['A'], ['C']], [['C', 'A', 'D'], ['B']], [['A', 'D'], ['C', 'B']], [['A', 'D'], ['B'], ['C']], [['C', 'D'], ['A', 'B']], [['C', 'D'], ['B'], ['A']], [['D'], ['C', 'A', 'B']], [['D'], ['A', 'B'], ['C']], [['D'], ['C', 'B'], ['A']], [['D'], ['B'], ['C', 'A']], [['D'], ['B'], ['A'], ['C']]]\n",
      "15:[[['C', 'A', 'D', 'B']], [['A', 'D', 'B'], ['C']], [['C', 'D', 'B'], ['A']], [['D', 'B'], ['C', 'A']], [['D', 'B'], ['A'], ['C']], [['C', 'A', 'B'], ['D']], [['A', 'B'], ['C', 'D']], [['A', 'B'], ['D'], ['C']], [['C', 'B'], ['A', 'D']], [['C', 'B'], ['D'], ['A']], [['B'], ['C', 'A', 'D']], [['B'], ['A', 'D'], ['C']], [['B'], ['C', 'D'], ['A']], [['B'], ['D'], ['C', 'A']], [['B'], ['D'], ['A'], ['C']]]\n",
      "15:[[['C', 'B', 'A', 'D']], [['B', 'A', 'D'], ['C']], [['C', 'A', 'D'], ['B']], [['A', 'D'], ['C', 'B']], [['A', 'D'], ['B'], ['C']], [['C', 'B', 'D'], ['A']], [['B', 'D'], ['C', 'A']], [['B', 'D'], ['A'], ['C']], [['C', 'D'], ['B', 'A']], [['C', 'D'], ['A'], ['B']], [['D'], ['C', 'B', 'A']], [['D'], ['B', 'A'], ['C']], [['D'], ['C', 'A'], ['B']], [['D'], ['A'], ['C', 'B']], [['D'], ['A'], ['B'], ['C']]]\n",
      "15:[[['C', 'B', 'D', 'A']], [['B', 'D', 'A'], ['C']], [['C', 'D', 'A'], ['B']], [['D', 'A'], ['C', 'B']], [['D', 'A'], ['B'], ['C']], [['C', 'B', 'A'], ['D']], [['B', 'A'], ['C', 'D']], [['B', 'A'], ['D'], ['C']], [['C', 'A'], ['B', 'D']], [['C', 'A'], ['D'], ['B']], [['A'], ['C', 'B', 'D']], [['A'], ['B', 'D'], ['C']], [['A'], ['C', 'D'], ['B']], [['A'], ['D'], ['C', 'B']], [['A'], ['D'], ['B'], ['C']]]\n",
      "15:[[['C', 'D', 'A', 'B']], [['D', 'A', 'B'], ['C']], [['C', 'A', 'B'], ['D']], [['A', 'B'], ['C', 'D']], [['A', 'B'], ['D'], ['C']], [['C', 'D', 'B'], ['A']], [['D', 'B'], ['C', 'A']], [['D', 'B'], ['A'], ['C']], [['C', 'B'], ['D', 'A']], [['C', 'B'], ['A'], ['D']], [['B'], ['C', 'D', 'A']], [['B'], ['D', 'A'], ['C']], [['B'], ['C', 'A'], ['D']], [['B'], ['A'], ['C', 'D']], [['B'], ['A'], ['D'], ['C']]]\n",
      "15:[[['C', 'D', 'B', 'A']], [['D', 'B', 'A'], ['C']], [['C', 'B', 'A'], ['D']], [['B', 'A'], ['C', 'D']], [['B', 'A'], ['D'], ['C']], [['C', 'D', 'A'], ['B']], [['D', 'A'], ['C', 'B']], [['D', 'A'], ['B'], ['C']], [['C', 'A'], ['D', 'B']], [['C', 'A'], ['B'], ['D']], [['A'], ['C', 'D', 'B']], [['A'], ['D', 'B'], ['C']], [['A'], ['C', 'B'], ['D']], [['A'], ['B'], ['C', 'D']], [['A'], ['B'], ['D'], ['C']]]\n",
      "15:[[['D', 'A', 'B', 'C']], [['A', 'B', 'C'], ['D']], [['D', 'B', 'C'], ['A']], [['B', 'C'], ['D', 'A']], [['B', 'C'], ['A'], ['D']], [['D', 'A', 'C'], ['B']], [['A', 'C'], ['D', 'B']], [['A', 'C'], ['B'], ['D']], [['D', 'C'], ['A', 'B']], [['D', 'C'], ['B'], ['A']], [['C'], ['D', 'A', 'B']], [['C'], ['A', 'B'], ['D']], [['C'], ['D', 'B'], ['A']], [['C'], ['B'], ['D', 'A']], [['C'], ['B'], ['A'], ['D']]]\n",
      "15:[[['D', 'A', 'C', 'B']], [['A', 'C', 'B'], ['D']], [['D', 'C', 'B'], ['A']], [['C', 'B'], ['D', 'A']], [['C', 'B'], ['A'], ['D']], [['D', 'A', 'B'], ['C']], [['A', 'B'], ['D', 'C']], [['A', 'B'], ['C'], ['D']], [['D', 'B'], ['A', 'C']], [['D', 'B'], ['C'], ['A']], [['B'], ['D', 'A', 'C']], [['B'], ['A', 'C'], ['D']], [['B'], ['D', 'C'], ['A']], [['B'], ['C'], ['D', 'A']], [['B'], ['C'], ['A'], ['D']]]\n",
      "15:[[['D', 'B', 'A', 'C']], [['B', 'A', 'C'], ['D']], [['D', 'A', 'C'], ['B']], [['A', 'C'], ['D', 'B']], [['A', 'C'], ['B'], ['D']], [['D', 'B', 'C'], ['A']], [['B', 'C'], ['D', 'A']], [['B', 'C'], ['A'], ['D']], [['D', 'C'], ['B', 'A']], [['D', 'C'], ['A'], ['B']], [['C'], ['D', 'B', 'A']], [['C'], ['B', 'A'], ['D']], [['C'], ['D', 'A'], ['B']], [['C'], ['A'], ['D', 'B']], [['C'], ['A'], ['B'], ['D']]]\n",
      "15:[[['D', 'B', 'C', 'A']], [['B', 'C', 'A'], ['D']], [['D', 'C', 'A'], ['B']], [['C', 'A'], ['D', 'B']], [['C', 'A'], ['B'], ['D']], [['D', 'B', 'A'], ['C']], [['B', 'A'], ['D', 'C']], [['B', 'A'], ['C'], ['D']], [['D', 'A'], ['B', 'C']], [['D', 'A'], ['C'], ['B']], [['A'], ['D', 'B', 'C']], [['A'], ['B', 'C'], ['D']], [['A'], ['D', 'C'], ['B']], [['A'], ['C'], ['D', 'B']], [['A'], ['C'], ['B'], ['D']]]\n",
      "15:[[['D', 'C', 'A', 'B']], [['C', 'A', 'B'], ['D']], [['D', 'A', 'B'], ['C']], [['A', 'B'], ['D', 'C']], [['A', 'B'], ['C'], ['D']], [['D', 'C', 'B'], ['A']], [['C', 'B'], ['D', 'A']], [['C', 'B'], ['A'], ['D']], [['D', 'B'], ['C', 'A']], [['D', 'B'], ['A'], ['C']], [['B'], ['D', 'C', 'A']], [['B'], ['C', 'A'], ['D']], [['B'], ['D', 'A'], ['C']], [['B'], ['A'], ['D', 'C']], [['B'], ['A'], ['C'], ['D']]]\n",
      "15:[[['D', 'C', 'B', 'A']], [['C', 'B', 'A'], ['D']], [['D', 'B', 'A'], ['C']], [['B', 'A'], ['D', 'C']], [['B', 'A'], ['C'], ['D']], [['D', 'C', 'A'], ['B']], [['C', 'A'], ['D', 'B']], [['C', 'A'], ['B'], ['D']], [['D', 'A'], ['C', 'B']], [['D', 'A'], ['B'], ['C']], [['A'], ['D', 'C', 'B']], [['A'], ['C', 'B'], ['D']], [['A'], ['D', 'B'], ['C']], [['A'], ['B'], ['D', 'C']], [['A'], ['B'], ['C'], ['D']]]\n"
     ]
    }
   ],
   "source": [
    "l1 = weaves.POSetOps.instance().partitions(list('ABCD'))\n",
    "l2 = list(l1)\n",
    "print(len(l2))\n",
    "for x in l2:\n",
    "    x = list(x)\n",
    "    print(\"{}:{}\".format(len(x), x))"
   ]
  },
  {
   "cell_type": "code",
   "execution_count": null,
   "metadata": {},
   "outputs": [],
   "source": [
    "sss = [ set(range(n)) for n in range(0,10+1) ]"
   ]
  },
  {
   "cell_type": "code",
   "execution_count": null,
   "metadata": {},
   "outputs": [],
   "source": [
    "[ len(list(partitions(ss))) for ss in sss ]"
   ]
  },
  {
   "cell_type": "code",
   "execution_count": null,
   "metadata": {},
   "outputs": [],
   "source": [
    "perms0('ABC', 3)"
   ]
  },
  {
   "cell_type": "code",
   "execution_count": null,
   "metadata": {},
   "outputs": [],
   "source": [
    "permutations('ABC', 3)"
   ]
  },
  {
   "cell_type": "code",
   "execution_count": 148,
   "metadata": {},
   "outputs": [
    {
     "data": {
      "text/plain": [
       "360"
      ]
     },
     "execution_count": 148,
     "metadata": {},
     "output_type": "execute_result"
    }
   ],
   "source": [
    "24*15"
   ]
  },
  {
   "cell_type": "code",
   "execution_count": 170,
   "metadata": {},
   "outputs": [
    {
     "data": {
      "text/plain": [
       "0"
      ]
     },
     "execution_count": 170,
     "metadata": {},
     "output_type": "execute_result"
    }
   ],
   "source": [
    "x=8\n",
    "x&1"
   ]
  },
  {
   "cell_type": "code",
   "execution_count": 204,
   "metadata": {},
   "outputs": [],
   "source": [
    "# Written May 2010 by Josiah Carlson based on Eric Burnett's description here:\n",
    "# http://www.thelowlyprogrammer.com/2010/04/indexing-and-enumerating-subsets-of.html\n",
    "# and java code here:\n",
    "# http://github.com/EricBurnett/EnumeratedSubsets\n",
    "#\n",
    "# This source is public domain.\n",
    "\n",
    "class EnumeratedSubsets(object):\n",
    "    def __init__(self):\n",
    "        self.cache = {}\n",
    "    def choose(self, n, k):\n",
    "        # handle the simple cases\n",
    "        k = min(k, n-k)\n",
    "        if k == 0:\n",
    "            return 1\n",
    "        elif k < 0:\n",
    "            raise Exception(\"negative k?\")\n",
    "        elif k == 1:\n",
    "            return n\n",
    "        # handle caching and subcalls\n",
    "        c = (n,k)\n",
    "        if c not in self.cache:\n",
    "            self.cache[c] = self.choose(n-1, k) + self.choose(n-1, k-1)\n",
    "        return self.cache[c]\n",
    "\n",
    "    def precacheChoose(self, n, k=None):\n",
    "        # adjust your bounds\n",
    "        if k is None:\n",
    "            k = (n+1)//2 - 1\n",
    "        for k_i in range(1, k+1):\n",
    "            for n_i in range(k_i, n+1):\n",
    "                self.choose(n_i, k_i)\n",
    "\n",
    "    def generateSubset(self, n, k, i):\n",
    "        # non-recursive generateSubset(n, k, i), which will choose the i'th\n",
    "        # subset of size k from n items (numbered 0..n-1)\n",
    "        b = None\n",
    "        offset = 0\n",
    "        while 1:\n",
    "            if b is None:\n",
    "                b = set()\n",
    "\n",
    "            upperBound = self.choose(n,k)\n",
    "            if i >= upperBound:\n",
    "                return None\n",
    "\n",
    "            zeros = 0\n",
    "            low = 0\n",
    "            high = self.choose(n-1, k-1)\n",
    "            while i >= high:\n",
    "                zeros += 1\n",
    "                low = high\n",
    "                high += self.choose(n-zeros-1, k-1)\n",
    "\n",
    "            if (zeros + k) > n:\n",
    "                raise Exception(\"Too many zeros!\")\n",
    "\n",
    "            b.add(offset + zeros)\n",
    "            if k == 1:\n",
    "                return sorted(b)\n",
    "            else:\n",
    "                n -= zeros + 1\n",
    "                k -= 1\n",
    "                i -= low\n",
    "                offset += zeros+1\n",
    "\n",
    "    def test1(self):\n",
    "        for l in range(1, 10):\n",
    "            for k in range(1, min(l, 5)):\n",
    "                i = 0\n",
    "                while 1:\n",
    "                    b = self.generateSubset(l, k, i)\n",
    "                    if b is None:\n",
    "                        break\n",
    "                    print(\"%i %i %s: %s\"%(l, k, i, b))\n",
    "                    i += 1\n",
    "\n",
    "    def test(self):\n",
    "        for l in range(1, 10):\n",
    "            for k in range(1, min(l, 5)):\n",
    "                i = 0\n",
    "                while 1:\n",
    "                    b = self.generateSubset(l, k, i)\n",
    "                    if b is None:\n",
    "                        break\n",
    "                    print(\"%i %i %s: %s\"%(l, k, i, b))\n",
    "                    i += 1\n",
    "\n",
    "        i = 0\n",
    "        while 1:\n",
    "            b = self.generateSubset(25, 24, i)\n",
    "            if b is None:\n",
    "                break\n",
    "            print(\"%i %i %s: %s\"%(25, 24, i, b))\n",
    "            i += 1\n",
    "\n",
    "        self.precacheChoose(10000, 12)\n",
    "        i = 160000\n",
    "        b = self.generateSubset(100, 3, i)\n",
    "        print(\"%i %i %s: %s\"%(100, 3, i, b))\n",
    "\n",
    "        i = 160000000000000000000000000000\n",
    "        b = self.generateSubset(10000, 12, i)\n",
    "        print(\"%i %i %s: %s\"%(10000, 12, i, b))\n",
    "\n",
    "        "
   ]
  },
  {
   "cell_type": "code",
   "execution_count": 205,
   "metadata": {},
   "outputs": [],
   "source": [
    "x0=EnumeratedSubsets()"
   ]
  },
  {
   "cell_type": "code",
   "execution_count": 206,
   "metadata": {},
   "outputs": [
    {
     "name": "stdout",
     "output_type": "stream",
     "text": [
      "2 1 0: [0]\n",
      "2 1 1: [1]\n",
      "3 1 0: [0]\n",
      "3 1 1: [1]\n",
      "3 1 2: [2]\n",
      "3 2 0: [0, 1]\n",
      "3 2 1: [0, 2]\n",
      "3 2 2: [1, 2]\n",
      "4 1 0: [0]\n",
      "4 1 1: [1]\n",
      "4 1 2: [2]\n",
      "4 1 3: [3]\n",
      "4 2 0: [0, 1]\n",
      "4 2 1: [0, 2]\n",
      "4 2 2: [0, 3]\n",
      "4 2 3: [1, 2]\n",
      "4 2 4: [1, 3]\n",
      "4 2 5: [2, 3]\n",
      "4 3 0: [0, 1, 2]\n",
      "4 3 1: [0, 1, 3]\n",
      "4 3 2: [0, 2, 3]\n",
      "4 3 3: [1, 2, 3]\n",
      "5 1 0: [0]\n",
      "5 1 1: [1]\n",
      "5 1 2: [2]\n",
      "5 1 3: [3]\n",
      "5 1 4: [4]\n",
      "5 2 0: [0, 1]\n",
      "5 2 1: [0, 2]\n",
      "5 2 2: [0, 3]\n",
      "5 2 3: [0, 4]\n",
      "5 2 4: [1, 2]\n",
      "5 2 5: [1, 3]\n",
      "5 2 6: [1, 4]\n",
      "5 2 7: [2, 3]\n",
      "5 2 8: [2, 4]\n",
      "5 2 9: [3, 4]\n",
      "5 3 0: [0, 1, 2]\n",
      "5 3 1: [0, 1, 3]\n",
      "5 3 2: [0, 1, 4]\n",
      "5 3 3: [0, 2, 3]\n",
      "5 3 4: [0, 2, 4]\n",
      "5 3 5: [0, 3, 4]\n",
      "5 3 6: [1, 2, 3]\n",
      "5 3 7: [1, 2, 4]\n",
      "5 3 8: [1, 3, 4]\n",
      "5 3 9: [2, 3, 4]\n",
      "5 4 0: [0, 1, 2, 3]\n",
      "5 4 1: [0, 1, 2, 4]\n",
      "5 4 2: [0, 1, 3, 4]\n",
      "5 4 3: [0, 2, 3, 4]\n",
      "5 4 4: [1, 2, 3, 4]\n",
      "6 1 0: [0]\n",
      "6 1 1: [1]\n",
      "6 1 2: [2]\n",
      "6 1 3: [3]\n",
      "6 1 4: [4]\n",
      "6 1 5: [5]\n",
      "6 2 0: [0, 1]\n",
      "6 2 1: [0, 2]\n",
      "6 2 2: [0, 3]\n",
      "6 2 3: [0, 4]\n",
      "6 2 4: [0, 5]\n",
      "6 2 5: [1, 2]\n",
      "6 2 6: [1, 3]\n",
      "6 2 7: [1, 4]\n",
      "6 2 8: [1, 5]\n",
      "6 2 9: [2, 3]\n",
      "6 2 10: [2, 4]\n",
      "6 2 11: [2, 5]\n",
      "6 2 12: [3, 4]\n",
      "6 2 13: [3, 5]\n",
      "6 2 14: [4, 5]\n",
      "6 3 0: [0, 1, 2]\n",
      "6 3 1: [0, 1, 3]\n",
      "6 3 2: [0, 1, 4]\n",
      "6 3 3: [0, 1, 5]\n",
      "6 3 4: [0, 2, 3]\n",
      "6 3 5: [0, 2, 4]\n",
      "6 3 6: [0, 2, 5]\n",
      "6 3 7: [0, 3, 4]\n",
      "6 3 8: [0, 3, 5]\n",
      "6 3 9: [0, 4, 5]\n",
      "6 3 10: [1, 2, 3]\n",
      "6 3 11: [1, 2, 4]\n",
      "6 3 12: [1, 2, 5]\n",
      "6 3 13: [1, 3, 4]\n",
      "6 3 14: [1, 3, 5]\n",
      "6 3 15: [1, 4, 5]\n",
      "6 3 16: [2, 3, 4]\n",
      "6 3 17: [2, 3, 5]\n",
      "6 3 18: [2, 4, 5]\n",
      "6 3 19: [3, 4, 5]\n",
      "6 4 0: [0, 1, 2, 3]\n",
      "6 4 1: [0, 1, 2, 4]\n",
      "6 4 2: [0, 1, 2, 5]\n",
      "6 4 3: [0, 1, 3, 4]\n",
      "6 4 4: [0, 1, 3, 5]\n",
      "6 4 5: [0, 1, 4, 5]\n",
      "6 4 6: [0, 2, 3, 4]\n",
      "6 4 7: [0, 2, 3, 5]\n",
      "6 4 8: [0, 2, 4, 5]\n",
      "6 4 9: [0, 3, 4, 5]\n",
      "6 4 10: [1, 2, 3, 4]\n",
      "6 4 11: [1, 2, 3, 5]\n",
      "6 4 12: [1, 2, 4, 5]\n",
      "6 4 13: [1, 3, 4, 5]\n",
      "6 4 14: [2, 3, 4, 5]\n",
      "7 1 0: [0]\n",
      "7 1 1: [1]\n",
      "7 1 2: [2]\n",
      "7 1 3: [3]\n",
      "7 1 4: [4]\n",
      "7 1 5: [5]\n",
      "7 1 6: [6]\n",
      "7 2 0: [0, 1]\n",
      "7 2 1: [0, 2]\n",
      "7 2 2: [0, 3]\n",
      "7 2 3: [0, 4]\n",
      "7 2 4: [0, 5]\n",
      "7 2 5: [0, 6]\n",
      "7 2 6: [1, 2]\n",
      "7 2 7: [1, 3]\n",
      "7 2 8: [1, 4]\n",
      "7 2 9: [1, 5]\n",
      "7 2 10: [1, 6]\n",
      "7 2 11: [2, 3]\n",
      "7 2 12: [2, 4]\n",
      "7 2 13: [2, 5]\n",
      "7 2 14: [2, 6]\n",
      "7 2 15: [3, 4]\n",
      "7 2 16: [3, 5]\n",
      "7 2 17: [3, 6]\n",
      "7 2 18: [4, 5]\n",
      "7 2 19: [4, 6]\n",
      "7 2 20: [5, 6]\n",
      "7 3 0: [0, 1, 2]\n",
      "7 3 1: [0, 1, 3]\n",
      "7 3 2: [0, 1, 4]\n",
      "7 3 3: [0, 1, 5]\n",
      "7 3 4: [0, 1, 6]\n",
      "7 3 5: [0, 2, 3]\n",
      "7 3 6: [0, 2, 4]\n",
      "7 3 7: [0, 2, 5]\n",
      "7 3 8: [0, 2, 6]\n",
      "7 3 9: [0, 3, 4]\n",
      "7 3 10: [0, 3, 5]\n",
      "7 3 11: [0, 3, 6]\n",
      "7 3 12: [0, 4, 5]\n",
      "7 3 13: [0, 4, 6]\n",
      "7 3 14: [0, 5, 6]\n",
      "7 3 15: [1, 2, 3]\n",
      "7 3 16: [1, 2, 4]\n",
      "7 3 17: [1, 2, 5]\n",
      "7 3 18: [1, 2, 6]\n",
      "7 3 19: [1, 3, 4]\n",
      "7 3 20: [1, 3, 5]\n",
      "7 3 21: [1, 3, 6]\n",
      "7 3 22: [1, 4, 5]\n",
      "7 3 23: [1, 4, 6]\n",
      "7 3 24: [1, 5, 6]\n",
      "7 3 25: [2, 3, 4]\n",
      "7 3 26: [2, 3, 5]\n",
      "7 3 27: [2, 3, 6]\n",
      "7 3 28: [2, 4, 5]\n",
      "7 3 29: [2, 4, 6]\n",
      "7 3 30: [2, 5, 6]\n",
      "7 3 31: [3, 4, 5]\n",
      "7 3 32: [3, 4, 6]\n",
      "7 3 33: [3, 5, 6]\n",
      "7 3 34: [4, 5, 6]\n",
      "7 4 0: [0, 1, 2, 3]\n",
      "7 4 1: [0, 1, 2, 4]\n",
      "7 4 2: [0, 1, 2, 5]\n",
      "7 4 3: [0, 1, 2, 6]\n",
      "7 4 4: [0, 1, 3, 4]\n",
      "7 4 5: [0, 1, 3, 5]\n",
      "7 4 6: [0, 1, 3, 6]\n",
      "7 4 7: [0, 1, 4, 5]\n",
      "7 4 8: [0, 1, 4, 6]\n",
      "7 4 9: [0, 1, 5, 6]\n",
      "7 4 10: [0, 2, 3, 4]\n",
      "7 4 11: [0, 2, 3, 5]\n",
      "7 4 12: [0, 2, 3, 6]\n",
      "7 4 13: [0, 2, 4, 5]\n",
      "7 4 14: [0, 2, 4, 6]\n",
      "7 4 15: [0, 2, 5, 6]\n",
      "7 4 16: [0, 3, 4, 5]\n",
      "7 4 17: [0, 3, 4, 6]\n",
      "7 4 18: [0, 3, 5, 6]\n",
      "7 4 19: [0, 4, 5, 6]\n",
      "7 4 20: [1, 2, 3, 4]\n",
      "7 4 21: [1, 2, 3, 5]\n",
      "7 4 22: [1, 2, 3, 6]\n",
      "7 4 23: [1, 2, 4, 5]\n",
      "7 4 24: [1, 2, 4, 6]\n",
      "7 4 25: [1, 2, 5, 6]\n",
      "7 4 26: [1, 3, 4, 5]\n",
      "7 4 27: [1, 3, 4, 6]\n",
      "7 4 28: [1, 3, 5, 6]\n",
      "7 4 29: [1, 4, 5, 6]\n",
      "7 4 30: [2, 3, 4, 5]\n",
      "7 4 31: [2, 3, 4, 6]\n",
      "7 4 32: [2, 3, 5, 6]\n",
      "7 4 33: [2, 4, 5, 6]\n",
      "7 4 34: [3, 4, 5, 6]\n",
      "8 1 0: [0]\n",
      "8 1 1: [1]\n",
      "8 1 2: [2]\n",
      "8 1 3: [3]\n",
      "8 1 4: [4]\n",
      "8 1 5: [5]\n",
      "8 1 6: [6]\n",
      "8 1 7: [7]\n",
      "8 2 0: [0, 1]\n",
      "8 2 1: [0, 2]\n",
      "8 2 2: [0, 3]\n",
      "8 2 3: [0, 4]\n",
      "8 2 4: [0, 5]\n",
      "8 2 5: [0, 6]\n",
      "8 2 6: [0, 7]\n",
      "8 2 7: [1, 2]\n",
      "8 2 8: [1, 3]\n",
      "8 2 9: [1, 4]\n",
      "8 2 10: [1, 5]\n",
      "8 2 11: [1, 6]\n",
      "8 2 12: [1, 7]\n",
      "8 2 13: [2, 3]\n",
      "8 2 14: [2, 4]\n",
      "8 2 15: [2, 5]\n",
      "8 2 16: [2, 6]\n",
      "8 2 17: [2, 7]\n",
      "8 2 18: [3, 4]\n",
      "8 2 19: [3, 5]\n",
      "8 2 20: [3, 6]\n",
      "8 2 21: [3, 7]\n",
      "8 2 22: [4, 5]\n",
      "8 2 23: [4, 6]\n",
      "8 2 24: [4, 7]\n",
      "8 2 25: [5, 6]\n",
      "8 2 26: [5, 7]\n",
      "8 2 27: [6, 7]\n",
      "8 3 0: [0, 1, 2]\n",
      "8 3 1: [0, 1, 3]\n",
      "8 3 2: [0, 1, 4]\n",
      "8 3 3: [0, 1, 5]\n",
      "8 3 4: [0, 1, 6]\n",
      "8 3 5: [0, 1, 7]\n",
      "8 3 6: [0, 2, 3]\n",
      "8 3 7: [0, 2, 4]\n",
      "8 3 8: [0, 2, 5]\n",
      "8 3 9: [0, 2, 6]\n",
      "8 3 10: [0, 2, 7]\n",
      "8 3 11: [0, 3, 4]\n",
      "8 3 12: [0, 3, 5]\n",
      "8 3 13: [0, 3, 6]\n",
      "8 3 14: [0, 3, 7]\n",
      "8 3 15: [0, 4, 5]\n",
      "8 3 16: [0, 4, 6]\n",
      "8 3 17: [0, 4, 7]\n",
      "8 3 18: [0, 5, 6]\n",
      "8 3 19: [0, 5, 7]\n",
      "8 3 20: [0, 6, 7]\n",
      "8 3 21: [1, 2, 3]\n",
      "8 3 22: [1, 2, 4]\n",
      "8 3 23: [1, 2, 5]\n",
      "8 3 24: [1, 2, 6]\n",
      "8 3 25: [1, 2, 7]\n",
      "8 3 26: [1, 3, 4]\n",
      "8 3 27: [1, 3, 5]\n",
      "8 3 28: [1, 3, 6]\n",
      "8 3 29: [1, 3, 7]\n",
      "8 3 30: [1, 4, 5]\n",
      "8 3 31: [1, 4, 6]\n",
      "8 3 32: [1, 4, 7]\n",
      "8 3 33: [1, 5, 6]\n",
      "8 3 34: [1, 5, 7]\n",
      "8 3 35: [1, 6, 7]\n",
      "8 3 36: [2, 3, 4]\n",
      "8 3 37: [2, 3, 5]\n",
      "8 3 38: [2, 3, 6]\n",
      "8 3 39: [2, 3, 7]\n",
      "8 3 40: [2, 4, 5]\n",
      "8 3 41: [2, 4, 6]\n",
      "8 3 42: [2, 4, 7]\n",
      "8 3 43: [2, 5, 6]\n",
      "8 3 44: [2, 5, 7]\n",
      "8 3 45: [2, 6, 7]\n",
      "8 3 46: [3, 4, 5]\n",
      "8 3 47: [3, 4, 6]\n",
      "8 3 48: [3, 4, 7]\n",
      "8 3 49: [3, 5, 6]\n",
      "8 3 50: [3, 5, 7]\n",
      "8 3 51: [3, 6, 7]\n",
      "8 3 52: [4, 5, 6]\n",
      "8 3 53: [4, 5, 7]\n",
      "8 3 54: [4, 6, 7]\n",
      "8 3 55: [5, 6, 7]\n",
      "8 4 0: [0, 1, 2, 3]\n",
      "8 4 1: [0, 1, 2, 4]\n",
      "8 4 2: [0, 1, 2, 5]\n",
      "8 4 3: [0, 1, 2, 6]\n",
      "8 4 4: [0, 1, 2, 7]\n",
      "8 4 5: [0, 1, 3, 4]\n",
      "8 4 6: [0, 1, 3, 5]\n",
      "8 4 7: [0, 1, 3, 6]\n",
      "8 4 8: [0, 1, 3, 7]\n",
      "8 4 9: [0, 1, 4, 5]\n",
      "8 4 10: [0, 1, 4, 6]\n",
      "8 4 11: [0, 1, 4, 7]\n",
      "8 4 12: [0, 1, 5, 6]\n",
      "8 4 13: [0, 1, 5, 7]\n",
      "8 4 14: [0, 1, 6, 7]\n",
      "8 4 15: [0, 2, 3, 4]\n",
      "8 4 16: [0, 2, 3, 5]\n",
      "8 4 17: [0, 2, 3, 6]\n",
      "8 4 18: [0, 2, 3, 7]\n",
      "8 4 19: [0, 2, 4, 5]\n",
      "8 4 20: [0, 2, 4, 6]\n",
      "8 4 21: [0, 2, 4, 7]\n",
      "8 4 22: [0, 2, 5, 6]\n",
      "8 4 23: [0, 2, 5, 7]\n",
      "8 4 24: [0, 2, 6, 7]\n",
      "8 4 25: [0, 3, 4, 5]\n",
      "8 4 26: [0, 3, 4, 6]\n",
      "8 4 27: [0, 3, 4, 7]\n",
      "8 4 28: [0, 3, 5, 6]\n",
      "8 4 29: [0, 3, 5, 7]\n",
      "8 4 30: [0, 3, 6, 7]\n",
      "8 4 31: [0, 4, 5, 6]\n",
      "8 4 32: [0, 4, 5, 7]\n",
      "8 4 33: [0, 4, 6, 7]\n",
      "8 4 34: [0, 5, 6, 7]\n",
      "8 4 35: [1, 2, 3, 4]\n",
      "8 4 36: [1, 2, 3, 5]\n",
      "8 4 37: [1, 2, 3, 6]\n",
      "8 4 38: [1, 2, 3, 7]\n",
      "8 4 39: [1, 2, 4, 5]\n",
      "8 4 40: [1, 2, 4, 6]\n",
      "8 4 41: [1, 2, 4, 7]\n",
      "8 4 42: [1, 2, 5, 6]\n",
      "8 4 43: [1, 2, 5, 7]\n",
      "8 4 44: [1, 2, 6, 7]\n",
      "8 4 45: [1, 3, 4, 5]\n",
      "8 4 46: [1, 3, 4, 6]\n",
      "8 4 47: [1, 3, 4, 7]\n",
      "8 4 48: [1, 3, 5, 6]\n",
      "8 4 49: [1, 3, 5, 7]\n",
      "8 4 50: [1, 3, 6, 7]\n",
      "8 4 51: [1, 4, 5, 6]\n",
      "8 4 52: [1, 4, 5, 7]\n",
      "8 4 53: [1, 4, 6, 7]\n",
      "8 4 54: [1, 5, 6, 7]\n",
      "8 4 55: [2, 3, 4, 5]\n",
      "8 4 56: [2, 3, 4, 6]\n",
      "8 4 57: [2, 3, 4, 7]\n",
      "8 4 58: [2, 3, 5, 6]\n",
      "8 4 59: [2, 3, 5, 7]\n",
      "8 4 60: [2, 3, 6, 7]\n",
      "8 4 61: [2, 4, 5, 6]\n",
      "8 4 62: [2, 4, 5, 7]\n",
      "8 4 63: [2, 4, 6, 7]\n",
      "8 4 64: [2, 5, 6, 7]\n",
      "8 4 65: [3, 4, 5, 6]\n",
      "8 4 66: [3, 4, 5, 7]\n",
      "8 4 67: [3, 4, 6, 7]\n",
      "8 4 68: [3, 5, 6, 7]\n",
      "8 4 69: [4, 5, 6, 7]\n",
      "9 1 0: [0]\n",
      "9 1 1: [1]\n",
      "9 1 2: [2]\n",
      "9 1 3: [3]\n",
      "9 1 4: [4]\n",
      "9 1 5: [5]\n",
      "9 1 6: [6]\n",
      "9 1 7: [7]\n",
      "9 1 8: [8]\n",
      "9 2 0: [0, 1]\n",
      "9 2 1: [0, 2]\n",
      "9 2 2: [0, 3]\n",
      "9 2 3: [0, 4]\n",
      "9 2 4: [0, 5]\n",
      "9 2 5: [0, 6]\n",
      "9 2 6: [0, 7]\n",
      "9 2 7: [0, 8]\n",
      "9 2 8: [1, 2]\n",
      "9 2 9: [1, 3]\n",
      "9 2 10: [1, 4]\n",
      "9 2 11: [1, 5]\n",
      "9 2 12: [1, 6]\n",
      "9 2 13: [1, 7]\n",
      "9 2 14: [1, 8]\n",
      "9 2 15: [2, 3]\n",
      "9 2 16: [2, 4]\n",
      "9 2 17: [2, 5]\n",
      "9 2 18: [2, 6]\n",
      "9 2 19: [2, 7]\n",
      "9 2 20: [2, 8]\n",
      "9 2 21: [3, 4]\n",
      "9 2 22: [3, 5]\n",
      "9 2 23: [3, 6]\n",
      "9 2 24: [3, 7]\n",
      "9 2 25: [3, 8]\n",
      "9 2 26: [4, 5]\n",
      "9 2 27: [4, 6]\n",
      "9 2 28: [4, 7]\n",
      "9 2 29: [4, 8]\n",
      "9 2 30: [5, 6]\n",
      "9 2 31: [5, 7]\n",
      "9 2 32: [5, 8]\n",
      "9 2 33: [6, 7]\n",
      "9 2 34: [6, 8]\n",
      "9 2 35: [7, 8]\n",
      "9 3 0: [0, 1, 2]\n",
      "9 3 1: [0, 1, 3]\n",
      "9 3 2: [0, 1, 4]\n",
      "9 3 3: [0, 1, 5]\n",
      "9 3 4: [0, 1, 6]\n",
      "9 3 5: [0, 1, 7]\n",
      "9 3 6: [0, 1, 8]\n",
      "9 3 7: [0, 2, 3]\n",
      "9 3 8: [0, 2, 4]\n",
      "9 3 9: [0, 2, 5]\n",
      "9 3 10: [0, 2, 6]\n",
      "9 3 11: [0, 2, 7]\n",
      "9 3 12: [0, 2, 8]\n",
      "9 3 13: [0, 3, 4]\n",
      "9 3 14: [0, 3, 5]\n",
      "9 3 15: [0, 3, 6]\n",
      "9 3 16: [0, 3, 7]\n",
      "9 3 17: [0, 3, 8]\n",
      "9 3 18: [0, 4, 5]\n",
      "9 3 19: [0, 4, 6]\n",
      "9 3 20: [0, 4, 7]\n",
      "9 3 21: [0, 4, 8]\n",
      "9 3 22: [0, 5, 6]\n",
      "9 3 23: [0, 5, 7]\n",
      "9 3 24: [0, 5, 8]\n",
      "9 3 25: [0, 6, 7]\n",
      "9 3 26: [0, 6, 8]\n",
      "9 3 27: [0, 7, 8]\n",
      "9 3 28: [1, 2, 3]\n",
      "9 3 29: [1, 2, 4]\n",
      "9 3 30: [1, 2, 5]\n",
      "9 3 31: [1, 2, 6]\n",
      "9 3 32: [1, 2, 7]\n",
      "9 3 33: [1, 2, 8]\n",
      "9 3 34: [1, 3, 4]\n",
      "9 3 35: [1, 3, 5]\n",
      "9 3 36: [1, 3, 6]\n",
      "9 3 37: [1, 3, 7]\n",
      "9 3 38: [1, 3, 8]\n",
      "9 3 39: [1, 4, 5]\n",
      "9 3 40: [1, 4, 6]\n",
      "9 3 41: [1, 4, 7]\n",
      "9 3 42: [1, 4, 8]\n",
      "9 3 43: [1, 5, 6]\n",
      "9 3 44: [1, 5, 7]\n",
      "9 3 45: [1, 5, 8]\n",
      "9 3 46: [1, 6, 7]\n",
      "9 3 47: [1, 6, 8]\n",
      "9 3 48: [1, 7, 8]\n",
      "9 3 49: [2, 3, 4]\n",
      "9 3 50: [2, 3, 5]\n",
      "9 3 51: [2, 3, 6]\n",
      "9 3 52: [2, 3, 7]\n",
      "9 3 53: [2, 3, 8]\n",
      "9 3 54: [2, 4, 5]\n",
      "9 3 55: [2, 4, 6]\n",
      "9 3 56: [2, 4, 7]\n",
      "9 3 57: [2, 4, 8]\n",
      "9 3 58: [2, 5, 6]\n",
      "9 3 59: [2, 5, 7]\n",
      "9 3 60: [2, 5, 8]\n",
      "9 3 61: [2, 6, 7]\n",
      "9 3 62: [2, 6, 8]\n",
      "9 3 63: [2, 7, 8]\n",
      "9 3 64: [3, 4, 5]\n",
      "9 3 65: [3, 4, 6]\n",
      "9 3 66: [3, 4, 7]\n",
      "9 3 67: [3, 4, 8]\n",
      "9 3 68: [3, 5, 6]\n",
      "9 3 69: [3, 5, 7]\n",
      "9 3 70: [3, 5, 8]\n",
      "9 3 71: [3, 6, 7]\n",
      "9 3 72: [3, 6, 8]\n",
      "9 3 73: [3, 7, 8]\n",
      "9 3 74: [4, 5, 6]\n",
      "9 3 75: [4, 5, 7]\n",
      "9 3 76: [4, 5, 8]\n",
      "9 3 77: [4, 6, 7]\n",
      "9 3 78: [4, 6, 8]\n",
      "9 3 79: [4, 7, 8]\n",
      "9 3 80: [5, 6, 7]\n",
      "9 3 81: [5, 6, 8]\n",
      "9 3 82: [5, 7, 8]\n",
      "9 3 83: [6, 7, 8]\n",
      "9 4 0: [0, 1, 2, 3]\n",
      "9 4 1: [0, 1, 2, 4]\n",
      "9 4 2: [0, 1, 2, 5]\n",
      "9 4 3: [0, 1, 2, 6]\n",
      "9 4 4: [0, 1, 2, 7]\n",
      "9 4 5: [0, 1, 2, 8]\n",
      "9 4 6: [0, 1, 3, 4]\n",
      "9 4 7: [0, 1, 3, 5]\n",
      "9 4 8: [0, 1, 3, 6]\n",
      "9 4 9: [0, 1, 3, 7]\n",
      "9 4 10: [0, 1, 3, 8]\n",
      "9 4 11: [0, 1, 4, 5]\n",
      "9 4 12: [0, 1, 4, 6]\n",
      "9 4 13: [0, 1, 4, 7]\n",
      "9 4 14: [0, 1, 4, 8]\n",
      "9 4 15: [0, 1, 5, 6]\n",
      "9 4 16: [0, 1, 5, 7]\n",
      "9 4 17: [0, 1, 5, 8]\n",
      "9 4 18: [0, 1, 6, 7]\n",
      "9 4 19: [0, 1, 6, 8]\n",
      "9 4 20: [0, 1, 7, 8]\n",
      "9 4 21: [0, 2, 3, 4]\n",
      "9 4 22: [0, 2, 3, 5]\n",
      "9 4 23: [0, 2, 3, 6]\n",
      "9 4 24: [0, 2, 3, 7]\n",
      "9 4 25: [0, 2, 3, 8]\n",
      "9 4 26: [0, 2, 4, 5]\n",
      "9 4 27: [0, 2, 4, 6]\n",
      "9 4 28: [0, 2, 4, 7]\n",
      "9 4 29: [0, 2, 4, 8]\n",
      "9 4 30: [0, 2, 5, 6]\n",
      "9 4 31: [0, 2, 5, 7]\n",
      "9 4 32: [0, 2, 5, 8]\n",
      "9 4 33: [0, 2, 6, 7]\n",
      "9 4 34: [0, 2, 6, 8]\n",
      "9 4 35: [0, 2, 7, 8]\n",
      "9 4 36: [0, 3, 4, 5]\n",
      "9 4 37: [0, 3, 4, 6]\n",
      "9 4 38: [0, 3, 4, 7]\n",
      "9 4 39: [0, 3, 4, 8]\n",
      "9 4 40: [0, 3, 5, 6]\n",
      "9 4 41: [0, 3, 5, 7]\n",
      "9 4 42: [0, 3, 5, 8]\n",
      "9 4 43: [0, 3, 6, 7]\n",
      "9 4 44: [0, 3, 6, 8]\n",
      "9 4 45: [0, 3, 7, 8]\n",
      "9 4 46: [0, 4, 5, 6]\n",
      "9 4 47: [0, 4, 5, 7]\n",
      "9 4 48: [0, 4, 5, 8]\n",
      "9 4 49: [0, 4, 6, 7]\n",
      "9 4 50: [0, 4, 6, 8]\n",
      "9 4 51: [0, 4, 7, 8]\n",
      "9 4 52: [0, 5, 6, 7]\n",
      "9 4 53: [0, 5, 6, 8]\n",
      "9 4 54: [0, 5, 7, 8]\n",
      "9 4 55: [0, 6, 7, 8]\n",
      "9 4 56: [1, 2, 3, 4]\n",
      "9 4 57: [1, 2, 3, 5]\n",
      "9 4 58: [1, 2, 3, 6]\n",
      "9 4 59: [1, 2, 3, 7]\n",
      "9 4 60: [1, 2, 3, 8]\n",
      "9 4 61: [1, 2, 4, 5]\n",
      "9 4 62: [1, 2, 4, 6]\n",
      "9 4 63: [1, 2, 4, 7]\n",
      "9 4 64: [1, 2, 4, 8]\n",
      "9 4 65: [1, 2, 5, 6]\n",
      "9 4 66: [1, 2, 5, 7]\n",
      "9 4 67: [1, 2, 5, 8]\n",
      "9 4 68: [1, 2, 6, 7]\n",
      "9 4 69: [1, 2, 6, 8]\n",
      "9 4 70: [1, 2, 7, 8]\n",
      "9 4 71: [1, 3, 4, 5]\n",
      "9 4 72: [1, 3, 4, 6]\n",
      "9 4 73: [1, 3, 4, 7]\n",
      "9 4 74: [1, 3, 4, 8]\n",
      "9 4 75: [1, 3, 5, 6]\n",
      "9 4 76: [1, 3, 5, 7]\n",
      "9 4 77: [1, 3, 5, 8]\n",
      "9 4 78: [1, 3, 6, 7]\n",
      "9 4 79: [1, 3, 6, 8]\n",
      "9 4 80: [1, 3, 7, 8]\n",
      "9 4 81: [1, 4, 5, 6]\n",
      "9 4 82: [1, 4, 5, 7]\n",
      "9 4 83: [1, 4, 5, 8]\n",
      "9 4 84: [1, 4, 6, 7]\n",
      "9 4 85: [1, 4, 6, 8]\n",
      "9 4 86: [1, 4, 7, 8]\n",
      "9 4 87: [1, 5, 6, 7]\n",
      "9 4 88: [1, 5, 6, 8]\n",
      "9 4 89: [1, 5, 7, 8]\n",
      "9 4 90: [1, 6, 7, 8]\n",
      "9 4 91: [2, 3, 4, 5]\n",
      "9 4 92: [2, 3, 4, 6]\n",
      "9 4 93: [2, 3, 4, 7]\n",
      "9 4 94: [2, 3, 4, 8]\n",
      "9 4 95: [2, 3, 5, 6]\n",
      "9 4 96: [2, 3, 5, 7]\n",
      "9 4 97: [2, 3, 5, 8]\n",
      "9 4 98: [2, 3, 6, 7]\n",
      "9 4 99: [2, 3, 6, 8]\n",
      "9 4 100: [2, 3, 7, 8]\n",
      "9 4 101: [2, 4, 5, 6]\n",
      "9 4 102: [2, 4, 5, 7]\n",
      "9 4 103: [2, 4, 5, 8]\n",
      "9 4 104: [2, 4, 6, 7]\n",
      "9 4 105: [2, 4, 6, 8]\n",
      "9 4 106: [2, 4, 7, 8]\n",
      "9 4 107: [2, 5, 6, 7]\n",
      "9 4 108: [2, 5, 6, 8]\n",
      "9 4 109: [2, 5, 7, 8]\n",
      "9 4 110: [2, 6, 7, 8]\n",
      "9 4 111: [3, 4, 5, 6]\n",
      "9 4 112: [3, 4, 5, 7]\n",
      "9 4 113: [3, 4, 5, 8]\n",
      "9 4 114: [3, 4, 6, 7]\n",
      "9 4 115: [3, 4, 6, 8]\n",
      "9 4 116: [3, 4, 7, 8]\n",
      "9 4 117: [3, 5, 6, 7]\n",
      "9 4 118: [3, 5, 6, 8]\n",
      "9 4 119: [3, 5, 7, 8]\n",
      "9 4 120: [3, 6, 7, 8]\n",
      "9 4 121: [4, 5, 6, 7]\n",
      "9 4 122: [4, 5, 6, 8]\n",
      "9 4 123: [4, 5, 7, 8]\n",
      "9 4 124: [4, 6, 7, 8]\n",
      "9 4 125: [5, 6, 7, 8]\n"
     ]
    }
   ],
   "source": [
    "x0.test1()"
   ]
  },
  {
   "cell_type": "code",
   "execution_count": 210,
   "metadata": {},
   "outputs": [
    {
     "name": "stdout",
     "output_type": "stream",
     "text": [
      "000\n",
      "001\n",
      "011\n",
      "010\n",
      "110\n",
      "111\n",
      "101\n",
      "100\n"
     ]
    }
   ],
   "source": [
    "def grayCode(n=5):\n",
    "    for i in range(0, 1<<n):\n",
    "        gray=i^(i>>1)\n",
    "        print(\"{0:0{1}b}\".format(gray,n))\n",
    "\n",
    "grayCode(n=3)"
   ]
  },
  {
   "cell_type": "code",
   "execution_count": 209,
   "metadata": {},
   "outputs": [
    {
     "data": {
      "text/plain": [
       "32"
      ]
     },
     "execution_count": 209,
     "metadata": {},
     "output_type": "execute_result"
    }
   ],
   "source": [
    "c1<<5"
   ]
  },
  {
   "cell_type": "code",
   "execution_count": 212,
   "metadata": {},
   "outputs": [
    {
     "data": {
      "text/plain": [
       "{('L',),\n",
       " ('L', 'M'),\n",
       " ('L', 'M', 'R'),\n",
       " ('L', 'R'),\n",
       " ('L', 'R', 'M'),\n",
       " ('M',),\n",
       " ('M', 'L'),\n",
       " ('M', 'L', 'R'),\n",
       " ('M', 'R'),\n",
       " ('M', 'R', 'L'),\n",
       " ('R',),\n",
       " ('R', 'L'),\n",
       " ('R', 'L', 'M'),\n",
       " ('R', 'M'),\n",
       " ('R', 'M', 'L')}"
      ]
     },
     "execution_count": 212,
     "metadata": {},
     "output_type": "execute_result"
    }
   ],
   "source": [
    "weaves.POSetOps.instance().strong(('LMR'))"
   ]
  },
  {
   "cell_type": "code",
   "execution_count": 223,
   "metadata": {},
   "outputs": [],
   "source": [
    "basis = range(0,5)\n",
    "x = string.ascii_letters[0:5]"
   ]
  },
  {
   "cell_type": "code",
   "execution_count": 242,
   "metadata": {},
   "outputs": [],
   "source": [
    "def nodes(n=5, x=string.ascii_letters):\n",
    "    basis = range(0,n)\n",
    "    for coeff in permutations(basis):\n",
    "        yield [ 1+coeff[i] for i in basis ]    "
   ]
  },
  {
   "cell_type": "code",
   "execution_count": 243,
   "metadata": {},
   "outputs": [
    {
     "name": "stdout",
     "output_type": "stream",
     "text": [
      "24\n"
     ]
    },
    {
     "data": {
      "text/plain": [
       "[[1, 2, 3, 4],\n",
       " [1, 2, 4, 3],\n",
       " [1, 3, 2, 4],\n",
       " [1, 3, 4, 2],\n",
       " [1, 4, 2, 3],\n",
       " [1, 4, 3, 2],\n",
       " [2, 1, 3, 4],\n",
       " [2, 1, 4, 3],\n",
       " [2, 3, 1, 4],\n",
       " [2, 3, 4, 1],\n",
       " [2, 4, 1, 3],\n",
       " [2, 4, 3, 1],\n",
       " [3, 1, 2, 4],\n",
       " [3, 1, 4, 2],\n",
       " [3, 2, 1, 4],\n",
       " [3, 2, 4, 1],\n",
       " [3, 4, 1, 2],\n",
       " [3, 4, 2, 1],\n",
       " [4, 1, 2, 3],\n",
       " [4, 1, 3, 2],\n",
       " [4, 2, 1, 3],\n",
       " [4, 2, 3, 1],\n",
       " [4, 3, 1, 2],\n",
       " [4, 3, 2, 1]]"
      ]
     },
     "execution_count": 243,
     "metadata": {},
     "output_type": "execute_result"
    }
   ],
   "source": [
    "l0=list(nodes(n=4))\n",
    "print(len(l0))\n",
    "l0"
   ]
  },
  {
   "cell_type": "code",
   "execution_count": 221,
   "metadata": {},
   "outputs": [
    {
     "data": {
      "text/plain": [
       "[0, 1, 2, 3, 4]"
      ]
     },
     "execution_count": 221,
     "metadata": {},
     "output_type": "execute_result"
    }
   ],
   "source": [
    "list(_)"
   ]
  },
  {
   "cell_type": "code",
   "execution_count": 222,
   "metadata": {},
   "outputs": [
    {
     "data": {
      "text/plain": [
       "'abcdefghijklmnopqrstuvwxyzABCDEFGHIJKLMNOPQRSTUVWXYZ'"
      ]
     },
     "execution_count": 222,
     "metadata": {},
     "output_type": "execute_result"
    }
   ],
   "source": [
    "x"
   ]
  },
  {
   "cell_type": "code",
   "execution_count": 224,
   "metadata": {},
   "outputs": [
    {
     "data": {
      "text/plain": [
       "'abcde'"
      ]
     },
     "execution_count": 224,
     "metadata": {},
     "output_type": "execute_result"
    }
   ],
   "source": [
    "x"
   ]
  },
  {
   "cell_type": "code",
   "execution_count": null,
   "metadata": {},
   "outputs": [],
   "source": []
  }
 ],
 "metadata": {
  "kernelspec": {
   "display_name": "Python 3",
   "language": "python",
   "name": "python3"
  },
  "language_info": {
   "codemirror_mode": {
    "name": "ipython",
    "version": 3
   },
   "file_extension": ".py",
   "mimetype": "text/x-python",
   "name": "python",
   "nbconvert_exporter": "python",
   "pygments_lexer": "ipython3",
   "version": "3.6.0"
  }
 },
 "nbformat": 4,
 "nbformat_minor": 2
}
