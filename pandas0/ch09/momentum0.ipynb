{
 "metadata": {
  "name": "Untitled0"
 },
 "nbformat": 3,
 "nbformat_minor": 0,
 "worksheets": [
  {
   "cells": [
    {
     "cell_type": "heading",
     "level": 1,
     "metadata": {},
     "source": [
      "Financials with Pandas"
     ]
    },
    {
     "cell_type": "code",
     "collapsed": false,
     "input": [
      "import pandas as pd\n",
      "import pandas.io.data as web"
     ],
     "language": "python",
     "metadata": {},
     "outputs": [],
     "prompt_number": 2
    },
    {
     "cell_type": "code",
     "collapsed": false,
     "input": [
      "data = web.get_data_yahoo('SPY', '2006-01-01')\n",
      "data\n",
      "\n",
      "px = data['Adj Close']\n",
      "returns = px.pct_change()\n",
      "\n",
      "def to_index(rets):\n",
      "    index = (1 + rets).cumprod()\n",
      "    first_loc = max(index.notnull().argmax() - 1, 0)\n",
      "    index.values[first_loc] = 1\n",
      "    return index\n",
      "\n",
      "def trend_signal(rets, lookback, lag):\n",
      "    signal = pd.rolling_sum(rets, lookback, min_periods=lookback - 5)\n",
      "    return signal.shift(lag)\n",
      "\n",
      "signal = trend_signal(returns, 100, 3)\n",
      "trade_friday = signal.resample('W-FRI').resample('B', fill_method='ffill')\n",
      "trade_rets = trade_friday.shift(1) * returns\n",
      "\n",
      "# We can then convert the strategy returns to a return index and plot\n",
      "# them (see Figure 11-1):\n",
      "\n",
      "to_index(trade_rets).plot()"
     ],
     "language": "python",
     "metadata": {},
     "outputs": []
    },
    {
     "cell_type": "code",
     "collapsed": false,
     "input": [],
     "language": "python",
     "metadata": {},
     "outputs": []
    }
   ],
   "metadata": {}
  }
 ]
}