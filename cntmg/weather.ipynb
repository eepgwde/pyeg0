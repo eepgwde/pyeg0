{
 "cells": [
  {
   "cell_type": "markdown",
   "id": "37374c52-0536-4057-b5f7-cd9ba1161f8b",
   "metadata": {},
   "source": [
    "# Weather"
   ]
  },
  {
   "cell_type": "code",
   "execution_count": null,
   "id": "844dcef3-f17c-49ce-a794-504c3f39ea18",
   "metadata": {},
   "outputs": [],
   "source": [
    "import pandas as pd\n",
    "import numpy as np\n",
    "import requests\n",
    "import io"
   ]
  },
  {
   "cell_type": "code",
   "execution_count": null,
   "id": "69864c83-e363-4c30-a732-ae5933751239",
   "metadata": {},
   "outputs": [],
   "source": [
    "url = \"https://www.metoffice.gov.uk/pub/data/weather/uk/climate/stationdata/cambridgedata.txt\""
   ]
  },
  {
   "cell_type": "code",
   "execution_count": null,
   "id": "c901a73f-ee36-449d-949d-bd2ad147fdf1",
   "metadata": {},
   "outputs": [],
   "source": [
    "s = requests.get(url).content"
   ]
  },
  {
   "cell_type": "code",
   "execution_count": null,
   "id": "48a507a5-c563-4616-b2b6-c32030b593a5",
   "metadata": {},
   "outputs": [],
   "source": [
    "cols = [ f\"C{x}\" for x in list(range(1,9)) ]\n",
    "cols = [ \"yr\", \"mn\", \"tmax\", \"tmin\", \"af\", \"rain\", \"sun\", \"notes\" ]"
   ]
  },
  {
   "cell_type": "code",
   "execution_count": null,
   "id": "b0251fc9-af1b-4079-92f5-f9ac150869b1",
   "metadata": {},
   "outputs": [],
   "source": [
    "c = pd.read_table(io.StringIO(s.decode(\"utf-8\")), sep='\\s+', skiprows=8, names=cols, index_col=(0, 1), na_values=\"---\")"
   ]
  },
  {
   "cell_type": "code",
   "execution_count": null,
   "id": "5b01fce2-c7ff-4b6e-9b6e-aa8b9ee6abc0",
   "metadata": {},
   "outputs": [],
   "source": [
    "c"
   ]
  },
  {
   "cell_type": "code",
   "execution_count": null,
   "id": "cf1a5cf8-e364-45bb-8fc9-70539e1c9583",
   "metadata": {},
   "outputs": [],
   "source": [
    "d=c.copy()\n",
    "cX = d.applymap(lambda x: x.endswith('*'), na_action=\"ignore\")\n",
    "cX = cX.applymap( lambda x: ( x == True ))"
   ]
  },
  {
   "cell_type": "code",
   "execution_count": null,
   "id": "9ef3bd10-998a-4b97-abf8-cc291ed14cd4",
   "metadata": {},
   "outputs": [],
   "source": [
    "if cX.any().values.any():\n",
    "    print(\"starred values\")"
   ]
  },
  {
   "cell_type": "code",
   "execution_count": null,
   "id": "51081806-2150-4914-a6e8-9a98ce5bfc26",
   "metadata": {},
   "outputs": [],
   "source": [
    "def repl0(x):\n",
    "    if x.endswith(\"*\"):\n",
    "        return x[:-1]\n",
    "    return x\n",
    "\n",
    "c1 = d.applymap(lambda x: repl0(x), na_action=\"ignore\")"
   ]
  },
  {
   "cell_type": "code",
   "execution_count": null,
   "id": "8a4b77e9-00e6-4009-a1e2-030e15dbeb93",
   "metadata": {},
   "outputs": [],
   "source": [
    "ncols = [ \"tmax\", \"tmin\", \"af\", \"rain\", \"sun\" ]"
   ]
  },
  {
   "cell_type": "code",
   "execution_count": null,
   "id": "f218f981-c0f6-48af-9422-a14d4d627d68",
   "metadata": {},
   "outputs": [],
   "source": [
    "itr = iter(ncols)\n",
    "while (x:=next(itr, None)) is not None:\n",
    "    c1[x] = pd.to_numeric(c1[x])"
   ]
  },
  {
   "cell_type": "code",
   "execution_count": null,
   "id": "921f9d05-3ba3-4046-a12d-6e23d698147c",
   "metadata": {},
   "outputs": [],
   "source": [
    "c1.dtypes"
   ]
  },
  {
   "cell_type": "code",
   "execution_count": null,
   "id": "2b38f30e-96fd-4df1-88c9-14259535661d",
   "metadata": {},
   "outputs": [],
   "source": [
    "c1.to_csv(\"camb.csv\")\n",
    "cX.to_csv(\"camb-starred.csv\")"
   ]
  },
  {
   "cell_type": "code",
   "execution_count": null,
   "id": "8d06055b-6373-4ad4-8d2b-0fa701cd0c35",
   "metadata": {},
   "outputs": [],
   "source": [
    "cX = d.applymap(lambda x: x.endswith('*'), na_action=\"ignore\")"
   ]
  },
  {
   "cell_type": "code",
   "execution_count": null,
   "id": "86c0f32d-391d-48c0-b9a2-d6d46333ec13",
   "metadata": {},
   "outputs": [],
   "source": [
    "cX"
   ]
  },
  {
   "cell_type": "code",
   "execution_count": null,
   "id": "002b819c-a989-4024-a6d8-1e5ef02b408b",
   "metadata": {},
   "outputs": [],
   "source": []
  },
  {
   "cell_type": "code",
   "execution_count": null,
   "id": "118a3536-4386-431f-b052-d247da0d8cac",
   "metadata": {},
   "outputs": [],
   "source": []
  }
 ],
 "metadata": {
  "kernelspec": {
   "display_name": "Python 3 (ipykernel)",
   "language": "python",
   "name": "python3"
  },
  "language_info": {
   "codemirror_mode": {
    "name": "ipython",
    "version": 3
   },
   "file_extension": ".py",
   "mimetype": "text/x-python",
   "name": "python",
   "nbconvert_exporter": "python",
   "pygments_lexer": "ipython3",
   "version": "3.8.12"
  }
 },
 "nbformat": 4,
 "nbformat_minor": 5
}
