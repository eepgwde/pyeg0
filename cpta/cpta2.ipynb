{
 "cells": [
  {
   "cell_type": "markdown",
   "metadata": {},
   "source": [
    "# Capita\n",
    "\n",
    "Technical Challenge for Data Science Candidates\n",
    "\n",
    "Question 2: Exploratory data analysis to show how the population progressed by regions and age groups. Part 1. Data preparation."
   ]
  },
  {
   "cell_type": "code",
   "execution_count": 125,
   "metadata": {},
   "outputs": [
    {
     "name": "stdout",
     "output_type": "stream",
     "text": [
      "The autoreload extension is already loaded. To reload it, use:\n",
      "  %reload_ext autoreload\n"
     ]
    },
    {
     "data": {
      "text/plain": [
       "'0.24.2'"
      ]
     },
     "execution_count": 125,
     "metadata": {},
     "output_type": "execute_result"
    }
   ],
   "source": [
    "import numpy as np\n",
    "import pandas as pd\n",
    "import math\n",
    "import json\n",
    "\n",
    "from pyjstat import pyjstat\n",
    "from os import path\n",
    "\n",
    "import scipy.stats as st\n",
    "import statsmodels as sm\n",
    "import statsmodels.api as smi\n",
    "\n",
    "import matplotlib\n",
    "from cycler import cycler\n",
    "import matplotlib.pyplot as plt\n",
    "\n",
    "# this is the local Utility module\n",
    "from cpta import Utility\n",
    "\n",
    "%load_ext autoreload\n",
    "%autoreload 2\n",
    "\n",
    "pd.__version__"
   ]
  },
  {
   "cell_type": "code",
   "execution_count": 27,
   "metadata": {},
   "outputs": [],
   "source": [
    "# If you turn this feature on, you can display each result as it happens.\n",
    "from IPython.core.interactiveshell import InteractiveShell\n",
    "InteractiveShell.ast_node_interactivity = \"all\""
   ]
  },
  {
   "cell_type": "code",
   "execution_count": 28,
   "metadata": {},
   "outputs": [
    {
     "data": {
      "text/plain": [
       "True"
      ]
     },
     "execution_count": 28,
     "metadata": {},
     "output_type": "execute_result"
    }
   ],
   "source": [
    "fl2 = 'stats.pickle'\n",
    "path.exists(fl2)"
   ]
  },
  {
   "cell_type": "code",
   "execution_count": 29,
   "metadata": {},
   "outputs": [],
   "source": [
    "# There's a future warning - minor change made in pyjstat\n",
    "if not path.exists(fl2):\n",
    "    fl1 = 'https://www.nomisweb.co.uk/api/v01/dataset/NM_31_1.jsonstat.json'\n",
    "    dataset = pyjstat.Dataset.read(fl1)\n",
    "    df = dataset.write('dataframe')\n",
    "    df.to_pickle(fl2)\n",
    "else:\n",
    "    df = pd.read_pickle(fl2)"
   ]
  },
  {
   "cell_type": "code",
   "execution_count": 108,
   "metadata": {},
   "outputs": [
    {
     "name": "stdout",
     "output_type": "stream",
     "text": [
      "<class 'pandas.core.frame.DataFrame'>\n",
      "RangeIndex: 22800 entries, 0 to 22799\n",
      "Data columns (total 6 columns):\n",
      "date         22800 non-null int32\n",
      "geography    22800 non-null category\n",
      "sex          22800 non-null category\n",
      "age          22800 non-null category\n",
      "measures     22800 non-null category\n",
      "value        20358 non-null float64\n",
      "dtypes: category(4), float64(1), int32(1)\n",
      "memory usage: 357.5 KB\n",
      "<class 'pandas.core.frame.DataFrame'>\n",
      "RangeIndex: 22800 entries, 0 to 22799\n",
      "Data columns (total 6 columns):\n",
      "date         22800 non-null int32\n",
      "geography    22800 non-null category\n",
      "sex          22800 non-null category\n",
      "age          22800 non-null category\n",
      "measures     22800 non-null category\n",
      "value        20358 non-null float64\n",
      "dtypes: category(4), float64(1), int32(1)\n",
      "memory usage: 357.5 KB\n"
     ]
    }
   ],
   "source": [
    "## Categories can be simpler\n",
    "df.date = df.date.astype('int32')\n",
    "df.info()\n",
    "df[df.select_dtypes(['object']).columns] = df.select_dtypes(['object']).apply(lambda x: x.astype('category'))\n",
    "df.info()"
   ]
  },
  {
   "cell_type": "code",
   "execution_count": 109,
   "metadata": {},
   "outputs": [],
   "source": [
    "# This utility has a simplify0 method that applies question 1 manipulations to any age group and year\n",
    "i0 = Utility.instance()"
   ]
  },
  {
   "cell_type": "code",
   "execution_count": 110,
   "metadata": {},
   "outputs": [],
   "source": [
    "# It splits up into these iterations.\n",
    "ages = set(df.age.values)\n",
    "dates = set(df.date)"
   ]
  },
  {
   "cell_type": "code",
   "execution_count": 111,
   "metadata": {},
   "outputs": [
    {
     "data": {
      "text/html": [
       "<div>\n",
       "<style scoped>\n",
       "    .dataframe tbody tr th:only-of-type {\n",
       "        vertical-align: middle;\n",
       "    }\n",
       "\n",
       "    .dataframe tbody tr th {\n",
       "        vertical-align: top;\n",
       "    }\n",
       "\n",
       "    .dataframe thead th {\n",
       "        text-align: right;\n",
       "    }\n",
       "</style>\n",
       "<table border=\"1\" class=\"dataframe\">\n",
       "  <thead>\n",
       "    <tr style=\"text-align: right;\">\n",
       "      <th></th>\n",
       "      <th>date</th>\n",
       "      <th>geography</th>\n",
       "      <th>age</th>\n",
       "      <th>Male</th>\n",
       "      <th>Female</th>\n",
       "      <th>Total</th>\n",
       "    </tr>\n",
       "  </thead>\n",
       "  <tbody>\n",
       "    <tr>\n",
       "      <th>0</th>\n",
       "      <td>2018</td>\n",
       "      <td>England</td>\n",
       "      <td>All ages</td>\n",
       "      <td>27668000.0</td>\n",
       "      <td>28309300.0</td>\n",
       "      <td>55977200.0</td>\n",
       "    </tr>\n",
       "    <tr>\n",
       "      <th>1</th>\n",
       "      <td>2018</td>\n",
       "      <td>Northern Ireland</td>\n",
       "      <td>All ages</td>\n",
       "      <td>926200.0</td>\n",
       "      <td>955400.0</td>\n",
       "      <td>1881600.0</td>\n",
       "    </tr>\n",
       "    <tr>\n",
       "      <th>2</th>\n",
       "      <td>2018</td>\n",
       "      <td>Scotland</td>\n",
       "      <td>All ages</td>\n",
       "      <td>2648800.0</td>\n",
       "      <td>2789300.0</td>\n",
       "      <td>5438100.0</td>\n",
       "    </tr>\n",
       "    <tr>\n",
       "      <th>3</th>\n",
       "      <td>2018</td>\n",
       "      <td>UK</td>\n",
       "      <td>All ages</td>\n",
       "      <td>32790300.0</td>\n",
       "      <td>33645300.0</td>\n",
       "      <td>66435500.0</td>\n",
       "    </tr>\n",
       "    <tr>\n",
       "      <th>4</th>\n",
       "      <td>2018</td>\n",
       "      <td>Wales</td>\n",
       "      <td>All ages</td>\n",
       "      <td>1547300.0</td>\n",
       "      <td>1591300.0</td>\n",
       "      <td>3138600.0</td>\n",
       "    </tr>\n",
       "  </tbody>\n",
       "</table>\n",
       "</div>"
      ],
      "text/plain": [
       "   date         geography       age        Male      Female       Total\n",
       "0  2018           England  All ages  27668000.0  28309300.0  55977200.0\n",
       "1  2018  Northern Ireland  All ages    926200.0    955400.0   1881600.0\n",
       "2  2018          Scotland  All ages   2648800.0   2789300.0   5438100.0\n",
       "3  2018                UK  All ages  32790300.0  33645300.0  66435500.0\n",
       "4  2018             Wales  All ages   1547300.0   1591300.0   3138600.0"
      ]
     },
     "execution_count": 111,
     "metadata": {},
     "output_type": "execute_result"
    },
    {
     "data": {
      "text/plain": [
       "25"
      ]
     },
     "execution_count": 111,
     "metadata": {},
     "output_type": "execute_result"
    },
    {
     "data": {
      "text/plain": [
       "38"
      ]
     },
     "execution_count": 111,
     "metadata": {},
     "output_type": "execute_result"
    },
    {
     "data": {
      "text/plain": [
       "4750"
      ]
     },
     "execution_count": 111,
     "metadata": {},
     "output_type": "execute_result"
    }
   ],
   "source": [
    "# Check the expected length.\n",
    "\n",
    "df1 = i0.simplify0(df)\n",
    "df1\n",
    "len(ages)\n",
    "len(dates)\n",
    "len(ages) * len(dates) * len(set(df1.geography))"
   ]
  },
  {
   "cell_type": "code",
   "execution_count": 112,
   "metadata": {},
   "outputs": [
    {
     "data": {
      "text/plain": [
       "950"
      ]
     },
     "execution_count": 112,
     "metadata": {},
     "output_type": "execute_result"
    }
   ],
   "source": [
    "# Form parameter pairs and iterate through them all.\n",
    "# This is very time-consuming.\n",
    "\n",
    "t0 = [ zip([x] * len(ages), ages) for x in dates ]\n",
    "\n",
    "def step0():\n",
    "    \"\"\"\n",
    "    This provides an iterator across the parameters in t0 and returns the result of an invocation of simplify0\n",
    "    \"\"\"\n",
    "    for x in t0:\n",
    "        for dt0, age0 in x:\n",
    "            yield i0.simplify0(df, dt0=dt0, age0=age0)\n",
    "\n",
    "t1 = [ x for x in step0() ]\n",
    "len(t1)"
   ]
  },
  {
   "cell_type": "code",
   "execution_count": 199,
   "metadata": {},
   "outputs": [
    {
     "name": "stdout",
     "output_type": "stream",
     "text": [
      "<class 'pandas.core.frame.DataFrame'>\n",
      "RangeIndex: 4750 entries, 0 to 4749\n",
      "Data columns (total 6 columns):\n",
      "date         4750 non-null int64\n",
      "geography    4750 non-null object\n",
      "age          4750 non-null object\n",
      "Male         4343 non-null float64\n",
      "Female       4343 non-null float64\n",
      "Total        4343 non-null float64\n",
      "dtypes: float64(3), int64(1), object(2)\n",
      "memory usage: 222.7+ KB\n"
     ]
    }
   ],
   "source": [
    "df2 = pd.concat(t1).reset_index()\n",
    "df2.drop(columns='index', axis=1, inplace=True)\n",
    "df2.info()\n",
    "\n",
    "## Reduce numbers to millions\n",
    "df2.Male = df2.Male / 1000000\n",
    "df2.Female = df2.Female / 1000000\n",
    "df2.Total = df2.Total / 1000000"
   ]
  },
  {
   "cell_type": "code",
   "execution_count": 200,
   "metadata": {},
   "outputs": [],
   "source": [
    "df2.to_pickle('stats1.pickle')"
   ]
  },
  {
   "cell_type": "code",
   "execution_count": 201,
   "metadata": {},
   "outputs": [
    {
     "data": {
      "text/plain": [
       "{'Aged 0 - 15',\n",
       " 'Aged 1 - 4 years',\n",
       " 'Aged 10 - 14 years',\n",
       " 'Aged 15 - 19 years',\n",
       " 'Aged 16 - 59/64',\n",
       " 'Aged 16 - 64',\n",
       " 'Aged 18 - 24',\n",
       " 'Aged 20 - 24 years',\n",
       " 'Aged 25 - 29 years',\n",
       " 'Aged 30 - 34 years',\n",
       " 'Aged 35 - 39 years',\n",
       " 'Aged 40 - 44 years',\n",
       " 'Aged 45 - 49 years',\n",
       " 'Aged 5 - 9 years',\n",
       " 'Aged 50 - 54 years',\n",
       " 'Aged 55 - 59 years',\n",
       " 'Aged 60 - 64 years',\n",
       " 'Aged 65 - 69 years',\n",
       " 'Aged 65 and over',\n",
       " 'Aged 70 - 74 years',\n",
       " 'Aged 75 - 79 years',\n",
       " 'Aged 80 - 84 years',\n",
       " 'Aged 85 and over',\n",
       " 'Aged under 1 year',\n",
       " 'All ages'}"
      ]
     },
     "execution_count": 201,
     "metadata": {},
     "output_type": "execute_result"
    }
   ],
   "source": [
    "ages"
   ]
  },
  {
   "cell_type": "markdown",
   "metadata": {},
   "source": [
    "## Making use of Excel's Pivot Table Feature\n",
    "\n",
    "Excel's Pivot Chart is a useful visualisation tool. Produce some output CSV files to make use of it. (Note what is done here can be done in Excel using filters on the pivot table or manipulating the data. It is easier to do it here.)\n",
    "\n",
    "To make use of the column sum and row sum feature, let's remove the sum figures in the data. \n",
    "\n",
    " - By country: remove UK\n",
    " - By age group: remove All ages\n",
    " \n",
    "A point to note is that age groups appear in two types:\n",
    "\n",
    " - By band: 'Aged 0 - 15', 'Aged 16 - 59/64', 'Aged 65 and over', 'All ages'\n",
    " - By twientieth: ie. 5 years at a time."
   ]
  },
  {
   "cell_type": "code",
   "execution_count": 202,
   "metadata": {},
   "outputs": [],
   "source": [
    "## Use Excel for some pivot charts\n",
    "\n",
    "# Use this to generate filenames\n",
    "i0._seq0 = 0\n",
    "fmt = lambda t0: \"cache/bak/cpta-{:02d}.csv\".format(t0)\n",
    "flnmr0 = lambda : next(i0.seq0(fmt=fmt))"
   ]
  },
  {
   "cell_type": "code",
   "execution_count": 203,
   "metadata": {},
   "outputs": [],
   "source": [
    "# Write out the unadulterated data\n",
    "df2.to_csv(flnmr0(), index=False)"
   ]
  },
  {
   "cell_type": "code",
   "execution_count": 204,
   "metadata": {},
   "outputs": [],
   "source": [
    "## Use column sum feature of Excel's pivot table to show proportions by country\n",
    "# remove all UK \n",
    "\n",
    "(df2[ df2.geography != 'UK' ]).to_csv(flnmr0(), index=False)"
   ]
  },
  {
   "cell_type": "code",
   "execution_count": 205,
   "metadata": {},
   "outputs": [],
   "source": [
    "## By age-bands\n",
    "agesB = set([ 'Aged 0 - 15', 'Aged 16 - 59/64', 'Aged 65 and over' ])"
   ]
  },
  {
   "cell_type": "code",
   "execution_count": 206,
   "metadata": {},
   "outputs": [],
   "source": [
    "( df2[ df2.age.isin(agesB) ] ).to_csv(flnmr0(), index=False)"
   ]
  },
  {
   "cell_type": "code",
   "execution_count": 207,
   "metadata": {},
   "outputs": [
    {
     "data": {
      "text/plain": [
       "{'Aged 1 - 4 years',\n",
       " 'Aged 10 - 14 years',\n",
       " 'Aged 15 - 19 years',\n",
       " 'Aged 16 - 64',\n",
       " 'Aged 18 - 24',\n",
       " 'Aged 20 - 24 years',\n",
       " 'Aged 25 - 29 years',\n",
       " 'Aged 30 - 34 years',\n",
       " 'Aged 35 - 39 years',\n",
       " 'Aged 40 - 44 years',\n",
       " 'Aged 45 - 49 years',\n",
       " 'Aged 5 - 9 years',\n",
       " 'Aged 50 - 54 years',\n",
       " 'Aged 55 - 59 years',\n",
       " 'Aged 60 - 64 years',\n",
       " 'Aged 65 - 69 years',\n",
       " 'Aged 70 - 74 years',\n",
       " 'Aged 75 - 79 years',\n",
       " 'Aged 80 - 84 years',\n",
       " 'Aged 85 and over',\n",
       " 'Aged under 1 year'}"
      ]
     },
     "execution_count": 207,
     "metadata": {},
     "output_type": "execute_result"
    }
   ],
   "source": [
    "ages20 = ages.difference(agesB.union(set(['All ages'])))\n",
    "ages20"
   ]
  },
  {
   "cell_type": "code",
   "execution_count": 208,
   "metadata": {},
   "outputs": [],
   "source": [
    "## By 20ths\n",
    "\n",
    "( df2[ df2.age.isin(ages20) ] ).to_csv(flnmr0(), index=False)"
   ]
  },
  {
   "cell_type": "code",
   "execution_count": null,
   "metadata": {},
   "outputs": [],
   "source": []
  }
 ],
 "metadata": {
  "kernelspec": {
   "display_name": "Python 3",
   "language": "python",
   "name": "python3"
  },
  "language_info": {
   "codemirror_mode": {
    "name": "ipython",
    "version": 3
   },
   "file_extension": ".py",
   "mimetype": "text/x-python",
   "name": "python",
   "nbconvert_exporter": "python",
   "pygments_lexer": "ipython3",
   "version": "3.7.3"
  }
 },
 "nbformat": 4,
 "nbformat_minor": 4
}
