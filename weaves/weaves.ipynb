{
 "cells": [
  {
   "cell_type": "code",
   "execution_count": 51,
   "metadata": {},
   "outputs": [
    {
     "name": "stdout",
     "output_type": "stream",
     "text": [
      "The autoreload extension is already loaded. To reload it, use:\n",
      "  %reload_ext autoreload\n"
     ]
    }
   ],
   "source": [
    "import os\n",
    "import datetime\n",
    "\n",
    "import pandas as pd\n",
    "import numpy as np\n",
    "\n",
    "import logging\n",
    "from weaves import Utility\n",
    "\n",
    "%load_ext autoreload\n",
    "%autoreload 2"
   ]
  },
  {
   "cell_type": "code",
   "execution_count": 52,
   "metadata": {},
   "outputs": [],
   "source": [
    "logging.basicConfig(filename='test.log', level=logging.DEBUG)\n",
    "logger = logging.getLogger('Test')\n",
    "sh = logging.StreamHandler()\n",
    "logger.addHandler(sh)"
   ]
  },
  {
   "cell_type": "code",
   "execution_count": 59,
   "metadata": {},
   "outputs": [
    {
     "data": {
      "text/html": [
       "<div>\n",
       "<style scoped>\n",
       "    .dataframe tbody tr th:only-of-type {\n",
       "        vertical-align: middle;\n",
       "    }\n",
       "\n",
       "    .dataframe tbody tr th {\n",
       "        vertical-align: top;\n",
       "    }\n",
       "\n",
       "    .dataframe thead th {\n",
       "        text-align: right;\n",
       "    }\n",
       "</style>\n",
       "<table border=\"1\" class=\"dataframe\">\n",
       "  <thead>\n",
       "    <tr style=\"text-align: right;\">\n",
       "      <th></th>\n",
       "      <th>host</th>\n",
       "      <th>protocol</th>\n",
       "      <th>server</th>\n",
       "      <th>port</th>\n",
       "    </tr>\n",
       "  </thead>\n",
       "  <tbody>\n",
       "    <tr>\n",
       "      <th>0</th>\n",
       "      <td>j1</td>\n",
       "      <td>bolt</td>\n",
       "      <td>empty</td>\n",
       "      <td>37687</td>\n",
       "    </tr>\n",
       "    <tr>\n",
       "      <th>1</th>\n",
       "      <td>j1</td>\n",
       "      <td>http</td>\n",
       "      <td>empty</td>\n",
       "      <td>37474</td>\n",
       "    </tr>\n",
       "    <tr>\n",
       "      <th>2</th>\n",
       "      <td>j1</td>\n",
       "      <td>https</td>\n",
       "      <td>empty</td>\n",
       "      <td>37473</td>\n",
       "    </tr>\n",
       "    <tr>\n",
       "      <th>3</th>\n",
       "      <td>j1</td>\n",
       "      <td>bolt</td>\n",
       "      <td>movies</td>\n",
       "      <td>27687</td>\n",
       "    </tr>\n",
       "    <tr>\n",
       "      <th>4</th>\n",
       "      <td>j1</td>\n",
       "      <td>http</td>\n",
       "      <td>movies</td>\n",
       "      <td>27474</td>\n",
       "    </tr>\n",
       "    <tr>\n",
       "      <th>5</th>\n",
       "      <td>j1</td>\n",
       "      <td>https</td>\n",
       "      <td>movies</td>\n",
       "      <td>27473</td>\n",
       "    </tr>\n",
       "    <tr>\n",
       "      <th>6</th>\n",
       "      <td>j1</td>\n",
       "      <td>bolt</td>\n",
       "      <td>default</td>\n",
       "      <td>7687</td>\n",
       "    </tr>\n",
       "    <tr>\n",
       "      <th>7</th>\n",
       "      <td>j1</td>\n",
       "      <td>http</td>\n",
       "      <td>default</td>\n",
       "      <td>7474</td>\n",
       "    </tr>\n",
       "    <tr>\n",
       "      <th>8</th>\n",
       "      <td>j1</td>\n",
       "      <td>https</td>\n",
       "      <td>default</td>\n",
       "      <td>7473</td>\n",
       "    </tr>\n",
       "    <tr>\n",
       "      <th>9</th>\n",
       "      <td>j1</td>\n",
       "      <td>bolt</td>\n",
       "      <td>demo</td>\n",
       "      <td>17687</td>\n",
       "    </tr>\n",
       "    <tr>\n",
       "      <th>10</th>\n",
       "      <td>j1</td>\n",
       "      <td>http</td>\n",
       "      <td>demo</td>\n",
       "      <td>17474</td>\n",
       "    </tr>\n",
       "    <tr>\n",
       "      <th>11</th>\n",
       "      <td>j1</td>\n",
       "      <td>https</td>\n",
       "      <td>demo</td>\n",
       "      <td>17473</td>\n",
       "    </tr>\n",
       "    <tr>\n",
       "      <th>12</th>\n",
       "      <td>3lbpb84</td>\n",
       "      <td>auth</td>\n",
       "      <td>weaves</td>\n",
       "      <td>-1</td>\n",
       "    </tr>\n",
       "  </tbody>\n",
       "</table>\n",
       "</div>"
      ],
      "text/plain": [
       "       host protocol   server   port\n",
       "0        j1     bolt    empty  37687\n",
       "1        j1     http    empty  37474\n",
       "2        j1    https    empty  37473\n",
       "3        j1     bolt   movies  27687\n",
       "4        j1     http   movies  27474\n",
       "5        j1    https   movies  27473\n",
       "6        j1     bolt  default   7687\n",
       "7        j1     http  default   7474\n",
       "8        j1    https  default   7473\n",
       "9        j1     bolt     demo  17687\n",
       "10       j1     http     demo  17474\n",
       "11       j1    https     demo  17473\n",
       "12  3lbpb84     auth   weaves     -1"
      ]
     },
     "execution_count": 59,
     "metadata": {},
     "output_type": "execute_result"
    }
   ],
   "source": [
    "df = Utility.instance(logger=logger).neo4j(file=None);\n",
    "df"
   ]
  },
  {
   "cell_type": "code",
   "execution_count": 125,
   "metadata": {},
   "outputs": [
    {
     "data": {
      "text/plain": [
       "'bolt://j1:27687'"
      ]
     },
     "execution_count": 125,
     "metadata": {},
     "output_type": "execute_result"
    }
   ],
   "source": [
    "s = Utility.instance(logger=logger).neo4j(file=None, url={'host': 'j1', 'server': 'movies'})\n",
    "s"
   ]
  },
  {
   "cell_type": "code",
   "execution_count": 130,
   "metadata": {},
   "outputs": [
    {
     "data": {
      "text/plain": [
       "('weaves', '3lbpb84')"
      ]
     },
     "execution_count": 130,
     "metadata": {},
     "output_type": "execute_result"
    }
   ],
   "source": [
    "s = Utility.instance(logger=logger).neo4j(file=None, auth=dict())\n",
    "s"
   ]
  },
  {
   "cell_type": "code",
   "execution_count": 97,
   "metadata": {},
   "outputs": [
    {
     "data": {
      "text/plain": [
       "{'host': 'j1', 'protocol': 'bolt', 'server': 'movies', 'port': 27687}"
      ]
     },
     "execution_count": 97,
     "metadata": {},
     "output_type": "execute_result"
    }
   ],
   "source": [
    "d0,df=s\n",
    "df.empty\n",
    "df.iloc[0].to_dict()\n",
    "# df[(df['host']==d0['host']) & (df['protocol']==d0['protocol']) & (df['server']==d0['server'])]"
   ]
  },
  {
   "cell_type": "code",
   "execution_count": 4,
   "metadata": {},
   "outputs": [],
   "source": [
    "import urllib.request\n",
    "# Download the file from `url`, save it in a temporary directory and get the\n",
    "# path to it (e.g. '/tmp/tmpb48zma.txt') in the `file_name` variable:\n",
    "# It won't copy to the TMP directory if it is a file URL.\n",
    "url = 'file:////cache/baks/0/archive/text8_lines1'\n",
    "url = 'http://j1/~weaves/text8_lines1'\n",
    "\n",
    "file_name, headers = urllib.request.urlretrieve(url)"
   ]
  },
  {
   "cell_type": "code",
   "execution_count": 5,
   "metadata": {},
   "outputs": [
    {
     "name": "stdout",
     "output_type": "stream",
     "text": [
      "/tmp/tmpqrilfe39\n"
     ]
    },
    {
     "data": {
      "text/plain": [
       "<http.client.HTTPMessage at 0x7f89d409e6d8>"
      ]
     },
     "execution_count": 5,
     "metadata": {},
     "output_type": "execute_result"
    }
   ],
   "source": [
    "print(file_name)\n",
    "headers"
   ]
  },
  {
   "cell_type": "code",
   "execution_count": 11,
   "metadata": {},
   "outputs": [
    {
     "name": "stdout",
     "output_type": "stream",
     "text": [
      "/tmp/tmp3l_m2o_r\n",
      " anarchism originated as a term of abuse first used against early working class \n",
      "radicals including the diggers of the english revolution and the sans culottes \n",
      "of the french revolution whilst the term is still used in a pejorative way to \n",
      "describe any act that used violent means to destroy the organization of society \n",
      "it has also been taken up as a positive label by self defined anarchists the \n",
      "word anarchism is derived from the greek without archons ruler chief king \n",
      "anarchism as a political philosophy is the belief that rulers are unnecessary \n",
      "and should be abolished although there are differing interpretations of what \n",
      "this means anarchism also refers to related social movements that advocate the \n",
      "elimination of authoritarian institutions particularly the state the word \n",
      "anarchy as most anarchists use it does not imply chaos nihilism or anomie but \n",
      "rather a harmonious anti authoritarian society in place of what are regarded as \n",
      "authoritarian political structures and coercive economic institutions \n",
      "anarchists advocate social relations based upon voluntary association of \n",
      "autonomous individuals mutual aid and self governance while anarchism is most \n",
      "easily defined by what it is against anarchists also offer positive visions of \n",
      "what they believe to be a truly free society however ideas about how an \n",
      "anarchist society might work vary considerably especially with respect to \n",
      "economics there is also disagreement about how a free society might be brought \n",
      "about origins and predecessors kropotkin and others argue that before recorded \n",
      "history human society was organized on anarchist principles most \n",
      "anthropologists follow kropotkin and engels in believing that hunter gatherer \n",
      "bands were egalitarian and lacked division of labour accumulated wealth or \n",
      "decreed law and had equal access to resources william godwin anarchists \n",
      "including the the anarchy organisation and rothbard find anarchist attitudes in \n",
      "taoism from ancient china kropotkin found similar ideas in stoic zeno of citium \n",
      "according to kropotkin zeno repudiated the omnipotence of the state its \n",
      "intervention and regimentation and proclaimed the sovereignty of the moral law \n",
      "of the individual the anabaptists of one six th century europe are sometimes \n",
      "considered to be religious forerunners of modern anarchism bertrand russell in \n",
      "his history of western philosophy writes that the anabaptists repudiated all \n",
      "law since they held that the good man will be guided at every moment by the \n",
      "holy spirit from this premise they arrive at communism the diggers or true \n",
      "levellers were an early communistic movement during the time of the english \n",
      "civil war and are considered by some as forerunners of modern anarchism in the \n",
      "modern era the first to use the term to mean something other than chaos was \n",
      "louis armand baron de lahontan in his nouveaux voyages dans l am rique \n",
      "septentrionale one seven zero three where he described the indigenous american \n",
      "society which had no state laws prisons priests or private property as being in \n",
      "anarchy russell means a libertarian and leader in the american indian movement \n",
      "has repeatedly stated that he is an anarchist and so are all his ancestors in \n",
      "one seven nine three in the thick of the french revolution william godwin \n",
      "published an enquiry concerning political justice although godwin did not use \n",
      "the word anarchism many later anarchists have regarded this book as the first \n",
      "major anarchist text and godwin as the founder of philosophical anarchism but \n",
      "at this point no anarchist movement yet existed and the term anarchiste was \n",
      "known mainly as an insult hurled by the bourgeois girondins at more radical \n",
      "elements in the french revolution the first self labelled anarchist pierre \n",
      "joseph proudhon it is commonly held that it wasn t until pierre joseph proudhon \n",
      "published what is property in one eight four zero that the term anarchist was \n",
      "adopted as a self description it is for this reason that some claim proudhon as \n",
      "the founder of modern anarchist theory in what is property proudhon answers \n",
      "with the famous accusation property is theft in this work he opposed the \n",
      "institution of decreed property propri t where owners have complete rights to \n",
      "use and abuse their property as they wish such as exploiting workers for profit \n",
      "in its place proudhon supported what he called possession individuals can have \n",
      "limited rights to use resources capital and goods in accordance with principles \n",
      "of equality and justice proudhon s vision of anarchy which he called mutualism \n",
      "mutuellisme involved an exchange economy where individuals and groups could \n",
      "trade the products of their labor using labor notes which represented the \n",
      "amount of working time involved in production this would ensure that no one \n",
      "would profit from the labor of others workers could freely join together in co \n",
      "operative workshops an interest free bank would be set up to provide everyone \n",
      "with access to the means of production proudhon s ideas were influential within \n",
      "french working class movements and his followers were active in the revolution \n",
      "of one eight four eight in france proudhon s philosophy of property is complex \n",
      "it was developed in a number of works over his lifetime and there are differing \n",
      "interpretations of some of his ideas for more detailed discussion see here max \n",
      "stirner s egoism in his the ego and its own stirner argued that most commonly \n",
      "accepted social institutions including the notion of state property as a right \n",
      "natural rights in general and the very notion of society were mere illusions or \n",
      "ghosts in the mind saying of society that the individuals are its reality he \n",
      "advocated egoism and a form of amoralism in which individuals would unite in \n",
      "associations of egoists only when it was in their self interest to do so for \n",
      "him property simply comes about through might whoever knows how to take to \n",
      "defend the thing to him belongs property and what i have in my power that is my \n",
      "own so long as i assert myself as holder i am the proprietor of the thing \n",
      "stirner never called himself an anarchist he accepted only the label egoist \n",
      "nevertheless his ideas were influential on many individualistically inclined \n",
      "anarchists although interpretations of his thought are diverse american \n",
      "individualist anarchism benjamin tucker in one eight two five josiah warren had \n",
      "participated in a communitarian experiment headed by robert owen called new \n",
      "harmony which failed in a few years amidst much internal conflict warren blamed \n",
      "the community s failure on a lack of individual sovereignty and a lack of \n",
      "private property warren proceeded to organise experimenal anarchist communities \n",
      "which respected what he called the sovereignty of the individual at utopia and \n",
      "modern times in one eight three three warren wrote and published the peaceful \n",
      "revolutionist which some have noted to be the first anarchist periodical ever \n",
      "published benjamin tucker says that warren was the first man to expound and \n",
      "formulate the doctrine now known as anarchism liberty xiv december one nine \n",
      "zero zero one benjamin tucker became interested in anarchism through meeting \n",
      "josiah warren and william b greene he edited and published liberty from august \n",
      "one eight eight one to april one nine zero eight it is widely considered to be \n",
      "the finest individualist anarchist periodical ever issued in the english \n",
      "language tucker s conception of individualist anarchism incorporated the ideas \n",
      "of a variety of theorists greene s ideas on mutual banking warren s ideas on \n",
      "cost as the limit of price a heterodox variety of labour theory of value \n",
      "proudhon s market anarchism max stirner s egoism and herbert spencer s law of \n",
      "equal freedom tucker strongly supported the individual s right to own the \n",
      "product of his or her labour as private property and believed in a market \n",
      "\n"
     ]
    }
   ],
   "source": [
    "import shutil\n",
    "import tempfile\n",
    "import urllib.request\n",
    "\n",
    "url = 'http://j1/~weaves/text8_lines1'\n",
    "url = 'file:////cache/baks/0/archive/text8_lines1'\n",
    "\n",
    "with urllib.request.urlopen(url) as response:\n",
    "    with tempfile.NamedTemporaryFile(delete=False) as tmp_file:\n",
    "        shutil.copyfileobj(response, tmp_file)\n",
    "\n",
    "print(tmp_file.name)\n",
    "        \n",
    "with open(tmp_file.name) as html:\n",
    "    print(html.read())\n",
    "    pass"
   ]
  },
  {
   "cell_type": "code",
   "execution_count": 2,
   "metadata": {},
   "outputs": [],
   "source": [
    "import weaves\n",
    "from weaves.preferences import Pair0, Prefer0, NoPrefer0"
   ]
  },
  {
   "cell_type": "code",
   "execution_count": 3,
   "metadata": {},
   "outputs": [
    {
     "name": "stdout",
     "output_type": "stream",
     "text": [
      "0.1.0\n",
      "$Id: e6c1cce8af7f88d8635a28819453f91ae0cb6f85 $\n"
     ]
    }
   ],
   "source": [
    "print(weaves.__version__)\n",
    "print(weaves.__Id__)"
   ]
  },
  {
   "cell_type": "code",
   "execution_count": 4,
   "metadata": {},
   "outputs": [
    {
     "name": "stdout",
     "output_type": "stream",
     "text": [
      "4\n",
      "('A', 'B', 'C')\n",
      "('D', 'B', 'A', 'C')\n",
      "('A', 'B', 'D', 'C')\n",
      "('A', 'C', 'D', 'B')\n",
      "('B', 'A', 'D', 'C')\n",
      "('D', 'C', 'B', 'A')\n",
      "('B', 'C')\n",
      "('B', 'A', 'C', 'D')\n",
      "('C', 'B', 'D')\n",
      "('B', 'C', 'A')\n",
      "('D', 'A', 'B', 'C')\n",
      "('A',)\n",
      "('D',)\n",
      "('C',)\n",
      "('D', 'C', 'B')\n",
      "('B', 'D')\n",
      "('D', 'A', 'B')\n",
      "('D', 'B', 'C')\n",
      "('B', 'C', 'A', 'D')\n",
      "('C', 'D', 'B')\n",
      "('A', 'D', 'B')\n",
      "('C', 'B', 'D', 'A')\n",
      "('C', 'B', 'A')\n",
      "('C', 'D')\n",
      "('A', 'C')\n",
      "('C', 'A', 'B')\n",
      "('D', 'B')\n",
      "('C', 'A', 'D')\n",
      "('C', 'A', 'B', 'D')\n",
      "('A', 'C', 'B')\n",
      "('D', 'A', 'C')\n",
      "('B', 'C', 'D', 'A')\n",
      "('B', 'D', 'C')\n",
      "('C', 'D', 'A', 'B')\n",
      "('A', 'D')\n",
      "('A', 'B', 'D')\n",
      "('C', 'D', 'B', 'A')\n",
      "('C', 'D', 'A')\n",
      "('D', 'C', 'A', 'B')\n",
      "('D', 'C', 'A')\n",
      "('B', 'D', 'A', 'C')\n",
      "('D', 'B', 'C', 'A')\n",
      "('B', 'A')\n",
      "('D', 'A')\n",
      "('C', 'A')\n",
      "('A', 'C', 'B', 'D')\n",
      "('B', 'C', 'D')\n",
      "('B', 'D', 'A')\n",
      "('C', 'B', 'A', 'D')\n",
      "('A', 'D', 'B', 'C')\n",
      "('B',)\n",
      "('B', 'A', 'D')\n",
      "('B', 'D', 'C', 'A')\n",
      "('D', 'A', 'C', 'B')\n",
      "('A', 'B', 'C', 'D')\n",
      "('B', 'A', 'C')\n",
      "('D', 'C')\n",
      "('A', 'B')\n",
      "('A', 'C', 'D')\n",
      "('A', 'D', 'C', 'B')\n",
      "('C', 'B')\n",
      "('C', 'A', 'D', 'B')\n",
      "('D', 'B', 'A')\n",
      "('A', 'D', 'C')\n",
      "64\n"
     ]
    }
   ],
   "source": [
    "from itertools import permutations, combinations\n",
    "  \n",
    "# Get all permutations of [1, 2, 3] \n",
    "# s0 = permutations([1, 2, 3])\n",
    "\n",
    "xs0 = 'ABCD'\n",
    "print(len(xs0))\n",
    "\n",
    "tions = lambda xs, n: combinations(xs, n)\n",
    "tions = lambda xs, n: permutations(xs, n)\n",
    "\n",
    "s0 = set()\n",
    "\n",
    "s1 = tions('ABCD', 1)\n",
    "s0 = s0.union(s1)\n",
    "\n",
    "s2 = tions('ABCD', 2)\n",
    "s0 = s0.union(s2)\n",
    "\n",
    "s3 = tions('ABCD', 3)\n",
    "s0 = s0.union(s3)\n",
    "\n",
    "s4 = tions('ABCD', 4)\n",
    "s0 = s0.union(s4)\n",
    "\n",
    "  \n",
    "# Print the obtained permutations \n",
    "for i in s0: \n",
    "    print(i)\n",
    "    \n",
    "print(len(s0))"
   ]
  },
  {
   "cell_type": "code",
   "execution_count": 5,
   "metadata": {},
   "outputs": [
    {
     "name": "stdout",
     "output_type": "stream",
     "text": [
      "('A', 'B', 'C')\n",
      "('D', 'B', 'A', 'C')\n",
      "('A', 'B', 'D', 'C')\n",
      "('A', 'C', 'D', 'B')\n",
      "('B', 'A', 'D', 'C')\n",
      "('D', 'C', 'B', 'A')\n",
      "('B', 'C')\n",
      "('B', 'A', 'C', 'D')\n",
      "('C', 'B', 'D')\n",
      "('B', 'C', 'A')\n",
      "('D', 'A', 'B', 'C')\n",
      "('A',)\n",
      "('D',)\n",
      "('C',)\n",
      "('D', 'C', 'B')\n",
      "('B', 'D')\n",
      "('D', 'A', 'B')\n",
      "('D', 'B', 'C')\n",
      "('B', 'C', 'A', 'D')\n",
      "('C', 'D', 'B')\n",
      "('A', 'D', 'B')\n",
      "('C', 'B', 'D', 'A')\n",
      "('C', 'B', 'A')\n",
      "('C', 'D')\n",
      "('A', 'C')\n",
      "('C', 'A', 'B')\n",
      "('D', 'B')\n",
      "('C', 'A', 'D')\n",
      "('C', 'A', 'B', 'D')\n",
      "('A', 'C', 'B')\n",
      "('D', 'A', 'C')\n",
      "('B', 'C', 'D', 'A')\n",
      "('B', 'D', 'C')\n",
      "('C', 'D', 'A', 'B')\n",
      "('A', 'D')\n",
      "('A', 'B', 'D')\n",
      "('C', 'D', 'B', 'A')\n",
      "('C', 'D', 'A')\n",
      "('D', 'C', 'A', 'B')\n",
      "('D', 'C', 'A')\n",
      "('B', 'D', 'A', 'C')\n",
      "('D', 'B', 'C', 'A')\n",
      "('B', 'A')\n",
      "('D', 'A')\n",
      "('C', 'A')\n",
      "('A', 'C', 'B', 'D')\n",
      "('B', 'C', 'D')\n",
      "('B', 'D', 'A')\n",
      "('C', 'B', 'A', 'D')\n",
      "('A', 'D', 'B', 'C')\n",
      "('B',)\n",
      "('B', 'A', 'D')\n",
      "('B', 'D', 'C', 'A')\n",
      "('D', 'A', 'C', 'B')\n",
      "('A', 'B', 'C', 'D')\n",
      "('B', 'A', 'C')\n",
      "('D', 'C')\n",
      "('A', 'B')\n",
      "('A', 'C', 'D')\n",
      "('A', 'D', 'C', 'B')\n",
      "('C', 'B')\n",
      "('C', 'A', 'D', 'B')\n",
      "('D', 'B', 'A')\n",
      "('A', 'D', 'C')\n",
      "64\n"
     ]
    }
   ],
   "source": [
    "s00 = set()\n",
    "\n",
    "for i in iter(range(len(xs0))):\n",
    "        s00 = s00.union(tions(xs0, i+1))\n",
    "        \n",
    "# Print the obtained permutations \n",
    "for i in s00: \n",
    "    print(i)\n",
    "    \n",
    "print(len(s00))"
   ]
  },
  {
   "cell_type": "code",
   "execution_count": 6,
   "metadata": {},
   "outputs": [
    {
     "data": {
      "text/plain": [
       "{('A',),\n",
       " ('A', 'B'),\n",
       " ('A', 'B', 'C'),\n",
       " ('A', 'B', 'C', 'D'),\n",
       " ('A', 'B', 'D'),\n",
       " ('A', 'B', 'D', 'C'),\n",
       " ('A', 'C'),\n",
       " ('A', 'C', 'B'),\n",
       " ('A', 'C', 'B', 'D'),\n",
       " ('A', 'C', 'D'),\n",
       " ('A', 'C', 'D', 'B'),\n",
       " ('A', 'D'),\n",
       " ('A', 'D', 'B'),\n",
       " ('A', 'D', 'B', 'C'),\n",
       " ('A', 'D', 'C'),\n",
       " ('A', 'D', 'C', 'B'),\n",
       " ('B',),\n",
       " ('B', 'A'),\n",
       " ('B', 'A', 'C'),\n",
       " ('B', 'A', 'C', 'D'),\n",
       " ('B', 'A', 'D'),\n",
       " ('B', 'A', 'D', 'C'),\n",
       " ('B', 'C'),\n",
       " ('B', 'C', 'A'),\n",
       " ('B', 'C', 'A', 'D'),\n",
       " ('B', 'C', 'D'),\n",
       " ('B', 'C', 'D', 'A'),\n",
       " ('B', 'D'),\n",
       " ('B', 'D', 'A'),\n",
       " ('B', 'D', 'A', 'C'),\n",
       " ('B', 'D', 'C'),\n",
       " ('B', 'D', 'C', 'A'),\n",
       " ('C',),\n",
       " ('C', 'A'),\n",
       " ('C', 'A', 'B'),\n",
       " ('C', 'A', 'B', 'D'),\n",
       " ('C', 'A', 'D'),\n",
       " ('C', 'A', 'D', 'B'),\n",
       " ('C', 'B'),\n",
       " ('C', 'B', 'A'),\n",
       " ('C', 'B', 'A', 'D'),\n",
       " ('C', 'B', 'D'),\n",
       " ('C', 'B', 'D', 'A'),\n",
       " ('C', 'D'),\n",
       " ('C', 'D', 'A'),\n",
       " ('C', 'D', 'A', 'B'),\n",
       " ('C', 'D', 'B'),\n",
       " ('C', 'D', 'B', 'A'),\n",
       " ('D',),\n",
       " ('D', 'A'),\n",
       " ('D', 'A', 'B'),\n",
       " ('D', 'A', 'B', 'C'),\n",
       " ('D', 'A', 'C'),\n",
       " ('D', 'A', 'C', 'B'),\n",
       " ('D', 'B'),\n",
       " ('D', 'B', 'A'),\n",
       " ('D', 'B', 'A', 'C'),\n",
       " ('D', 'B', 'C'),\n",
       " ('D', 'B', 'C', 'A'),\n",
       " ('D', 'C'),\n",
       " ('D', 'C', 'A'),\n",
       " ('D', 'C', 'A', 'B'),\n",
       " ('D', 'C', 'B'),\n",
       " ('D', 'C', 'B', 'A')}"
      ]
     },
     "execution_count": 6,
     "metadata": {},
     "output_type": "execute_result"
    }
   ],
   "source": [
    "weaves.POSetOps.instance().strong('ABCD')"
   ]
  },
  {
   "cell_type": "code",
   "execution_count": 7,
   "metadata": {},
   "outputs": [
    {
     "name": "stdout",
     "output_type": "stream",
     "text": [
      "('b must have a length',)\n",
      "('a must have a length',)\n",
      "('a must have a length',)\n"
     ]
    },
    {
     "data": {
      "text/plain": [
       "True"
      ]
     },
     "execution_count": 7,
     "metadata": {},
     "output_type": "execute_result"
    }
   ],
   "source": [
    "r0 = Pair0('A', 'B')\n",
    "r1 = Pair0('A', 'B')\n",
    "try:\n",
    "    r2 = Pair0('A', '')\n",
    "except ValueError as e:\n",
    "    print(e.args)\n",
    "\n",
    "try:\n",
    "    r2 = Pair0('', 'B')\n",
    "except ValueError as e:\n",
    "    print(e.args)\n",
    "\n",
    "try:\n",
    "    r2 = Pair0([], 'B')\n",
    "except ValueError as e:\n",
    "    print(e.args)\n",
    "\n",
    "try:\n",
    "    r2 = Pair0([[]], 'B')\n",
    "except ValueError as e:\n",
    "    print(e.args)\n",
    "\n",
    "r0 == r1"
   ]
  },
  {
   "cell_type": "code",
   "execution_count": 8,
   "metadata": {},
   "outputs": [
    {
     "name": "stdout",
     "output_type": "stream",
     "text": [
      "('a may not be identical to b',)\n",
      "[]\n",
      "('a may not be equal to b',)\n"
     ]
    },
    {
     "data": {
      "text/plain": [
       "True"
      ]
     },
     "execution_count": 8,
     "metadata": {},
     "output_type": "execute_result"
    }
   ],
   "source": [
    "r2 = r3 = []\n",
    "\n",
    "try:\n",
    "    r2 = Pair0(r0, r0)\n",
    "except ValueError as e:\n",
    "    print(e.args)\n",
    "    \n",
    "print(r2)\n",
    "\n",
    "try:\n",
    "    r3 = Pair0(r1, r0)\n",
    "except ValueError as e:\n",
    "    print(e.args)\n",
    "\n",
    "r2 == r3"
   ]
  },
  {
   "cell_type": "code",
   "execution_count": 9,
   "metadata": {},
   "outputs": [
    {
     "data": {
      "text/plain": [
       "True"
      ]
     },
     "execution_count": 9,
     "metadata": {},
     "output_type": "execute_result"
    }
   ],
   "source": [
    "r0 == r0"
   ]
  },
  {
   "cell_type": "code",
   "execution_count": 10,
   "metadata": {},
   "outputs": [
    {
     "data": {
      "text/plain": [
       "True"
      ]
     },
     "execution_count": 10,
     "metadata": {},
     "output_type": "execute_result"
    }
   ],
   "source": [
    "r0 is r0"
   ]
  },
  {
   "cell_type": "code",
   "execution_count": 11,
   "metadata": {},
   "outputs": [
    {
     "data": {
      "text/plain": [
       "False"
      ]
     },
     "execution_count": 11,
     "metadata": {},
     "output_type": "execute_result"
    }
   ],
   "source": [
    "r0 is r1"
   ]
  },
  {
   "cell_type": "code",
   "execution_count": 12,
   "metadata": {},
   "outputs": [
    {
     "data": {
      "text/plain": [
       "True"
      ]
     },
     "execution_count": 12,
     "metadata": {},
     "output_type": "execute_result"
    },
    {
     "data": {
      "text/plain": [
       "True"
      ]
     },
     "execution_count": 12,
     "metadata": {},
     "output_type": "execute_result"
    }
   ],
   "source": [
    "r0 = Pair0('A', 'B')\n",
    "p1 = Prefer0('A', 'B')\n",
    "np1 = NoPrefer0('A', 'B')\n",
    "p1 == r0\n",
    "p1 == np1"
   ]
  },
  {
   "cell_type": "code",
   "execution_count": 13,
   "metadata": {},
   "outputs": [
    {
     "name": "stdout",
     "output_type": "stream",
     "text": [
      "True\n",
      "False\n"
     ]
    }
   ],
   "source": [
    "print(p1 == np1) # values\n",
    "print(p1.isKindOf(np1)) # types"
   ]
  },
  {
   "cell_type": "code",
   "execution_count": 14,
   "metadata": {},
   "outputs": [
    {
     "data": {
      "text/plain": [
       "False"
      ]
     },
     "execution_count": 14,
     "metadata": {},
     "output_type": "execute_result"
    },
    {
     "data": {
      "text/plain": [
       "weaves.preferences.Prefer0"
      ]
     },
     "execution_count": 14,
     "metadata": {},
     "output_type": "execute_result"
    },
    {
     "data": {
      "text/plain": [
       "weaves.preferences.NoPrefer0"
      ]
     },
     "execution_count": 14,
     "metadata": {},
     "output_type": "execute_result"
    }
   ],
   "source": [
    "p1.__ne__(np1)\n",
    "type(p1)\n",
    "type(np1)"
   ]
  },
  {
   "cell_type": "code",
   "execution_count": 15,
   "metadata": {},
   "outputs": [
    {
     "data": {
      "text/plain": [
       "False"
      ]
     },
     "execution_count": 15,
     "metadata": {},
     "output_type": "execute_result"
    }
   ],
   "source": [
    "isinstance(p1, NoPrefer0)"
   ]
  },
  {
   "cell_type": "code",
   "execution_count": 16,
   "metadata": {},
   "outputs": [
    {
     "data": {
      "text/plain": [
       "True"
      ]
     },
     "execution_count": 16,
     "metadata": {},
     "output_type": "execute_result"
    }
   ],
   "source": [
    "p1.v == np1.v"
   ]
  },
  {
   "cell_type": "code",
   "execution_count": 17,
   "metadata": {},
   "outputs": [
    {
     "data": {
      "text/plain": [
       "True"
      ]
     },
     "execution_count": 17,
     "metadata": {},
     "output_type": "execute_result"
    }
   ],
   "source": [
    "p1 == np1"
   ]
  },
  {
   "cell_type": "code",
   "execution_count": 18,
   "metadata": {},
   "outputs": [],
   "source": [
    "l1=[ 1, 2, 3]"
   ]
  },
  {
   "cell_type": "code",
   "execution_count": 52,
   "metadata": {},
   "outputs": [
    {
     "data": {
      "text/plain": [
       "False"
      ]
     },
     "execution_count": 52,
     "metadata": {},
     "output_type": "execute_result"
    },
    {
     "data": {
      "text/plain": [
       "True"
      ]
     },
     "execution_count": 52,
     "metadata": {},
     "output_type": "execute_result"
    }
   ],
   "source": [
    "def find1(l1, k):\n",
    "    return next(filter(lambda x: x == k, l1), None) is not None\n",
    "    \n",
    "find1(l1, 5)\n",
    "find1(l1, 2)"
   ]
  },
  {
   "cell_type": "code",
   "execution_count": 50,
   "metadata": {},
   "outputs": [
    {
     "data": {
      "text/plain": [
       "2"
      ]
     },
     "execution_count": 50,
     "metadata": {},
     "output_type": "execute_result"
    }
   ],
   "source": [
    "next(filter(lambda x: x == 2, l1), None)"
   ]
  },
  {
   "cell_type": "code",
   "execution_count": 24,
   "metadata": {},
   "outputs": [],
   "source": [
    "fred = filter(lambda x: x == 5, l1)"
   ]
  },
  {
   "cell_type": "code",
   "execution_count": 31,
   "metadata": {},
   "outputs": [
    {
     "ename": "NameError",
     "evalue": "name 'empty' is not defined",
     "output_type": "error",
     "traceback": [
      "\u001b[0;31m---------------------------------------------------------------------------\u001b[0m",
      "\u001b[0;31mNameError\u001b[0m                                 Traceback (most recent call last)",
      "\u001b[0;32m<ipython-input-31-ae0c26c40b0c>\u001b[0m in \u001b[0;36m<module>\u001b[0;34m()\u001b[0m\n\u001b[0;32m----> 1\u001b[0;31m \u001b[0mempty\u001b[0m\u001b[0;34m(\u001b[0m\u001b[0mlist\u001b[0m\u001b[0;34m(\u001b[0m\u001b[0mfred\u001b[0m\u001b[0;34m)\u001b[0m\u001b[0;34m)\u001b[0m\u001b[0;34m\u001b[0m\u001b[0m\n\u001b[0m",
      "\u001b[0;31mNameError\u001b[0m: name 'empty' is not defined"
     ]
    }
   ],
   "source": [
    "empty(list(fred)) "
   ]
  },
  {
   "cell_type": "code",
   "execution_count": 36,
   "metadata": {},
   "outputs": [
    {
     "data": {
      "text/plain": [
       "[3, 5]"
      ]
     },
     "execution_count": 36,
     "metadata": {},
     "output_type": "execute_result"
    }
   ],
   "source": [
    "[ x for x in range(2, 5+1) if x % 2 == 1 ]"
   ]
  },
  {
   "cell_type": "code",
   "execution_count": 66,
   "metadata": {},
   "outputs": [
    {
     "data": {
      "text/plain": [
       "[4, 3, 1, 1]"
      ]
     },
     "execution_count": 66,
     "metadata": {},
     "output_type": "execute_result"
    }
   ],
   "source": [
    "def sockMerchant(n, ar):\n",
    "    u = set(ar)\n",
    "    if len(u) == n:\n",
    "        return 0\n",
    "    \n",
    "    s0 = [ len(list(filter(lambda x: x == y, ar))) for y in u ]\n",
    "    return s0\n",
    "\n",
    "l2 =[10, 20, 20, 10, 10, 30, 50, 10, 20]\n",
    "x1 = sockMerchant(9, l2)\n",
    "x1"
   ]
  },
  {
   "cell_type": "code",
   "execution_count": 99,
   "metadata": {},
   "outputs": [],
   "source": [
    "s = \"DDDDUUUUUUDDDDDDUUUUUUDD\""
   ]
  },
  {
   "cell_type": "code",
   "execution_count": 92,
   "metadata": {},
   "outputs": [
    {
     "name": "stdout",
     "output_type": "stream",
     "text": [
      "D\n",
      "D\n",
      "U\n",
      "U\n",
      "U\n",
      "U\n",
      "D\n",
      "D\n"
     ]
    },
    {
     "data": {
      "text/plain": [
       "[None, None, None, None, None, None, None, None]"
      ]
     },
     "execution_count": 92,
     "metadata": {},
     "output_type": "execute_result"
    }
   ],
   "source": [
    "[ print(x) for x in list(s) ]"
   ]
  },
  {
   "cell_type": "code",
   "execution_count": 100,
   "metadata": {},
   "outputs": [],
   "source": [
    "x0 = map(lambda x: 1 if x == 'U' else -1, list(s))\n",
    "x1 = list(x0)"
   ]
  },
  {
   "cell_type": "code",
   "execution_count": 85,
   "metadata": {},
   "outputs": [],
   "source": [
    " from itertools import accumulate"
   ]
  },
  {
   "cell_type": "code",
   "execution_count": 101,
   "metadata": {},
   "outputs": [
    {
     "data": {
      "text/plain": [
       "[-1,\n",
       " -2,\n",
       " -3,\n",
       " -4,\n",
       " -3,\n",
       " -2,\n",
       " -1,\n",
       " 0,\n",
       " 1,\n",
       " 2,\n",
       " 1,\n",
       " 0,\n",
       " -1,\n",
       " -2,\n",
       " -3,\n",
       " -4,\n",
       " -3,\n",
       " -2,\n",
       " -1,\n",
       " 0,\n",
       " 1,\n",
       " 2,\n",
       " 1,\n",
       " 0]"
      ]
     },
     "execution_count": 101,
     "metadata": {},
     "output_type": "execute_result"
    }
   ],
   "source": [
    "list(accumulate(x1))"
   ]
  },
  {
   "cell_type": "code",
   "execution_count": null,
   "metadata": {},
   "outputs": [],
   "source": []
  }
 ],
 "metadata": {
  "kernelspec": {
   "display_name": "Python 3",
   "language": "python",
   "name": "python3"
  },
  "language_info": {
   "codemirror_mode": {
    "name": "ipython",
    "version": 3
   },
   "file_extension": ".py",
   "mimetype": "text/x-python",
   "name": "python",
   "nbconvert_exporter": "python",
   "pygments_lexer": "ipython3",
   "version": "3.7.3"
  }
 },
 "nbformat": 4,
 "nbformat_minor": 4
}
