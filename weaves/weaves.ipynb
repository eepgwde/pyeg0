{
 "cells": [
  {
   "cell_type": "code",
   "execution_count": 18,
   "metadata": {},
   "outputs": [
    {
     "name": "stdout",
     "output_type": "stream",
     "text": [
      "The autoreload extension is already loaded. To reload it, use:\n",
      "  %reload_ext autoreload\n"
     ]
    }
   ],
   "source": [
    "import os\n",
    "import datetime\n",
    "\n",
    "import pandas as pd\n",
    "import numpy as np\n",
    "\n",
    "%load_ext autoreload\n",
    "%autoreload 2"
   ]
  },
  {
   "cell_type": "code",
   "execution_count": 19,
   "metadata": {},
   "outputs": [],
   "source": [
    "import weaves"
   ]
  },
  {
   "cell_type": "code",
   "execution_count": 20,
   "metadata": {},
   "outputs": [
    {
     "name": "stdout",
     "output_type": "stream",
     "text": [
      "0.1.0\n",
      "$Id: e6c1cce8af7f88d8635a28819453f91ae0cb6f85 $\n"
     ]
    }
   ],
   "source": [
    "print(weaves.__version__)\n",
    "print(weaves.__Id__)"
   ]
  },
  {
   "cell_type": "code",
   "execution_count": 45,
   "metadata": {},
   "outputs": [
    {
     "name": "stdout",
     "output_type": "stream",
     "text": [
      "4\n",
      "('B', 'D', 'A')\n",
      "('B', 'C', 'A')\n",
      "('A', 'D', 'C')\n",
      "('B', 'C')\n",
      "('D', 'A', 'C', 'B')\n",
      "('A', 'C', 'D', 'B')\n",
      "('D', 'C')\n",
      "('C',)\n",
      "('A', 'D', 'C', 'B')\n",
      "('C', 'D', 'A')\n",
      "('B', 'D', 'C', 'A')\n",
      "('D', 'A', 'B')\n",
      "('C', 'D', 'B')\n",
      "('D', 'C', 'A')\n",
      "('A', 'C')\n",
      "('D', 'B', 'A', 'C')\n",
      "('C', 'B', 'A', 'D')\n",
      "('C', 'B', 'D')\n",
      "('B', 'D', 'C')\n",
      "('D', 'C', 'A', 'B')\n",
      "('B', 'A', 'C', 'D')\n",
      "('A', 'B', 'D')\n",
      "('B', 'C', 'D')\n",
      "('D', 'A', 'C')\n",
      "('D', 'B', 'C')\n",
      "('A',)\n",
      "('D', 'C', 'B')\n",
      "('C', 'B')\n",
      "('C', 'A', 'B', 'D')\n",
      "('C', 'D', 'A', 'B')\n",
      "('C', 'A', 'D')\n",
      "('D', 'B', 'C', 'A')\n",
      "('D', 'C', 'B', 'A')\n",
      "('B',)\n",
      "('C', 'D')\n",
      "('C', 'A')\n",
      "('B', 'D')\n",
      "('B', 'C', 'A', 'D')\n",
      "('A', 'C', 'B', 'D')\n",
      "('A', 'B')\n",
      "('A', 'C', 'D')\n",
      "('A', 'B', 'C')\n",
      "('A', 'C', 'B')\n",
      "('D', 'B')\n",
      "('B', 'A', 'D', 'C')\n",
      "('B', 'C', 'D', 'A')\n",
      "('D',)\n",
      "('C', 'D', 'B', 'A')\n",
      "('A', 'D', 'B')\n",
      "('B', 'A')\n",
      "('C', 'A', 'D', 'B')\n",
      "('A', 'D')\n",
      "('A', 'D', 'B', 'C')\n",
      "('C', 'A', 'B')\n",
      "('B', 'A', 'D')\n",
      "('B', 'D', 'A', 'C')\n",
      "('C', 'B', 'D', 'A')\n",
      "('D', 'B', 'A')\n",
      "('C', 'B', 'A')\n",
      "('A', 'B', 'D', 'C')\n",
      "('D', 'A', 'B', 'C')\n",
      "('D', 'A')\n",
      "('B', 'A', 'C')\n",
      "('A', 'B', 'C', 'D')\n",
      "64\n"
     ]
    }
   ],
   "source": [
    "from itertools import permutations, combinations\n",
    "  \n",
    "# Get all permutations of [1, 2, 3] \n",
    "# s0 = permutations([1, 2, 3])\n",
    "\n",
    "xs0 = 'ABCD'\n",
    "print(len(xs0))\n",
    "\n",
    "tions = lambda xs, n: combinations(xs, n)\n",
    "tions = lambda xs, n: permutations(xs, n)\n",
    "\n",
    "s0 = set()\n",
    "\n",
    "s1 = tions('ABCD', 1)\n",
    "s0 = s0.union(s1)\n",
    "\n",
    "s2 = tions('ABCD', 2)\n",
    "s0 = s0.union(s2)\n",
    "\n",
    "s3 = tions('ABCD', 3)\n",
    "s0 = s0.union(s3)\n",
    "\n",
    "s4 = tions('ABCD', 4)\n",
    "s0 = s0.union(s4)\n",
    "\n",
    "  \n",
    "# Print the obtained permutations \n",
    "for i in s0: \n",
    "    print(i)\n",
    "    \n",
    "print(len(s0))"
   ]
  },
  {
   "cell_type": "code",
   "execution_count": 47,
   "metadata": {},
   "outputs": [
    {
     "name": "stdout",
     "output_type": "stream",
     "text": [
      "('B', 'D', 'A')\n",
      "('B', 'C', 'A')\n",
      "('A', 'D', 'C')\n",
      "('B', 'C')\n",
      "('D', 'A', 'C', 'B')\n",
      "('A', 'C', 'D', 'B')\n",
      "('D', 'C')\n",
      "('C',)\n",
      "('A', 'D', 'C', 'B')\n",
      "('C', 'D', 'A')\n",
      "('B', 'D', 'C', 'A')\n",
      "('D', 'A', 'B')\n",
      "('C', 'D', 'B')\n",
      "('D', 'C', 'A')\n",
      "('A', 'C')\n",
      "('D', 'B', 'A', 'C')\n",
      "('C', 'B', 'A', 'D')\n",
      "('C', 'B', 'D')\n",
      "('B', 'D', 'C')\n",
      "('D', 'C', 'A', 'B')\n",
      "('B', 'A', 'C', 'D')\n",
      "('A', 'B', 'D')\n",
      "('B', 'C', 'D')\n",
      "('D', 'A', 'C')\n",
      "('D', 'B', 'C')\n",
      "('A',)\n",
      "('D', 'C', 'B')\n",
      "('C', 'B')\n",
      "('C', 'A', 'B', 'D')\n",
      "('C', 'D', 'A', 'B')\n",
      "('C', 'A', 'D')\n",
      "('D', 'B', 'C', 'A')\n",
      "('D', 'C', 'B', 'A')\n",
      "('B',)\n",
      "('C', 'D')\n",
      "('C', 'A')\n",
      "('B', 'D')\n",
      "('B', 'C', 'A', 'D')\n",
      "('A', 'C', 'B', 'D')\n",
      "('A', 'B')\n",
      "('A', 'C', 'D')\n",
      "('A', 'B', 'C')\n",
      "('A', 'C', 'B')\n",
      "('D', 'B')\n",
      "('B', 'A', 'D', 'C')\n",
      "('B', 'C', 'D', 'A')\n",
      "('D',)\n",
      "('C', 'D', 'B', 'A')\n",
      "('A', 'D', 'B')\n",
      "('B', 'A')\n",
      "('C', 'A', 'D', 'B')\n",
      "('A', 'D')\n",
      "('A', 'D', 'B', 'C')\n",
      "('C', 'A', 'B')\n",
      "('B', 'A', 'D')\n",
      "('B', 'D', 'A', 'C')\n",
      "('C', 'B', 'D', 'A')\n",
      "('D', 'B', 'A')\n",
      "('C', 'B', 'A')\n",
      "('A', 'B', 'D', 'C')\n",
      "('D', 'A', 'B', 'C')\n",
      "('D', 'A')\n",
      "('B', 'A', 'C')\n",
      "('A', 'B', 'C', 'D')\n",
      "64\n"
     ]
    }
   ],
   "source": [
    "s00 = set()\n",
    "\n",
    "for i in iter(range(len(xs0))):\n",
    "        s00 = s00.union(tions(xs0, i+1))\n",
    "        \n",
    "# Print the obtained permutations \n",
    "for i in s00: \n",
    "    print(i)\n",
    "    \n",
    "print(len(s00))"
   ]
  },
  {
   "cell_type": "code",
   "execution_count": null,
   "metadata": {},
   "outputs": [],
   "source": []
  }
 ],
 "metadata": {
  "kernelspec": {
   "display_name": "Python 3",
   "language": "python",
   "name": "python3"
  },
  "language_info": {
   "codemirror_mode": {
    "name": "ipython",
    "version": 3
   },
   "file_extension": ".py",
   "mimetype": "text/x-python",
   "name": "python",
   "nbconvert_exporter": "python",
   "pygments_lexer": "ipython3",
   "version": "3.6.0"
  }
 },
 "nbformat": 4,
 "nbformat_minor": 2
}
