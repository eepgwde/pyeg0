{
 "cells": [
  {
   "cell_type": "code",
   "execution_count": 1,
   "metadata": {},
   "outputs": [
    {
     "name": "stdout",
     "output_type": "stream",
     "text": [
      "The autoreload extension is already loaded. To reload it, use:\n",
      "  %reload_ext autoreload\n"
     ]
    }
   ],
   "source": [
    "import os\n",
    "import datetime\n",
    "\n",
    "import pandas as pd\n",
    "import numpy as np\n",
    "\n",
    "%load_ext autoreload\n",
    "%autoreload 2"
   ]
  },
  {
   "cell_type": "code",
   "execution_count": 2,
   "metadata": {},
   "outputs": [],
   "source": [
    "import weaves\n",
    "from weaves.preferences import Pair0, Prefer0, NoPrefer0"
   ]
  },
  {
   "cell_type": "code",
   "execution_count": 3,
   "metadata": {},
   "outputs": [
    {
     "name": "stdout",
     "output_type": "stream",
     "text": [
      "0.1.0\n",
      "$Id: e6c1cce8af7f88d8635a28819453f91ae0cb6f85 $\n"
     ]
    }
   ],
   "source": [
    "print(weaves.__version__)\n",
    "print(weaves.__Id__)"
   ]
  },
  {
   "cell_type": "code",
   "execution_count": 4,
   "metadata": {},
   "outputs": [
    {
     "name": "stdout",
     "output_type": "stream",
     "text": [
      "4\n",
      "('A', 'B', 'C')\n",
      "('D', 'B', 'A', 'C')\n",
      "('A', 'B', 'D', 'C')\n",
      "('A', 'C', 'D', 'B')\n",
      "('B', 'A', 'D', 'C')\n",
      "('D', 'C', 'B', 'A')\n",
      "('B', 'C')\n",
      "('B', 'A', 'C', 'D')\n",
      "('C', 'B', 'D')\n",
      "('B', 'C', 'A')\n",
      "('D', 'A', 'B', 'C')\n",
      "('A',)\n",
      "('D',)\n",
      "('C',)\n",
      "('D', 'C', 'B')\n",
      "('B', 'D')\n",
      "('D', 'A', 'B')\n",
      "('D', 'B', 'C')\n",
      "('B', 'C', 'A', 'D')\n",
      "('C', 'D', 'B')\n",
      "('A', 'D', 'B')\n",
      "('C', 'B', 'D', 'A')\n",
      "('C', 'B', 'A')\n",
      "('C', 'D')\n",
      "('A', 'C')\n",
      "('C', 'A', 'B')\n",
      "('D', 'B')\n",
      "('C', 'A', 'D')\n",
      "('C', 'A', 'B', 'D')\n",
      "('A', 'C', 'B')\n",
      "('D', 'A', 'C')\n",
      "('B', 'C', 'D', 'A')\n",
      "('B', 'D', 'C')\n",
      "('C', 'D', 'A', 'B')\n",
      "('A', 'D')\n",
      "('A', 'B', 'D')\n",
      "('C', 'D', 'B', 'A')\n",
      "('C', 'D', 'A')\n",
      "('D', 'C', 'A', 'B')\n",
      "('D', 'C', 'A')\n",
      "('B', 'D', 'A', 'C')\n",
      "('D', 'B', 'C', 'A')\n",
      "('B', 'A')\n",
      "('D', 'A')\n",
      "('C', 'A')\n",
      "('A', 'C', 'B', 'D')\n",
      "('B', 'C', 'D')\n",
      "('B', 'D', 'A')\n",
      "('C', 'B', 'A', 'D')\n",
      "('A', 'D', 'B', 'C')\n",
      "('B',)\n",
      "('B', 'A', 'D')\n",
      "('B', 'D', 'C', 'A')\n",
      "('D', 'A', 'C', 'B')\n",
      "('A', 'B', 'C', 'D')\n",
      "('B', 'A', 'C')\n",
      "('D', 'C')\n",
      "('A', 'B')\n",
      "('A', 'C', 'D')\n",
      "('A', 'D', 'C', 'B')\n",
      "('C', 'B')\n",
      "('C', 'A', 'D', 'B')\n",
      "('D', 'B', 'A')\n",
      "('A', 'D', 'C')\n",
      "64\n"
     ]
    }
   ],
   "source": [
    "from itertools import permutations, combinations\n",
    "  \n",
    "# Get all permutations of [1, 2, 3] \n",
    "# s0 = permutations([1, 2, 3])\n",
    "\n",
    "xs0 = 'ABCD'\n",
    "print(len(xs0))\n",
    "\n",
    "tions = lambda xs, n: combinations(xs, n)\n",
    "tions = lambda xs, n: permutations(xs, n)\n",
    "\n",
    "s0 = set()\n",
    "\n",
    "s1 = tions('ABCD', 1)\n",
    "s0 = s0.union(s1)\n",
    "\n",
    "s2 = tions('ABCD', 2)\n",
    "s0 = s0.union(s2)\n",
    "\n",
    "s3 = tions('ABCD', 3)\n",
    "s0 = s0.union(s3)\n",
    "\n",
    "s4 = tions('ABCD', 4)\n",
    "s0 = s0.union(s4)\n",
    "\n",
    "  \n",
    "# Print the obtained permutations \n",
    "for i in s0: \n",
    "    print(i)\n",
    "    \n",
    "print(len(s0))"
   ]
  },
  {
   "cell_type": "code",
   "execution_count": 5,
   "metadata": {},
   "outputs": [
    {
     "name": "stdout",
     "output_type": "stream",
     "text": [
      "('A', 'B', 'C')\n",
      "('D', 'B', 'A', 'C')\n",
      "('A', 'B', 'D', 'C')\n",
      "('A', 'C', 'D', 'B')\n",
      "('B', 'A', 'D', 'C')\n",
      "('D', 'C', 'B', 'A')\n",
      "('B', 'C')\n",
      "('B', 'A', 'C', 'D')\n",
      "('C', 'B', 'D')\n",
      "('B', 'C', 'A')\n",
      "('D', 'A', 'B', 'C')\n",
      "('A',)\n",
      "('D',)\n",
      "('C',)\n",
      "('D', 'C', 'B')\n",
      "('B', 'D')\n",
      "('D', 'A', 'B')\n",
      "('D', 'B', 'C')\n",
      "('B', 'C', 'A', 'D')\n",
      "('C', 'D', 'B')\n",
      "('A', 'D', 'B')\n",
      "('C', 'B', 'D', 'A')\n",
      "('C', 'B', 'A')\n",
      "('C', 'D')\n",
      "('A', 'C')\n",
      "('C', 'A', 'B')\n",
      "('D', 'B')\n",
      "('C', 'A', 'D')\n",
      "('C', 'A', 'B', 'D')\n",
      "('A', 'C', 'B')\n",
      "('D', 'A', 'C')\n",
      "('B', 'C', 'D', 'A')\n",
      "('B', 'D', 'C')\n",
      "('C', 'D', 'A', 'B')\n",
      "('A', 'D')\n",
      "('A', 'B', 'D')\n",
      "('C', 'D', 'B', 'A')\n",
      "('C', 'D', 'A')\n",
      "('D', 'C', 'A', 'B')\n",
      "('D', 'C', 'A')\n",
      "('B', 'D', 'A', 'C')\n",
      "('D', 'B', 'C', 'A')\n",
      "('B', 'A')\n",
      "('D', 'A')\n",
      "('C', 'A')\n",
      "('A', 'C', 'B', 'D')\n",
      "('B', 'C', 'D')\n",
      "('B', 'D', 'A')\n",
      "('C', 'B', 'A', 'D')\n",
      "('A', 'D', 'B', 'C')\n",
      "('B',)\n",
      "('B', 'A', 'D')\n",
      "('B', 'D', 'C', 'A')\n",
      "('D', 'A', 'C', 'B')\n",
      "('A', 'B', 'C', 'D')\n",
      "('B', 'A', 'C')\n",
      "('D', 'C')\n",
      "('A', 'B')\n",
      "('A', 'C', 'D')\n",
      "('A', 'D', 'C', 'B')\n",
      "('C', 'B')\n",
      "('C', 'A', 'D', 'B')\n",
      "('D', 'B', 'A')\n",
      "('A', 'D', 'C')\n",
      "64\n"
     ]
    }
   ],
   "source": [
    "s00 = set()\n",
    "\n",
    "for i in iter(range(len(xs0))):\n",
    "        s00 = s00.union(tions(xs0, i+1))\n",
    "        \n",
    "# Print the obtained permutations \n",
    "for i in s00: \n",
    "    print(i)\n",
    "    \n",
    "print(len(s00))"
   ]
  },
  {
   "cell_type": "code",
   "execution_count": 6,
   "metadata": {},
   "outputs": [
    {
     "data": {
      "text/plain": [
       "{('A',),\n",
       " ('A', 'B'),\n",
       " ('A', 'B', 'C'),\n",
       " ('A', 'B', 'C', 'D'),\n",
       " ('A', 'B', 'D'),\n",
       " ('A', 'B', 'D', 'C'),\n",
       " ('A', 'C'),\n",
       " ('A', 'C', 'B'),\n",
       " ('A', 'C', 'B', 'D'),\n",
       " ('A', 'C', 'D'),\n",
       " ('A', 'C', 'D', 'B'),\n",
       " ('A', 'D'),\n",
       " ('A', 'D', 'B'),\n",
       " ('A', 'D', 'B', 'C'),\n",
       " ('A', 'D', 'C'),\n",
       " ('A', 'D', 'C', 'B'),\n",
       " ('B',),\n",
       " ('B', 'A'),\n",
       " ('B', 'A', 'C'),\n",
       " ('B', 'A', 'C', 'D'),\n",
       " ('B', 'A', 'D'),\n",
       " ('B', 'A', 'D', 'C'),\n",
       " ('B', 'C'),\n",
       " ('B', 'C', 'A'),\n",
       " ('B', 'C', 'A', 'D'),\n",
       " ('B', 'C', 'D'),\n",
       " ('B', 'C', 'D', 'A'),\n",
       " ('B', 'D'),\n",
       " ('B', 'D', 'A'),\n",
       " ('B', 'D', 'A', 'C'),\n",
       " ('B', 'D', 'C'),\n",
       " ('B', 'D', 'C', 'A'),\n",
       " ('C',),\n",
       " ('C', 'A'),\n",
       " ('C', 'A', 'B'),\n",
       " ('C', 'A', 'B', 'D'),\n",
       " ('C', 'A', 'D'),\n",
       " ('C', 'A', 'D', 'B'),\n",
       " ('C', 'B'),\n",
       " ('C', 'B', 'A'),\n",
       " ('C', 'B', 'A', 'D'),\n",
       " ('C', 'B', 'D'),\n",
       " ('C', 'B', 'D', 'A'),\n",
       " ('C', 'D'),\n",
       " ('C', 'D', 'A'),\n",
       " ('C', 'D', 'A', 'B'),\n",
       " ('C', 'D', 'B'),\n",
       " ('C', 'D', 'B', 'A'),\n",
       " ('D',),\n",
       " ('D', 'A'),\n",
       " ('D', 'A', 'B'),\n",
       " ('D', 'A', 'B', 'C'),\n",
       " ('D', 'A', 'C'),\n",
       " ('D', 'A', 'C', 'B'),\n",
       " ('D', 'B'),\n",
       " ('D', 'B', 'A'),\n",
       " ('D', 'B', 'A', 'C'),\n",
       " ('D', 'B', 'C'),\n",
       " ('D', 'B', 'C', 'A'),\n",
       " ('D', 'C'),\n",
       " ('D', 'C', 'A'),\n",
       " ('D', 'C', 'A', 'B'),\n",
       " ('D', 'C', 'B'),\n",
       " ('D', 'C', 'B', 'A')}"
      ]
     },
     "execution_count": 6,
     "metadata": {},
     "output_type": "execute_result"
    }
   ],
   "source": [
    "weaves.POSetOps.instance().strong('ABCD')"
   ]
  },
  {
   "cell_type": "code",
   "execution_count": 7,
   "metadata": {},
   "outputs": [
    {
     "name": "stdout",
     "output_type": "stream",
     "text": [
      "('b must have a length',)\n",
      "('a must have a length',)\n",
      "('a must have a length',)\n"
     ]
    },
    {
     "data": {
      "text/plain": [
       "True"
      ]
     },
     "execution_count": 7,
     "metadata": {},
     "output_type": "execute_result"
    }
   ],
   "source": [
    "r0 = Pair0('A', 'B')\n",
    "r1 = Pair0('A', 'B')\n",
    "try:\n",
    "    r2 = Pair0('A', '')\n",
    "except ValueError as e:\n",
    "    print(e.args)\n",
    "\n",
    "try:\n",
    "    r2 = Pair0('', 'B')\n",
    "except ValueError as e:\n",
    "    print(e.args)\n",
    "\n",
    "try:\n",
    "    r2 = Pair0([], 'B')\n",
    "except ValueError as e:\n",
    "    print(e.args)\n",
    "\n",
    "try:\n",
    "    r2 = Pair0([[]], 'B')\n",
    "except ValueError as e:\n",
    "    print(e.args)\n",
    "\n",
    "r0 == r1"
   ]
  },
  {
   "cell_type": "code",
   "execution_count": 8,
   "metadata": {},
   "outputs": [
    {
     "name": "stdout",
     "output_type": "stream",
     "text": [
      "('a may not be identical to b',)\n",
      "[]\n",
      "('a may not be equal to b',)\n"
     ]
    },
    {
     "data": {
      "text/plain": [
       "True"
      ]
     },
     "execution_count": 8,
     "metadata": {},
     "output_type": "execute_result"
    }
   ],
   "source": [
    "r2 = r3 = []\n",
    "\n",
    "try:\n",
    "    r2 = Pair0(r0, r0)\n",
    "except ValueError as e:\n",
    "    print(e.args)\n",
    "    \n",
    "print(r2)\n",
    "\n",
    "try:\n",
    "    r3 = Pair0(r1, r0)\n",
    "except ValueError as e:\n",
    "    print(e.args)\n",
    "\n",
    "r2 == r3"
   ]
  },
  {
   "cell_type": "code",
   "execution_count": 9,
   "metadata": {},
   "outputs": [
    {
     "data": {
      "text/plain": [
       "True"
      ]
     },
     "execution_count": 9,
     "metadata": {},
     "output_type": "execute_result"
    }
   ],
   "source": [
    "r0 == r0"
   ]
  },
  {
   "cell_type": "code",
   "execution_count": 10,
   "metadata": {},
   "outputs": [
    {
     "data": {
      "text/plain": [
       "True"
      ]
     },
     "execution_count": 10,
     "metadata": {},
     "output_type": "execute_result"
    }
   ],
   "source": [
    "r0 is r0"
   ]
  },
  {
   "cell_type": "code",
   "execution_count": 11,
   "metadata": {},
   "outputs": [
    {
     "data": {
      "text/plain": [
       "False"
      ]
     },
     "execution_count": 11,
     "metadata": {},
     "output_type": "execute_result"
    }
   ],
   "source": [
    "r0 is r1"
   ]
  },
  {
   "cell_type": "code",
   "execution_count": 12,
   "metadata": {},
   "outputs": [
    {
     "data": {
      "text/plain": [
       "True"
      ]
     },
     "execution_count": 12,
     "metadata": {},
     "output_type": "execute_result"
    },
    {
     "data": {
      "text/plain": [
       "True"
      ]
     },
     "execution_count": 12,
     "metadata": {},
     "output_type": "execute_result"
    }
   ],
   "source": [
    "r0 = Pair0('A', 'B')\n",
    "p1 = Prefer0('A', 'B')\n",
    "np1 = NoPrefer0('A', 'B')\n",
    "p1 == r0\n",
    "p1 == np1"
   ]
  },
  {
   "cell_type": "code",
   "execution_count": 13,
   "metadata": {},
   "outputs": [
    {
     "name": "stdout",
     "output_type": "stream",
     "text": [
      "True\n",
      "False\n"
     ]
    }
   ],
   "source": [
    "print(p1 == np1) # values\n",
    "print(p1.isKindOf(np1)) # types"
   ]
  },
  {
   "cell_type": "code",
   "execution_count": 14,
   "metadata": {},
   "outputs": [
    {
     "data": {
      "text/plain": [
       "False"
      ]
     },
     "execution_count": 14,
     "metadata": {},
     "output_type": "execute_result"
    },
    {
     "data": {
      "text/plain": [
       "weaves.preferences.Prefer0"
      ]
     },
     "execution_count": 14,
     "metadata": {},
     "output_type": "execute_result"
    },
    {
     "data": {
      "text/plain": [
       "weaves.preferences.NoPrefer0"
      ]
     },
     "execution_count": 14,
     "metadata": {},
     "output_type": "execute_result"
    }
   ],
   "source": [
    "p1.__ne__(np1)\n",
    "type(p1)\n",
    "type(np1)"
   ]
  },
  {
   "cell_type": "code",
   "execution_count": 15,
   "metadata": {},
   "outputs": [
    {
     "data": {
      "text/plain": [
       "False"
      ]
     },
     "execution_count": 15,
     "metadata": {},
     "output_type": "execute_result"
    }
   ],
   "source": [
    "isinstance(p1, NoPrefer0)"
   ]
  },
  {
   "cell_type": "code",
   "execution_count": 16,
   "metadata": {},
   "outputs": [
    {
     "data": {
      "text/plain": [
       "True"
      ]
     },
     "execution_count": 16,
     "metadata": {},
     "output_type": "execute_result"
    }
   ],
   "source": [
    "p1.v == np1.v"
   ]
  },
  {
   "cell_type": "code",
   "execution_count": 17,
   "metadata": {},
   "outputs": [
    {
     "data": {
      "text/plain": [
       "True"
      ]
     },
     "execution_count": 17,
     "metadata": {},
     "output_type": "execute_result"
    }
   ],
   "source": [
    "p1 == np1"
   ]
  },
  {
   "cell_type": "code",
   "execution_count": 18,
   "metadata": {},
   "outputs": [],
   "source": [
    "l1=[ 1, 2, 3]"
   ]
  },
  {
   "cell_type": "code",
   "execution_count": 52,
   "metadata": {},
   "outputs": [
    {
     "data": {
      "text/plain": [
       "False"
      ]
     },
     "execution_count": 52,
     "metadata": {},
     "output_type": "execute_result"
    },
    {
     "data": {
      "text/plain": [
       "True"
      ]
     },
     "execution_count": 52,
     "metadata": {},
     "output_type": "execute_result"
    }
   ],
   "source": [
    "def find1(l1, k):\n",
    "    return next(filter(lambda x: x == k, l1), None) is not None\n",
    "    \n",
    "find1(l1, 5)\n",
    "find1(l1, 2)"
   ]
  },
  {
   "cell_type": "code",
   "execution_count": 50,
   "metadata": {},
   "outputs": [
    {
     "data": {
      "text/plain": [
       "2"
      ]
     },
     "execution_count": 50,
     "metadata": {},
     "output_type": "execute_result"
    }
   ],
   "source": [
    "next(filter(lambda x: x == 2, l1), None)"
   ]
  },
  {
   "cell_type": "code",
   "execution_count": 24,
   "metadata": {},
   "outputs": [],
   "source": [
    "fred = filter(lambda x: x == 5, l1)"
   ]
  },
  {
   "cell_type": "code",
   "execution_count": 31,
   "metadata": {},
   "outputs": [
    {
     "ename": "NameError",
     "evalue": "name 'empty' is not defined",
     "output_type": "error",
     "traceback": [
      "\u001b[0;31m---------------------------------------------------------------------------\u001b[0m",
      "\u001b[0;31mNameError\u001b[0m                                 Traceback (most recent call last)",
      "\u001b[0;32m<ipython-input-31-ae0c26c40b0c>\u001b[0m in \u001b[0;36m<module>\u001b[0;34m()\u001b[0m\n\u001b[0;32m----> 1\u001b[0;31m \u001b[0mempty\u001b[0m\u001b[0;34m(\u001b[0m\u001b[0mlist\u001b[0m\u001b[0;34m(\u001b[0m\u001b[0mfred\u001b[0m\u001b[0;34m)\u001b[0m\u001b[0;34m)\u001b[0m\u001b[0;34m\u001b[0m\u001b[0m\n\u001b[0m",
      "\u001b[0;31mNameError\u001b[0m: name 'empty' is not defined"
     ]
    }
   ],
   "source": [
    "empty(list(fred)) "
   ]
  },
  {
   "cell_type": "code",
   "execution_count": 36,
   "metadata": {},
   "outputs": [
    {
     "data": {
      "text/plain": [
       "[3, 5]"
      ]
     },
     "execution_count": 36,
     "metadata": {},
     "output_type": "execute_result"
    }
   ],
   "source": [
    "[ x for x in range(2, 5+1) if x % 2 == 1 ]"
   ]
  },
  {
   "cell_type": "code",
   "execution_count": 66,
   "metadata": {},
   "outputs": [
    {
     "data": {
      "text/plain": [
       "[4, 3, 1, 1]"
      ]
     },
     "execution_count": 66,
     "metadata": {},
     "output_type": "execute_result"
    }
   ],
   "source": [
    "def sockMerchant(n, ar):\n",
    "    u = set(ar)\n",
    "    if len(u) == n:\n",
    "        return 0\n",
    "    \n",
    "    s0 = [ len(list(filter(lambda x: x == y, ar))) for y in u ]\n",
    "    return s0\n",
    "\n",
    "l2 =[10, 20, 20, 10, 10, 30, 50, 10, 20]\n",
    "x1 = sockMerchant(9, l2)\n",
    "x1"
   ]
  },
  {
   "cell_type": "code",
   "execution_count": 99,
   "metadata": {},
   "outputs": [],
   "source": [
    "s = \"DDDDUUUUUUDDDDDDUUUUUUDD\""
   ]
  },
  {
   "cell_type": "code",
   "execution_count": 92,
   "metadata": {},
   "outputs": [
    {
     "name": "stdout",
     "output_type": "stream",
     "text": [
      "D\n",
      "D\n",
      "U\n",
      "U\n",
      "U\n",
      "U\n",
      "D\n",
      "D\n"
     ]
    },
    {
     "data": {
      "text/plain": [
       "[None, None, None, None, None, None, None, None]"
      ]
     },
     "execution_count": 92,
     "metadata": {},
     "output_type": "execute_result"
    }
   ],
   "source": [
    "[ print(x) for x in list(s) ]"
   ]
  },
  {
   "cell_type": "code",
   "execution_count": 100,
   "metadata": {},
   "outputs": [],
   "source": [
    "x0 = map(lambda x: 1 if x == 'U' else -1, list(s))\n",
    "x1 = list(x0)"
   ]
  },
  {
   "cell_type": "code",
   "execution_count": 85,
   "metadata": {},
   "outputs": [],
   "source": [
    " from itertools import accumulate"
   ]
  },
  {
   "cell_type": "code",
   "execution_count": 101,
   "metadata": {},
   "outputs": [
    {
     "data": {
      "text/plain": [
       "[-1,\n",
       " -2,\n",
       " -3,\n",
       " -4,\n",
       " -3,\n",
       " -2,\n",
       " -1,\n",
       " 0,\n",
       " 1,\n",
       " 2,\n",
       " 1,\n",
       " 0,\n",
       " -1,\n",
       " -2,\n",
       " -3,\n",
       " -4,\n",
       " -3,\n",
       " -2,\n",
       " -1,\n",
       " 0,\n",
       " 1,\n",
       " 2,\n",
       " 1,\n",
       " 0]"
      ]
     },
     "execution_count": 101,
     "metadata": {},
     "output_type": "execute_result"
    }
   ],
   "source": [
    "list(accumulate(x1))"
   ]
  },
  {
   "cell_type": "code",
   "execution_count": null,
   "metadata": {},
   "outputs": [],
   "source": []
  }
 ],
 "metadata": {
  "kernelspec": {
   "display_name": "Python 3",
   "language": "python",
   "name": "python3"
  },
  "language_info": {
   "codemirror_mode": {
    "name": "ipython",
    "version": 3
   },
   "file_extension": ".py",
   "mimetype": "text/x-python",
   "name": "python",
   "nbconvert_exporter": "python",
   "pygments_lexer": "ipython3",
   "version": "3.6.0"
  }
 },
 "nbformat": 4,
 "nbformat_minor": 2
}
