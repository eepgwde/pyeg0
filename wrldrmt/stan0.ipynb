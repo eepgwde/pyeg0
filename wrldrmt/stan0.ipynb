{
 "cells": [
  {
   "cell_type": "code",
   "execution_count": 1,
   "metadata": {},
   "outputs": [],
   "source": [
    "import pystan\n",
    "import numpy as np"
   ]
  },
  {
   "cell_type": "code",
   "execution_count": 2,
   "metadata": {},
   "outputs": [
    {
     "name": "stderr",
     "output_type": "stream",
     "text": [
      "INFO:pystan:COMPILING THE C++ CODE FOR MODEL anon_model_3aaa1aff3be33470f8a5bfa56085d51c NOW.\n"
     ]
    }
   ],
   "source": [
    "ocode = \"\"\"\n",
    "data {\n",
    "    int<lower=1> N;\n",
    "    real y[N];\n",
    "}\n",
    "parameters {\n",
    "    real mu;\n",
    "}\n",
    "model {\n",
    "    y ~ normal(mu, 1);\n",
    "}\n",
    "\"\"\"\n",
    "sm = pystan.StanModel(model_code=ocode)"
   ]
  },
  {
   "cell_type": "code",
   "execution_count": 3,
   "metadata": {},
   "outputs": [
    {
     "data": {
      "text/plain": [
       "0.33886332617228737"
      ]
     },
     "execution_count": 3,
     "metadata": {},
     "output_type": "execute_result"
    }
   ],
   "source": [
    "y2 = np.random.normal(size=20)\n",
    "np.mean(y2)"
   ]
  },
  {
   "cell_type": "code",
   "execution_count": 4,
   "metadata": {},
   "outputs": [
    {
     "data": {
      "text/plain": [
       "OrderedDict([('mu', array(0.33886333))])"
      ]
     },
     "execution_count": 4,
     "metadata": {},
     "output_type": "execute_result"
    }
   ],
   "source": [
    "# So STAN can deduce mu from the model.\n",
    "op = sm.optimizing(data=dict(y=y2, N=len(y2)))\n",
    "op"
   ]
  },
  {
   "cell_type": "code",
   "execution_count": 5,
   "metadata": {},
   "outputs": [],
   "source": [
    "ocode = '''\n",
    "parameters {\n",
    "  real y[2];\n",
    "}\n",
    "model {\n",
    "  y[1] ~ normal(0, 1);\n",
    "  y[2] ~ double_exponential(0, 2);\n",
    "}'''"
   ]
  },
  {
   "cell_type": "code",
   "execution_count": 7,
   "metadata": {},
   "outputs": [
    {
     "name": "stderr",
     "output_type": "stream",
     "text": [
      "INFO:pystan:COMPILING THE C++ CODE FOR MODEL anon_model_42c0ed8065b95a4b695f212f17d17458 NOW.\n"
     ]
    },
    {
     "data": {
      "text/plain": [
       "<pystan.model.StanModel at 0x7fd077ddc860>"
      ]
     },
     "execution_count": 7,
     "metadata": {},
     "output_type": "execute_result"
    }
   ],
   "source": [
    "sm = pystan.StanModel(model_code=ocode)\n",
    "sm"
   ]
  },
  {
   "cell_type": "code",
   "execution_count": 9,
   "metadata": {},
   "outputs": [
    {
     "data": {
      "text/plain": [
       "['model_cppname',\n",
       " 'model_name',\n",
       " 'model_code',\n",
       " 'model_cppcode',\n",
       " 'model_include_paths',\n",
       " 'module_name',\n",
       " 'module',\n",
       " 'module_filename',\n",
       " 'module_bytes',\n",
       " 'fit_class',\n",
       " '__module__',\n",
       " '__doc__',\n",
       " '__init__',\n",
       " '__str__',\n",
       " 'show',\n",
       " 'dso',\n",
       " 'get_cppcode',\n",
       " 'get_cxxflags',\n",
       " 'get_include_paths',\n",
       " '__getstate__',\n",
       " '__setstate__',\n",
       " 'optimizing',\n",
       " 'sampling',\n",
       " 'vb',\n",
       " '__dict__',\n",
       " '__weakref__',\n",
       " '__repr__',\n",
       " '__hash__',\n",
       " '__getattribute__',\n",
       " '__setattr__',\n",
       " '__delattr__',\n",
       " '__lt__',\n",
       " '__le__',\n",
       " '__eq__',\n",
       " '__ne__',\n",
       " '__gt__',\n",
       " '__ge__',\n",
       " '__new__',\n",
       " '__reduce_ex__',\n",
       " '__reduce__',\n",
       " '__subclasshook__',\n",
       " '__init_subclass__',\n",
       " '__format__',\n",
       " '__sizeof__',\n",
       " '__dir__',\n",
       " '__class__']"
      ]
     },
     "execution_count": 9,
     "metadata": {},
     "output_type": "execute_result"
    }
   ],
   "source": [
    "sm.__dir__()"
   ]
  },
  {
   "cell_type": "code",
   "execution_count": 11,
   "metadata": {},
   "outputs": [
    {
     "data": {
      "text/plain": [
       "Inference for Stan model: anon_model_42c0ed8065b95a4b695f212f17d17458.\n",
       "4 chains, each with iter=2000; warmup=1000; thin=1; \n",
       "post-warmup draws per chain=1000, total post-warmup draws=4000.\n",
       "\n",
       "       mean se_mean     sd   2.5%    25%    50%    75%  97.5%  n_eff   Rhat\n",
       "y[1] 5.2e-3    0.02   0.98  -1.97  -0.68   0.01   0.69   1.94   2361    1.0\n",
       "y[2]   0.05    0.06    2.7  -5.42  -1.36   0.01   1.41   5.85   2292    1.0\n",
       "lp__  -1.45    0.03   1.15  -4.55  -2.03  -1.18   -0.6   -0.1   1430    1.0\n",
       "\n",
       "Samples were drawn using NUTS at Mon Oct 14 16:26:25 2019.\n",
       "For each parameter, n_eff is a crude measure of effective sample size,\n",
       "and Rhat is the potential scale reduction factor on split chains (at \n",
       "convergence, Rhat=1)."
      ]
     },
     "execution_count": 11,
     "metadata": {},
     "output_type": "execute_result"
    }
   ],
   "source": [
    "sm.sampling()"
   ]
  },
  {
   "cell_type": "code",
   "execution_count": 12,
   "metadata": {},
   "outputs": [],
   "source": [
    "# bernoulli model\n",
    "model_code = \"\"\"\n",
    "    data {\n",
    "      int<lower=0> N;\n",
    "      int<lower=0,upper=1> y[N];\n",
    "    }\n",
    "    parameters {\n",
    "      real<lower=0,upper=1> theta;\n",
    "    }\n",
    "    model {\n",
    "      theta ~ beta(0.5, 0.5);  // Jeffreys' prior\n",
    "      for (n in 1:N)\n",
    "        y[n] ~ bernoulli(theta);\n",
    "    }\n",
    "\"\"\""
   ]
  },
  {
   "cell_type": "code",
   "execution_count": 14,
   "metadata": {},
   "outputs": [
    {
     "name": "stderr",
     "output_type": "stream",
     "text": [
      "INFO:pystan:COMPILING THE C++ CODE FOR MODEL anon_model_a4c8c0b8415be15f0e6878b909bb73da NOW.\n"
     ]
    }
   ],
   "source": [
    "from pystan import StanModel\n",
    "\n",
    "sm = StanModel(model_code=model_code)"
   ]
  },
  {
   "cell_type": "code",
   "execution_count": 15,
   "metadata": {},
   "outputs": [
    {
     "name": "stdout",
     "output_type": "stream",
     "text": [
      "Inference for Stan model: anon_model_a4c8c0b8415be15f0e6878b909bb73da.\n",
      "4 chains, each with iter=2000; warmup=1000; thin=1; \n",
      "post-warmup draws per chain=1000, total post-warmup draws=4000.\n",
      "\n",
      "        mean se_mean     sd   2.5%    25%    50%    75%  97.5%  n_eff   Rhat\n",
      "theta   0.59  3.9e-3   0.15   0.29   0.49    0.6   0.69   0.84   1422    1.0\n",
      "lp__   -7.99    0.02   0.76 -10.32  -8.18  -7.69   -7.5  -7.44   1939    1.0\n",
      "\n",
      "Samples were drawn using NUTS at Mon Oct 14 16:30:48 2019.\n",
      "For each parameter, n_eff is a crude measure of effective sample size,\n",
      "and Rhat is the potential scale reduction factor on split chains (at \n",
      "convergence, Rhat=1).\n"
     ]
    }
   ],
   "source": [
    "data = dict(N=10, y=[0, 1, 0, 1, 0, 1, 0, 1, 1, 1])\n",
    "\n",
    "fit = sm.sampling(data=data)\n",
    "print(fit)"
   ]
  },
  {
   "cell_type": "code",
   "execution_count": 18,
   "metadata": {},
   "outputs": [
    {
     "data": {
      "text/plain": [
       "4000"
      ]
     },
     "execution_count": 18,
     "metadata": {},
     "output_type": "execute_result"
    }
   ],
   "source": [
    "len(fit['theta'])"
   ]
  },
  {
   "cell_type": "code",
   "execution_count": 19,
   "metadata": {},
   "outputs": [
    {
     "name": "stdout",
     "output_type": "stream",
     "text": [
      "Inference for Stan model: anon_model_a4c8c0b8415be15f0e6878b909bb73da.\n",
      "4 chains, each with iter=2000; warmup=1000; thin=1; \n",
      "post-warmup draws per chain=1000, total post-warmup draws=4000.\n",
      "\n",
      "        mean se_mean     sd   2.5%    25%    50%    75%  97.5%  n_eff   Rhat\n",
      "theta   0.21  3.9e-3   0.15   0.02    0.1   0.18    0.3   0.55   1409    1.0\n",
      "lp__    -4.2    0.02   0.77  -6.39  -4.39  -3.93   -3.7  -3.64   1285    1.0\n",
      "\n",
      "Samples were drawn using NUTS at Mon Oct 14 16:33:20 2019.\n",
      "For each parameter, n_eff is a crude measure of effective sample size,\n",
      "and Rhat is the potential scale reduction factor on split chains (at \n",
      "convergence, Rhat=1).\n"
     ]
    }
   ],
   "source": [
    "# reuse model with new data\n",
    "new_data = dict(N=6, y=[0, 0, 0, 0, 0, 1])\n",
    "fit2 = sm.sampling(data=new_data)\n",
    "print(fit2)"
   ]
  },
  {
   "cell_type": "markdown",
   "metadata": {},
   "source": [
    "Older Code follows\n",
    "Good example modules"
   ]
  },
  {
   "cell_type": "code",
   "execution_count": 2,
   "metadata": {},
   "outputs": [
    {
     "name": "stderr",
     "output_type": "stream",
     "text": [
      "WARNING:pystan:DeprecationWarning: pystan.stan was deprecated in version 2.17 and will be removed in version 3.0. Compile and use a Stan program in separate steps.\n",
      "INFO:pystan:COMPILING THE C++ CODE FOR MODEL anon_model_42c0ed8065b95a4b695f212f17d17458 NOW.\n",
      "WARNING:pystan:Rhat above 1.1 or below 0.9 indicates that the chains very likely have not mixed\n"
     ]
    },
    {
     "name": "stdout",
     "output_type": "stream",
     "text": [
      "Inference for Stan model: anon_model_42c0ed8065b95a4b695f212f17d17458.\n",
      "4 chains, each with iter=10; warmup=5; thin=1; \n",
      "post-warmup draws per chain=5, total post-warmup draws=20.\n",
      "\n",
      "       mean se_mean     sd   2.5%    25%    50%    75%  97.5%  n_eff   Rhat\n",
      "y[1]   0.08    0.27   0.76  -1.19  -0.63   0.11   0.62   1.39      8    1.1\n",
      "y[2]   0.66    0.99   2.34  -3.29  -1.54   1.13   2.08   4.06      6   2.81\n",
      "lp__  -1.29    0.32   0.67  -2.36  -1.81  -1.12   -0.8  -0.12      4   2.39\n",
      "\n",
      "Samples were drawn using NUTS at Mon Oct 14 16:03:07 2019.\n",
      "For each parameter, n_eff is a crude measure of effective sample size,\n",
      "and Rhat is the potential scale reduction factor on split chains (at \n",
      "convergence, Rhat=1).\n"
     ]
    }
   ],
   "source": [
    "fit1 = pystan.stan(model_code=model_code, iter=10)\n",
    "print(fit1)"
   ]
  },
  {
   "cell_type": "code",
   "execution_count": 3,
   "metadata": {},
   "outputs": [],
   "source": [
    "excode = '''\n",
    "transformed data {\n",
    "    real y[20];\n",
    "    y[1] = 0.5796;  y[2]  = 0.2276;   y[3] = -0.2959;\n",
    "    y[4] = -0.3742; y[5]  = 0.3885;   y[6] = -2.1585;\n",
    "    y[7] = 0.7111;  y[8]  = 1.4424;   y[9] = 2.5430;\n",
    "    y[10] = 0.3746; y[11] = 0.4773;   y[12] = 0.1803;\n",
    "    y[13] = 0.5215; y[14] = -1.6044;  y[15] = -0.6703;\n",
    "    y[16] = 0.9459; y[17] = -0.382;   y[18] = 0.7619;\n",
    "    y[19] = 0.1006; y[20] = -1.7461;\n",
    "}\n",
    "parameters {\n",
    "    real mu;\n",
    "    real<lower=0, upper=10> sigma;\n",
    "    vector[2] z[3];\n",
    "    real<lower=0> alpha;\n",
    "}\n",
    "model {\n",
    "    y ~ normal(mu, sigma);\n",
    "    for (i in 1:3)\n",
    "    z[i] ~ normal(0, 1);\n",
    "    alpha ~ exponential(2);\n",
    "}'''"
   ]
  },
  {
   "cell_type": "code",
   "execution_count": null,
   "metadata": {},
   "outputs": [],
   "source": [
    "def initfun1():\n",
    "    return dict(mu=1, sigma=4, z=np.random.normal(size=(3, 2)), alpha=1)\n",
    "\n",
    "exfit0 = pystan.stan(model_code=excode, init=initfun1)"
   ]
  },
  {
   "cell_type": "code",
   "execution_count": null,
   "metadata": {},
   "outputs": [],
   "source": [
    "def initfun2(chain_id=1):\n",
    "    return dict(mu=1, sigma=4, z=np.random.normal(size=(3, 2)), alpha=1 + chain_id)\n",
    "\n",
    "exfit1 = pystan.stan(model_code=excode, init=initfun2)"
   ]
  },
  {
   "cell_type": "code",
   "execution_count": null,
   "metadata": {},
   "outputs": [],
   "source": [
    "## The newer way"
   ]
  },
  {
   "cell_type": "code",
   "execution_count": 4,
   "metadata": {},
   "outputs": [
    {
     "data": {
      "text/plain": [
       "'normal1_86ee00d8bfccf2eb1e1f869b45a42df0'"
      ]
     },
     "execution_count": 4,
     "metadata": {},
     "output_type": "execute_result"
    }
   ],
   "source": [
    "stanmodelcode = '''\n",
    "data {\n",
    "  int<lower=0> N;\n",
    "  real y[N];\n",
    "}\n",
    "\n",
    "parameters {\n",
    "  real mu;\n",
    "}\n",
    "\n",
    "model {\n",
    "  mu ~ normal(0, 10);\n",
    "  y ~ normal(mu, 1);\n",
    "}\n",
    "'''\n",
    "r = pystan.stanc(model_code=stanmodelcode, model_name = \"normal1\")\n",
    "sorted(r.keys())\n",
    "r['model_name']"
   ]
  },
  {
   "cell_type": "code",
   "execution_count": null,
   "metadata": {},
   "outputs": [],
   "source": []
  }
 ],
 "metadata": {
  "kernelspec": {
   "display_name": "Python 3",
   "language": "python",
   "name": "python3"
  },
  "language_info": {
   "codemirror_mode": {
    "name": "ipython",
    "version": 3
   },
   "file_extension": ".py",
   "mimetype": "text/x-python",
   "name": "python",
   "nbconvert_exporter": "python",
   "pygments_lexer": "ipython3",
   "version": "3.7.3"
  }
 },
 "nbformat": 4,
 "nbformat_minor": 4
}
